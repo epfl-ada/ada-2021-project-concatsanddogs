{
 "cells": [
  {
   "cell_type": "markdown",
   "id": "a47b8d17",
   "metadata": {},
   "source": [
    "Mardown cheat cheat : https://github.com/adam-p/markdown-here/wiki/Markdown-Cheatsheet#blockquotes"
   ]
  },
  {
   "cell_type": "markdown",
   "id": "5fea011a",
   "metadata": {},
   "source": [
    "#### Project Milestone3 - Group Concatsanddogs"
   ]
  },
  {
   "cell_type": "markdown",
   "id": "754733a8",
   "metadata": {},
   "source": [
    "### The use of women's rights and gender equality rhetoric in the US"
   ]
  },
  {
   "cell_type": "markdown",
   "id": "79aa810f",
   "metadata": {},
   "source": [
    "# Research Question 3 :"
   ]
  },
  {
   "cell_type": "markdown",
   "id": "febe8922",
   "metadata": {},
   "source": [
    "**When?**\n",
    "\n",
    "**What is the time distribution of the femonationalist quotations?**\n",
    "\n",
    "**Is there a relation between the femonationalist quotations and major political events ? (i.e. bombing in US, mass shooting, vote on feminist topics..)**"
   ]
  },
  {
   "cell_type": "markdown",
   "id": "38f2be5c",
   "metadata": {},
   "source": [
    "## Librairies"
   ]
  },
  {
   "cell_type": "code",
   "execution_count": 15,
   "id": "ceb1f57e",
   "metadata": {},
   "outputs": [],
   "source": [
    "import pandas as pd\n",
    "import numpy as np\n",
    "import matplotlib.pyplot as plt\n",
    "%matplotlib inline\n",
    "import seaborn as sns\n",
    "import nltk"
   ]
  },
  {
   "cell_type": "code",
   "execution_count": 16,
   "id": "1ef37579",
   "metadata": {},
   "outputs": [],
   "source": [
    "sns.set_theme(rc={'figure.figsize':(20,3)})\n",
    "sns.set_style(\"whitegrid\")"
   ]
  },
  {
   "cell_type": "code",
   "execution_count": 17,
   "id": "20c1d427",
   "metadata": {},
   "outputs": [],
   "source": [
    "PATH_GENERATED_DATA = 'generated_data/'"
   ]
  },
  {
   "cell_type": "markdown",
   "id": "77c33624",
   "metadata": {},
   "source": [
    "## Loading the selected quotes dataframe"
   ]
  },
  {
   "cell_type": "code",
   "execution_count": 18,
   "id": "5ee4f42b",
   "metadata": {},
   "outputs": [],
   "source": [
    "# loading the dataframe with only the selected quotes\n",
    "dataframesNames = ('QOI_2015_DF','QOI_2016_DF','QOI_2017_DF','QOI_2018_DF','QOI_2019_DF','QOI_2020_DF')\n",
    "# Concatenate into one dataframes the dataframes from each pickle file. \n",
    "df = pd.concat([pd.read_pickle(PATH_GENERATED_DATA+ fp +'.pkl') for fp in dataframesNames], ignore_index=True)"
   ]
  },
  {
   "cell_type": "code",
   "execution_count": 19,
   "id": "59baecca",
   "metadata": {},
   "outputs": [
    {
     "data": {
      "text/html": [
       "<div>\n",
       "<style scoped>\n",
       "    .dataframe tbody tr th:only-of-type {\n",
       "        vertical-align: middle;\n",
       "    }\n",
       "\n",
       "    .dataframe tbody tr th {\n",
       "        vertical-align: top;\n",
       "    }\n",
       "\n",
       "    .dataframe thead th {\n",
       "        text-align: right;\n",
       "    }\n",
       "</style>\n",
       "<table border=\"1\" class=\"dataframe\">\n",
       "  <thead>\n",
       "    <tr style=\"text-align: right;\">\n",
       "      <th></th>\n",
       "      <th>quoteID</th>\n",
       "      <th>quotation</th>\n",
       "      <th>speaker</th>\n",
       "      <th>qids</th>\n",
       "      <th>date</th>\n",
       "      <th>numOccurrences</th>\n",
       "      <th>probas</th>\n",
       "      <th>urls</th>\n",
       "      <th>phase</th>\n",
       "    </tr>\n",
       "  </thead>\n",
       "  <tbody>\n",
       "    <tr>\n",
       "      <th>0</th>\n",
       "      <td>2015-03-09-004706</td>\n",
       "      <td>Anything less than women winning 50 per cent o...</td>\n",
       "      <td>Katy Gallagher</td>\n",
       "      <td>[Q463507]</td>\n",
       "      <td>2015-03-09 12:30:00</td>\n",
       "      <td>1</td>\n",
       "      <td>[[Katy Gallagher, 0.5872], [None, 0.4128]]</td>\n",
       "      <td>[http://www.smh.com.au/act-news/women-need-to-...</td>\n",
       "      <td>E</td>\n",
       "    </tr>\n",
       "    <tr>\n",
       "      <th>1</th>\n",
       "      <td>2015-04-24-025718</td>\n",
       "      <td>I'd like to congratulate all the winners and f...</td>\n",
       "      <td>Helena Morrissey</td>\n",
       "      <td>[Q23762081]</td>\n",
       "      <td>2015-04-24 15:33:00</td>\n",
       "      <td>1</td>\n",
       "      <td>[[Helena Morrissey, 0.8706], [None, 0.1294]]</td>\n",
       "      <td>[http://www.cipd.co.uk/PM/peoplemanagement/b/w...</td>\n",
       "      <td>E</td>\n",
       "    </tr>\n",
       "  </tbody>\n",
       "</table>\n",
       "</div>"
      ],
      "text/plain": [
       "             quoteID                                          quotation  \\\n",
       "0  2015-03-09-004706  Anything less than women winning 50 per cent o...   \n",
       "1  2015-04-24-025718  I'd like to congratulate all the winners and f...   \n",
       "\n",
       "            speaker         qids                date  numOccurrences  \\\n",
       "0    Katy Gallagher    [Q463507] 2015-03-09 12:30:00               1   \n",
       "1  Helena Morrissey  [Q23762081] 2015-04-24 15:33:00               1   \n",
       "\n",
       "                                         probas  \\\n",
       "0    [[Katy Gallagher, 0.5872], [None, 0.4128]]   \n",
       "1  [[Helena Morrissey, 0.8706], [None, 0.1294]]   \n",
       "\n",
       "                                                urls phase  \n",
       "0  [http://www.smh.com.au/act-news/women-need-to-...     E  \n",
       "1  [http://www.cipd.co.uk/PM/peoplemanagement/b/w...     E  "
      ]
     },
     "execution_count": 19,
     "metadata": {},
     "output_type": "execute_result"
    }
   ],
   "source": [
    "df.head(2)"
   ]
  },
  {
   "cell_type": "code",
   "execution_count": 20,
   "id": "b351c13d",
   "metadata": {},
   "outputs": [],
   "source": [
    "# loading the dataframe with selected quotes and additional attributes\n",
    "df_enriched = pd.read_pickle(PATH_GENERATED_DATA+'df_enriched.pkl', compression='infer', storage_options=None)"
   ]
  },
  {
   "cell_type": "code",
   "execution_count": 21,
   "id": "5ee1a91b",
   "metadata": {
    "scrolled": true,
    "tags": []
   },
   "outputs": [],
   "source": [
    "# df_enriched.head(2)"
   ]
  },
  {
   "cell_type": "markdown",
   "id": "94c9650f",
   "metadata": {},
   "source": [
    "# Sub question 1 :  **When?**"
   ]
  },
  {
   "cell_type": "code",
   "execution_count": 22,
   "id": "d9f70955",
   "metadata": {},
   "outputs": [
    {
     "data": {
      "image/png": "[encoded data removed]",
      "text/plain": [
       "<Figure size 1296x360 with 1 Axes>"
      ]
     },
     "metadata": {},
     "output_type": "display_data"
    }
   ],
   "source": [
    "# from RQ4 but it fits better here\n",
    "df['date'].hist(bins = 100, figsize = [18,5])\n",
    "plt.show()"
   ]
  },
  {
   "cell_type": "markdown",
   "id": "157e9840",
   "metadata": {},
   "source": [
    "# Sub question 2 : **What is the time distribution of the femonationalist quotations?**\n"
   ]
  },
  {
   "cell_type": "code",
   "execution_count": 23,
   "id": "c4da2812",
   "metadata": {},
   "outputs": [],
   "source": [
    "# this is basically a template for now"
   ]
  },
  {
   "cell_type": "code",
   "execution_count": 24,
   "id": "7a6ce67f",
   "metadata": {},
   "outputs": [],
   "source": [
    "df_femonationalist = df # to be replaced with the quotes obtained from clustering"
   ]
  },
  {
   "cell_type": "code",
   "execution_count": 25,
   "id": "93fc94ab",
   "metadata": {},
   "outputs": [
    {
     "data": {
      "image/png": "[encoded data removed]",
      "text/plain": [
       "<Figure size 1296x360 with 1 Axes>"
      ]
     },
     "metadata": {},
     "output_type": "display_data"
    }
   ],
   "source": [
    "df_femonationalist['date'].hist(bins = 100, figsize = [18,5])\n",
    "plt.show()"
   ]
  },
  {
   "cell_type": "markdown",
   "id": "026508a0",
   "metadata": {},
   "source": [
    "# Sub question 3 : **Is there a relation between the femonationalist quotations and major political events ? (i.e. bombing in US, mass shooting, vote on feminist topics..)**"
   ]
  },
  {
   "cell_type": "code",
   "execution_count": 26,
   "id": "957e05c9",
   "metadata": {},
   "outputs": [],
   "source": [
    "ushistory = pd.read_pickle(PATH_GENERATED_DATA+'ushistory.pkl')"
   ]
  },
  {
   "cell_type": "code",
   "execution_count": 27,
   "id": "1f5b245e",
   "metadata": {},
   "outputs": [
    {
     "data": {
      "text/html": [
       "<div>\n",
       "<style scoped>\n",
       "    .dataframe tbody tr th:only-of-type {\n",
       "        vertical-align: middle;\n",
       "    }\n",
       "\n",
       "    .dataframe tbody tr th {\n",
       "        vertical-align: top;\n",
       "    }\n",
       "\n",
       "    .dataframe thead th {\n",
       "        text-align: right;\n",
       "    }\n",
       "</style>\n",
       "<table border=\"1\" class=\"dataframe\">\n",
       "  <thead>\n",
       "    <tr style=\"text-align: right;\">\n",
       "      <th></th>\n",
       "      <th>event</th>\n",
       "      <th>date</th>\n",
       "    </tr>\n",
       "  </thead>\n",
       "  <tbody>\n",
       "    <tr>\n",
       "      <th>0</th>\n",
       "      <td>Dzhokhar Tsarnaev is convicted and sentence...</td>\n",
       "      <td>2015-01-01</td>\n",
       "    </tr>\n",
       "    <tr>\n",
       "      <th>1</th>\n",
       "      <td>Dylann Roof kills 9 people during a Bible s...</td>\n",
       "      <td>2015-01-01</td>\n",
       "    </tr>\n",
       "    <tr>\n",
       "      <th>2</th>\n",
       "      <td>Same-sex marriage is legalized in all 50 US...</td>\n",
       "      <td>2015-01-01</td>\n",
       "    </tr>\n",
       "    <tr>\n",
       "      <th>3</th>\n",
       "      <td>Rizwan Farook and Tashfeen Malik carried ou...</td>\n",
       "      <td>2015-01-01</td>\n",
       "    </tr>\n",
       "    <tr>\n",
       "      <th>4</th>\n",
       "      <td>Omar Mateen kills 49 people and injures 58 ...</td>\n",
       "      <td>2016-01-01</td>\n",
       "    </tr>\n",
       "  </tbody>\n",
       "</table>\n",
       "</div>"
      ],
      "text/plain": [
       "                                               event       date\n",
       "0     Dzhokhar Tsarnaev is convicted and sentence... 2015-01-01\n",
       "1     Dylann Roof kills 9 people during a Bible s... 2015-01-01\n",
       "2     Same-sex marriage is legalized in all 50 US... 2015-01-01\n",
       "3     Rizwan Farook and Tashfeen Malik carried ou... 2015-01-01\n",
       "4     Omar Mateen kills 49 people and injures 58 ... 2016-01-01"
      ]
     },
     "execution_count": 27,
     "metadata": {},
     "output_type": "execute_result"
    }
   ],
   "source": [
    "ushistory.head()"
   ]
  },
  {
   "cell_type": "code",
   "execution_count": 28,
   "id": "bb09ca14",
   "metadata": {},
   "outputs": [
    {
     "data": {
      "text/plain": [
       "Timestamp('2019-05-16 11:40:48')"
      ]
     },
     "execution_count": 28,
     "metadata": {},
     "output_type": "execute_result"
    }
   ],
   "source": [
    "df_femonationalist['date'][80000]"
   ]
  },
  {
   "cell_type": "code",
   "execution_count": 29,
   "id": "ccdf81ce",
   "metadata": {},
   "outputs": [
    {
     "data": {
      "image/png": "[encoded data removed]",
      "text/plain": [
       "<Figure size 1296x360 with 1 Axes>"
      ]
     },
     "metadata": {},
     "output_type": "display_data"
    }
   ],
   "source": [
    "# https://jakevdp.github.io/PythonDataScienceHandbook/04.09-text-and-annotation.html\n",
    "# https://stackoverflow.com/questions/15910019/annotate-data-points-while-plotting-from-pandas-dataframe/39374693\n",
    "# https://medium.com/@arseniytyurin/how-to-make-your-histogram-shine-69e432be39ca\n",
    "\n",
    "\n",
    "#fig, ax = plt.subplots(figsize=[18,5])\n",
    "df_femonationalist['date'].hist(bins = 100,figsize=[18,5])\n",
    "\n",
    "plt.annotate('Test annotation', xy=(df_femonationalist['date'][80000], 1100),\n",
    "             xytext=(df_femonationalist['date'][80000], 1500), fontsize=15, \n",
    "             arrowprops={'width':0.4,'headwidth':7,'color':'#333333'})\n",
    "\n",
    "plt.annotate('Test annotation 2 ', xy=(df_femonationalist['date'][7000], 800),\n",
    "             xytext=(df_femonationalist['date'][7000], 1500), fontsize=15, \n",
    "             arrowprops={'width':0.4,'headwidth':7,'color':'#333333'})\n",
    "\n",
    "\n",
    "# matplotlib.pyplot.annotate('test', xy, *args, **kwargs)\n",
    "plt.savefig(\"./img/events_time.jpg\",dpi=400)\n",
    "plt.show()"
   ]
  },
  {
   "cell_type": "code",
   "execution_count": null,
   "id": "207475d4",
   "metadata": {},
   "outputs": [],
   "source": []
  },
  {
   "cell_type": "code",
   "execution_count": null,
   "id": "9dea68db",
   "metadata": {},
   "outputs": [],
   "source": []
  },
  {
   "cell_type": "code",
   "execution_count": null,
   "id": "1c59cb53",
   "metadata": {},
   "outputs": [],
   "source": []
  },
  {
   "cell_type": "code",
   "execution_count": null,
   "id": "ba61ba26",
   "metadata": {},
   "outputs": [],
   "source": []
  },
  {
   "cell_type": "code",
   "execution_count": null,
   "id": "3c21d1d3",
   "metadata": {},
   "outputs": [],
   "source": []
  },
  {
   "cell_type": "code",
   "execution_count": null,
   "id": "eb168580",
   "metadata": {},
   "outputs": [],
   "source": []
  },
  {
   "cell_type": "code",
   "execution_count": null,
   "id": "7e45b9bb",
   "metadata": {},
   "outputs": [],
   "source": []
  },
  {
   "cell_type": "code",
   "execution_count": null,
   "id": "bc45b9de",
   "metadata": {},
   "outputs": [],
   "source": []
  },
  {
   "cell_type": "code",
   "execution_count": null,
   "id": "1d30c522",
   "metadata": {},
   "outputs": [],
   "source": []
  }
 ],
 "metadata": {
  "kernelspec": {
   "display_name": "Python 3 (ipykernel)",
   "language": "python",
   "name": "python3"
  },
  "language_info": {
   "codemirror_mode": {
    "name": "ipython",
    "version": 3
   },
   "file_extension": ".py",
   "mimetype": "text/x-python",
   "name": "python",
   "nbconvert_exporter": "python",
   "pygments_lexer": "ipython3",
   "version": "3.8.11"
  }
 },
 "nbformat": 4,
 "nbformat_minor": 5
}
