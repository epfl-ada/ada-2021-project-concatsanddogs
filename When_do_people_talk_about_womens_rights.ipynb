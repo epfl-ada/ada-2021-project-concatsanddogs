{
 "cells": [
  {
   "cell_type": "markdown",
   "id": "87238c59-1763-4c61-a1e7-ed4050198dd9",
   "metadata": {},
   "source": [
    "### Header\n",
    "Author : Amina Matt and Younes Moussaif  \n",
    "Date created : 30.11.2021  \n",
    "Date last modified : 17.12.2021  \n",
    "Description : Investigation of all quotes and subset at time of interest (post When do people talk about women's rights and gender equality? on website)"
   ]
  },
  {
   "cell_type": "markdown",
   "id": "094a7b3b",
   "metadata": {
    "tags": []
   },
   "source": [
    "# When do people talk about women's rights and gender equality?"
   ]
  },
  {
   "cell_type": "markdown",
   "id": "e85f1d21",
   "metadata": {},
   "source": [
    "Packages required to run this notebook :\n",
    "- texblob : conda install -c conda-forge textblob\n",
    "- nltk: conda install -c anaconda nltk\n",
    "- flair: pip install flair"
   ]
  },
  {
   "cell_type": "markdown",
   "id": "c4185c71-7c2a-439a-82d3-933de165df30",
   "metadata": {},
   "source": [
    "### Librairies"
   ]
  },
  {
   "cell_type": "code",
   "execution_count": 52,
   "id": "be4f170b",
   "metadata": {
    "tags": []
   },
   "outputs": [
    {
     "name": "stderr",
     "output_type": "stream",
     "text": [
      "[nltk_data] Downloading package stopwords to\n",
      "[nltk_data]     C:\\Users\\Younes\\AppData\\Roaming\\nltk_data...\n",
      "[nltk_data]   Package stopwords is already up-to-date!\n"
     ]
    }
   ],
   "source": [
    "import numpy as np\n",
    "import pandas as pd\n",
    "import seaborn as sns\n",
    "import matplotlib as mpl\n",
    "import matplotlib.pyplot as plt\n",
    "import scipy\n",
    "import random\n",
    "\n",
    "#for natural language processing\n",
    "import nltk #Natural Language Toolkit is a natural language programming library\n",
    "from nltk.tokenize import word_tokenize\n",
    "nltk.download('stopwords') #common english words to ignore \n",
    "stopwords = nltk.corpus.stopwords.words('english') #list of words such as a, the, and etc..\n",
    "\n",
    "#for sentiment calculation \n",
    "#Vader\n",
    "import vaderSentiment\n",
    "from vaderSentiment.vaderSentiment import SentimentIntensityAnalyzer\n",
    "PATH = 'generated_data/'\n",
    "pd.options.display.max_colwidth = 350"
   ]
  },
  {
   "cell_type": "code",
   "execution_count": 2,
   "id": "0bec595a",
   "metadata": {},
   "outputs": [],
   "source": [
    "from textblob import TextBlob\n",
    "from flair.models import TextClassifier\n",
    "from flair.data import Sentence"
   ]
  },
  {
   "cell_type": "markdown",
   "id": "add78051-b8cb-44f2-a400-d7b2ed9b4e94",
   "metadata": {},
   "source": [
    "## Load dataframe of all quotes about women's rights and gender equality"
   ]
  },
  {
   "cell_type": "code",
   "execution_count": 3,
   "id": "2fc4d182",
   "metadata": {
    "tags": []
   },
   "outputs": [],
   "source": [
    "# Concatenate into one dataframes the dataframes from each pickle file. \n",
    "dataframesNames = ('QOI_2015_DF','QOI_2016_DF','QOI_2017_DF','QOI_2018_DF','QOI_2019_DF','QOI_2020_DF')\n",
    "df = pd.concat([pd.read_pickle(PATH+ fp +'.pkl') for fp in dataframesNames], ignore_index=True)"
   ]
  },
  {
   "cell_type": "code",
   "execution_count": 3,
   "id": "b387cadb",
   "metadata": {
    "tags": []
   },
   "outputs": [],
   "source": [
    "#df.head()"
   ]
  },
  {
   "cell_type": "markdown",
   "id": "5148c007",
   "metadata": {
    "tags": []
   },
   "source": [
    "## Sentiment"
   ]
  },
  {
   "cell_type": "code",
   "execution_count": 32,
   "id": "6dab28c7",
   "metadata": {},
   "outputs": [],
   "source": [
    "quote = df['quotation'].iloc[0]\n",
    "analyzer = SentimentIntensityAnalyzer()\n",
    "vs = analyzer.polarity_scores(df['quotation'].loc[1])\n",
    "df['sentiment'] = df['quotation'].apply(lambda x : analyzer.polarity_scores(x)['compound'])"
   ]
  },
  {
   "cell_type": "code",
   "execution_count": 14,
   "id": "a8d3f9fa",
   "metadata": {},
   "outputs": [
    {
     "name": "stderr",
     "output_type": "stream",
     "text": [
      "/var/folders/3v/cd3_rvz10bd1jd08x0c03tpr0000gt/T/ipykernel_25334/2816934022.py:2: UserWarning: Matplotlib is currently using module://matplotlib_inline.backend_inline, which is a non-GUI backend, so cannot show the figure.\n",
      "  plt.show()\n"
     ]
    },
    {
     "data": {
      "image/png": "[encoded data removed]",
      "text/plain": [
       "<Figure size 576x360 with 1 Axes>"
      ]
     },
     "metadata": {
      "needs_background": "light"
     },
     "output_type": "display_data"
    }
   ],
   "source": [
    "df['sentiment'].hist(bins=40, figsize = [8,5])\n",
    "plt.show()"
   ]
  },
  {
   "cell_type": "markdown",
   "id": "c0a5d106-2ea9-4611-bee6-cf088644030e",
   "metadata": {},
   "source": [
    "# **When do people talk about women's rights?**"
   ]
  },
  {
   "cell_type": "markdown",
   "id": "aaa1a394",
   "metadata": {
    "tags": []
   },
   "source": [
    "#  How do people feel about women's rights and gender equality overall?"
   ]
  },
  {
   "cell_type": "code",
   "execution_count": 7,
   "id": "19b7af41-edc8-4898-9726-74a7d55a9a65",
   "metadata": {},
   "outputs": [
    {
     "name": "stdout",
     "output_type": "stream",
     "text": [
      "The dataframe used for overall sentiment contains 87161 quotations\n"
     ]
    }
   ],
   "source": [
    "print(f'The dataframe used for overall sentiment contains {len(df)} quotations')"
   ]
  },
  {
   "cell_type": "code",
   "execution_count": 21,
   "id": "49930c5c-1e57-4cdb-8d60-2c66d80e2096",
   "metadata": {},
   "outputs": [],
   "source": [
    "#timeframe \n",
    "earliest = df['date'].sort_values()[0]\n",
    "latest = df['date'].sort_values()[len(df)-1]"
   ]
  },
  {
   "cell_type": "code",
   "execution_count": 23,
   "id": "8ce17b3d-b168-451d-8658-9cb1d2da85d5",
   "metadata": {},
   "outputs": [
    {
     "name": "stdout",
     "output_type": "stream",
     "text": [
      "The quotations have been uttered between 2015-03-09 12:30:00 and 2020-01-28 02:08:54.\n"
     ]
    }
   ],
   "source": [
    "print(f'The quotations have been uttered between {earliest} and {latest}.')"
   ]
  },
  {
   "cell_type": "markdown",
   "id": "c262185f-3924-4f9f-a562-69346a34a122",
   "metadata": {},
   "source": [
    "#### Functions"
   ]
  },
  {
   "cell_type": "code",
   "execution_count": 65,
   "id": "70dbc70a",
   "metadata": {},
   "outputs": [],
   "source": [
    "def polarized_median(df):\n",
    "    '''\n",
    "    Description: split the dataset based on sentiment scores and calculate the median of positive and negative sentimetn scores distribution\n",
    "    Input: dataframe with sentiment score in 'sentiment' column\n",
    "    Output: medians of negative and positive sentiment scores distribution\n",
    "    Requirements : -\n",
    "    Use: - \n",
    "    '''\n",
    "    #subsets dataframe sentiments\n",
    "    lim = 0.33\n",
    "    df_neg = df[df['sentiment']<-lim]\n",
    "    df_pos = df[df['sentiment']>lim]\n",
    "    df_neu = df[(df['sentiment']>-lim) & (df['sentiment']<lim)]\n",
    "    neg_median = df_neg['sentiment'].describe()['50%']\n",
    "    pos_median = df_pos['sentiment'].describe()['50%']\n",
    "    return (neg_median,pos_median)"
   ]
  },
  {
   "cell_type": "code",
   "execution_count": 170,
   "id": "6a1ae4a7",
   "metadata": {},
   "outputs": [],
   "source": [
    "def plot_with_medians(df,ylimit):#separate three color\n",
    "    '''\n",
    "    Description: Plot of sentiment score distribution with split sentiments in neg, po, neutral categories with mediancs for pos and neg. \n",
    "    Input: dataframe with sentiment score in 'sentiment' column and y limit of plot \n",
    "    Output: Plot of sentiment score distribution with split sentiments in neg, po, neutral categories with mediancs for pos and neg. \n",
    "    Requirements : polarized_median function\n",
    "    Use:  \n",
    "    '''\n",
    "    lim = 0.33\n",
    "    df_neg = df[df['sentiment']<-lim]\n",
    "    df_pos = df[df['sentiment']>lim]\n",
    "    df_neu = df[(df['sentiment']>-lim) & (df['sentiment']<lim)]\n",
    "    # Just write the name of the font\n",
    "    mpl.rcParams['font.sans-serif'] = 'Lato'\n",
    "    plt.rcParams['font.size'] = 15\n",
    "    plt.rcParams[\"figure.figsize\"] = (25,5)\n",
    "    # Hide grid lines\n",
    "    n = 20 \n",
    "    ax1 = df_neg['sentiment'].hist(bins=n, figsize = [8,5],color ='#FF3A20')\n",
    "    df_pos['sentiment'].hist(bins=n, figsize = [8,5],color='#4EA692')\n",
    "    df_neu['sentiment'].hist(bins=n, figsize = [8,5],alpha=0.5,color='#58699D')#opacity low for neutral\n",
    "    #limit \n",
    "    ax1.set_ylim(0,ylimit)\n",
    "    #plt.box(False)#ax1.axis('off')\n",
    "    # Hide the right and top spines\n",
    "    ax1.spines['right'].set_visible(False)\n",
    "    ax1.spines['top'].set_visible(False)\n",
    "    ax1.spines['left'].set_visible(True)\n",
    "    # Only show ticks on the left and bottom spines\n",
    "    #ax1.yaxis.set_ticks_position('left')\n",
    "    ax1.xaxis.set_ticks_position('bottom')\n",
    "\n",
    "    plt.grid(False)\n",
    "    #get medians\n",
    "    (neg_median,pos_median) = polarized_median(df)\n",
    "\n",
    "    print(neg_median,pos_median)\n",
    "    #OTHER COLOR BLUE \n",
    "    #58699D\n",
    "    #vertical line to legend\n",
    "    plt.axvline(x=neg_median, ymin=0, ymax=0.73,color = 'Gray')\n",
    "    plt.axvline(x=pos_median, ymin=0, ymax=0.73,color = 'Gray')\n",
    "    #legends on it\n",
    "    plt.text(neg_median, ylimit*0.71, 'MEDIAN\\n Negative ', fontsize=12)\n",
    "    plt.text(pos_median, ylimit*0.71, 'MEDIAN\\n Positive ', fontsize=12)\n",
    "    fig1 = plt.gcf()\n",
    "    plt.show()\n",
    "    return fig1,neg_median,pos_median"
   ]
  },
  {
   "cell_type": "markdown",
   "id": "4d5e9260-43f3-48b4-adb9-b265e1e1e44f",
   "metadata": {},
   "source": [
    "## Overall "
   ]
  },
  {
   "cell_type": "code",
   "execution_count": 171,
   "id": "475477ba-ae48-4b90-88b3-cb00f369634b",
   "metadata": {},
   "outputs": [
    {
     "name": "stdout",
     "output_type": "stream",
     "text": [
      "-0.7003 0.7096\n"
     ]
    },
    {
     "data": {
      "image/png": "[encoded data removed]",
      "text/plain": [
       "<Figure size 576x360 with 1 Axes>"
      ]
     },
     "metadata": {
      "needs_background": "light"
     },
     "output_type": "display_data"
    }
   ],
   "source": [
    "overall,ov_neg_median,ov_pos_median = plot_with_medians(df,7000)\n",
    "overall.savefig(\"img/all_quotes_with_medians.png\")"
   ]
  },
  {
   "cell_type": "code",
   "execution_count": 68,
   "id": "24c7f9fc-bf10-4742-8812-2f382b3f1325",
   "metadata": {},
   "outputs": [
    {
     "name": "stdout",
     "output_type": "stream",
     "text": [
      "The medians are respectively at -0.7003 on the negative side and 0.7096 on the positive side\n"
     ]
    }
   ],
   "source": [
    "print(f'The medians are respectively at {ov_neg_median} on the negative side and {ov_pos_median} on the positive side')"
   ]
  },
  {
   "cell_type": "code",
   "execution_count": 74,
   "id": "2dc9bfa9-b8f1-4672-b667-468c5a654e87",
   "metadata": {},
   "outputs": [
    {
     "name": "stdout",
     "output_type": "stream",
     "text": [
      "The ratio of positive to negative quotations is 1.0894900803410394.\n",
      "The ratio of neutral to all quotations is 26.89253998485509%.\n",
      "The ratio of positive to all quotations is 38.11927763372267%.\n",
      "The ratio of negative to all quotations is 34.98818238142224%.\n"
     ]
    }
   ],
   "source": [
    "#proportion calculation \n",
    "lim = 0.35\n",
    "pos = len(df[df['sentiment']>lim])\n",
    "neg = len(df[df['sentiment']<-lim]) \n",
    "df_neu = df[(df['sentiment']>-lim) & (df['sentiment']<lim)]\n",
    "neu = len(df_neu)\n",
    "ratio_overall =pos /neg #positive/negative ratio\n",
    "ratio_neutral = neu/ (pos + neg + neu) * 100 #neutral/ otherratio\n",
    "ratio_pos = pos/ (pos + neg + neu) * 100 #neutral/ otherratio\n",
    "ratio_neg = neg/ (pos + neg + neu) * 100 #neutral/ otherratio\n",
    "print(f'The ratio of positive to negative quotations is {ratio_overall}.')\n",
    "print(f'The ratio of neutral to all quotations is {ratio_neutral}%.')\n",
    "print(f'The ratio of positive to all quotations is {ratio_pos}%.')\n",
    "print(f'The ratio of negative to all quotations is {ratio_neg}%.')"
   ]
  },
  {
   "cell_type": "markdown",
   "id": "78300670-d2e6-46a9-b7b2-f380afc22b81",
   "metadata": {},
   "source": [
    "### Significance"
   ]
  },
  {
   "cell_type": "markdown",
   "id": "c83a24a7-7fdd-4693-8c77-523d6a6d68a1",
   "metadata": {},
   "source": [
    "#### Chi square test"
   ]
  },
  {
   "cell_type": "markdown",
   "id": "e625f659-db6a-4dbc-a0d5-727bf0f4f30d",
   "metadata": {},
   "source": [
    "We want to test the null hypothesis that the quotations are equally distributed, i.e.\n",
    "\n",
    "$H_0: proportion_{negative} = proportion_{positive} = proportion_{neutral} = 0.33$\n",
    "\n",
    "The alternative hypothesis is that at least one proportion is different.\n",
    "We run a Pearsons' cumulative  test with \n",
    " $𝜒^2=∑_{𝑖=1}^𝑛(𝑂_𝑖−𝐸_𝑖)^2/𝐸_𝑖$\n"
   ]
  },
  {
   "cell_type": "code",
   "execution_count": 116,
   "id": "3f3c133f-e4c4-40ec-b88f-4cb5b06abc25",
   "metadata": {},
   "outputs": [
    {
     "name": "stdout",
     "output_type": "stream",
     "text": [
      "We have chi square equal to 0.011303353889876933 which is below the critical value 3.841 of chi square at a 0.05 level. Therefore the null hypothesis cannot be rejected and the proportions are distributed equally.\n"
     ]
    }
   ],
   "source": [
    "ideal_ratio = 0.33\n",
    "observed_neutral = ratio_neutral /100\n",
    "observed_pos = ratio_pos /100\n",
    "observed_neg = ratio_neg /100\n",
    "chi_square = (((observed_neutral-ideal_ratio) * (observed_neutral-ideal_ratio))/ideal_ratio)\n",
    "+(((observed_pos-ideal_ratio)*(observed_pos-ideal_ratio))/ideal_ratio)\n",
    "+(((observed_neg-ideal_ratio)*(observed_neg-ideal_ratio))/ideal_ratio)\n",
    "print(f'We have chi square equal to {chi_square} which is below the critical value {3.841} of chi square at a 0.05 level. Therefore the null hypothesis cannot be rejected and the proportions are distributed equally.')"
   ]
  },
  {
   "cell_type": "markdown",
   "id": "acc4ae36-09e0-41c2-bf1a-e299b44303e9",
   "metadata": {},
   "source": [
    "####  T- test and  Mann-Whitney U test"
   ]
  },
  {
   "cell_type": "code",
   "execution_count": 160,
   "id": "5366c3bf-df46-4a35-b69f-6d52968f976a",
   "metadata": {},
   "outputs": [
    {
     "name": "stdout",
     "output_type": "stream",
     "text": [
      "The p-value is 27.578886965961676%, which is well above 5% thus we cannot reject the null hypothesis.\n",
      " Therefore the two means are equivalent. \n"
     ]
    },
    {
     "data": {
      "image/png": "[encoded data removed]",
      "text/plain": [
       "<Figure size 1800x360 with 1 Axes>"
      ]
     },
     "metadata": {
      "needs_background": "light"
     },
     "output_type": "display_data"
    }
   ],
   "source": [
    "pos.hist()\n",
    "neg.hist()\n",
    "#by default the null hypothesis is that the two means are equals\n",
    "#the alternative is that the means are not equalsa\n",
    "res = scipy.stats.ttest_ind(pos,neg)\n",
    "print(f'The p-value is {res[1]*100}%, which is well above 5% thus we cannot reject the null hypothesis.\\n Therefore the two means are equivalent. ')"
   ]
  },
  {
   "cell_type": "code",
   "execution_count": 165,
   "id": "bf24218d-c464-454a-9867-9c8739508491",
   "metadata": {},
   "outputs": [
    {
     "name": "stdout",
     "output_type": "stream",
     "text": [
      "The p-value is 6.430364929156446%, which is above 5% thus we cannot reject the null hypothesis.\n",
      " Therefore the two underlying distribution are equivalent. \n"
     ]
    }
   ],
   "source": [
    "from scipy.stats import mannwhitneyu\n",
    "res =mannwhitneyu(pos, neg)\n",
    "print(f'The p-value is {res[1]*100}%, which is above 5% thus we cannot reject the null hypothesis.\\n Therefore the two underlying distribution are equivalent. ')"
   ]
  },
  {
   "cell_type": "markdown",
   "id": "1f09071c-21b4-48d6-b8a0-2ab67633a3f7",
   "metadata": {
    "tags": []
   },
   "source": [
    "# How has Sentiment Evolved over time ?"
   ]
  },
  {
   "cell_type": "markdown",
   "id": "1a64037f-4d59-4519-adf1-fcb3db6ee3d6",
   "metadata": {},
   "source": [
    "### Overall Time analysis "
   ]
  },
  {
   "cell_type": "code",
   "execution_count": 172,
   "id": "d1a1d284-1832-4cde-8d0e-f3b6aae634cf",
   "metadata": {},
   "outputs": [
    {
     "data": {
      "image/png": "[encoded data removed]",
      "text/plain": [
       "<Figure size 1296x360 with 1 Axes>"
      ]
     },
     "metadata": {
      "needs_background": "light"
     },
     "output_type": "display_data"
    }
   ],
   "source": [
    "# all quotes in function of time\n",
    "df['date'].hist(bins = 100, figsize = [18,5],color='#58699D',grid=False)\n",
    "plt.show() \n",
    "# this graph should probably go into a general presentation of our data instead of here "
   ]
  },
  {
   "cell_type": "code",
   "execution_count": 56,
   "id": "3e419e0f-ed82-4ce9-a2c5-da715c2ce482",
   "metadata": {
    "scrolled": true
   },
   "outputs": [
    {
     "data": {
      "image/png": "[encoded data removed]",
      "text/plain": [
       "<Figure size 1296x360 with 1 Axes>"
      ]
     },
     "metadata": {
      "needs_background": "light"
     },
     "output_type": "display_data"
    }
   ],
   "source": [
    "df.plot(x = 'date',y='sentiment', figsize = [18,5])\n",
    "plt.show()\n",
    "# not much info from this graph"
   ]
  },
  {
   "cell_type": "markdown",
   "id": "46871f39-112a-477e-8364-5b5df81bd0fe",
   "metadata": {},
   "source": [
    "#### Data plot over time with catergories (positive, negative, neutral)"
   ]
  },
  {
   "cell_type": "code",
   "execution_count": 176,
   "id": "fe659646-4e4e-48f4-837a-2c3c92e63470",
   "metadata": {},
   "outputs": [
    {
     "data": {
      "text/plain": [
       "87161"
      ]
     },
     "execution_count": 176,
     "metadata": {},
     "output_type": "execute_result"
    }
   ],
   "source": [
    "len(df)"
   ]
  },
  {
   "cell_type": "code",
   "execution_count": 177,
   "id": "f0ed39fc-cae0-48e2-9f57-da4b0cc92e3a",
   "metadata": {},
   "outputs": [],
   "source": [
    "# take a threshold and separate the data in two : \n",
    "# threshold choice currently partly arbitrary\n",
    "df_positive = df.query('sentiment > 0.33')\n",
    "df_negative = df.query('sentiment < -0.33')\n",
    "df_neutral  = df.query('sentiment > -0.33').query('sentiment < 0.33')"
   ]
  },
  {
   "cell_type": "code",
   "execution_count": 178,
   "id": "1afaae4e-b2a7-41ea-bb36-d7cdf011c470",
   "metadata": {},
   "outputs": [],
   "source": [
    "# Create an array with the colors you want to use\n",
    "colors = [\"#FF0B04\", \"#4374B3\"]\n",
    "# Set your custom color palette\n",
    "customPalette = sns.set_palette(sns.color_palette(colors))"
   ]
  },
  {
   "cell_type": "code",
   "execution_count": 179,
   "id": "929c8d1c-4286-4af6-93a4-5627306698a4",
   "metadata": {
    "scrolled": true
   },
   "outputs": [
    {
     "data": {
      "image/png": "[encoded data removed]",
      "text/plain": [
       "<Figure size 1296x360 with 1 Axes>"
      ]
     },
     "metadata": {
      "needs_background": "light"
     },
     "output_type": "display_data"
    }
   ],
   "source": [
    "fig, ax = plt.subplots()\n",
    "# Just write the name of the font\n",
    "mpl.rcParams['font.sans-serif'] = 'Lato'\n",
    "plt.rcParams['font.size'] = 15\n",
    "plt.rcParams[\"figure.figsize\"] = (25,5)\n",
    "\n",
    "#plot parameters\n",
    "ax.spines['bottom'].set_color('#dddddd')\n",
    "ax.spines['top'].set_color('#dddddd') \n",
    "ax.spines['right'].set_color('#dddddd')\n",
    "ax.spines['left'].set_color('#dddddd')\n",
    "ax.set_axisbelow(True) # set grid lines behind\n",
    "\n",
    "#histograms\n",
    "df_negative['date'].hist(bins = 100, figsize = [18,5],alpha = 0.8,color ='#FF3A20')\n",
    "df_positive['date'].hist(bins = 100, figsize = [18,5],color='#4EA692')\n",
    "df_neutral['date'].hist(bins = 100, figsize = [18,5],alpha = 0.8,color='#58699D')\n",
    "\n",
    "#plotting parameters\n",
    "plt.xlabel('Date')\n",
    "plt.ylabel('Frequency')\n",
    "plt.legend(labels=('positive','negative','neutral'))\n",
    "plt.savefig(\"./img/sentiment_time_pos_neg_neu.jpg\",dpi=400,bbox_inches='tight')\n",
    "plt.show()"
   ]
  },
  {
   "cell_type": "markdown",
   "id": "e6d4f04f-14d7-4144-b14a-c39f06501738",
   "metadata": {},
   "source": [
    "#### Distribution of sentiment scores over time "
   ]
  },
  {
   "cell_type": "code",
   "execution_count": 44,
   "id": "0194694b-ab60-4a50-9fad-4a72b2b3db62",
   "metadata": {},
   "outputs": [
    {
     "data": {
      "image/png": "[encoded data removed]",
      "text/plain": [
       "<Figure size 1440x576 with 2 Axes>"
      ]
     },
     "metadata": {
      "needs_background": "light"
     },
     "output_type": "display_data"
    }
   ],
   "source": [
    "fig, ax = plt.subplots()\n",
    "ax = sns.histplot(df[['date','sentiment']], x=\"date\", y=\"sentiment\", \n",
    "                  stat='proportion',cbar=True,binwidth=(31,0.05)) # `count` `frequency`\n",
    "mpl.rcParams['font.sans-serif'] = 'Lato' # Just write the name of the font\n",
    "plt.rcParams['font.size'] = 15\n",
    "\n",
    "fig.set_size_inches(20,8)\n",
    "#plt.figure(figsize=(20,8))\n",
    "\n",
    "ax.spines['bottom'].set_color('#dddddd')\n",
    "ax.spines['top'].set_color('#dddddd') \n",
    "ax.spines['right'].set_color('#dddddd')\n",
    "ax.spines['left'].set_color('#dddddd')\n",
    "\n",
    "plt.xlabel('Date')\n",
    "plt.ylabel('Sentiment score')\n",
    "\n",
    "#ax.set_visible(False)\n",
    "\n",
    "plt.grid(visible=True)\n",
    "ax.set_axisbelow(True) # set grid lines behind\n",
    "plt.savefig(\"./img/sentiment_heatmap.jpg\",dpi=400,bbox_inches='tight')\n",
    "plt.show()"
   ]
  },
  {
   "cell_type": "markdown",
   "id": "79a4abb6-c491-4a97-baac-9302a0e10331",
   "metadata": {},
   "source": [
    "# Ratio per year with CI"
   ]
  },
  {
   "cell_type": "code",
   "execution_count": 190,
   "id": "056b6426-88d7-4007-bcb4-89d994737598",
   "metadata": {},
   "outputs": [],
   "source": [
    "import warnings\n",
    "warnings.filterwarnings('ignore')"
   ]
  },
  {
   "cell_type": "markdown",
   "id": "bb06178a-0d06-41b6-88ef-ecd939cc6eae",
   "metadata": {},
   "source": [
    "### Functions"
   ]
  },
  {
   "cell_type": "code",
   "execution_count": 192,
   "id": "56d2021f-a516-476a-bb68-f0f0e4ca3fdc",
   "metadata": {},
   "outputs": [],
   "source": [
    "#function splitting years\n",
    "def split_years(dt):\n",
    "    '''\n",
    "    Description: split the dataset based on years\n",
    "    Input: dataframe with date\n",
    "    Output: dataframes by year\n",
    "    Requirements : -\n",
    "    Use: - \n",
    "    '''\n",
    "    dt['year'] = dt['date'].dt.year\n",
    "    return [dt[dt['year'] == y] for y in dt['year'].unique()]\n",
    "\n",
    "#pos, neg, neu dataframe split by years for further analysis\n",
    "df_positive_per_year = split_years(df_positive)\n",
    "df_negative_per_year = split_years(df_negative)\n",
    "df_neutral_per_year = split_years(df_neutral)"
   ]
  },
  {
   "cell_type": "code",
   "execution_count": 194,
   "id": "d83ffdca-4263-48bc-a52a-7187ee07c311",
   "metadata": {},
   "outputs": [
    {
     "data": {
      "text/html": [
       "<div>\n",
       "<style scoped>\n",
       "    .dataframe tbody tr th:only-of-type {\n",
       "        vertical-align: middle;\n",
       "    }\n",
       "\n",
       "    .dataframe tbody tr th {\n",
       "        vertical-align: top;\n",
       "    }\n",
       "\n",
       "    .dataframe thead th {\n",
       "        text-align: right;\n",
       "    }\n",
       "</style>\n",
       "<table border=\"1\" class=\"dataframe\">\n",
       "  <thead>\n",
       "    <tr style=\"text-align: right;\">\n",
       "      <th></th>\n",
       "      <th>year</th>\n",
       "      <th>positive percentage</th>\n",
       "      <th>pos ci_min</th>\n",
       "      <th>pos ci_max</th>\n",
       "      <th>negative percentage</th>\n",
       "      <th>neg ci_min</th>\n",
       "      <th>neg ci_max</th>\n",
       "      <th>neutral percentage</th>\n",
       "      <th>neu ci_min</th>\n",
       "      <th>neu ci_max</th>\n",
       "    </tr>\n",
       "  </thead>\n",
       "  <tbody>\n",
       "    <tr>\n",
       "      <th>0</th>\n",
       "      <td>2015.0</td>\n",
       "      <td>46.217722</td>\n",
       "      <td>NaN</td>\n",
       "      <td>NaN</td>\n",
       "      <td>24.668354</td>\n",
       "      <td>NaN</td>\n",
       "      <td>NaN</td>\n",
       "      <td>29.113924</td>\n",
       "      <td>NaN</td>\n",
       "      <td>NaN</td>\n",
       "    </tr>\n",
       "    <tr>\n",
       "      <th>1</th>\n",
       "      <td>2016.0</td>\n",
       "      <td>43.143040</td>\n",
       "      <td>NaN</td>\n",
       "      <td>NaN</td>\n",
       "      <td>27.055805</td>\n",
       "      <td>NaN</td>\n",
       "      <td>NaN</td>\n",
       "      <td>29.801155</td>\n",
       "      <td>NaN</td>\n",
       "      <td>NaN</td>\n",
       "    </tr>\n",
       "    <tr>\n",
       "      <th>2</th>\n",
       "      <td>2017.0</td>\n",
       "      <td>33.650606</td>\n",
       "      <td>NaN</td>\n",
       "      <td>NaN</td>\n",
       "      <td>40.727753</td>\n",
       "      <td>NaN</td>\n",
       "      <td>NaN</td>\n",
       "      <td>25.621641</td>\n",
       "      <td>NaN</td>\n",
       "      <td>NaN</td>\n",
       "    </tr>\n",
       "    <tr>\n",
       "      <th>3</th>\n",
       "      <td>2018.0</td>\n",
       "      <td>33.892467</td>\n",
       "      <td>NaN</td>\n",
       "      <td>NaN</td>\n",
       "      <td>40.070391</td>\n",
       "      <td>NaN</td>\n",
       "      <td>NaN</td>\n",
       "      <td>26.037142</td>\n",
       "      <td>NaN</td>\n",
       "      <td>NaN</td>\n",
       "    </tr>\n",
       "    <tr>\n",
       "      <th>4</th>\n",
       "      <td>2019.0</td>\n",
       "      <td>41.056359</td>\n",
       "      <td>NaN</td>\n",
       "      <td>NaN</td>\n",
       "      <td>31.472411</td>\n",
       "      <td>NaN</td>\n",
       "      <td>NaN</td>\n",
       "      <td>27.471230</td>\n",
       "      <td>NaN</td>\n",
       "      <td>NaN</td>\n",
       "    </tr>\n",
       "  </tbody>\n",
       "</table>\n",
       "</div>"
      ],
      "text/plain": [
       "     year  positive percentage  pos ci_min  pos ci_max  negative percentage  \\\n",
       "0  2015.0            46.217722         NaN         NaN            24.668354   \n",
       "1  2016.0            43.143040         NaN         NaN            27.055805   \n",
       "2  2017.0            33.650606         NaN         NaN            40.727753   \n",
       "3  2018.0            33.892467         NaN         NaN            40.070391   \n",
       "4  2019.0            41.056359         NaN         NaN            31.472411   \n",
       "\n",
       "   neg ci_min  neg ci_max  neutral percentage  neu ci_min  neu ci_max  \n",
       "0         NaN         NaN           29.113924         NaN         NaN  \n",
       "1         NaN         NaN           29.801155         NaN         NaN  \n",
       "2         NaN         NaN           25.621641         NaN         NaN  \n",
       "3         NaN         NaN           26.037142         NaN         NaN  \n",
       "4         NaN         NaN           27.471230         NaN         NaN  "
      ]
     },
     "execution_count": 194,
     "metadata": {},
     "output_type": "execute_result"
    }
   ],
   "source": [
    "def percentage_df(df_pos,df_neg,df_neu):\n",
    "    '''\n",
    "    Description: compute the percentage of quotations from each categories (pos, neg, neu)\n",
    "    Input: dataframes split by sentiment scores categories\n",
    "    Output: dataframes with year and percentage of each categories. Note that the confidence intervals columns are still empty at this point \n",
    "    Requirements : -\n",
    "    Use: - \n",
    "    '''\n",
    "    #empty dataframes with columns for further incoming confidence intervals\n",
    "    per_year_df = pd.DataFrame(columns=['year','positive percentage','pos ci_min','pos ci_max','negative percentage','neg ci_min','neg ci_max','neutral percentage','neu ci_min','neu ci_max'])\n",
    "    for i in range(6):\n",
    "        #numbers of quotations per sentiment categories\n",
    "        len_pos = len(df_pos[i]) \n",
    "        len_neg = len(df_neg[i])\n",
    "        len_neu = len(df_neu[i])\n",
    "        tot = len_neg + len_pos + len_neu\n",
    "        #new dataframe with percentage \n",
    "        per_year_df = per_year_df.append({\n",
    "            'year':(df_pos[i]['year'].unique())[0],\n",
    "            'positive percentage':len_pos/tot *100,\n",
    "             'negative percentage':len_neg/tot *100,\n",
    "             'neutral percentage':len_neu/tot *100,\n",
    "            },ignore_index=True)\n",
    "        \n",
    "    return per_year_df\n",
    "per_year_df = percentage_df(df_positive_per_year,df_negative_per_year,df_neutral_per_year)\n",
    "per_year_df.head()"
   ]
  },
  {
   "cell_type": "markdown",
   "id": "d9546f31",
   "metadata": {},
   "source": [
    "#### Bootstrapping"
   ]
  },
  {
   "cell_type": "code",
   "execution_count": 195,
   "id": "668c16f7-1db6-490f-8e70-bb0509fa0cb8",
   "metadata": {},
   "outputs": [
    {
     "data": {
      "text/html": [
       "<div>\n",
       "<style scoped>\n",
       "    .dataframe tbody tr th:only-of-type {\n",
       "        vertical-align: middle;\n",
       "    }\n",
       "\n",
       "    .dataframe tbody tr th {\n",
       "        vertical-align: top;\n",
       "    }\n",
       "\n",
       "    .dataframe thead th {\n",
       "        text-align: right;\n",
       "    }\n",
       "</style>\n",
       "<table border=\"1\" class=\"dataframe\">\n",
       "  <thead>\n",
       "    <tr style=\"text-align: right;\">\n",
       "      <th></th>\n",
       "      <th>year</th>\n",
       "      <th>positive percentage</th>\n",
       "      <th>negative percentage</th>\n",
       "      <th>neutral percentage</th>\n",
       "      <th>pos ci_min</th>\n",
       "      <th>pos ci_max</th>\n",
       "      <th>neg ci_min</th>\n",
       "      <th>neg ci_max</th>\n",
       "      <th>neu ci_min</th>\n",
       "      <th>neu ci_max</th>\n",
       "    </tr>\n",
       "  </thead>\n",
       "  <tbody>\n",
       "    <tr>\n",
       "      <th>0</th>\n",
       "      <td>2019.0</td>\n",
       "      <td>32.454317</td>\n",
       "      <td>41.266971</td>\n",
       "      <td>26.278712</td>\n",
       "      <td>NaN</td>\n",
       "      <td>NaN</td>\n",
       "      <td>NaN</td>\n",
       "      <td>NaN</td>\n",
       "      <td>NaN</td>\n",
       "      <td>NaN</td>\n",
       "    </tr>\n",
       "    <tr>\n",
       "      <th>1</th>\n",
       "      <td>2015.0</td>\n",
       "      <td>26.290536</td>\n",
       "      <td>60.595632</td>\n",
       "      <td>13.113832</td>\n",
       "      <td>NaN</td>\n",
       "      <td>NaN</td>\n",
       "      <td>NaN</td>\n",
       "      <td>NaN</td>\n",
       "      <td>NaN</td>\n",
       "      <td>NaN</td>\n",
       "    </tr>\n",
       "    <tr>\n",
       "      <th>2</th>\n",
       "      <td>2016.0</td>\n",
       "      <td>34.795900</td>\n",
       "      <td>54.642450</td>\n",
       "      <td>10.561650</td>\n",
       "      <td>NaN</td>\n",
       "      <td>NaN</td>\n",
       "      <td>NaN</td>\n",
       "      <td>NaN</td>\n",
       "      <td>NaN</td>\n",
       "      <td>NaN</td>\n",
       "    </tr>\n",
       "    <tr>\n",
       "      <th>3</th>\n",
       "      <td>2017.0</td>\n",
       "      <td>44.740101</td>\n",
       "      <td>12.600403</td>\n",
       "      <td>42.659495</td>\n",
       "      <td>NaN</td>\n",
       "      <td>NaN</td>\n",
       "      <td>NaN</td>\n",
       "      <td>NaN</td>\n",
       "      <td>NaN</td>\n",
       "      <td>NaN</td>\n",
       "    </tr>\n",
       "    <tr>\n",
       "      <th>4</th>\n",
       "      <td>2018.0</td>\n",
       "      <td>63.523744</td>\n",
       "      <td>16.894053</td>\n",
       "      <td>19.582203</td>\n",
       "      <td>NaN</td>\n",
       "      <td>NaN</td>\n",
       "      <td>NaN</td>\n",
       "      <td>NaN</td>\n",
       "      <td>NaN</td>\n",
       "      <td>NaN</td>\n",
       "    </tr>\n",
       "  </tbody>\n",
       "</table>\n",
       "</div>"
      ],
      "text/plain": [
       "     year  positive percentage  negative percentage  neutral percentage  \\\n",
       "0  2019.0            32.454317            41.266971           26.278712   \n",
       "1  2015.0            26.290536            60.595632           13.113832   \n",
       "2  2016.0            34.795900            54.642450           10.561650   \n",
       "3  2017.0            44.740101            12.600403           42.659495   \n",
       "4  2018.0            63.523744            16.894053           19.582203   \n",
       "\n",
       "   pos ci_min  pos ci_max  neg ci_min  neg ci_max  neu ci_min  neu ci_max  \n",
       "0         NaN         NaN         NaN         NaN         NaN         NaN  \n",
       "1         NaN         NaN         NaN         NaN         NaN         NaN  \n",
       "2         NaN         NaN         NaN         NaN         NaN         NaN  \n",
       "3         NaN         NaN         NaN         NaN         NaN         NaN  \n",
       "4         NaN         NaN         NaN         NaN         NaN         NaN  "
      ]
     },
     "execution_count": 195,
     "metadata": {},
     "output_type": "execute_result"
    }
   ],
   "source": [
    "df_all_boots = pd.DataFrame(columns=['year','positive percentage','negative percentage','neutral percentage'])\n",
    "\n",
    "# scikit-learn bootstrap\n",
    "from sklearn.utils import resample\n",
    "#Choose a number of bootstrap samples to perform \n",
    "boot_numbers = 200\n",
    "#Choose a sample size\n",
    "n = 150000#10000\n",
    "#For each bootstrap sample\n",
    "for i in range(boot_numbers):\n",
    "    #draw a sample with replacement with the chose size\n",
    "    # prepare bootstrap sample\n",
    "    boot = resample(df, replace=True, n_samples = n)\n",
    "    df_boot_positive = boot.query('sentiment > 0.35')\n",
    "    df_boot_negative = boot.query('sentiment < -0.35')\n",
    "    df_boot_neutral  = boot.query('sentiment > -0.35').query('sentiment < 0.35')\n",
    "    \n",
    "    #categorize per year\n",
    "    df_positive_per_year = split_years(df_boot_positive)\n",
    "    df_negative_per_year = split_years(df_boot_negative)\n",
    "    df_neutral_per_year = split_years(df_boot_neutral)\n",
    "    df_boot = percentage_df(df_positive_per_year,df_negative_per_year,df_neutral_per_year)\n",
    "    df_all_boots = df_all_boots.append(df_boot)\n",
    "\n",
    "df_all_boots.head()"
   ]
  },
  {
   "cell_type": "code",
   "execution_count": 218,
   "id": "ff300ed9-08d0-41cb-95c2-11f54de0b870",
   "metadata": {},
   "outputs": [],
   "source": [
    "years = [2015.0,2016.0,2017.0,2018.0,2019.0,2020.0]\n",
    "#Dataframe that will contains the CI\n",
    "final = pd.DataFrame()\n",
    "\n",
    "#For each subset of dataframe\n",
    "for year in years :\n",
    "    tmp = per_year_df[per_year_df['year']==year]\n",
    "    df_year = df_all_boots[df_all_boots['year']==year]\n",
    "    stats = df_year.describe()['positive percentage']\n",
    "    n = np.sqrt(boot_numbers)\n",
    "    \n",
    "    #positive\n",
    "    ci_minus = - (1.96 * stats.loc['std']/n)\n",
    "    ci_plus =  + (1.96 * stats.loc['std']/n)\n",
    "    tmp['pos ci_min'] = ci_minus\n",
    "    tmp['pos ci_max'] = ci_plus\n",
    "    \n",
    "    #negativ\n",
    "    ci_minus = - (1.96 * stats.loc['std'] /n)\n",
    "    ci_plus = + (1.96 * stats.loc['std'] /n)\n",
    "    tmp['neg ci_min'] = ci_minus\n",
    "    tmp['neg ci_max'] = ci_plus\n",
    "   \n",
    "    #neutral\n",
    "    ci_minus =  - (1.96 * stats.loc['std'] /n)\n",
    "    ci_plus =  + (1.96 * stats.loc['std'] /n)\n",
    "    tmp['neu ci_min'] = ci_minus\n",
    "    tmp['neu ci_max'] = ci_plus\n",
    "    final = final.append(tmp)"
   ]
  },
  {
   "cell_type": "code",
   "execution_count": 219,
   "id": "05450904-2b20-4bd4-8c8a-ced603ac84cc",
   "metadata": {},
   "outputs": [
    {
     "data": {
      "text/html": [
       "<div>\n",
       "<style scoped>\n",
       "    .dataframe tbody tr th:only-of-type {\n",
       "        vertical-align: middle;\n",
       "    }\n",
       "\n",
       "    .dataframe tbody tr th {\n",
       "        vertical-align: top;\n",
       "    }\n",
       "\n",
       "    .dataframe thead th {\n",
       "        text-align: right;\n",
       "    }\n",
       "</style>\n",
       "<table border=\"1\" class=\"dataframe\">\n",
       "  <thead>\n",
       "    <tr style=\"text-align: right;\">\n",
       "      <th></th>\n",
       "      <th>year</th>\n",
       "      <th>positive percentage</th>\n",
       "      <th>pos ci_min</th>\n",
       "      <th>pos ci_max</th>\n",
       "      <th>negative percentage</th>\n",
       "      <th>neg ci_min</th>\n",
       "      <th>neg ci_max</th>\n",
       "      <th>neutral percentage</th>\n",
       "      <th>neu ci_min</th>\n",
       "      <th>neu ci_max</th>\n",
       "    </tr>\n",
       "  </thead>\n",
       "  <tbody>\n",
       "    <tr>\n",
       "      <th>0</th>\n",
       "      <td>2015.0</td>\n",
       "      <td>46.217722</td>\n",
       "      <td>-1.890745</td>\n",
       "      <td>1.890745</td>\n",
       "      <td>24.668354</td>\n",
       "      <td>-1.890745</td>\n",
       "      <td>1.890745</td>\n",
       "      <td>29.113924</td>\n",
       "      <td>-1.890745</td>\n",
       "      <td>1.890745</td>\n",
       "    </tr>\n",
       "    <tr>\n",
       "      <th>1</th>\n",
       "      <td>2016.0</td>\n",
       "      <td>43.143040</td>\n",
       "      <td>-1.981781</td>\n",
       "      <td>1.981781</td>\n",
       "      <td>27.055805</td>\n",
       "      <td>-1.981781</td>\n",
       "      <td>1.981781</td>\n",
       "      <td>29.801155</td>\n",
       "      <td>-1.981781</td>\n",
       "      <td>1.981781</td>\n",
       "    </tr>\n",
       "    <tr>\n",
       "      <th>2</th>\n",
       "      <td>2017.0</td>\n",
       "      <td>33.650606</td>\n",
       "      <td>-1.832301</td>\n",
       "      <td>1.832301</td>\n",
       "      <td>40.727753</td>\n",
       "      <td>-1.832301</td>\n",
       "      <td>1.832301</td>\n",
       "      <td>25.621641</td>\n",
       "      <td>-1.832301</td>\n",
       "      <td>1.832301</td>\n",
       "    </tr>\n",
       "    <tr>\n",
       "      <th>3</th>\n",
       "      <td>2018.0</td>\n",
       "      <td>33.892467</td>\n",
       "      <td>-1.503130</td>\n",
       "      <td>1.503130</td>\n",
       "      <td>40.070391</td>\n",
       "      <td>-1.503130</td>\n",
       "      <td>1.503130</td>\n",
       "      <td>26.037142</td>\n",
       "      <td>-1.503130</td>\n",
       "      <td>1.503130</td>\n",
       "    </tr>\n",
       "    <tr>\n",
       "      <th>4</th>\n",
       "      <td>2019.0</td>\n",
       "      <td>41.056359</td>\n",
       "      <td>-1.870398</td>\n",
       "      <td>1.870398</td>\n",
       "      <td>31.472411</td>\n",
       "      <td>-1.870398</td>\n",
       "      <td>1.870398</td>\n",
       "      <td>27.471230</td>\n",
       "      <td>-1.870398</td>\n",
       "      <td>1.870398</td>\n",
       "    </tr>\n",
       "    <tr>\n",
       "      <th>5</th>\n",
       "      <td>2020.0</td>\n",
       "      <td>48.981171</td>\n",
       "      <td>-1.628632</td>\n",
       "      <td>1.628632</td>\n",
       "      <td>25.070931</td>\n",
       "      <td>-1.628632</td>\n",
       "      <td>1.628632</td>\n",
       "      <td>25.947898</td>\n",
       "      <td>-1.628632</td>\n",
       "      <td>1.628632</td>\n",
       "    </tr>\n",
       "  </tbody>\n",
       "</table>\n",
       "</div>"
      ],
      "text/plain": [
       "     year  positive percentage  pos ci_min  pos ci_max  negative percentage  \\\n",
       "0  2015.0            46.217722   -1.890745    1.890745            24.668354   \n",
       "1  2016.0            43.143040   -1.981781    1.981781            27.055805   \n",
       "2  2017.0            33.650606   -1.832301    1.832301            40.727753   \n",
       "3  2018.0            33.892467   -1.503130    1.503130            40.070391   \n",
       "4  2019.0            41.056359   -1.870398    1.870398            31.472411   \n",
       "5  2020.0            48.981171   -1.628632    1.628632            25.070931   \n",
       "\n",
       "   neg ci_min  neg ci_max  neutral percentage  neu ci_min  neu ci_max  \n",
       "0   -1.890745    1.890745           29.113924   -1.890745    1.890745  \n",
       "1   -1.981781    1.981781           29.801155   -1.981781    1.981781  \n",
       "2   -1.832301    1.832301           25.621641   -1.832301    1.832301  \n",
       "3   -1.503130    1.503130           26.037142   -1.503130    1.503130  \n",
       "4   -1.870398    1.870398           27.471230   -1.870398    1.870398  \n",
       "5   -1.628632    1.628632           25.947898   -1.628632    1.628632  "
      ]
     },
     "execution_count": 219,
     "metadata": {},
     "output_type": "execute_result"
    }
   ],
   "source": [
    "final"
   ]
  },
  {
   "cell_type": "markdown",
   "id": "cf848736-4dfb-47f1-a3b9-5e3db20025a5",
   "metadata": {},
   "source": [
    "Example plot"
   ]
  },
  {
   "cell_type": "code",
   "execution_count": 200,
   "id": "c35ed1e7",
   "metadata": {},
   "outputs": [],
   "source": [
    "final_pos = final[['year','positive percentage']]"
   ]
  },
  {
   "cell_type": "code",
   "execution_count": 201,
   "id": "cf66808f",
   "metadata": {},
   "outputs": [
    {
     "data": {
      "image/png": "[encoded data removed]",
      "text/plain": [
       "<Figure size 1152x216 with 1 Axes>"
      ]
     },
     "metadata": {
      "needs_background": "light"
     },
     "output_type": "display_data"
    }
   ],
   "source": [
    "err_pos = final['pos ci_max']\n",
    "err_pos\n",
    "ax = final_pos.plot.bar(x='year', y='positive percentage', rot=0,color = 'Green',yerr=err_pos)"
   ]
  },
  {
   "cell_type": "code",
   "execution_count": 269,
   "id": "02666313",
   "metadata": {},
   "outputs": [],
   "source": [
    "# formatting of year for plotting \n",
    "final['year']=final['year'].apply(lambda x: f'{x:.0f}')"
   ]
  },
  {
   "cell_type": "code",
   "execution_count": 273,
   "id": "8f032212",
   "metadata": {},
   "outputs": [
    {
     "name": "stdout",
     "output_type": "stream",
     "text": [
      "['Lato']\n"
     ]
    },
    {
     "data": {
      "image/png": "[encoded data removed]",
      "text/plain": [
       "<Figure size 504x1008 with 3 Axes>"
      ]
     },
     "metadata": {
      "needs_background": "light"
     },
     "output_type": "display_data"
    }
   ],
   "source": [
    "# Nice plotting\n",
    "from matplotlib.ticker import PercentFormatter\n",
    "\n",
    "# Just write the name of the font\n",
    "mpl.rcParams['font.sans-serif'] = 'Lato'\n",
    "print(mpl.rcParams['font.sans-serif'])\n",
    "mpl.rcParams['font.size'] = 16\n",
    "mpl.rcParams[\"figure.figsize\"] = (7,14)\n",
    "\n",
    "fig, axes = plt.subplots(nrows=3, ncols=1)\n",
    "\n",
    "ax1 = final.plot.bar(ax=axes[0],x='year', y='positive percentage', rot=15,color = '#4EA692',yerr=[final['pos ci_max']],legend='test',xlabel = 'Year',ylim=(0,60))\n",
    "ax2 = final.plot.bar(ax=axes[1],x='year', y='negative percentage', rot=15,color = '#FF3A20',yerr=[final['neg ci_max']],xlabel = 'Year',ylim=(0,60))\n",
    "ax3 = final.plot.bar(ax=axes[2],x='year', y='neutral percentage', rot=15,color = '#58699D',yerr=[final['neu ci_max']],xlabel = 'Year',ylim=(0,60))\n",
    "ax1.legend([\"positive\"]);\n",
    "ax2.legend([\"negative\"]);\n",
    "ax3.legend([\"neutral\"]);\n",
    "ax1.yaxis.set_major_formatter(PercentFormatter())\n",
    "ax2.yaxis.set_major_formatter(PercentFormatter())\n",
    "ax3.yaxis.set_major_formatter(PercentFormatter())\n",
    "plt.show()\n",
    "fig.tight_layout()\n",
    "fig.savefig('img/byyear_sentiment_barplot.png')"
   ]
  },
  {
   "cell_type": "markdown",
   "id": "dd9bc3cf-b779-4b34-9da5-d26b36b82d4a",
   "metadata": {},
   "source": [
    "# Are peaks in sentiment related to political or social events ?"
   ]
  },
  {
   "cell_type": "code",
   "execution_count": 227,
   "id": "8fc59794-e325-42cd-bb99-abad4443595d",
   "metadata": {},
   "outputs": [],
   "source": [
    "# Select the negatives quotes the last two months of 2017\n",
    "end_2017_df = df[ (df['date'] > '2017-11-01') & (df['date'] < '2018-01-31')]\n",
    "# #negative sentiments\n",
    "neg_end_2017_df = end_2017_df[end_2017_df['sentiment']<-0.5]"
   ]
  },
  {
   "cell_type": "markdown",
   "id": "d63b8a91-e589-4ae1-9a81-a62ff096d1a7",
   "metadata": {},
   "source": [
    "Plotting to compare with reference state"
   ]
  },
  {
   "cell_type": "code",
   "execution_count": 232,
   "id": "d7c45b6b-a042-45fe-9d5f-1ace753e078e",
   "metadata": {},
   "outputs": [
    {
     "name": "stdout",
     "output_type": "stream",
     "text": [
      "-0.7003 0.7096\n"
     ]
    },
    {
     "data": {
      "image/png": "[encoded data removed]",
      "text/plain": [
       "<Figure size 576x360 with 1 Axes>"
      ]
     },
     "metadata": {
      "needs_background": "light"
     },
     "output_type": "display_data"
    },
    {
     "data": {
      "text/plain": [
       "(-0.7003, 0.7096)"
      ]
     },
     "execution_count": 232,
     "metadata": {},
     "output_type": "execute_result"
    }
   ],
   "source": [
    "#plt.axvline(x=neg_median, ymin=0, ymax=0.73,color = 'Black')\n",
    "#plt.axvline(x=pos_median, ymin=0, ymax=0.73,color = 'Black')\n",
    "end2017,end2017_neg_median,end2017_pos_median  = plot_with_medians(end_2017_df,800)\n",
    "end2017.savefig('img/end_2017_quotes_with_medians.png')\n",
    "polarized_median(end_2017_df)"
   ]
  },
  {
   "cell_type": "code",
   "execution_count": 235,
   "id": "0a9996b0-260e-4e75-b24d-4822689a8e37",
   "metadata": {},
   "outputs": [
    {
     "name": "stdout",
     "output_type": "stream",
     "text": [
      "The ratio of positive to negative quotations is 0.49903694624409034.\n",
      "The ratio of neutral to all quotations is 23.39149888143177%.\n",
      "The ratio of positive to all quotations is 25.503355704697988%.\n",
      "The ratio of negative to all quotations is 51.10514541387025%.\n"
     ]
    }
   ],
   "source": [
    "#proportion calculation \n",
    "lim = 0.35\n",
    "pos = len(end_2017_df[end_2017_df['sentiment']>lim])\n",
    "neg = len(end_2017_df[end_2017_df['sentiment']<-lim]) \n",
    "df_neu = end_2017_df[(end_2017_df['sentiment']>-lim) & (end_2017_df['sentiment']<lim)]\n",
    "neu = len(df_neu)\n",
    "ratio_overall =pos /neg #positive/negative ratio\n",
    "ratio_neutral = neu/ (pos + neg + neu) * 100 #neutral/ otherratio\n",
    "ratio_pos = pos/ (pos + neg + neu) * 100 #neutral/ otherratio\n",
    "ratio_neg = neg/ (pos + neg + neu) * 100 #neutral/ otherratio\n",
    "print(f'The ratio of positive to negative quotations is {ratio_overall}.')\n",
    "print(f'The ratio of neutral to all quotations is {ratio_neutral}%.')\n",
    "print(f'The ratio of positive to all quotations is {ratio_pos}%.')\n",
    "print(f'The ratio of negative to all quotations is {ratio_neg}%.')"
   ]
  },
  {
   "cell_type": "markdown",
   "id": "babfd97b-9299-4db1-8d5c-d233f22b1e8f",
   "metadata": {},
   "source": [
    "### Topic categorization with manual categories"
   ]
  },
  {
   "cell_type": "code",
   "execution_count": 242,
   "id": "91d0dcd3-b827-47b3-8d35-9c9d9b35178b",
   "metadata": {},
   "outputs": [
    {
     "data": {
      "image/png": "[encoded data removed]",
      "text/plain": [
       "<Figure size 2448x504 with 1 Axes>"
      ]
     },
     "metadata": {
      "needs_background": "light"
     },
     "output_type": "display_data"
    }
   ],
   "source": [
    "#The subset of negative quotes for the time period from December 2017 to Ferbuary 2018 (excluded)\n",
    "neg_end_2017_df['subtopic'].value_counts().sort_index().plot.bar(x='Target Value', y='Number of Occurrences')\n",
    "plt.savefig(\"./img/sentiment_categ.jpg\",dpi=400)"
   ]
  },
  {
   "cell_type": "code",
   "execution_count": 243,
   "id": "cced7cae-d3ba-4cda-bfb7-b362b43cf894",
   "metadata": {},
   "outputs": [
    {
     "name": "stdout",
     "output_type": "stream",
     "text": [
      "The percentage of quotations that are in the majoritary topic is 89.74308687978035\n"
     ]
    }
   ],
   "source": [
    "values = neg_end_2017_df['subtopic'].value_counts()\n",
    "maj=values.iloc[0]\n",
    "tot = neg_end_2017_df['subtopic'].value_counts().sum()\n",
    "print(f'The percentage of quotations that are in the majoritary topic is {maj/tot*100}')"
   ]
  },
  {
   "cell_type": "markdown",
   "id": "52b7fa5d-5e0d-4c9f-bf07-5be9565b6646",
   "metadata": {},
   "source": [
    "### NLP on subset of quotations"
   ]
  },
  {
   "cell_type": "code",
   "execution_count": 247,
   "id": "1aac8fc3-e3a4-4d64-9315-cacaa3aeb8af",
   "metadata": {},
   "outputs": [],
   "source": [
    "#select only date and quotation \n",
    "neg_end_2017_df[['date','quotation']]\n",
    "#clean the whitespace\n",
    "df[\"clean_quotation\"] = neg_end_2017_df['quotation'].str.lower().str.replace('[^\\w\\s]','')\n",
    "#calculate the frequency of words\n",
    "new_df = df.clean_quotation.str.split(expand=True).stack().value_counts().reset_index()"
   ]
  },
  {
   "cell_type": "code",
   "execution_count": 248,
   "id": "876d8bf3-5f56-41e9-b137-17075c9ba1d8",
   "metadata": {},
   "outputs": [
    {
     "data": {
      "text/html": [
       "<div>\n",
       "<style scoped>\n",
       "    .dataframe tbody tr th:only-of-type {\n",
       "        vertical-align: middle;\n",
       "    }\n",
       "\n",
       "    .dataframe tbody tr th {\n",
       "        vertical-align: top;\n",
       "    }\n",
       "\n",
       "    .dataframe thead th {\n",
       "        text-align: right;\n",
       "    }\n",
       "</style>\n",
       "<table border=\"1\" class=\"dataframe\">\n",
       "  <thead>\n",
       "    <tr style=\"text-align: right;\">\n",
       "      <th></th>\n",
       "      <th>Word</th>\n",
       "      <th>Frequency</th>\n",
       "    </tr>\n",
       "  </thead>\n",
       "  <tbody>\n",
       "    <tr>\n",
       "      <th>0</th>\n",
       "      <td>the</td>\n",
       "      <td>7515</td>\n",
       "    </tr>\n",
       "    <tr>\n",
       "      <th>1</th>\n",
       "      <td>and</td>\n",
       "      <td>6137</td>\n",
       "    </tr>\n",
       "    <tr>\n",
       "      <th>2</th>\n",
       "      <td>of</td>\n",
       "      <td>5619</td>\n",
       "    </tr>\n",
       "    <tr>\n",
       "      <th>3</th>\n",
       "      <td>sexual</td>\n",
       "      <td>5397</td>\n",
       "    </tr>\n",
       "    <tr>\n",
       "      <th>4</th>\n",
       "      <td>to</td>\n",
       "      <td>5324</td>\n",
       "    </tr>\n",
       "  </tbody>\n",
       "</table>\n",
       "</div>"
      ],
      "text/plain": [
       "     Word  Frequency\n",
       "0     the       7515\n",
       "1     and       6137\n",
       "2      of       5619\n",
       "3  sexual       5397\n",
       "4      to       5324"
      ]
     },
     "execution_count": 248,
     "metadata": {},
     "output_type": "execute_result"
    }
   ],
   "source": [
    "new_df.columns = ['Word', 'Frequency'] \n",
    "new_df.head()"
   ]
  },
  {
   "cell_type": "code",
   "execution_count": 250,
   "id": "1d8209a8-abc9-422f-a5af-863e1097b91c",
   "metadata": {},
   "outputs": [],
   "source": [
    "new = new_df[~new_df['Word'].isin(stopwords)].head(5)"
   ]
  },
  {
   "cell_type": "code",
   "execution_count": 251,
   "id": "442aa5bb-e59b-4ae6-8763-48297bc9cdca",
   "metadata": {},
   "outputs": [
    {
     "name": "stderr",
     "output_type": "stream",
     "text": [
      "findfont: Font family ['sans-serif'] not found. Falling back to DejaVu Sans.\n",
      "findfont: Generic family 'sans-serif' not found because none of the following families were found: Lato\n"
     ]
    },
    {
     "data": {
      "image/png": "[encoded data removed]",
      "text/plain": [
       "<Figure size 432x360 with 1 Axes>"
      ]
     },
     "metadata": {
      "needs_background": "light"
     },
     "output_type": "display_data"
    }
   ],
   "source": [
    "new = new.sort_values(by='Frequency',ascending = True)\n",
    "\n",
    "# # Just write the name of the font\n",
    "plt.rcParams[\"figure.figsize\"] = (6,5)\n",
    "from matplotlib.ticker import StrMethodFormatter\n",
    "ax = new.plot.barh(x='Word', y='Frequency', rot=0,color = '#613F75', xlabel='',xlim = (0,2500))\n",
    "\n",
    "# Despine\n",
    "ax.spines['right'].set_visible(False)\n",
    "ax.spines['top'].set_visible(False)\n",
    "ax.spines['left'].set_visible(False)\n",
    "ax.spines['bottom'].set_visible(False)\n",
    "\n",
    "#ax.ticks['bottom'].set_visible(False)\n",
    "# Switch off ticks\n",
    "ax.tick_params(axis=\"both\", which=\"both\", bottom=\"off\", top=\"off\", labelbottom=\"on\", left=\"off\", right=\"off\", labelleft=\"on\")\n",
    "\n",
    "# Draw vertical axis lines\n",
    "vals = ax.get_xticks()\n",
    "for tick in vals:\n",
    "    ax.axvline(x=tick, linestyle='dashed', alpha=0.4, color='Gray', zorder=1)\n",
    "\n",
    "# Set x-axis label\n",
    "ax.set_xlabel(\"Frequency\", labelpad=20, weight='bold', size=14)\n",
    "\n",
    "# Set y-axis label\n",
    "ax.set_ylabel(\"\", labelpad=20, weight='bold', size=14)\n",
    "plt.tick_params(bottom = False)\n",
    "plt.tick_params(top = False)\n",
    "plt.tick_params(right = False)\n",
    "ax.get_legend().remove()\n",
    "\n",
    "plt.tight_layout()\n",
    "plt.savefig('img/5_most_common_word_event.png')"
   ]
  },
  {
   "cell_type": "code",
   "execution_count": 252,
   "id": "4d736cb6-5a98-4196-bb61-dff89183cfd1",
   "metadata": {},
   "outputs": [
    {
     "data": {
      "text/html": [
       "<div>\n",
       "<style scoped>\n",
       "    .dataframe tbody tr th:only-of-type {\n",
       "        vertical-align: middle;\n",
       "    }\n",
       "\n",
       "    .dataframe tbody tr th {\n",
       "        vertical-align: top;\n",
       "    }\n",
       "\n",
       "    .dataframe thead th {\n",
       "        text-align: right;\n",
       "    }\n",
       "</style>\n",
       "<table border=\"1\" class=\"dataframe\">\n",
       "  <thead>\n",
       "    <tr style=\"text-align: right;\">\n",
       "      <th></th>\n",
       "      <th>Word</th>\n",
       "      <th>Frequency</th>\n",
       "    </tr>\n",
       "  </thead>\n",
       "  <tbody>\n",
       "    <tr>\n",
       "      <th>3</th>\n",
       "      <td>sexual</td>\n",
       "      <td>5397</td>\n",
       "    </tr>\n",
       "    <tr>\n",
       "      <th>5</th>\n",
       "      <td>harassment</td>\n",
       "      <td>5022</td>\n",
       "    </tr>\n",
       "    <tr>\n",
       "      <th>13</th>\n",
       "      <td>women</td>\n",
       "      <td>1520</td>\n",
       "    </tr>\n",
       "    <tr>\n",
       "      <th>29</th>\n",
       "      <td>assault</td>\n",
       "      <td>750</td>\n",
       "    </tr>\n",
       "    <tr>\n",
       "      <th>46</th>\n",
       "      <td>allegations</td>\n",
       "      <td>494</td>\n",
       "    </tr>\n",
       "    <tr>\n",
       "      <th>48</th>\n",
       "      <td>men</td>\n",
       "      <td>451</td>\n",
       "    </tr>\n",
       "    <tr>\n",
       "      <th>52</th>\n",
       "      <td>abuse</td>\n",
       "      <td>410</td>\n",
       "    </tr>\n",
       "    <tr>\n",
       "      <th>55</th>\n",
       "      <td>people</td>\n",
       "      <td>397</td>\n",
       "    </tr>\n",
       "    <tr>\n",
       "      <th>56</th>\n",
       "      <td>violence</td>\n",
       "      <td>395</td>\n",
       "    </tr>\n",
       "    <tr>\n",
       "      <th>57</th>\n",
       "      <td>workplace</td>\n",
       "      <td>386</td>\n",
       "    </tr>\n",
       "    <tr>\n",
       "      <th>65</th>\n",
       "      <td>think</td>\n",
       "      <td>344</td>\n",
       "    </tr>\n",
       "    <tr>\n",
       "      <th>67</th>\n",
       "      <td>many</td>\n",
       "      <td>325</td>\n",
       "    </tr>\n",
       "    <tr>\n",
       "      <th>70</th>\n",
       "      <td>would</td>\n",
       "      <td>314</td>\n",
       "    </tr>\n",
       "    <tr>\n",
       "      <th>72</th>\n",
       "      <td>one</td>\n",
       "      <td>301</td>\n",
       "    </tr>\n",
       "    <tr>\n",
       "      <th>73</th>\n",
       "      <td>know</td>\n",
       "      <td>301</td>\n",
       "    </tr>\n",
       "    <tr>\n",
       "      <th>74</th>\n",
       "      <td>work</td>\n",
       "      <td>292</td>\n",
       "    </tr>\n",
       "    <tr>\n",
       "      <th>79</th>\n",
       "      <td>victims</td>\n",
       "      <td>272</td>\n",
       "    </tr>\n",
       "    <tr>\n",
       "      <th>82</th>\n",
       "      <td>time</td>\n",
       "      <td>259</td>\n",
       "    </tr>\n",
       "    <tr>\n",
       "      <th>85</th>\n",
       "      <td>dont</td>\n",
       "      <td>253</td>\n",
       "    </tr>\n",
       "    <tr>\n",
       "      <th>89</th>\n",
       "      <td>power</td>\n",
       "      <td>227</td>\n",
       "    </tr>\n",
       "    <tr>\n",
       "      <th>93</th>\n",
       "      <td>us</td>\n",
       "      <td>219</td>\n",
       "    </tr>\n",
       "    <tr>\n",
       "      <th>94</th>\n",
       "      <td>forward</td>\n",
       "      <td>217</td>\n",
       "    </tr>\n",
       "    <tr>\n",
       "      <th>95</th>\n",
       "      <td>rights</td>\n",
       "      <td>216</td>\n",
       "    </tr>\n",
       "    <tr>\n",
       "      <th>96</th>\n",
       "      <td>take</td>\n",
       "      <td>215</td>\n",
       "    </tr>\n",
       "    <tr>\n",
       "      <th>100</th>\n",
       "      <td>im</td>\n",
       "      <td>208</td>\n",
       "    </tr>\n",
       "    <tr>\n",
       "      <th>101</th>\n",
       "      <td>made</td>\n",
       "      <td>207</td>\n",
       "    </tr>\n",
       "    <tr>\n",
       "      <th>102</th>\n",
       "      <td>said</td>\n",
       "      <td>206</td>\n",
       "    </tr>\n",
       "    <tr>\n",
       "      <th>103</th>\n",
       "      <td>years</td>\n",
       "      <td>205</td>\n",
       "    </tr>\n",
       "    <tr>\n",
       "      <th>104</th>\n",
       "      <td>behavior</td>\n",
       "      <td>205</td>\n",
       "    </tr>\n",
       "    <tr>\n",
       "      <th>105</th>\n",
       "      <td>never</td>\n",
       "      <td>204</td>\n",
       "    </tr>\n",
       "    <tr>\n",
       "      <th>106</th>\n",
       "      <td>accused</td>\n",
       "      <td>203</td>\n",
       "    </tr>\n",
       "    <tr>\n",
       "      <th>107</th>\n",
       "      <td>womens</td>\n",
       "      <td>197</td>\n",
       "    </tr>\n",
       "    <tr>\n",
       "      <th>108</th>\n",
       "      <td>need</td>\n",
       "      <td>196</td>\n",
       "    </tr>\n",
       "    <tr>\n",
       "      <th>109</th>\n",
       "      <td>discrimination</td>\n",
       "      <td>194</td>\n",
       "    </tr>\n",
       "    <tr>\n",
       "      <th>110</th>\n",
       "      <td>say</td>\n",
       "      <td>194</td>\n",
       "    </tr>\n",
       "    <tr>\n",
       "      <th>111</th>\n",
       "      <td>like</td>\n",
       "      <td>193</td>\n",
       "    </tr>\n",
       "    <tr>\n",
       "      <th>112</th>\n",
       "      <td>come</td>\n",
       "      <td>193</td>\n",
       "    </tr>\n",
       "    <tr>\n",
       "      <th>113</th>\n",
       "      <td>going</td>\n",
       "      <td>192</td>\n",
       "    </tr>\n",
       "    <tr>\n",
       "      <th>114</th>\n",
       "      <td>congress</td>\n",
       "      <td>191</td>\n",
       "    </tr>\n",
       "    <tr>\n",
       "      <th>115</th>\n",
       "      <td>even</td>\n",
       "      <td>188</td>\n",
       "    </tr>\n",
       "    <tr>\n",
       "      <th>116</th>\n",
       "      <td>woman</td>\n",
       "      <td>187</td>\n",
       "    </tr>\n",
       "    <tr>\n",
       "      <th>117</th>\n",
       "      <td>also</td>\n",
       "      <td>186</td>\n",
       "    </tr>\n",
       "    <tr>\n",
       "      <th>118</th>\n",
       "      <td>way</td>\n",
       "      <td>183</td>\n",
       "    </tr>\n",
       "    <tr>\n",
       "      <th>119</th>\n",
       "      <td>claims</td>\n",
       "      <td>174</td>\n",
       "    </tr>\n",
       "    <tr>\n",
       "      <th>120</th>\n",
       "      <td>make</td>\n",
       "      <td>172</td>\n",
       "    </tr>\n",
       "    <tr>\n",
       "      <th>121</th>\n",
       "      <td>really</td>\n",
       "      <td>170</td>\n",
       "    </tr>\n",
       "    <tr>\n",
       "      <th>122</th>\n",
       "      <td>place</td>\n",
       "      <td>170</td>\n",
       "    </tr>\n",
       "    <tr>\n",
       "      <th>123</th>\n",
       "      <td>gender</td>\n",
       "      <td>165</td>\n",
       "    </tr>\n",
       "    <tr>\n",
       "      <th>124</th>\n",
       "      <td>public</td>\n",
       "      <td>164</td>\n",
       "    </tr>\n",
       "    <tr>\n",
       "      <th>126</th>\n",
       "      <td>misconduct</td>\n",
       "      <td>161</td>\n",
       "    </tr>\n",
       "  </tbody>\n",
       "</table>\n",
       "</div>"
      ],
      "text/plain": [
       "               Word  Frequency\n",
       "3            sexual       5397\n",
       "5        harassment       5022\n",
       "13            women       1520\n",
       "29          assault        750\n",
       "46      allegations        494\n",
       "48              men        451\n",
       "52            abuse        410\n",
       "55           people        397\n",
       "56         violence        395\n",
       "57        workplace        386\n",
       "65            think        344\n",
       "67             many        325\n",
       "70            would        314\n",
       "72              one        301\n",
       "73             know        301\n",
       "74             work        292\n",
       "79          victims        272\n",
       "82             time        259\n",
       "85             dont        253\n",
       "89            power        227\n",
       "93               us        219\n",
       "94          forward        217\n",
       "95           rights        216\n",
       "96             take        215\n",
       "100              im        208\n",
       "101            made        207\n",
       "102            said        206\n",
       "103           years        205\n",
       "104        behavior        205\n",
       "105           never        204\n",
       "106         accused        203\n",
       "107          womens        197\n",
       "108            need        196\n",
       "109  discrimination        194\n",
       "110             say        194\n",
       "111            like        193\n",
       "112            come        193\n",
       "113           going        192\n",
       "114        congress        191\n",
       "115            even        188\n",
       "116           woman        187\n",
       "117            also        186\n",
       "118             way        183\n",
       "119          claims        174\n",
       "120            make        172\n",
       "121          really        170\n",
       "122           place        170\n",
       "123          gender        165\n",
       "124          public        164\n",
       "126      misconduct        161"
      ]
     },
     "execution_count": 252,
     "metadata": {},
     "output_type": "execute_result"
    }
   ],
   "source": [
    "new_df[~new_df['Word'].isin(stopwords)].head(50)"
   ]
  },
  {
   "cell_type": "code",
   "execution_count": 253,
   "id": "8035d350-dd30-48b6-ad6f-bebe30c6c1b6",
   "metadata": {},
   "outputs": [
    {
     "data": {
      "text/html": [
       "<div>\n",
       "<style scoped>\n",
       "    .dataframe tbody tr th:only-of-type {\n",
       "        vertical-align: middle;\n",
       "    }\n",
       "\n",
       "    .dataframe tbody tr th {\n",
       "        vertical-align: top;\n",
       "    }\n",
       "\n",
       "    .dataframe thead th {\n",
       "        text-align: right;\n",
       "    }\n",
       "</style>\n",
       "<table border=\"1\" class=\"dataframe\">\n",
       "  <thead>\n",
       "    <tr style=\"text-align: right;\">\n",
       "      <th></th>\n",
       "      <th>date</th>\n",
       "      <th>quotation</th>\n",
       "    </tr>\n",
       "  </thead>\n",
       "  <tbody>\n",
       "    <tr>\n",
       "      <th>26390</th>\n",
       "      <td>2017-12-18 16:44:39</td>\n",
       "      <td>The basic application can be used to address a variety of issues, including things like sexual harassment complaints.</td>\n",
       "    </tr>\n",
       "    <tr>\n",
       "      <th>27189</th>\n",
       "      <td>2017-12-06 15:31:16</td>\n",
       "      <td>We know this about sexual harassment, sexual abuse, rape -- that really these behaviors are about power more than sex per se,</td>\n",
       "    </tr>\n",
       "    <tr>\n",
       "      <th>41018</th>\n",
       "      <td>2018-01-18 08:47:00</td>\n",
       "      <td>I have never been a victim of sexual harassment. And I thought it was nice to be told that I was beautiful or that I had a nice little ass. This kind of compliment is nice. But there are many actresses who flirt with producers to get a role. Then, so that we talk about them, they say that they have been harassed... In reality, rather than benef...</td>\n",
       "    </tr>\n",
       "  </tbody>\n",
       "</table>\n",
       "</div>"
      ],
      "text/plain": [
       "                     date  \\\n",
       "26390 2017-12-18 16:44:39   \n",
       "27189 2017-12-06 15:31:16   \n",
       "41018 2018-01-18 08:47:00   \n",
       "\n",
       "                                                                                                                                                                                                                                                                                                                                                           quotation  \n",
       "26390                                                                                                                                                                                                                                          The basic application can be used to address a variety of issues, including things like sexual harassment complaints.  \n",
       "27189                                                                                                                                                                                                                                  We know this about sexual harassment, sexual abuse, rape -- that really these behaviors are about power more than sex per se,  \n",
       "41018  I have never been a victim of sexual harassment. And I thought it was nice to be told that I was beautiful or that I had a nice little ass. This kind of compliment is nice. But there are many actresses who flirt with producers to get a role. Then, so that we talk about them, they say that they have been harassed... In reality, rather than benef...  "
      ]
     },
     "execution_count": 253,
     "metadata": {},
     "output_type": "execute_result"
    }
   ],
   "source": [
    "neg_end_2017_df[['date','quotation']].sample(n=3, random_state=9)"
   ]
  },
  {
   "cell_type": "code",
   "execution_count": 257,
   "id": "836844dd-6391-4e8c-a370-d85839c0fd34",
   "metadata": {},
   "outputs": [
    {
     "data": {
      "text/plain": [
       "103"
      ]
     },
     "execution_count": 257,
     "metadata": {},
     "output_type": "execute_result"
    }
   ],
   "source": [
    "trump_subset = neg_end_2017_df[neg_end_2017_df['quotation'].str.contains('Trump')]['quotation']\n",
    "len(trump_subset)\n"
   ]
  },
  {
   "cell_type": "code",
   "execution_count": 260,
   "id": "1025dd6e-f90d-4cc2-8258-143a2f1e3b69",
   "metadata": {},
   "outputs": [
    {
     "data": {
      "text/plain": [
       "18000                                                                                          NEW: Women who have publicly accused President Trump of sexual harassment and assault will speak at a news conference, hosted by @bravenewfilms, Monday at 10:30 a.m. ET. The women are calling for an investigation by Congress of sexual misconduct by the president.\n",
       "18010    It's the -- it's like a weaponization, political weaponization of sexual harassment. And it's just the height of cynicism and it's not -- honestly, that's what I would expect from Donald Trump. And it's what you expect from Sean Hannity. But it's not just them. It's Mitch McConnell, who was very quick to call for an ethics investigation of Sena...\n",
       "18465                                                                                                                                                                                                                                               The confrontation with Trump elevated a fight against sexual harassment that Gillibrand has been waging for years,\n",
       "18568                    Today's outrageous rules by the Trump Administration show a callous disregard for women's rights, health, and autonomy. By taking away women's access to no-cost birth control coverage, the rules give employers a license to discriminate against women. We will take immediate legal steps to block these unfair and discriminatory rules,\n",
       "19068            Would I kill Donald Trump? No, never. Would I ever support Kevin Spacey's private procivilities? No never. Would I ever support abuse of children? No, never. Would I support sexual harassment? No, never. Would I support rape? No, never. Would Der Speigel convey my views fairly? No, never. Would I ever again speak to print media? No, never.\n",
       "19210                                                                                                                                                                                                                                                             an investigation into the accusations of sexual harassment and assault made about President Trump...\n",
       "19273                                                                                                                                                                                                                            Welcome home @RealDonaldTrump! While you were gone we started actually punishing people for sexual harassment so, you know, heads up,\n",
       "19358                                                                                                                              Wagner defended her decision to focus on sexual harassment policies inside the House, arguing that after she spoke up (against Trump) in October 2016, the country elected Trump. Now, she said, she is focusing on moving forward.\n",
       "19469             Would I kill Donald Trump? No, never. Would I ever support Kevin Spacey's private proclivities? No never. Would I ever support abuse of children? No, never. Would I support sexual harassment? No, never. Would I support rape? No, never. Would Der Speigel convey my views fairly? No, never. Would I ever again speak to print media? No, never.\n",
       "19518                                                                                                                                                                                                                     But generally speaking, if it's a figure who's in the Trump world [ who is in the news for sexual harassment ], typically it's just ignored.\n",
       "19606                                                                                                                                                                                                                      Fox News has not really wanted to talk too much about the sexual harassment when it was Roy Moore or Donald Trump or everybody at Fox News,\n",
       "19638                                                                                    Because if the people in control of the MGM tapes that have Trump being... talking about sexual harassment... all that he said before the tapings of his shows. And being racist, and being anti-semitic. And if those tapes were released it might be the tipping point now.\n",
       "19747                                                                                                                                                                                                                                                   How is President Trump any different than Minnesota Democratic Senator Al Franken regarding sexual harassment?\n",
       "19861    Gene Chandler is famous for a scandalous run as New Hampshire Speaker from 2001 to 2004, ending in an expulsion recommendation and the longest run of Democratic governors in the state since before the Civil War. People who know Chandler remember him for his corruption lawsuit, illegal cash gifts from lobbyists, pocketing fundraising money for p...\n",
       "20017                            Thousands of women stood up, spoke out, and said, `Me too.' Their battle cry against decades of sexual harassment landed them as TIME magazine's Person of the Year. The magazine's cover memorializing the silence breakers. The runner-up, President Trump, and a few others. Our senior media correspondent Brian Stelter is here.\n",
       "20110                                                                                                                                                                                                                                             Trump wld have 2 acknowledge his own sexual harassment actions. He can't throw stones when he's the sinner in chief!\n",
       "21202                                                                                                          Wrong/dangerous. Trump doesn't have absolute rights with DOJ. But women and men there have ABSOLUTE duty to follow Constitution and rule of law -- not a man. Career DOJ people have ABSOLUTE right to defy illegal orders. And they will. I know them,\n",
       "21619    On Sunday, several hundred survivors of sexual harassment and assault and their supporters gathered in front of the Dolby Theatre in Hollywood to draw attention to their cause. Recently, there has been an uprising of women who have gone public with their stories of abuse and systemic sexism. `I'm really happy to come here, because really it's H...\n",
       "22101                                                                                                                                                                                                                                         Women falsely accused Trump of sexual harassment, too. Sickening anyone would try to smear Judge Roy Moore @MooreSenate.\n",
       "22327                                                                                                   So as a swirl of horrifying sexual harassment allegations consumes virtually every aspect of society, President Trump is publicly standing by an accused sexual predator. Nine women have accused Roy Moore of sexual assault, and Trump doesn't seem to care.\n",
       "22521                                                                                                                                                                               If Franken has to go half the men in this country will have to go. No matter what job they have. This is crazy. Go after Trump please. He is the culprit of all sexual harassment.\n",
       "22768                                                                                                                 Earlier this month, I called on President Trump to resign. The number of women who have brought sexual harassment, misconduct, or assault allegations against him has grown to 20 individuals -- and I believe them. We should all believe them.\n",
       "23080                                                                                                                                                         If Congress found it necessary to investigate Senator Al Franken (who resigned last week after charges of sexual harassment), I think it's fair for the congressmen to apply the same approach to Trump,\n",
       "23099                                                                                                                                                                                                                                                   Trump has pompously shown a wanton disregard for the continuing struggles for civil, human and women's rights,\n",
       "23383    In the time of' Me Too,' women across the country are coming forward with their own harrowing stories of sexual harassment and assault. Members of Congress have also come under scrutiny and investigation, with some resigning, for improper sexual conduct. We cannot ignore the multitude of women who have come forward with accusations against Mr. ...\n",
       "23557                                                  and they did very well Tuesday. Between Donald Trump's behavior and policies and the wave of high profile sexual harassment and sexual assault claims that have emerged since the Harvey Weinstein scandal went public, I sense a real determination to end this male dominance of local and national politics.\n",
       "24029    Fox News has not really wanted to talk too much about the sexual harassment when it was Roy Moore or Donald Trump or everybody at Fox News and then Al Franken came along. Very disturbing. I was so shaken, I called Bill Cosby to see if he had anything to calm me down. As you know by now, when Al was on a USO tour back in 2006 with Leeann Tweeden...\n",
       "24315                                                                                                                                                                                                                                                                       There are 17 credible accusations of sexual harassment and sexual assault by Donald Trump.\n",
       "24344                                                                                                                                                                         Women who have publicly accused President Trump of sexual harassment and assault will unite for the first time to speak out about their experiences on Monday, December 11, at 10:30 AM,\n",
       "25606                                                                                                                                                                                                                                                   Do you think Congress should investigate the accusations of sexual harassment against President Trump, or not?\n",
       "Name: quotation, dtype: object"
      ]
     },
     "execution_count": 260,
     "metadata": {},
     "output_type": "execute_result"
    }
   ],
   "source": [
    "trump_subset.head(30)"
   ]
  },
  {
   "cell_type": "code",
   "execution_count": 263,
   "id": "9aa69eb2-4c46-4e79-b8f8-a53fa8789b13",
   "metadata": {
    "scrolled": true
   },
   "outputs": [
    {
     "data": {
      "text/plain": [
       "11176"
      ]
     },
     "execution_count": 263,
     "metadata": {},
     "output_type": "execute_result"
    }
   ],
   "source": [
    "len(end_2017_df)"
   ]
  },
  {
   "cell_type": "markdown",
   "id": "cceaaaff",
   "metadata": {},
   "source": [
    "# Comparing sentiment analysis tools:"
   ]
  },
  {
   "cell_type": "code",
   "execution_count": 4,
   "id": "f88b16cd",
   "metadata": {},
   "outputs": [],
   "source": [
    "quote = df['quotation'].iloc[0]"
   ]
  },
  {
   "cell_type": "markdown",
   "id": "5a64bd3e",
   "metadata": {},
   "source": [
    "Vader : Gives a compound score from -1 to 1 ranging from negativity to positivity."
   ]
  },
  {
   "cell_type": "code",
   "execution_count": 5,
   "id": "4ea62ab2",
   "metadata": {},
   "outputs": [],
   "source": [
    "analyzer = SentimentIntensityAnalyzer()\n",
    "vs = analyzer.polarity_scores(df['quotation'].loc[1])"
   ]
  },
  {
   "cell_type": "code",
   "execution_count": 6,
   "id": "1b6e5fca",
   "metadata": {},
   "outputs": [
    {
     "data": {
      "text/plain": [
       "0.6271"
      ]
     },
     "execution_count": 6,
     "metadata": {},
     "output_type": "execute_result"
    }
   ],
   "source": [
    "# example use :\n",
    "analyzer.polarity_scores(quote)['compound']\n"
   ]
  },
  {
   "cell_type": "code",
   "execution_count": 7,
   "id": "de419424",
   "metadata": {},
   "outputs": [
    {
     "data": {
      "text/plain": [
       "{'neg': 0.097, 'neu': 0.697, 'pos': 0.205, 'compound': 0.6271}"
      ]
     },
     "execution_count": 7,
     "metadata": {},
     "output_type": "execute_result"
    }
   ],
   "source": [
    "analyzer.polarity_scores(quote)"
   ]
  },
  {
   "cell_type": "markdown",
   "id": "0b4a9a48",
   "metadata": {},
   "source": [
    "Text blob :"
   ]
  },
  {
   "cell_type": "code",
   "execution_count": 8,
   "id": "1383143d",
   "metadata": {},
   "outputs": [],
   "source": [
    "from textblob import TextBlob\n",
    "\n",
    "# polarity score function :\n",
    "def polarity_blob(text):\n",
    "    return TextBlob(text).sentiment.polarity\n",
    "\n",
    "# subjectivity score function :\n",
    "def subjectivity_blob(text):\n",
    "    return TextBlob(text).sentiment.subjectivity"
   ]
  },
  {
   "cell_type": "code",
   "execution_count": 9,
   "id": "4efe98fd",
   "metadata": {},
   "outputs": [
    {
     "data": {
      "text/plain": [
       "0.2532828282828283"
      ]
     },
     "execution_count": 9,
     "metadata": {},
     "output_type": "execute_result"
    }
   ],
   "source": [
    "# example use :\n",
    "polarity_blob(quote)"
   ]
  },
  {
   "cell_type": "code",
   "execution_count": 10,
   "id": "0c185b81",
   "metadata": {},
   "outputs": [
    {
     "data": {
      "text/plain": [
       "Sentiment(polarity=0.2532828282828283, subjectivity=0.5868686868686869)"
      ]
     },
     "execution_count": 10,
     "metadata": {},
     "output_type": "execute_result"
    }
   ],
   "source": [
    "TextBlob(quote).sentiment"
   ]
  },
  {
   "cell_type": "markdown",
   "id": "ebac6ba1",
   "metadata": {},
   "source": [
    "Flair : A more advandced model that uses pretrained RNNs and pretrained text embeddings: \n",
    "\n",
    "source : https://github.com/flairNLP/flair/pull/1613"
   ]
  },
  {
   "cell_type": "code",
   "execution_count": 11,
   "id": "ed21e387",
   "metadata": {},
   "outputs": [],
   "source": [
    "from textblob import TextBlob\n",
    "from flair.models import TextClassifier\n",
    "from flair.data import Sentence"
   ]
  },
  {
   "cell_type": "code",
   "execution_count": 12,
   "id": "b6207fe3",
   "metadata": {},
   "outputs": [
    {
     "name": "stdout",
     "output_type": "stream",
     "text": [
      "2021-12-17 19:58:46,836 loading file C:\\Users\\Younes\\.flair\\models\\sentiment-en-mix-ft-rnn_v8.pt\n"
     ]
    }
   ],
   "source": [
    "# load tagger ( this could take a while, it's approx ~1 gb to download)\n",
    "classifier = TextClassifier.load('sentiment-fast')\n",
    "\n",
    "def flair_label(text = 'test text'):\n",
    "    sentence = Sentence(text)\n",
    "    classifier.predict(sentence)\n",
    "    return sentence.labels[0].score"
   ]
  },
  {
   "cell_type": "code",
   "execution_count": 13,
   "id": "9e53fc74",
   "metadata": {},
   "outputs": [
    {
     "name": "stdout",
     "output_type": "stream",
     "text": [
      "[POSITIVE (0.9987)]\n",
      "0.9987253546714783\n"
     ]
    }
   ],
   "source": [
    "# example use :\n",
    "test = Sentence(\"enormously entertaining for moviegoers of any age .\")\n",
    "classifier.predict(test)\n",
    "print(test.labels)\n",
    "print(flair_label(text = \"enormously entertaining for moviegoers of any age .\")) "
   ]
  },
  {
   "cell_type": "markdown",
   "id": "7fbd39d7",
   "metadata": {},
   "source": [
    "Reloading the dataframe of selected quotations, with only the rows that have QIDS ( and that has been enriched using the parquet file): "
   ]
  },
  {
   "cell_type": "code",
   "execution_count": 61,
   "id": "b1c19b68",
   "metadata": {},
   "outputs": [],
   "source": [
    "df = pd.read_pickle(PATH_GENERATED_DATA+'df_enriched.pkl', compression='infer', storage_options=None)"
   ]
  },
  {
   "cell_type": "markdown",
   "id": "964296f5",
   "metadata": {},
   "source": [
    "We then use all three sentiment analysis tools on our quotes :"
   ]
  },
  {
   "cell_type": "markdown",
   "id": "9eaa7c41",
   "metadata": {},
   "source": [
    "Vader"
   ]
  },
  {
   "cell_type": "code",
   "execution_count": 14,
   "id": "e56fecd8",
   "metadata": {},
   "outputs": [],
   "source": [
    "df['sentiment_vader'] = df['quotation'].apply(lambda x : analyzer.polarity_scores(x)['compound'])"
   ]
  },
  {
   "cell_type": "code",
   "execution_count": 15,
   "id": "19a8f62a",
   "metadata": {},
   "outputs": [
    {
     "data": {
      "text/plain": [
       "0    0.6271\n",
       "1    0.9460\n",
       "2    0.4111\n",
       "3    0.5994\n",
       "4   -0.8020\n",
       "Name: sentiment_vader, dtype: float64"
      ]
     },
     "execution_count": 15,
     "metadata": {},
     "output_type": "execute_result"
    }
   ],
   "source": [
    "df['sentiment_vader'].head()"
   ]
  },
  {
   "cell_type": "markdown",
   "id": "cf9e9e35",
   "metadata": {},
   "source": [
    "Text blob"
   ]
  },
  {
   "cell_type": "code",
   "execution_count": 16,
   "id": "c67156ee",
   "metadata": {},
   "outputs": [],
   "source": [
    "df['sentiment_blob'] = df['quotation'].apply(lambda x : polarity_blob(x)) "
   ]
  },
  {
   "cell_type": "code",
   "execution_count": 17,
   "id": "3047d3d1",
   "metadata": {},
   "outputs": [
    {
     "data": {
      "text/plain": [
       "0    0.253283\n",
       "1    0.120000\n",
       "2    0.135500\n",
       "3   -0.022917\n",
       "4    0.111111\n",
       "Name: sentiment_blob, dtype: float64"
      ]
     },
     "execution_count": 17,
     "metadata": {},
     "output_type": "execute_result"
    }
   ],
   "source": [
    "df['sentiment_blob'].head()"
   ]
  },
  {
   "cell_type": "markdown",
   "id": "34d4854e",
   "metadata": {},
   "source": [
    "Flair "
   ]
  },
  {
   "cell_type": "code",
   "execution_count": 18,
   "id": "5462b28c",
   "metadata": {},
   "outputs": [],
   "source": [
    "df['sentiment_flair'] = df['quotation'].apply(lambda x : flair_label(x))  # takes approx 15 minutes to run"
   ]
  },
  {
   "cell_type": "code",
   "execution_count": 22,
   "id": "dc9422f9",
   "metadata": {},
   "outputs": [
    {
     "data": {
      "text/plain": [
       "0    0.766071\n",
       "1    0.989518\n",
       "2    0.678619\n",
       "3    0.546759\n",
       "4    0.991872\n",
       "Name: sentiment_flair, dtype: float64"
      ]
     },
     "execution_count": 22,
     "metadata": {},
     "output_type": "execute_result"
    }
   ],
   "source": [
    "df['sentiment_flair'].head()"
   ]
  },
  {
   "cell_type": "code",
   "execution_count": 23,
   "id": "78d05417",
   "metadata": {
    "scrolled": true
   },
   "outputs": [
    {
     "data": {
      "text/html": [
       "<div>\n",
       "<style scoped>\n",
       "    .dataframe tbody tr th:only-of-type {\n",
       "        vertical-align: middle;\n",
       "    }\n",
       "\n",
       "    .dataframe tbody tr th {\n",
       "        vertical-align: top;\n",
       "    }\n",
       "\n",
       "    .dataframe thead th {\n",
       "        text-align: right;\n",
       "    }\n",
       "</style>\n",
       "<table border=\"1\" class=\"dataframe\">\n",
       "  <thead>\n",
       "    <tr style=\"text-align: right;\">\n",
       "      <th></th>\n",
       "      <th>quotation</th>\n",
       "      <th>sentiment_vader</th>\n",
       "      <th>sentiment_blob</th>\n",
       "      <th>sentiment_flair</th>\n",
       "    </tr>\n",
       "  </thead>\n",
       "  <tbody>\n",
       "    <tr>\n",
       "      <th>0</th>\n",
       "      <td>Anything less than women winning 50 per cent of new seats will be a loss not only for a progressive city's progress towards true gender equality but it would also be a loss for good governance in the ACT.</td>\n",
       "      <td>0.6271</td>\n",
       "      <td>0.253283</td>\n",
       "      <td>0.766071</td>\n",
       "    </tr>\n",
       "    <tr>\n",
       "      <th>1</th>\n",
       "      <td>I'd like to congratulate all the winners and finalists on their success. They have demonstrated clear leadership by moving women's progression from a `diversity' initiative to a core business priority. Achieving gender equality is only possible when men and women work together at every level, creating real change.</td>\n",
       "      <td>0.9460</td>\n",
       "      <td>0.120000</td>\n",
       "      <td>0.989518</td>\n",
       "    </tr>\n",
       "    <tr>\n",
       "      <th>2</th>\n",
       "      <td>I think what Deepika has spoken in the video makes sense. I do understand the counter argument too where everyone has been saying that had men said the same lines about having sex outside marriage being their choice, they would have been branded idiots or ass **** s. However, we still do have a clear cut demarcation or boundary as to what men a...</td>\n",
       "      <td>0.4111</td>\n",
       "      <td>0.135500</td>\n",
       "      <td>0.678619</td>\n",
       "    </tr>\n",
       "    <tr>\n",
       "      <th>3</th>\n",
       "      <td>if advocating for equal pay for equal work is playing the gender card, deal me in. I am ready to play as hard as I can.</td>\n",
       "      <td>0.5994</td>\n",
       "      <td>-0.022917</td>\n",
       "      <td>0.546759</td>\n",
       "    </tr>\n",
       "    <tr>\n",
       "      <th>4</th>\n",
       "      <td>Men and women are understandably upset if they see a company close down and jobs lost. It's only natural people would look around and in their distress they find something or someone able to blame,</td>\n",
       "      <td>-0.8020</td>\n",
       "      <td>0.111111</td>\n",
       "      <td>0.991872</td>\n",
       "    </tr>\n",
       "    <tr>\n",
       "      <th>5</th>\n",
       "      <td>She's the new paradigm that represents a feminine power that is palpable -- a modern maverick among women and men.</td>\n",
       "      <td>0.0000</td>\n",
       "      <td>0.112121</td>\n",
       "      <td>0.998887</td>\n",
       "    </tr>\n",
       "    <tr>\n",
       "      <th>6</th>\n",
       "      <td>We are expecting 20-22 cueists from India for different events. We are not sure about their women's participation,</td>\n",
       "      <td>-0.2411</td>\n",
       "      <td>-0.125000</td>\n",
       "      <td>0.942354</td>\n",
       "    </tr>\n",
       "    <tr>\n",
       "      <th>7</th>\n",
       "      <td>The apex court has upheld an earlier verdict of a family court granting maintenance allowance to Muslim women even after the `iddat' period (three months and 10 days after the divorce),</td>\n",
       "      <td>0.4404</td>\n",
       "      <td>0.000000</td>\n",
       "      <td>0.530047</td>\n",
       "    </tr>\n",
       "    <tr>\n",
       "      <th>8</th>\n",
       "      <td>The incidents of rape and sexual harassment are being taken place one after another, but those responsible for the crimes go unpunished. They're beyond touch.</td>\n",
       "      <td>-0.2846</td>\n",
       "      <td>0.350000</td>\n",
       "      <td>0.722543</td>\n",
       "    </tr>\n",
       "    <tr>\n",
       "      <th>9</th>\n",
       "      <td>then I can promise you that lawyers in almost any case where a law discriminates against gay people will make the argument that the law constitutes unconstitutional sex discrimination,</td>\n",
       "      <td>-0.0516</td>\n",
       "      <td>0.416667</td>\n",
       "      <td>0.677893</td>\n",
       "    </tr>\n",
       "    <tr>\n",
       "      <th>10</th>\n",
       "      <td>There's 165,000 parents that want to work more but haven't got the affordable or accessible or flexible child care that would help them,</td>\n",
       "      <td>0.8847</td>\n",
       "      <td>0.437500</td>\n",
       "      <td>0.791665</td>\n",
       "    </tr>\n",
       "    <tr>\n",
       "      <th>11</th>\n",
       "      <td>WHO strongly condemns violence against women and girls and supports partners and countries' efforts towards the de-normalization of this type of violence. Ensuring equality between women and men is a crucial part of these efforts,</td>\n",
       "      <td>-0.7783</td>\n",
       "      <td>0.216667</td>\n",
       "      <td>0.999384</td>\n",
       "    </tr>\n",
       "    <tr>\n",
       "      <th>12</th>\n",
       "      <td>They don't have the time to get the training they need to get a better job because they're stuck in their current job to pay for the child care.</td>\n",
       "      <td>0.5719</td>\n",
       "      <td>0.250000</td>\n",
       "      <td>0.996945</td>\n",
       "    </tr>\n",
       "    <tr>\n",
       "      <th>13</th>\n",
       "      <td>Things like child care and sick leave and equal pay; things like lower mortgage premiums and a higher minimum wage -- these ideas will make a meaningful difference in the lives of millions of families.</td>\n",
       "      <td>0.5267</td>\n",
       "      <td>0.008929</td>\n",
       "      <td>0.581936</td>\n",
       "    </tr>\n",
       "    <tr>\n",
       "      <th>14</th>\n",
       "      <td>I think it's going to destroy her message because I think it's going to be hard for her to go around saying she's going to be a champion of women's rights when she's taking-money from countries that abuse women's rights... she was making $300,000 an hour giving speeches. all of her husband's speeches seem to increase in the value. He gave 13 sp...</td>\n",
       "      <td>0.4215</td>\n",
       "      <td>0.007449</td>\n",
       "      <td>0.993120</td>\n",
       "    </tr>\n",
       "    <tr>\n",
       "      <th>15</th>\n",
       "      <td>Recently introduced income tax cuts and enhanced child care benefits, as well as lower oil prices that will affect nominal tax revenues, are not expected to materially delay reaching budgetary balance in [ 2015-16 ],</td>\n",
       "      <td>0.4588</td>\n",
       "      <td>0.025000</td>\n",
       "      <td>0.987872</td>\n",
       "    </tr>\n",
       "    <tr>\n",
       "      <th>16</th>\n",
       "      <td>Save the Children Action Network applauds President Obama for reinforcing his administration's commitment to investing in kids by calling for an expansion of the Child and Dependent Care Tax Credit. The President was exactly right when he said quality child care is a national economic priority and expanding access to more kids is a critical ste...</td>\n",
       "      <td>0.9590</td>\n",
       "      <td>0.198214</td>\n",
       "      <td>0.685855</td>\n",
       "    </tr>\n",
       "    <tr>\n",
       "      <th>17</th>\n",
       "      <td>I've been in child care for 40 years,</td>\n",
       "      <td>0.4939</td>\n",
       "      <td>0.000000</td>\n",
       "      <td>0.952363</td>\n",
       "    </tr>\n",
       "    <tr>\n",
       "      <th>18</th>\n",
       "      <td>The initial reason for taking them away was the anti-sexual harassment bus activity on March 7, but it looks like slapping them now with a criminal charge for that is obviously very difficult,</td>\n",
       "      <td>-0.8068</td>\n",
       "      <td>-0.350000</td>\n",
       "      <td>0.999631</td>\n",
       "    </tr>\n",
       "    <tr>\n",
       "      <th>19</th>\n",
       "      <td>policies to protect Medicare and Social Security, investments in infrastructure to modernize the country, a cluster of policies to help working families with child care and paid leave, and new efforts to ensure equal pay and family leave for women.</td>\n",
       "      <td>0.8934</td>\n",
       "      <td>0.056566</td>\n",
       "      <td>0.991999</td>\n",
       "    </tr>\n",
       "    <tr>\n",
       "      <th>20</th>\n",
       "      <td>This is about a single mom knowing whether she is going to have work before she arranges for child care and drives across town or a student who wants to go to school and asks for a schedule that will accommodate that without the student being fired just for asking.</td>\n",
       "      <td>-0.1027</td>\n",
       "      <td>0.064286</td>\n",
       "      <td>0.991387</td>\n",
       "    </tr>\n",
       "    <tr>\n",
       "      <th>21</th>\n",
       "      <td>There's a correlation between the environment and the way that Indigenous people are treated and how the aggression to our lands parallels to our bodies as Indigenous women. So, it's all linked together,</td>\n",
       "      <td>-0.2960</td>\n",
       "      <td>0.000000</td>\n",
       "      <td>0.833125</td>\n",
       "    </tr>\n",
       "    <tr>\n",
       "      <th>22</th>\n",
       "      <td>We already have global respect program where we promote fair play, with opponents and we are just expanding the scope of this message to gender equality,</td>\n",
       "      <td>0.8555</td>\n",
       "      <td>0.350000</td>\n",
       "      <td>0.624620</td>\n",
       "    </tr>\n",
       "    <tr>\n",
       "      <th>23</th>\n",
       "      <td>What worries me is that there is no mechanism to deal with complaints. The university had a Gender Sensitisation Committee against Sexual Harassment that includes prevention of sexual harassment, but it was disbanded by the former vice-chancellor. Prevention in a way is more important than the cure.</td>\n",
       "      <td>-0.6382</td>\n",
       "      <td>0.380000</td>\n",
       "      <td>0.654091</td>\n",
       "    </tr>\n",
       "    <tr>\n",
       "      <th>24</th>\n",
       "      <td>Whether it's through our child care referral program or community outreach services, every child can benefit regardless. This is where it all begins -- those first 2,000 days. And we are here to help anyone who needs it, whether it's by using our lending libraries, attending classes for providers and parents or by utilizing our play area in the...</td>\n",
       "      <td>0.9081</td>\n",
       "      <td>0.250000</td>\n",
       "      <td>0.996711</td>\n",
       "    </tr>\n",
       "    <tr>\n",
       "      <th>25</th>\n",
       "      <td>Family planning is an important part of women's health and reproductive health includes access to abortion that, I believe, should be safe, legal, and rare... Keeping women and men in ignorance and denied the access to services actually increases the rate of abortion.</td>\n",
       "      <td>-0.0516</td>\n",
       "      <td>0.280000</td>\n",
       "      <td>0.991181</td>\n",
       "    </tr>\n",
       "    <tr>\n",
       "      <th>26</th>\n",
       "      <td>I think a lot of women and men experience pressure because there's a gap between their definition of ideal and their partner's definition of ideal. Your work place can't fix that.</td>\n",
       "      <td>0.6808</td>\n",
       "      <td>0.900000</td>\n",
       "      <td>0.753123</td>\n",
       "    </tr>\n",
       "    <tr>\n",
       "      <th>27</th>\n",
       "      <td>Most organizations say they're committed to a core philosophy of gender equality, but when you get more intense on what equality means in the pay dimension, those percentages fall fast until you get down to that one-third that have robust regular reviews and formalized remediation processes to address any issues uncovered by those reviews,</td>\n",
       "      <td>0.6046</td>\n",
       "      <td>0.207407</td>\n",
       "      <td>0.995802</td>\n",
       "    </tr>\n",
       "    <tr>\n",
       "      <th>28</th>\n",
       "      <td>The problem here is a system where reporting sexual harassment is vehemently discouraged,</td>\n",
       "      <td>-0.8360</td>\n",
       "      <td>0.500000</td>\n",
       "      <td>0.958093</td>\n",
       "    </tr>\n",
       "    <tr>\n",
       "      <th>29</th>\n",
       "      <td>What about books, transportation, child care?</td>\n",
       "      <td>0.4939</td>\n",
       "      <td>0.000000</td>\n",
       "      <td>0.694018</td>\n",
       "    </tr>\n",
       "  </tbody>\n",
       "</table>\n",
       "</div>"
      ],
      "text/plain": [
       "                                                                                                                                                                                                                                                                                                                                                        quotation  \\\n",
       "0                                                                                                                                                    Anything less than women winning 50 per cent of new seats will be a loss not only for a progressive city's progress towards true gender equality but it would also be a loss for good governance in the ACT.   \n",
       "1                                     I'd like to congratulate all the winners and finalists on their success. They have demonstrated clear leadership by moving women's progression from a `diversity' initiative to a core business priority. Achieving gender equality is only possible when men and women work together at every level, creating real change.   \n",
       "2   I think what Deepika has spoken in the video makes sense. I do understand the counter argument too where everyone has been saying that had men said the same lines about having sex outside marriage being their choice, they would have been branded idiots or ass **** s. However, we still do have a clear cut demarcation or boundary as to what men a...   \n",
       "3                                                                                                                                                                                                                                         if advocating for equal pay for equal work is playing the gender card, deal me in. I am ready to play as hard as I can.   \n",
       "4                                                                                                                                                           Men and women are understandably upset if they see a company close down and jobs lost. It's only natural people would look around and in their distress they find something or someone able to blame,   \n",
       "5                                                                                                                                                                                                                                              She's the new paradigm that represents a feminine power that is palpable -- a modern maverick among women and men.   \n",
       "6                                                                                                                                                                                                                                              We are expecting 20-22 cueists from India for different events. We are not sure about their women's participation,   \n",
       "7                                                                                                                                                                       The apex court has upheld an earlier verdict of a family court granting maintenance allowance to Muslim women even after the `iddat' period (three months and 10 days after the divorce),   \n",
       "8                                                                                                                                                                                                  The incidents of rape and sexual harassment are being taken place one after another, but those responsible for the crimes go unpunished. They're beyond touch.   \n",
       "9                                                                                                                                                                        then I can promise you that lawyers in almost any case where a law discriminates against gay people will make the argument that the law constitutes unconstitutional sex discrimination,   \n",
       "10                                                                                                                                                                                                                       There's 165,000 parents that want to work more but haven't got the affordable or accessible or flexible child care that would help them,   \n",
       "11                                                                                                                         WHO strongly condemns violence against women and girls and supports partners and countries' efforts towards the de-normalization of this type of violence. Ensuring equality between women and men is a crucial part of these efforts,   \n",
       "12                                                                                                                                                                                                               They don't have the time to get the training they need to get a better job because they're stuck in their current job to pay for the child care.   \n",
       "13                                                                                                                                                      Things like child care and sick leave and equal pay; things like lower mortgage premiums and a higher minimum wage -- these ideas will make a meaningful difference in the lives of millions of families.   \n",
       "14  I think it's going to destroy her message because I think it's going to be hard for her to go around saying she's going to be a champion of women's rights when she's taking-money from countries that abuse women's rights... she was making $300,000 an hour giving speeches. all of her husband's speeches seem to increase in the value. He gave 13 sp...   \n",
       "15                                                                                                                                       Recently introduced income tax cuts and enhanced child care benefits, as well as lower oil prices that will affect nominal tax revenues, are not expected to materially delay reaching budgetary balance in [ 2015-16 ],   \n",
       "16  Save the Children Action Network applauds President Obama for reinforcing his administration's commitment to investing in kids by calling for an expansion of the Child and Dependent Care Tax Credit. The President was exactly right when he said quality child care is a national economic priority and expanding access to more kids is a critical ste...   \n",
       "17                                                                                                                                                                                                                                                                                                                          I've been in child care for 40 years,   \n",
       "18                                                                                                                                                               The initial reason for taking them away was the anti-sexual harassment bus activity on March 7, but it looks like slapping them now with a criminal charge for that is obviously very difficult,   \n",
       "19                                                                                                       policies to protect Medicare and Social Security, investments in infrastructure to modernize the country, a cluster of policies to help working families with child care and paid leave, and new efforts to ensure equal pay and family leave for women.   \n",
       "20                                                                                      This is about a single mom knowing whether she is going to have work before she arranges for child care and drives across town or a student who wants to go to school and asks for a schedule that will accommodate that without the student being fired just for asking.   \n",
       "21                                                                                                                                                    There's a correlation between the environment and the way that Indigenous people are treated and how the aggression to our lands parallels to our bodies as Indigenous women. So, it's all linked together,   \n",
       "22                                                                                                                                                                                                      We already have global respect program where we promote fair play, with opponents and we are just expanding the scope of this message to gender equality,   \n",
       "23                                                   What worries me is that there is no mechanism to deal with complaints. The university had a Gender Sensitisation Committee against Sexual Harassment that includes prevention of sexual harassment, but it was disbanded by the former vice-chancellor. Prevention in a way is more important than the cure.   \n",
       "24  Whether it's through our child care referral program or community outreach services, every child can benefit regardless. This is where it all begins -- those first 2,000 days. And we are here to help anyone who needs it, whether it's by using our lending libraries, attending classes for providers and parents or by utilizing our play area in the...   \n",
       "25                                                                                   Family planning is an important part of women's health and reproductive health includes access to abortion that, I believe, should be safe, legal, and rare... Keeping women and men in ignorance and denied the access to services actually increases the rate of abortion.   \n",
       "26                                                                                                                                                                            I think a lot of women and men experience pressure because there's a gap between their definition of ideal and their partner's definition of ideal. Your work place can't fix that.   \n",
       "27          Most organizations say they're committed to a core philosophy of gender equality, but when you get more intense on what equality means in the pay dimension, those percentages fall fast until you get down to that one-third that have robust regular reviews and formalized remediation processes to address any issues uncovered by those reviews,   \n",
       "28                                                                                                                                                                                                                                                                      The problem here is a system where reporting sexual harassment is vehemently discouraged,   \n",
       "29                                                                                                                                                                                                                                                                                                                  What about books, transportation, child care?   \n",
       "\n",
       "    sentiment_vader  sentiment_blob  sentiment_flair  \n",
       "0            0.6271        0.253283         0.766071  \n",
       "1            0.9460        0.120000         0.989518  \n",
       "2            0.4111        0.135500         0.678619  \n",
       "3            0.5994       -0.022917         0.546759  \n",
       "4           -0.8020        0.111111         0.991872  \n",
       "5            0.0000        0.112121         0.998887  \n",
       "6           -0.2411       -0.125000         0.942354  \n",
       "7            0.4404        0.000000         0.530047  \n",
       "8           -0.2846        0.350000         0.722543  \n",
       "9           -0.0516        0.416667         0.677893  \n",
       "10           0.8847        0.437500         0.791665  \n",
       "11          -0.7783        0.216667         0.999384  \n",
       "12           0.5719        0.250000         0.996945  \n",
       "13           0.5267        0.008929         0.581936  \n",
       "14           0.4215        0.007449         0.993120  \n",
       "15           0.4588        0.025000         0.987872  \n",
       "16           0.9590        0.198214         0.685855  \n",
       "17           0.4939        0.000000         0.952363  \n",
       "18          -0.8068       -0.350000         0.999631  \n",
       "19           0.8934        0.056566         0.991999  \n",
       "20          -0.1027        0.064286         0.991387  \n",
       "21          -0.2960        0.000000         0.833125  \n",
       "22           0.8555        0.350000         0.624620  \n",
       "23          -0.6382        0.380000         0.654091  \n",
       "24           0.9081        0.250000         0.996711  \n",
       "25          -0.0516        0.280000         0.991181  \n",
       "26           0.6808        0.900000         0.753123  \n",
       "27           0.6046        0.207407         0.995802  \n",
       "28          -0.8360        0.500000         0.958093  \n",
       "29           0.4939        0.000000         0.694018  "
      ]
     },
     "execution_count": 23,
     "metadata": {},
     "output_type": "execute_result"
    }
   ],
   "source": [
    "df_sentiment = df[['quotation','sentiment_vader','sentiment_blob','sentiment_flair']]\n",
    "df_sentiment.head(30)"
   ]
  },
  {
   "cell_type": "code",
   "execution_count": 25,
   "id": "ccd09796",
   "metadata": {},
   "outputs": [],
   "source": [
    "# Save the dataframe containing the sentiment scores \n",
    "df_sentiment.to_pickle(PATH+'df_enriched_w_sentiment_allscores.pkl', compression='infer', protocol=5, storage_options=None)"
   ]
  },
  {
   "cell_type": "code",
   "execution_count": 60,
   "id": "93779857",
   "metadata": {},
   "outputs": [],
   "source": [
    "# Load the dataframe containing sentiment scores\n",
    "df_sentiment = pd.read_pickle(PATH+'df_enriched_w_sentiment_allscores.pkl', compression='infer', storage_options=None)"
   ]
  },
  {
   "cell_type": "code",
   "execution_count": 61,
   "id": "2efd65e6",
   "metadata": {
    "scrolled": true
   },
   "outputs": [
    {
     "data": {
      "text/html": [
       "<div>\n",
       "<style scoped>\n",
       "    .dataframe tbody tr th:only-of-type {\n",
       "        vertical-align: middle;\n",
       "    }\n",
       "\n",
       "    .dataframe tbody tr th {\n",
       "        vertical-align: top;\n",
       "    }\n",
       "\n",
       "    .dataframe thead th {\n",
       "        text-align: right;\n",
       "    }\n",
       "</style>\n",
       "<table border=\"1\" class=\"dataframe\">\n",
       "  <thead>\n",
       "    <tr style=\"text-align: right;\">\n",
       "      <th></th>\n",
       "      <th>sentiment_vader</th>\n",
       "      <th>sentiment_blob</th>\n",
       "      <th>sentiment_flair</th>\n",
       "    </tr>\n",
       "  </thead>\n",
       "  <tbody>\n",
       "    <tr>\n",
       "      <th>count</th>\n",
       "      <td>87161.000000</td>\n",
       "      <td>87161.000000</td>\n",
       "      <td>87161.000000</td>\n",
       "    </tr>\n",
       "    <tr>\n",
       "      <th>mean</th>\n",
       "      <td>0.021996</td>\n",
       "      <td>0.164109</td>\n",
       "      <td>0.883739</td>\n",
       "    </tr>\n",
       "    <tr>\n",
       "      <th>std</th>\n",
       "      <td>0.618914</td>\n",
       "      <td>0.218778</td>\n",
       "      <td>0.140334</td>\n",
       "    </tr>\n",
       "    <tr>\n",
       "      <th>min</th>\n",
       "      <td>-0.997900</td>\n",
       "      <td>-1.000000</td>\n",
       "      <td>0.500033</td>\n",
       "    </tr>\n",
       "    <tr>\n",
       "      <th>25%</th>\n",
       "      <td>-0.542300</td>\n",
       "      <td>0.000000</td>\n",
       "      <td>0.810222</td>\n",
       "    </tr>\n",
       "    <tr>\n",
       "      <th>50%</th>\n",
       "      <td>0.000000</td>\n",
       "      <td>0.145833</td>\n",
       "      <td>0.952602</td>\n",
       "    </tr>\n",
       "    <tr>\n",
       "      <th>75%</th>\n",
       "      <td>0.611600</td>\n",
       "      <td>0.300000</td>\n",
       "      <td>0.991984</td>\n",
       "    </tr>\n",
       "    <tr>\n",
       "      <th>max</th>\n",
       "      <td>0.998500</td>\n",
       "      <td>1.000000</td>\n",
       "      <td>0.999998</td>\n",
       "    </tr>\n",
       "  </tbody>\n",
       "</table>\n",
       "</div>"
      ],
      "text/plain": [
       "       sentiment_vader  sentiment_blob  sentiment_flair\n",
       "count     87161.000000    87161.000000     87161.000000\n",
       "mean          0.021996        0.164109         0.883739\n",
       "std           0.618914        0.218778         0.140334\n",
       "min          -0.997900       -1.000000         0.500033\n",
       "25%          -0.542300        0.000000         0.810222\n",
       "50%           0.000000        0.145833         0.952602\n",
       "75%           0.611600        0.300000         0.991984\n",
       "max           0.998500        1.000000         0.999998"
      ]
     },
     "execution_count": 61,
     "metadata": {},
     "output_type": "execute_result"
    }
   ],
   "source": [
    "df_sentiment.describe()"
   ]
  },
  {
   "cell_type": "markdown",
   "id": "bb7d9ad7",
   "metadata": {},
   "source": [
    "We can see that vader and sentiment blob seem to give an average score that is closer to the 0 ( which we could consider as neutral) versus flair that on average gives values closer to the positive side"
   ]
  },
  {
   "cell_type": "code",
   "execution_count": 73,
   "id": "e37f8049",
   "metadata": {},
   "outputs": [],
   "source": [
    "def tf_score(x, algo='vader'):\n",
    "    if algo=='vader' or algo=='textblob':\n",
    "        if x>=0:\n",
    "            x = 1\n",
    "        else:\n",
    "            x = 0\n",
    "\n",
    "    if algo=='flair':    \n",
    "        if x>=0.5:\n",
    "            x = 1\n",
    "        else:\n",
    "            x = 0\n",
    "    return x"
   ]
  },
  {
   "cell_type": "markdown",
   "id": "8e8aead2",
   "metadata": {},
   "source": [
    "To compare the results we use threshold defined in the function `tf_score`:"
   ]
  },
  {
   "cell_type": "code",
   "execution_count": 74,
   "id": "1edf716e",
   "metadata": {},
   "outputs": [],
   "source": [
    "df_sentiment['sentiment_vader_b'] = df_sentiment['sentiment_vader'].apply(lambda x : tf_score(x, algo='vader')).copy()\n",
    "df_sentiment['sentiment_blob_b'] = df_sentiment['sentiment_blob'].apply(lambda x : tf_score(x, algo='textblob')).copy()\n",
    "df_sentiment['sentiment_flair_b'] = df_sentiment['sentiment_flair'].apply(lambda x : tf_score(x, algo='flair')).copy()"
   ]
  },
  {
   "cell_type": "code",
   "execution_count": 75,
   "id": "5cfd1c57",
   "metadata": {},
   "outputs": [
    {
     "data": {
      "text/html": [
       "<div>\n",
       "<style scoped>\n",
       "    .dataframe tbody tr th:only-of-type {\n",
       "        vertical-align: middle;\n",
       "    }\n",
       "\n",
       "    .dataframe tbody tr th {\n",
       "        vertical-align: top;\n",
       "    }\n",
       "\n",
       "    .dataframe thead th {\n",
       "        text-align: right;\n",
       "    }\n",
       "</style>\n",
       "<table border=\"1\" class=\"dataframe\">\n",
       "  <thead>\n",
       "    <tr style=\"text-align: right;\">\n",
       "      <th></th>\n",
       "      <th>sentiment_vader_b</th>\n",
       "      <th>sentiment_blob_b</th>\n",
       "      <th>sentiment_flair_b</th>\n",
       "    </tr>\n",
       "  </thead>\n",
       "  <tbody>\n",
       "    <tr>\n",
       "      <th>0</th>\n",
       "      <td>1</td>\n",
       "      <td>1</td>\n",
       "      <td>1</td>\n",
       "    </tr>\n",
       "    <tr>\n",
       "      <th>1</th>\n",
       "      <td>1</td>\n",
       "      <td>1</td>\n",
       "      <td>1</td>\n",
       "    </tr>\n",
       "    <tr>\n",
       "      <th>2</th>\n",
       "      <td>1</td>\n",
       "      <td>1</td>\n",
       "      <td>1</td>\n",
       "    </tr>\n",
       "    <tr>\n",
       "      <th>3</th>\n",
       "      <td>1</td>\n",
       "      <td>0</td>\n",
       "      <td>1</td>\n",
       "    </tr>\n",
       "    <tr>\n",
       "      <th>4</th>\n",
       "      <td>0</td>\n",
       "      <td>1</td>\n",
       "      <td>1</td>\n",
       "    </tr>\n",
       "    <tr>\n",
       "      <th>...</th>\n",
       "      <td>...</td>\n",
       "      <td>...</td>\n",
       "      <td>...</td>\n",
       "    </tr>\n",
       "    <tr>\n",
       "      <th>87156</th>\n",
       "      <td>0</td>\n",
       "      <td>1</td>\n",
       "      <td>1</td>\n",
       "    </tr>\n",
       "    <tr>\n",
       "      <th>87157</th>\n",
       "      <td>1</td>\n",
       "      <td>1</td>\n",
       "      <td>1</td>\n",
       "    </tr>\n",
       "    <tr>\n",
       "      <th>87158</th>\n",
       "      <td>1</td>\n",
       "      <td>1</td>\n",
       "      <td>1</td>\n",
       "    </tr>\n",
       "    <tr>\n",
       "      <th>87159</th>\n",
       "      <td>1</td>\n",
       "      <td>1</td>\n",
       "      <td>1</td>\n",
       "    </tr>\n",
       "    <tr>\n",
       "      <th>87160</th>\n",
       "      <td>1</td>\n",
       "      <td>1</td>\n",
       "      <td>1</td>\n",
       "    </tr>\n",
       "  </tbody>\n",
       "</table>\n",
       "<p>87161 rows × 3 columns</p>\n",
       "</div>"
      ],
      "text/plain": [
       "       sentiment_vader_b  sentiment_blob_b  sentiment_flair_b\n",
       "0                      1                 1                  1\n",
       "1                      1                 1                  1\n",
       "2                      1                 1                  1\n",
       "3                      1                 0                  1\n",
       "4                      0                 1                  1\n",
       "...                  ...               ...                ...\n",
       "87156                  0                 1                  1\n",
       "87157                  1                 1                  1\n",
       "87158                  1                 1                  1\n",
       "87159                  1                 1                  1\n",
       "87160                  1                 1                  1\n",
       "\n",
       "[87161 rows x 3 columns]"
      ]
     },
     "execution_count": 75,
     "metadata": {},
     "output_type": "execute_result"
    }
   ],
   "source": [
    "df_sentiment[['sentiment_vader_b','sentiment_blob_b','sentiment_flair_b']]"
   ]
  },
  {
   "cell_type": "code",
   "execution_count": 76,
   "id": "6a42cbb3",
   "metadata": {},
   "outputs": [
    {
     "data": {
      "text/plain": [
       "0.4964490999414876"
      ]
     },
     "execution_count": 76,
     "metadata": {},
     "output_type": "execute_result"
    }
   ],
   "source": [
    "((df_sentiment['sentiment_vader_b']==df_sentiment['sentiment_blob_b'])&(df_sentiment['sentiment_vader_b']==df_sentiment['sentiment_flair_b'])).sum()/len(df_sentiment)"
   ]
  },
  {
   "cell_type": "code",
   "execution_count": 77,
   "id": "cff7e513",
   "metadata": {},
   "outputs": [
    {
     "data": {
      "text/plain": [
       "0.5702665182822593"
      ]
     },
     "execution_count": 77,
     "metadata": {},
     "output_type": "execute_result"
    }
   ],
   "source": [
    "((df_sentiment['sentiment_vader_b']==df_sentiment['sentiment_blob_b'])).sum()/len(df_sentiment)"
   ]
  },
  {
   "cell_type": "code",
   "execution_count": 78,
   "id": "15fde0a9",
   "metadata": {
    "scrolled": true
   },
   "outputs": [
    {
     "data": {
      "text/plain": [
       "0.5500740009866798"
      ]
     },
     "execution_count": 78,
     "metadata": {},
     "output_type": "execute_result"
    }
   ],
   "source": [
    "((df_sentiment['sentiment_vader_b']==df_sentiment['sentiment_flair_b'])).sum()/len(df_sentiment)"
   ]
  },
  {
   "cell_type": "markdown",
   "id": "30e9166c",
   "metadata": {},
   "source": [
    "It would seem like the different sentiment classification tools don't give the same kind of answer/ or score, this is perhaps caused by the fact that they were trained on different datasets and not necessarily for our exact task. Although, the method we used to compare them here is very simple, maybe it would be more fair if they were trained on the same dataset, and if we used different threshold to decide wether the score was positive or negative."
   ]
  }
 ],
 "metadata": {
  "kernelspec": {
   "display_name": "Python 3 (ipykernel)",
   "language": "python",
   "name": "python3"
  },
  "language_info": {
   "codemirror_mode": {
    "name": "ipython",
    "version": 3
   },
   "file_extension": ".py",
   "mimetype": "text/x-python",
   "name": "python",
   "nbconvert_exporter": "python",
   "pygments_lexer": "ipython3",
   "version": "3.8.11"
  }
 },
 "nbformat": 4,
 "nbformat_minor": 5
}
