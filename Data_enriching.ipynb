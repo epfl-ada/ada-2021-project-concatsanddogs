{
 "cells": [
  {
   "cell_type": "markdown",
   "id": "ccfa182c",
   "metadata": {},
   "source": [
    "# Data enriching"
   ]
  },
  {
   "cell_type": "code",
   "execution_count": 1,
   "id": "ab31353a",
   "metadata": {},
   "outputs": [],
   "source": [
    "import pandas as pd\n",
    "import numpy as np\n",
    "\n",
    "from scripts.qid_to_label import *"
   ]
  },
  {
   "cell_type": "code",
   "execution_count": 2,
   "id": "ad648049",
   "metadata": {},
   "outputs": [],
   "source": [
    "PATH_GENERATED_DATA = 'generated_data/'\n",
    "\n",
    "PARQUET_FILE = PATH_GENERATED_DATA +  \"speaker_attributes.parquet\""
   ]
  },
  {
   "cell_type": "code",
   "execution_count": 3,
   "id": "bbdcf4ee",
   "metadata": {},
   "outputs": [],
   "source": [
    "%load_ext autoreload\n",
    "# pour pas avoir besoin de relancer / reimporter quand on modifie les .py\n",
    "%autoreload 2"
   ]
  },
  {
   "cell_type": "markdown",
   "id": "696d626d",
   "metadata": {},
   "source": [
    "## QIDs"
   ]
  },
  {
   "cell_type": "markdown",
   "id": "23bae85f",
   "metadata": {},
   "source": [
    "**Description:** This section of the notebook is used to convert the QID to readable text after adding speaker attributes to the selected quotes dataframe. Finally at the end of the notebook a .pkl file with the dataframe is saved to be used for other questions"
   ]
  },
  {
   "cell_type": "markdown",
   "id": "c5fae6aa",
   "metadata": {},
   "source": [
    "*TO DO :*\n",
    " - Find better way to select which QID's to keep when there are many\n",
    "     - POLITICAL PARTY : find dataset with corresponding dates and only keep party with date == quotation date\n",
    " - Fix SettingWithCopyWarning\n",
    " - Fix problems which appear when you don't remove rows that have no QID for speaker ( we currently remove them)"
   ]
  },
  {
   "cell_type": "code",
   "execution_count": 4,
   "id": "ee6307ed",
   "metadata": {},
   "outputs": [],
   "source": [
    "# load the selected dataframe\n",
    "dataframesNames = ('QOI_2015_DF','QOI_2016_DF','QOI_2017_DF','QOI_2018_DF','QOI_2019_DF','QOI_2020_DF')\n",
    "df = pd.concat([pd.read_pickle(PATH_GENERATED_DATA+ fp +'.pkl') for fp in dataframesNames], ignore_index=True)"
   ]
  },
  {
   "cell_type": "code",
   "execution_count": 5,
   "id": "56ad9043",
   "metadata": {},
   "outputs": [
    {
     "data": {
      "text/plain": [
       "87161"
      ]
     },
     "execution_count": 5,
     "metadata": {},
     "output_type": "execute_result"
    }
   ],
   "source": [
    "len(df)"
   ]
  },
  {
   "cell_type": "code",
   "execution_count": null,
   "id": "7c8a2452",
   "metadata": {},
   "outputs": [],
   "source": []
  },
  {
   "cell_type": "code",
   "execution_count": 5,
   "id": "dc264702",
   "metadata": {},
   "outputs": [
    {
     "name": "stdout",
     "output_type": "stream",
     "text": [
      "Wall time: 16.8 s\n"
     ]
    }
   ],
   "source": [
    "%time parquet_df = pd.read_parquet(PARQUET_FILE)"
   ]
  },
  {
   "cell_type": "code",
   "execution_count": 6,
   "id": "0d60772b",
   "metadata": {
    "scrolled": true
   },
   "outputs": [
    {
     "name": "stderr",
     "output_type": "stream",
     "text": [
      "C:\\Users\\Younes\\Desktop\\P2\\scripts\\qid_to_label.py:23: SettingWithCopyWarning: \n",
      "A value is trying to be set on a copy of a slice from a DataFrame.\n",
      "Try using .loc[row_indexer,col_indexer] = value instead\n",
      "\n",
      "See the caveats in the documentation: https://pandas.pydata.org/pandas-docs/stable/user_guide/indexing.html#returning-a-view-versus-a-copy\n",
      "  df['qids'] = df['qids'].apply(lambda x: x[0]) # this gives a warning\n"
     ]
    },
    {
     "name": "stdout",
     "output_type": "stream",
     "text": [
      "Wall time: 7.68 s\n"
     ]
    }
   ],
   "source": [
    "%time merged_df = merge_df(df,parquet_df)"
   ]
  },
  {
   "cell_type": "code",
   "execution_count": 7,
   "id": "2d4efd55",
   "metadata": {},
   "outputs": [
    {
     "name": "stdout",
     "output_type": "stream",
     "text": [
      "Wall time: 1.25 s\n"
     ]
    }
   ],
   "source": [
    "qids_onlyquotebank_path = PATH_GENERATED_DATA + \"wikidata_labels_descriptions_quotebank.csv.bz2\"\n",
    "column_names = ('nationality', 'gender', 'ethnic_group', 'occupation', 'party', 'academic_degree', 'religion')\n",
    "%time merged_df = qid_to_label(merged_df, qids_onlyquotebank_path, column_names)"
   ]
  },
  {
   "cell_type": "code",
   "execution_count": 8,
   "id": "d9917955",
   "metadata": {},
   "outputs": [
    {
     "data": {
      "text/html": [
       "<div>\n",
       "<style scoped>\n",
       "    .dataframe tbody tr th:only-of-type {\n",
       "        vertical-align: middle;\n",
       "    }\n",
       "\n",
       "    .dataframe tbody tr th {\n",
       "        vertical-align: top;\n",
       "    }\n",
       "\n",
       "    .dataframe thead th {\n",
       "        text-align: right;\n",
       "    }\n",
       "</style>\n",
       "<table border=\"1\" class=\"dataframe\">\n",
       "  <thead>\n",
       "    <tr style=\"text-align: right;\">\n",
       "      <th></th>\n",
       "      <th>quoteID</th>\n",
       "      <th>quotation</th>\n",
       "      <th>speaker</th>\n",
       "      <th>qids</th>\n",
       "      <th>date</th>\n",
       "      <th>numOccurrences</th>\n",
       "      <th>probas</th>\n",
       "      <th>urls</th>\n",
       "      <th>phase</th>\n",
       "      <th>aliases</th>\n",
       "      <th>...</th>\n",
       "      <th>ethnic_group</th>\n",
       "      <th>US_congress_bio_ID</th>\n",
       "      <th>occupation</th>\n",
       "      <th>party</th>\n",
       "      <th>academic_degree</th>\n",
       "      <th>id</th>\n",
       "      <th>label</th>\n",
       "      <th>candidacy</th>\n",
       "      <th>type</th>\n",
       "      <th>religion</th>\n",
       "    </tr>\n",
       "  </thead>\n",
       "  <tbody>\n",
       "    <tr>\n",
       "      <th>0</th>\n",
       "      <td>2015-03-09-004706</td>\n",
       "      <td>Anything less than women winning 50 per cent o...</td>\n",
       "      <td>Katy Gallagher</td>\n",
       "      <td>Q463507</td>\n",
       "      <td>2015-03-09 12:30:00</td>\n",
       "      <td>1</td>\n",
       "      <td>[[Katy Gallagher, 0.5872], [None, 0.4128]]</td>\n",
       "      <td>[http://www.smh.com.au/act-news/women-need-to-...</td>\n",
       "      <td>E</td>\n",
       "      <td>[Katherine Gallagher, Katherine Ruth Gallagher]</td>\n",
       "      <td>...</td>\n",
       "      <td>NaN</td>\n",
       "      <td>None</td>\n",
       "      <td>politician</td>\n",
       "      <td>Australian Labor Party</td>\n",
       "      <td>NaN</td>\n",
       "      <td>Q463507</td>\n",
       "      <td>Katy Gallagher</td>\n",
       "      <td>None</td>\n",
       "      <td>item</td>\n",
       "      <td>NaN</td>\n",
       "    </tr>\n",
       "    <tr>\n",
       "      <th>1</th>\n",
       "      <td>2017-05-11-081817</td>\n",
       "      <td>more family-friendly and flexible workplaces, ...</td>\n",
       "      <td>Katy Gallagher</td>\n",
       "      <td>Q463507</td>\n",
       "      <td>2017-05-11 00:00:37</td>\n",
       "      <td>1</td>\n",
       "      <td>[[Katy Gallagher, 0.5596], [None, 0.4404]]</td>\n",
       "      <td>[http://www.mediamaxnetwork.co.ke/news/325569/...</td>\n",
       "      <td>E</td>\n",
       "      <td>[Katherine Gallagher, Katherine Ruth Gallagher]</td>\n",
       "      <td>...</td>\n",
       "      <td>NaN</td>\n",
       "      <td>None</td>\n",
       "      <td>politician</td>\n",
       "      <td>Australian Labor Party</td>\n",
       "      <td>NaN</td>\n",
       "      <td>Q463507</td>\n",
       "      <td>Katy Gallagher</td>\n",
       "      <td>None</td>\n",
       "      <td>item</td>\n",
       "      <td>NaN</td>\n",
       "    </tr>\n",
       "    <tr>\n",
       "      <th>2</th>\n",
       "      <td>2017-06-23-130636</td>\n",
       "      <td>We need more women and parents in Parliament. ...</td>\n",
       "      <td>Katy Gallagher</td>\n",
       "      <td>Q463507</td>\n",
       "      <td>2017-06-23 03:20:00</td>\n",
       "      <td>1</td>\n",
       "      <td>[[Katy Gallagher, 0.4996], [None, 0.4403], [La...</td>\n",
       "      <td>[http://www.harpersbazaar.com/culture/features...</td>\n",
       "      <td>E</td>\n",
       "      <td>[Katherine Gallagher, Katherine Ruth Gallagher]</td>\n",
       "      <td>...</td>\n",
       "      <td>NaN</td>\n",
       "      <td>None</td>\n",
       "      <td>politician</td>\n",
       "      <td>Australian Labor Party</td>\n",
       "      <td>NaN</td>\n",
       "      <td>Q463507</td>\n",
       "      <td>Katy Gallagher</td>\n",
       "      <td>None</td>\n",
       "      <td>item</td>\n",
       "      <td>NaN</td>\n",
       "    </tr>\n",
       "    <tr>\n",
       "      <th>3</th>\n",
       "      <td>2015-04-24-025718</td>\n",
       "      <td>I'd like to congratulate all the winners and f...</td>\n",
       "      <td>Helena Morrissey</td>\n",
       "      <td>Q23762081</td>\n",
       "      <td>2015-04-24 15:33:00</td>\n",
       "      <td>1</td>\n",
       "      <td>[[Helena Morrissey, 0.8706], [None, 0.1294]]</td>\n",
       "      <td>[http://www.cipd.co.uk/PM/peoplemanagement/b/w...</td>\n",
       "      <td>E</td>\n",
       "      <td>None</td>\n",
       "      <td>...</td>\n",
       "      <td>NaN</td>\n",
       "      <td>None</td>\n",
       "      <td>business executive</td>\n",
       "      <td>NaN</td>\n",
       "      <td>NaN</td>\n",
       "      <td>Q23762081</td>\n",
       "      <td>Helena Morrissey</td>\n",
       "      <td>None</td>\n",
       "      <td>item</td>\n",
       "      <td>NaN</td>\n",
       "    </tr>\n",
       "    <tr>\n",
       "      <th>4</th>\n",
       "      <td>2015-04-08-011609</td>\n",
       "      <td>Clearly we have got a long way to go before we...</td>\n",
       "      <td>Helena Morrissey</td>\n",
       "      <td>Q23762081</td>\n",
       "      <td>2015-04-08 18:28:01</td>\n",
       "      <td>1</td>\n",
       "      <td>[[Helena Morrissey, 0.5805], [None, 0.2061], [...</td>\n",
       "      <td>[http://feeds.theguardian.com/c/34708/f/663879...</td>\n",
       "      <td>E</td>\n",
       "      <td>None</td>\n",
       "      <td>...</td>\n",
       "      <td>NaN</td>\n",
       "      <td>None</td>\n",
       "      <td>business executive</td>\n",
       "      <td>NaN</td>\n",
       "      <td>NaN</td>\n",
       "      <td>Q23762081</td>\n",
       "      <td>Helena Morrissey</td>\n",
       "      <td>None</td>\n",
       "      <td>item</td>\n",
       "      <td>NaN</td>\n",
       "    </tr>\n",
       "  </tbody>\n",
       "</table>\n",
       "<p>5 rows × 24 columns</p>\n",
       "</div>"
      ],
      "text/plain": [
       "             quoteID                                          quotation  \\\n",
       "0  2015-03-09-004706  Anything less than women winning 50 per cent o...   \n",
       "1  2017-05-11-081817  more family-friendly and flexible workplaces, ...   \n",
       "2  2017-06-23-130636  We need more women and parents in Parliament. ...   \n",
       "3  2015-04-24-025718  I'd like to congratulate all the winners and f...   \n",
       "4  2015-04-08-011609  Clearly we have got a long way to go before we...   \n",
       "\n",
       "            speaker       qids                date  numOccurrences  \\\n",
       "0    Katy Gallagher    Q463507 2015-03-09 12:30:00               1   \n",
       "1    Katy Gallagher    Q463507 2017-05-11 00:00:37               1   \n",
       "2    Katy Gallagher    Q463507 2017-06-23 03:20:00               1   \n",
       "3  Helena Morrissey  Q23762081 2015-04-24 15:33:00               1   \n",
       "4  Helena Morrissey  Q23762081 2015-04-08 18:28:01               1   \n",
       "\n",
       "                                              probas  \\\n",
       "0         [[Katy Gallagher, 0.5872], [None, 0.4128]]   \n",
       "1         [[Katy Gallagher, 0.5596], [None, 0.4404]]   \n",
       "2  [[Katy Gallagher, 0.4996], [None, 0.4403], [La...   \n",
       "3       [[Helena Morrissey, 0.8706], [None, 0.1294]]   \n",
       "4  [[Helena Morrissey, 0.5805], [None, 0.2061], [...   \n",
       "\n",
       "                                                urls phase  \\\n",
       "0  [http://www.smh.com.au/act-news/women-need-to-...     E   \n",
       "1  [http://www.mediamaxnetwork.co.ke/news/325569/...     E   \n",
       "2  [http://www.harpersbazaar.com/culture/features...     E   \n",
       "3  [http://www.cipd.co.uk/PM/peoplemanagement/b/w...     E   \n",
       "4  [http://feeds.theguardian.com/c/34708/f/663879...     E   \n",
       "\n",
       "                                           aliases  ... ethnic_group  \\\n",
       "0  [Katherine Gallagher, Katherine Ruth Gallagher]  ...          NaN   \n",
       "1  [Katherine Gallagher, Katherine Ruth Gallagher]  ...          NaN   \n",
       "2  [Katherine Gallagher, Katherine Ruth Gallagher]  ...          NaN   \n",
       "3                                             None  ...          NaN   \n",
       "4                                             None  ...          NaN   \n",
       "\n",
       "  US_congress_bio_ID          occupation                   party  \\\n",
       "0               None          politician  Australian Labor Party   \n",
       "1               None          politician  Australian Labor Party   \n",
       "2               None          politician  Australian Labor Party   \n",
       "3               None  business executive                     NaN   \n",
       "4               None  business executive                     NaN   \n",
       "\n",
       "  academic_degree         id             label candidacy  type religion  \n",
       "0             NaN    Q463507    Katy Gallagher      None  item      NaN  \n",
       "1             NaN    Q463507    Katy Gallagher      None  item      NaN  \n",
       "2             NaN    Q463507    Katy Gallagher      None  item      NaN  \n",
       "3             NaN  Q23762081  Helena Morrissey      None  item      NaN  \n",
       "4             NaN  Q23762081  Helena Morrissey      None  item      NaN  \n",
       "\n",
       "[5 rows x 24 columns]"
      ]
     },
     "execution_count": 8,
     "metadata": {},
     "output_type": "execute_result"
    }
   ],
   "source": [
    "merged_df.head()"
   ]
  },
  {
   "cell_type": "code",
   "execution_count": 9,
   "id": "0ad7e9a0",
   "metadata": {},
   "outputs": [
    {
     "data": {
      "text/plain": [
       "True"
      ]
     },
     "execution_count": 9,
     "metadata": {},
     "output_type": "execute_result"
    }
   ],
   "source": [
    "(merged_df['phase'] == 'E').sum() == len(merged_df.index)\n",
    "# no point in keeping the phase column"
   ]
  },
  {
   "cell_type": "code",
   "execution_count": 10,
   "id": "38127b66",
   "metadata": {},
   "outputs": [],
   "source": [
    "df_enriched = merged_df.drop(columns = ['qids','id','phase'])"
   ]
  },
  {
   "cell_type": "code",
   "execution_count": 11,
   "id": "3e8dfe61",
   "metadata": {
    "scrolled": false
   },
   "outputs": [
    {
     "data": {
      "text/html": [
       "<div>\n",
       "<style scoped>\n",
       "    .dataframe tbody tr th:only-of-type {\n",
       "        vertical-align: middle;\n",
       "    }\n",
       "\n",
       "    .dataframe tbody tr th {\n",
       "        vertical-align: top;\n",
       "    }\n",
       "\n",
       "    .dataframe thead th {\n",
       "        text-align: right;\n",
       "    }\n",
       "</style>\n",
       "<table border=\"1\" class=\"dataframe\">\n",
       "  <thead>\n",
       "    <tr style=\"text-align: right;\">\n",
       "      <th></th>\n",
       "      <th>quoteID</th>\n",
       "      <th>quotation</th>\n",
       "      <th>speaker</th>\n",
       "      <th>date</th>\n",
       "      <th>numOccurrences</th>\n",
       "      <th>probas</th>\n",
       "      <th>urls</th>\n",
       "      <th>aliases</th>\n",
       "      <th>date_of_birth</th>\n",
       "      <th>nationality</th>\n",
       "      <th>...</th>\n",
       "      <th>lastrevid</th>\n",
       "      <th>ethnic_group</th>\n",
       "      <th>US_congress_bio_ID</th>\n",
       "      <th>occupation</th>\n",
       "      <th>party</th>\n",
       "      <th>academic_degree</th>\n",
       "      <th>label</th>\n",
       "      <th>candidacy</th>\n",
       "      <th>type</th>\n",
       "      <th>religion</th>\n",
       "    </tr>\n",
       "  </thead>\n",
       "  <tbody>\n",
       "    <tr>\n",
       "      <th>0</th>\n",
       "      <td>2015-03-09-004706</td>\n",
       "      <td>Anything less than women winning 50 per cent o...</td>\n",
       "      <td>Katy Gallagher</td>\n",
       "      <td>2015-03-09 12:30:00</td>\n",
       "      <td>1</td>\n",
       "      <td>[[Katy Gallagher, 0.5872], [None, 0.4128]]</td>\n",
       "      <td>[http://www.smh.com.au/act-news/women-need-to-...</td>\n",
       "      <td>[Katherine Gallagher, Katherine Ruth Gallagher]</td>\n",
       "      <td>[+1970-03-17T00:00:00Z]</td>\n",
       "      <td>Australia</td>\n",
       "      <td>...</td>\n",
       "      <td>1349152158</td>\n",
       "      <td>NaN</td>\n",
       "      <td>None</td>\n",
       "      <td>politician</td>\n",
       "      <td>Australian Labor Party</td>\n",
       "      <td>NaN</td>\n",
       "      <td>Katy Gallagher</td>\n",
       "      <td>None</td>\n",
       "      <td>item</td>\n",
       "      <td>NaN</td>\n",
       "    </tr>\n",
       "    <tr>\n",
       "      <th>1</th>\n",
       "      <td>2017-05-11-081817</td>\n",
       "      <td>more family-friendly and flexible workplaces, ...</td>\n",
       "      <td>Katy Gallagher</td>\n",
       "      <td>2017-05-11 00:00:37</td>\n",
       "      <td>1</td>\n",
       "      <td>[[Katy Gallagher, 0.5596], [None, 0.4404]]</td>\n",
       "      <td>[http://www.mediamaxnetwork.co.ke/news/325569/...</td>\n",
       "      <td>[Katherine Gallagher, Katherine Ruth Gallagher]</td>\n",
       "      <td>[+1970-03-17T00:00:00Z]</td>\n",
       "      <td>Australia</td>\n",
       "      <td>...</td>\n",
       "      <td>1349152158</td>\n",
       "      <td>NaN</td>\n",
       "      <td>None</td>\n",
       "      <td>politician</td>\n",
       "      <td>Australian Labor Party</td>\n",
       "      <td>NaN</td>\n",
       "      <td>Katy Gallagher</td>\n",
       "      <td>None</td>\n",
       "      <td>item</td>\n",
       "      <td>NaN</td>\n",
       "    </tr>\n",
       "    <tr>\n",
       "      <th>2</th>\n",
       "      <td>2017-06-23-130636</td>\n",
       "      <td>We need more women and parents in Parliament. ...</td>\n",
       "      <td>Katy Gallagher</td>\n",
       "      <td>2017-06-23 03:20:00</td>\n",
       "      <td>1</td>\n",
       "      <td>[[Katy Gallagher, 0.4996], [None, 0.4403], [La...</td>\n",
       "      <td>[http://www.harpersbazaar.com/culture/features...</td>\n",
       "      <td>[Katherine Gallagher, Katherine Ruth Gallagher]</td>\n",
       "      <td>[+1970-03-17T00:00:00Z]</td>\n",
       "      <td>Australia</td>\n",
       "      <td>...</td>\n",
       "      <td>1349152158</td>\n",
       "      <td>NaN</td>\n",
       "      <td>None</td>\n",
       "      <td>politician</td>\n",
       "      <td>Australian Labor Party</td>\n",
       "      <td>NaN</td>\n",
       "      <td>Katy Gallagher</td>\n",
       "      <td>None</td>\n",
       "      <td>item</td>\n",
       "      <td>NaN</td>\n",
       "    </tr>\n",
       "    <tr>\n",
       "      <th>3</th>\n",
       "      <td>2015-04-24-025718</td>\n",
       "      <td>I'd like to congratulate all the winners and f...</td>\n",
       "      <td>Helena Morrissey</td>\n",
       "      <td>2015-04-24 15:33:00</td>\n",
       "      <td>1</td>\n",
       "      <td>[[Helena Morrissey, 0.8706], [None, 0.1294]]</td>\n",
       "      <td>[http://www.cipd.co.uk/PM/peoplemanagement/b/w...</td>\n",
       "      <td>None</td>\n",
       "      <td>[+1966-03-22T00:00:00Z]</td>\n",
       "      <td>United Kingdom</td>\n",
       "      <td>...</td>\n",
       "      <td>1393002378</td>\n",
       "      <td>NaN</td>\n",
       "      <td>None</td>\n",
       "      <td>business executive</td>\n",
       "      <td>NaN</td>\n",
       "      <td>NaN</td>\n",
       "      <td>Helena Morrissey</td>\n",
       "      <td>None</td>\n",
       "      <td>item</td>\n",
       "      <td>NaN</td>\n",
       "    </tr>\n",
       "    <tr>\n",
       "      <th>4</th>\n",
       "      <td>2015-04-08-011609</td>\n",
       "      <td>Clearly we have got a long way to go before we...</td>\n",
       "      <td>Helena Morrissey</td>\n",
       "      <td>2015-04-08 18:28:01</td>\n",
       "      <td>1</td>\n",
       "      <td>[[Helena Morrissey, 0.5805], [None, 0.2061], [...</td>\n",
       "      <td>[http://feeds.theguardian.com/c/34708/f/663879...</td>\n",
       "      <td>None</td>\n",
       "      <td>[+1966-03-22T00:00:00Z]</td>\n",
       "      <td>United Kingdom</td>\n",
       "      <td>...</td>\n",
       "      <td>1393002378</td>\n",
       "      <td>NaN</td>\n",
       "      <td>None</td>\n",
       "      <td>business executive</td>\n",
       "      <td>NaN</td>\n",
       "      <td>NaN</td>\n",
       "      <td>Helena Morrissey</td>\n",
       "      <td>None</td>\n",
       "      <td>item</td>\n",
       "      <td>NaN</td>\n",
       "    </tr>\n",
       "  </tbody>\n",
       "</table>\n",
       "<p>5 rows × 21 columns</p>\n",
       "</div>"
      ],
      "text/plain": [
       "             quoteID                                          quotation  \\\n",
       "0  2015-03-09-004706  Anything less than women winning 50 per cent o...   \n",
       "1  2017-05-11-081817  more family-friendly and flexible workplaces, ...   \n",
       "2  2017-06-23-130636  We need more women and parents in Parliament. ...   \n",
       "3  2015-04-24-025718  I'd like to congratulate all the winners and f...   \n",
       "4  2015-04-08-011609  Clearly we have got a long way to go before we...   \n",
       "\n",
       "            speaker                date  numOccurrences  \\\n",
       "0    Katy Gallagher 2015-03-09 12:30:00               1   \n",
       "1    Katy Gallagher 2017-05-11 00:00:37               1   \n",
       "2    Katy Gallagher 2017-06-23 03:20:00               1   \n",
       "3  Helena Morrissey 2015-04-24 15:33:00               1   \n",
       "4  Helena Morrissey 2015-04-08 18:28:01               1   \n",
       "\n",
       "                                              probas  \\\n",
       "0         [[Katy Gallagher, 0.5872], [None, 0.4128]]   \n",
       "1         [[Katy Gallagher, 0.5596], [None, 0.4404]]   \n",
       "2  [[Katy Gallagher, 0.4996], [None, 0.4403], [La...   \n",
       "3       [[Helena Morrissey, 0.8706], [None, 0.1294]]   \n",
       "4  [[Helena Morrissey, 0.5805], [None, 0.2061], [...   \n",
       "\n",
       "                                                urls  \\\n",
       "0  [http://www.smh.com.au/act-news/women-need-to-...   \n",
       "1  [http://www.mediamaxnetwork.co.ke/news/325569/...   \n",
       "2  [http://www.harpersbazaar.com/culture/features...   \n",
       "3  [http://www.cipd.co.uk/PM/peoplemanagement/b/w...   \n",
       "4  [http://feeds.theguardian.com/c/34708/f/663879...   \n",
       "\n",
       "                                           aliases            date_of_birth  \\\n",
       "0  [Katherine Gallagher, Katherine Ruth Gallagher]  [+1970-03-17T00:00:00Z]   \n",
       "1  [Katherine Gallagher, Katherine Ruth Gallagher]  [+1970-03-17T00:00:00Z]   \n",
       "2  [Katherine Gallagher, Katherine Ruth Gallagher]  [+1970-03-17T00:00:00Z]   \n",
       "3                                             None  [+1966-03-22T00:00:00Z]   \n",
       "4                                             None  [+1966-03-22T00:00:00Z]   \n",
       "\n",
       "      nationality  ...   lastrevid  ethnic_group US_congress_bio_ID  \\\n",
       "0       Australia  ...  1349152158           NaN               None   \n",
       "1       Australia  ...  1349152158           NaN               None   \n",
       "2       Australia  ...  1349152158           NaN               None   \n",
       "3  United Kingdom  ...  1393002378           NaN               None   \n",
       "4  United Kingdom  ...  1393002378           NaN               None   \n",
       "\n",
       "           occupation                   party academic_degree  \\\n",
       "0          politician  Australian Labor Party             NaN   \n",
       "1          politician  Australian Labor Party             NaN   \n",
       "2          politician  Australian Labor Party             NaN   \n",
       "3  business executive                     NaN             NaN   \n",
       "4  business executive                     NaN             NaN   \n",
       "\n",
       "              label candidacy  type religion  \n",
       "0    Katy Gallagher      None  item      NaN  \n",
       "1    Katy Gallagher      None  item      NaN  \n",
       "2    Katy Gallagher      None  item      NaN  \n",
       "3  Helena Morrissey      None  item      NaN  \n",
       "4  Helena Morrissey      None  item      NaN  \n",
       "\n",
       "[5 rows x 21 columns]"
      ]
     },
     "execution_count": 11,
     "metadata": {},
     "output_type": "execute_result"
    }
   ],
   "source": [
    "df_enriched.head()"
   ]
  },
  {
   "cell_type": "code",
   "execution_count": 14,
   "id": "722549e7",
   "metadata": {},
   "outputs": [],
   "source": [
    "# Save to pickle\n",
    "df_enriched.to_pickle(PATH_GENERATED_DATA+'df_enriched.pkl')"
   ]
  },
  {
   "cell_type": "code",
   "execution_count": 15,
   "id": "a47cb66b",
   "metadata": {},
   "outputs": [
    {
     "data": {
      "text/plain": [
       "55328"
      ]
     },
     "execution_count": 15,
     "metadata": {},
     "output_type": "execute_result"
    }
   ],
   "source": [
    "len(df_enriched.index)"
   ]
  }
 ],
 "metadata": {
  "kernelspec": {
   "display_name": "Python 3 (ipykernel)",
   "language": "python",
   "name": "python3"
  },
  "language_info": {
   "codemirror_mode": {
    "name": "ipython",
    "version": 3
   },
   "file_extension": ".py",
   "mimetype": "text/x-python",
   "name": "python",
   "nbconvert_exporter": "python",
   "pygments_lexer": "ipython3",
   "version": "3.8.11"
  }
 },
 "nbformat": 4,
 "nbformat_minor": 5
}
