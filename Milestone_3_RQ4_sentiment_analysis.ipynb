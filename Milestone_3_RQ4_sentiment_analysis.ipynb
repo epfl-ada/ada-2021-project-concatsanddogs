{
 "cells": [
  {
   "cell_type": "markdown",
   "id": "a47b8d17",
   "metadata": {},
   "source": [
    "Delete this block before submission\n",
    "\n",
    "Mardown cheat cheat : https://github.com/adam-p/markdown-here/wiki/Markdown-Cheatsheet#blockquotes\n",
    "\n",
    "Things to do : \n",
    "- Don't forget of the statistical significance aspects of results, for every result, criticize that when interpreting\n",
    "- \n"
   ]
  },
  {
   "cell_type": "markdown",
   "id": "5fea011a",
   "metadata": {},
   "source": [
    "# Project Milestone2 - Group Concatsanddogs"
   ]
  },
  {
   "cell_type": "markdown",
   "id": "754733a8",
   "metadata": {},
   "source": [
    "# The use of women's rights and gender equality rhetoric in the US"
   ]
  },
  {
   "cell_type": "markdown",
   "id": "79aa810f",
   "metadata": {},
   "source": [
    "### Research Question 4 :"
   ]
  },
  {
   "cell_type": "markdown",
   "id": "febe8922",
   "metadata": {},
   "source": [
    "**What is the sentiment analysis of the context of the quotation containing women's rights mention?**\n",
    "\n",
    "**Can we link the sentiment to the use of women's rights ideology?**"
   ]
  },
  {
   "cell_type": "markdown",
   "id": "38f2be5c",
   "metadata": {},
   "source": [
    "## Librairies"
   ]
  },
  {
   "cell_type": "code",
   "execution_count": 1,
   "id": "ceb1f57e",
   "metadata": {},
   "outputs": [],
   "source": [
    "import pandas as pd\n",
    "import numpy as np\n",
    "import matplotlib.pyplot as plt\n",
    "%matplotlib inline\n",
    "import seaborn as sns\n",
    "import nltk\n",
    "#nltk.download('vader_lexicon')"
   ]
  },
  {
   "cell_type": "code",
   "execution_count": 2,
   "id": "3bc6eca7",
   "metadata": {},
   "outputs": [],
   "source": [
    "# Changing some pandas default appearance settings \n",
    "# https://pandas.pydata.org/pandas-docs/stable/user_guide/options.html\n",
    "# pd.options.display.max_colwidth = 200\n",
    "# pd.options.display.max_rows = 100\n",
    "#pd.reset_option(\"display.max_colwidth\") # reset the options"
   ]
  },
  {
   "cell_type": "code",
   "execution_count": 3,
   "id": "e5f3a045",
   "metadata": {},
   "outputs": [],
   "source": [
    "#pd.reset_option(\"^display\")"
   ]
  },
  {
   "cell_type": "code",
   "execution_count": 4,
   "id": "c88aedcf",
   "metadata": {},
   "outputs": [
    {
     "name": "stderr",
     "output_type": "stream",
     "text": [
      "C:\\ProgramData\\Anaconda3\\envs\\ada\\lib\\site-packages\\gensim\\similarities\\__init__.py:15: UserWarning: The gensim.similarities.levenshtein submodule is disabled, because the optional Levenshtein package <https://pypi.org/project/python-Levenshtein/> is unavailable. Install Levenhstein (e.g. `pip install python-Levenshtein`) to suppress this warning.\n",
      "  warnings.warn(msg)\n"
     ]
    }
   ],
   "source": [
    "#NLP libraries\n",
    "import spacy, nltk, gensim, sklearn"
   ]
  },
  {
   "cell_type": "code",
   "execution_count": 5,
   "id": "fec1a1fa",
   "metadata": {},
   "outputs": [],
   "source": [
    "#Vader\n",
    "import vaderSentiment\n",
    "from vaderSentiment.vaderSentiment import SentimentIntensityAnalyzer"
   ]
  },
  {
   "cell_type": "code",
   "execution_count": 6,
   "id": "1ef37579",
   "metadata": {},
   "outputs": [],
   "source": [
    "sns.set_style(\"whitegrid\")"
   ]
  },
  {
   "cell_type": "code",
   "execution_count": 35,
   "id": "20c1d427",
   "metadata": {},
   "outputs": [],
   "source": [
    "PATH_GENERATED_DATA = 'generated_data/'"
   ]
  },
  {
   "cell_type": "markdown",
   "id": "77c33624",
   "metadata": {},
   "source": [
    "## Loading the selected quotes dataframe"
   ]
  },
  {
   "cell_type": "code",
   "execution_count": 40,
   "id": "b351c13d",
   "metadata": {},
   "outputs": [],
   "source": [
    "# loading the dataframe with selected quotes and additional attributes\n",
    "df = pd.read_pickle(PATH_GENERATED_DATA+'df_enriched.pkl', compression='infer', storage_options=None)"
   ]
  },
  {
   "cell_type": "code",
   "execution_count": 41,
   "id": "5ee1a91b",
   "metadata": {
    "tags": []
   },
   "outputs": [
    {
     "data": {
      "text/html": [
       "<div>\n",
       "<style scoped>\n",
       "    .dataframe tbody tr th:only-of-type {\n",
       "        vertical-align: middle;\n",
       "    }\n",
       "\n",
       "    .dataframe tbody tr th {\n",
       "        vertical-align: top;\n",
       "    }\n",
       "\n",
       "    .dataframe thead th {\n",
       "        text-align: right;\n",
       "    }\n",
       "</style>\n",
       "<table border=\"1\" class=\"dataframe\">\n",
       "  <thead>\n",
       "    <tr style=\"text-align: right;\">\n",
       "      <th></th>\n",
       "      <th>quoteID</th>\n",
       "      <th>quotation</th>\n",
       "      <th>speaker</th>\n",
       "      <th>date</th>\n",
       "      <th>numOccurrences</th>\n",
       "      <th>probas</th>\n",
       "      <th>urls</th>\n",
       "      <th>aliases</th>\n",
       "      <th>date_of_birth</th>\n",
       "      <th>nationality</th>\n",
       "      <th>...</th>\n",
       "      <th>lastrevid</th>\n",
       "      <th>ethnic_group</th>\n",
       "      <th>US_congress_bio_ID</th>\n",
       "      <th>occupation</th>\n",
       "      <th>party</th>\n",
       "      <th>academic_degree</th>\n",
       "      <th>label</th>\n",
       "      <th>candidacy</th>\n",
       "      <th>type</th>\n",
       "      <th>religion</th>\n",
       "    </tr>\n",
       "  </thead>\n",
       "  <tbody>\n",
       "    <tr>\n",
       "      <th>0</th>\n",
       "      <td>2015-03-09-004706</td>\n",
       "      <td>Anything less than women winning 50 per cent o...</td>\n",
       "      <td>Katy Gallagher</td>\n",
       "      <td>2015-03-09 12:30:00</td>\n",
       "      <td>1</td>\n",
       "      <td>[[Katy Gallagher, 0.5872], [None, 0.4128]]</td>\n",
       "      <td>[http://www.smh.com.au/act-news/women-need-to-...</td>\n",
       "      <td>[Katherine Gallagher, Katherine Ruth Gallagher]</td>\n",
       "      <td>[+1970-03-17T00:00:00Z]</td>\n",
       "      <td>Australia</td>\n",
       "      <td>...</td>\n",
       "      <td>1349152158</td>\n",
       "      <td>NaN</td>\n",
       "      <td>None</td>\n",
       "      <td>politician</td>\n",
       "      <td>Australian Labor Party</td>\n",
       "      <td>NaN</td>\n",
       "      <td>Katy Gallagher</td>\n",
       "      <td>None</td>\n",
       "      <td>item</td>\n",
       "      <td>NaN</td>\n",
       "    </tr>\n",
       "    <tr>\n",
       "      <th>1</th>\n",
       "      <td>2017-05-11-081817</td>\n",
       "      <td>more family-friendly and flexible workplaces, ...</td>\n",
       "      <td>Katy Gallagher</td>\n",
       "      <td>2017-05-11 00:00:37</td>\n",
       "      <td>1</td>\n",
       "      <td>[[Katy Gallagher, 0.5596], [None, 0.4404]]</td>\n",
       "      <td>[http://www.mediamaxnetwork.co.ke/news/325569/...</td>\n",
       "      <td>[Katherine Gallagher, Katherine Ruth Gallagher]</td>\n",
       "      <td>[+1970-03-17T00:00:00Z]</td>\n",
       "      <td>Australia</td>\n",
       "      <td>...</td>\n",
       "      <td>1349152158</td>\n",
       "      <td>NaN</td>\n",
       "      <td>None</td>\n",
       "      <td>politician</td>\n",
       "      <td>Australian Labor Party</td>\n",
       "      <td>NaN</td>\n",
       "      <td>Katy Gallagher</td>\n",
       "      <td>None</td>\n",
       "      <td>item</td>\n",
       "      <td>NaN</td>\n",
       "    </tr>\n",
       "    <tr>\n",
       "      <th>2</th>\n",
       "      <td>2017-06-23-130636</td>\n",
       "      <td>We need more women and parents in Parliament. ...</td>\n",
       "      <td>Katy Gallagher</td>\n",
       "      <td>2017-06-23 03:20:00</td>\n",
       "      <td>1</td>\n",
       "      <td>[[Katy Gallagher, 0.4996], [None, 0.4403], [La...</td>\n",
       "      <td>[http://www.harpersbazaar.com/culture/features...</td>\n",
       "      <td>[Katherine Gallagher, Katherine Ruth Gallagher]</td>\n",
       "      <td>[+1970-03-17T00:00:00Z]</td>\n",
       "      <td>Australia</td>\n",
       "      <td>...</td>\n",
       "      <td>1349152158</td>\n",
       "      <td>NaN</td>\n",
       "      <td>None</td>\n",
       "      <td>politician</td>\n",
       "      <td>Australian Labor Party</td>\n",
       "      <td>NaN</td>\n",
       "      <td>Katy Gallagher</td>\n",
       "      <td>None</td>\n",
       "      <td>item</td>\n",
       "      <td>NaN</td>\n",
       "    </tr>\n",
       "    <tr>\n",
       "      <th>3</th>\n",
       "      <td>2015-04-24-025718</td>\n",
       "      <td>I'd like to congratulate all the winners and f...</td>\n",
       "      <td>Helena Morrissey</td>\n",
       "      <td>2015-04-24 15:33:00</td>\n",
       "      <td>1</td>\n",
       "      <td>[[Helena Morrissey, 0.8706], [None, 0.1294]]</td>\n",
       "      <td>[http://www.cipd.co.uk/PM/peoplemanagement/b/w...</td>\n",
       "      <td>None</td>\n",
       "      <td>[+1966-03-22T00:00:00Z]</td>\n",
       "      <td>United Kingdom</td>\n",
       "      <td>...</td>\n",
       "      <td>1393002378</td>\n",
       "      <td>NaN</td>\n",
       "      <td>None</td>\n",
       "      <td>business executive</td>\n",
       "      <td>NaN</td>\n",
       "      <td>NaN</td>\n",
       "      <td>Helena Morrissey</td>\n",
       "      <td>None</td>\n",
       "      <td>item</td>\n",
       "      <td>NaN</td>\n",
       "    </tr>\n",
       "    <tr>\n",
       "      <th>4</th>\n",
       "      <td>2015-04-08-011609</td>\n",
       "      <td>Clearly we have got a long way to go before we...</td>\n",
       "      <td>Helena Morrissey</td>\n",
       "      <td>2015-04-08 18:28:01</td>\n",
       "      <td>1</td>\n",
       "      <td>[[Helena Morrissey, 0.5805], [None, 0.2061], [...</td>\n",
       "      <td>[http://feeds.theguardian.com/c/34708/f/663879...</td>\n",
       "      <td>None</td>\n",
       "      <td>[+1966-03-22T00:00:00Z]</td>\n",
       "      <td>United Kingdom</td>\n",
       "      <td>...</td>\n",
       "      <td>1393002378</td>\n",
       "      <td>NaN</td>\n",
       "      <td>None</td>\n",
       "      <td>business executive</td>\n",
       "      <td>NaN</td>\n",
       "      <td>NaN</td>\n",
       "      <td>Helena Morrissey</td>\n",
       "      <td>None</td>\n",
       "      <td>item</td>\n",
       "      <td>NaN</td>\n",
       "    </tr>\n",
       "  </tbody>\n",
       "</table>\n",
       "<p>5 rows × 21 columns</p>\n",
       "</div>"
      ],
      "text/plain": [
       "             quoteID                                          quotation  \\\n",
       "0  2015-03-09-004706  Anything less than women winning 50 per cent o...   \n",
       "1  2017-05-11-081817  more family-friendly and flexible workplaces, ...   \n",
       "2  2017-06-23-130636  We need more women and parents in Parliament. ...   \n",
       "3  2015-04-24-025718  I'd like to congratulate all the winners and f...   \n",
       "4  2015-04-08-011609  Clearly we have got a long way to go before we...   \n",
       "\n",
       "            speaker                date  numOccurrences  \\\n",
       "0    Katy Gallagher 2015-03-09 12:30:00               1   \n",
       "1    Katy Gallagher 2017-05-11 00:00:37               1   \n",
       "2    Katy Gallagher 2017-06-23 03:20:00               1   \n",
       "3  Helena Morrissey 2015-04-24 15:33:00               1   \n",
       "4  Helena Morrissey 2015-04-08 18:28:01               1   \n",
       "\n",
       "                                              probas  \\\n",
       "0         [[Katy Gallagher, 0.5872], [None, 0.4128]]   \n",
       "1         [[Katy Gallagher, 0.5596], [None, 0.4404]]   \n",
       "2  [[Katy Gallagher, 0.4996], [None, 0.4403], [La...   \n",
       "3       [[Helena Morrissey, 0.8706], [None, 0.1294]]   \n",
       "4  [[Helena Morrissey, 0.5805], [None, 0.2061], [...   \n",
       "\n",
       "                                                urls  \\\n",
       "0  [http://www.smh.com.au/act-news/women-need-to-...   \n",
       "1  [http://www.mediamaxnetwork.co.ke/news/325569/...   \n",
       "2  [http://www.harpersbazaar.com/culture/features...   \n",
       "3  [http://www.cipd.co.uk/PM/peoplemanagement/b/w...   \n",
       "4  [http://feeds.theguardian.com/c/34708/f/663879...   \n",
       "\n",
       "                                           aliases            date_of_birth  \\\n",
       "0  [Katherine Gallagher, Katherine Ruth Gallagher]  [+1970-03-17T00:00:00Z]   \n",
       "1  [Katherine Gallagher, Katherine Ruth Gallagher]  [+1970-03-17T00:00:00Z]   \n",
       "2  [Katherine Gallagher, Katherine Ruth Gallagher]  [+1970-03-17T00:00:00Z]   \n",
       "3                                             None  [+1966-03-22T00:00:00Z]   \n",
       "4                                             None  [+1966-03-22T00:00:00Z]   \n",
       "\n",
       "      nationality  ...   lastrevid  ethnic_group US_congress_bio_ID  \\\n",
       "0       Australia  ...  1349152158           NaN               None   \n",
       "1       Australia  ...  1349152158           NaN               None   \n",
       "2       Australia  ...  1349152158           NaN               None   \n",
       "3  United Kingdom  ...  1393002378           NaN               None   \n",
       "4  United Kingdom  ...  1393002378           NaN               None   \n",
       "\n",
       "           occupation                   party academic_degree  \\\n",
       "0          politician  Australian Labor Party             NaN   \n",
       "1          politician  Australian Labor Party             NaN   \n",
       "2          politician  Australian Labor Party             NaN   \n",
       "3  business executive                     NaN             NaN   \n",
       "4  business executive                     NaN             NaN   \n",
       "\n",
       "              label candidacy  type religion  \n",
       "0    Katy Gallagher      None  item      NaN  \n",
       "1    Katy Gallagher      None  item      NaN  \n",
       "2    Katy Gallagher      None  item      NaN  \n",
       "3  Helena Morrissey      None  item      NaN  \n",
       "4  Helena Morrissey      None  item      NaN  \n",
       "\n",
       "[5 rows x 21 columns]"
      ]
     },
     "execution_count": 41,
     "metadata": {},
     "output_type": "execute_result"
    }
   ],
   "source": [
    "df.head()"
   ]
  },
  {
   "cell_type": "code",
   "execution_count": 42,
   "id": "eb692941",
   "metadata": {},
   "outputs": [
    {
     "name": "stdout",
     "output_type": "stream",
     "text": [
      "The dataframe has 55328 entries\n"
     ]
    }
   ],
   "source": [
    "print(f'The dataframe has {len(df)} entries')"
   ]
  },
  {
   "cell_type": "code",
   "execution_count": 43,
   "id": "3969377b",
   "metadata": {},
   "outputs": [
    {
     "data": {
      "text/plain": [
       "0    Anything less than women winning 50 per cent o...\n",
       "1    more family-friendly and flexible workplaces, ...\n",
       "Name: quotation, dtype: object"
      ]
     },
     "execution_count": 43,
     "metadata": {},
     "output_type": "execute_result"
    }
   ],
   "source": [
    "df['quotation'].head(2)"
   ]
  },
  {
   "cell_type": "code",
   "execution_count": null,
   "id": "19c0550a",
   "metadata": {},
   "outputs": [],
   "source": []
  },
  {
   "cell_type": "markdown",
   "id": "3c212a86",
   "metadata": {},
   "source": [
    "## Sentiment analysis prep"
   ]
  },
  {
   "cell_type": "code",
   "execution_count": 44,
   "id": "4ea62ab2",
   "metadata": {},
   "outputs": [],
   "source": [
    "analyzer = SentimentIntensityAnalyzer()\n",
    "vs = analyzer.polarity_scores(df['quotation'].loc[1])"
   ]
  },
  {
   "cell_type": "markdown",
   "id": "d9b7e27b",
   "metadata": {},
   "source": [
    "***\n",
    "### Plot testing"
   ]
  },
  {
   "cell_type": "markdown",
   "id": "3c43588a",
   "metadata": {},
   "source": [
    "For a first step, sentiment analysis using Vader will be done. We could potentially use other tools such as the current state of the art in sentiment analysis and text classification XLNet, or otherwise DeepMoji or Flair."
   ]
  },
  {
   "cell_type": "code",
   "execution_count": 14,
   "id": "ca194679",
   "metadata": {},
   "outputs": [],
   "source": [
    "def sentiment_plot(scores):\n",
    "    '''\n",
    "    This function plots the polarity score for every word in a quote\n",
    "    inputs : dict containing the polarity score for the whole sentence, \n",
    "    and the one for every word of the sentence\n",
    "    outputs : the plot\n",
    "    '''\n",
    "    sns.set(rc={'figure.figsize':(20,3)})\n",
    "    sns.heatmap(pd.DataFrame(scores).set_index(\"quotation\").T,center=0, annot=True, cmap = \"PiYG\",annot_kws={\"size\": 10})"
   ]
  },
  {
   "cell_type": "code",
   "execution_count": 15,
   "id": "dfaf8ae6",
   "metadata": {},
   "outputs": [],
   "source": [
    "quotation = df['quotation'].loc[1]"
   ]
  },
  {
   "cell_type": "code",
   "execution_count": 16,
   "id": "7c4e76d3",
   "metadata": {},
   "outputs": [
    {
     "data": {
      "text/plain": [
       "{'neg': 0.0, 'neu': 0.708, 'pos': 0.292, 'compound': 0.946}"
      ]
     },
     "execution_count": 16,
     "metadata": {},
     "output_type": "execute_result"
    }
   ],
   "source": [
    "analyzer.polarity_scores(quotation)"
   ]
  },
  {
   "cell_type": "code",
   "execution_count": 17,
   "id": "e42ad9ba",
   "metadata": {
    "scrolled": true
   },
   "outputs": [
    {
     "data": {
      "image/png": "[encoded data removed]",
      "text/plain": [
       "<Figure size 1440x216 with 2 Axes>"
      ]
     },
     "metadata": {},
     "output_type": "display_data"
    }
   ],
   "source": [
    "sentiment_plot({\n",
    "    \"quotation\":[\"Quotation\"] + quotation.split(),\n",
    "    \"Sentiment\":[analyzer.polarity_scores(quotation)[\"compound\"]] + [analyzer.polarity_scores(word)[\"compound\"] for word in quotation.split()]\n",
    "})"
   ]
  },
  {
   "cell_type": "markdown",
   "id": "ffdcc441",
   "metadata": {},
   "source": [
    "## Sub question 1 : What is the sentiment analysis of the context of the quotations containing women's rights mention?"
   ]
  },
  {
   "cell_type": "code",
   "execution_count": 18,
   "id": "f131a66d",
   "metadata": {},
   "outputs": [],
   "source": [
    "# only add tokenizer as preprocessing here ( I think we don't need more for now)"
   ]
  },
  {
   "cell_type": "code",
   "execution_count": 19,
   "id": "7a0a8b51",
   "metadata": {},
   "outputs": [
    {
     "data": {
      "text/plain": [
       "('ner', <spacy.pipeline.pipes.EntityRecognizer at 0x2264a2da1c0>)"
      ]
     },
     "execution_count": 19,
     "metadata": {},
     "output_type": "execute_result"
    }
   ],
   "source": [
    "nlp = spacy.load('en')\n",
    "nlp.remove_pipe('parser')\n",
    "nlp.remove_pipe('tagger')\n",
    "nlp.remove_pipe('ner')\n",
    "#nlp.remove_pipe('textcat') "
   ]
  },
  {
   "cell_type": "code",
   "execution_count": 20,
   "id": "00af47b9",
   "metadata": {},
   "outputs": [
    {
     "name": "stdout",
     "output_type": "stream",
     "text": [
      "I'd like to congratulate all the winners and finalists on their success. They have demonstrated clear leadership by moving women's progression from a `diversity' initiative to a core business priority. Achieving gender equality is only possible when men and women work together at every level, creating real change. \n",
      "\n",
      "I'd like to congratulate all the winners and finalists on their success. They have demonstrated clear leadership by moving women's progression from a `diversity' initiative to a core business priority. Achieving gender equality is only possible when men and women work together at every level, creating real change.\n"
     ]
    }
   ],
   "source": [
    "print(df['quotation'].loc[1], '\\n')\n",
    "print(nlp(df['quotation'].loc[1]))"
   ]
  },
  {
   "cell_type": "code",
   "execution_count": 46,
   "id": "655fab14",
   "metadata": {
    "scrolled": true
   },
   "outputs": [],
   "source": [
    "df['sentiment'] = df['quotation'].apply(lambda x : analyzer.polarity_scores(x)['compound'])"
   ]
  },
  {
   "cell_type": "code",
   "execution_count": 47,
   "id": "228e1792",
   "metadata": {},
   "outputs": [
    {
     "data": {
      "text/plain": [
       "0    0.6271\n",
       "1    0.6557\n",
       "2    0.6557\n",
       "3    0.9460\n",
       "4    0.6705\n",
       "Name: sentiment, dtype: float64"
      ]
     },
     "execution_count": 47,
     "metadata": {},
     "output_type": "execute_result"
    }
   ],
   "source": [
    "df['sentiment'].head()"
   ]
  },
  {
   "cell_type": "code",
   "execution_count": 48,
   "id": "09908de8",
   "metadata": {
    "scrolled": true
   },
   "outputs": [
    {
     "data": {
      "image/png": "[encoded data removed]",
      "text/plain": [
       "<Figure size 576x360 with 1 Axes>"
      ]
     },
     "metadata": {},
     "output_type": "display_data"
    }
   ],
   "source": [
    "df['sentiment'].hist(bins=40, figsize = [8,5])\n",
    "plt.show()"
   ]
  },
  {
   "cell_type": "markdown",
   "id": "113f6965",
   "metadata": {},
   "source": [
    "There seems to be a lof of quotes that are classified as neutral, but we can see that the data is polarised "
   ]
  },
  {
   "cell_type": "markdown",
   "id": "b75c075d",
   "metadata": {},
   "source": [
    "### Sentiment in function of time"
   ]
  },
  {
   "cell_type": "code",
   "execution_count": 49,
   "id": "a7bac637",
   "metadata": {},
   "outputs": [
    {
     "data": {
      "image/png": "[encoded data removed]",
      "text/plain": [
       "<Figure size 1440x576 with 1 Axes>"
      ]
     },
     "metadata": {},
     "output_type": "display_data"
    }
   ],
   "source": [
    "plt.figure(figsize=(20,8))\n",
    "sns.histplot(df[['date','sentiment']],x=\"date\", y=\"sentiment\")\n",
    "plt.show()"
   ]
  },
  {
   "cell_type": "code",
   "execution_count": null,
   "id": "fe884d36",
   "metadata": {},
   "outputs": [],
   "source": []
  },
  {
   "cell_type": "markdown",
   "id": "92bdf739",
   "metadata": {},
   "source": [
    "Seems like there were a lot of negative quotes end of 2017\n",
    "We could maybe use the list provided by wikipedia : https://en.wikipedia.org/wiki/2017_in_the_United_States#October to see if there were quotes about that\n",
    " \n",
    ">Tough talk on immigration: Shortly after taking office in January, President Trump sought to make good on his “America First” campaign promise by imposing a series of contentious travel bans on citizens from several Muslim-majority nations.\n",
    "\n",
    ">Federal district courts struck down implementation of the bans, though a Supreme Court ruling in December 2017 reversed the lower courts’ decisions, allowing the administration to fully implement the bans.\n",
    "\n",
    ">Trump also continued to promote his election campaign idea of a border wall with Mexico that he says will help quell illegal immigration from Mexico and points south.\n",
    "\n",
    "https://www.history.com/topics/21st-century/2017-events#section_1"
   ]
  },
  {
   "cell_type": "code",
   "execution_count": 25,
   "id": "162afa01",
   "metadata": {
    "scrolled": true
   },
   "outputs": [],
   "source": [
    "# sort dataframe by date\n",
    "# df.sort_values(ascending=[True],by=['date'],inplace=True)\n",
    "# df.head()"
   ]
  },
  {
   "cell_type": "code",
   "execution_count": 50,
   "id": "0544d332",
   "metadata": {},
   "outputs": [
    {
     "data": {
      "image/png": "[encoded data removed]",
      "text/plain": [
       "<Figure size 1296x360 with 1 Axes>"
      ]
     },
     "metadata": {},
     "output_type": "display_data"
    }
   ],
   "source": [
    "# quotes in function of time\n",
    "df['date'].hist(bins = 100, figsize = [18,5])\n",
    "plt.show() \n",
    "# this graph should probably go into a general presentation of our data instead of here "
   ]
  },
  {
   "cell_type": "code",
   "execution_count": 51,
   "id": "00dba2f1",
   "metadata": {
    "scrolled": true
   },
   "outputs": [
    {
     "data": {
      "image/png": "[encoded data removed]",
      "text/plain": [
       "<Figure size 1296x360 with 1 Axes>"
      ]
     },
     "metadata": {},
     "output_type": "display_data"
    }
   ],
   "source": [
    "df.plot(x = 'date',y='sentiment', figsize = [18,5])\n",
    "plt.show()\n",
    "# not much info from this graph"
   ]
  },
  {
   "cell_type": "markdown",
   "id": "39614fca",
   "metadata": {},
   "source": [
    "#### separate the data into positive, negative, and neutral quotes"
   ]
  },
  {
   "cell_type": "code",
   "execution_count": 52,
   "id": "47558c06",
   "metadata": {},
   "outputs": [],
   "source": [
    "# take a threshold and separate the data in two : \n",
    "# threshold choice currently partly arbitrary\n",
    "df_positive = df.query('sentiment > 0.25')\n",
    "df_negative = df.query('sentiment < -0.25')\n",
    "df_neutral  = df.query('sentiment > -0.25').query('sentiment < 0.25')"
   ]
  },
  {
   "cell_type": "code",
   "execution_count": 53,
   "id": "adb7f8f0",
   "metadata": {},
   "outputs": [
    {
     "data": {
      "image/png": "[encoded data removed]",
      "text/plain": [
       "<Figure size 1296x360 with 1 Axes>"
      ]
     },
     "metadata": {},
     "output_type": "display_data"
    }
   ],
   "source": [
    "df_positive['date'].hist(bins = 100, figsize = [18,5])\n",
    "plt.show()"
   ]
  },
  {
   "cell_type": "code",
   "execution_count": 54,
   "id": "7b57a881",
   "metadata": {},
   "outputs": [
    {
     "data": {
      "image/png": "[encoded data removed]",
      "text/plain": [
       "<Figure size 1296x360 with 1 Axes>"
      ]
     },
     "metadata": {},
     "output_type": "display_data"
    }
   ],
   "source": [
    "df_negative['date'].hist(bins = 100, figsize = [18,5])\n",
    "# seems like around 2018 there were a lot of negative quotations\n",
    "plt.show()"
   ]
  },
  {
   "cell_type": "code",
   "execution_count": 55,
   "id": "39c076e7",
   "metadata": {},
   "outputs": [
    {
     "data": {
      "image/png": "[encoded data removed]",
      "text/plain": [
       "<Figure size 1296x360 with 1 Axes>"
      ]
     },
     "metadata": {},
     "output_type": "display_data"
    }
   ],
   "source": [
    "df_neutral['date'].hist(bins = 100, figsize = [18,5])\n",
    "plt.show()"
   ]
  },
  {
   "cell_type": "markdown",
   "id": "94c9650f",
   "metadata": {},
   "source": [
    "## Sub question 2 : Can we link the sentiment to the use of women's rights ideology?"
   ]
  },
  {
   "cell_type": "markdown",
   "id": "31cb60c7",
   "metadata": {},
   "source": [
    "- Seperate the speakers in function of their political party\n",
    "- calculate the average of the compound score (from Vader) on their quotes. \n",
    "- show distribution in function of party\n",
    "\n",
    "Maybe we will find a relation between the compound score and the general opinion of the party."
   ]
  },
  {
   "cell_type": "markdown",
   "id": "d8924181",
   "metadata": {},
   "source": [
    "### Sentiment and political party"
   ]
  },
  {
   "cell_type": "code",
   "execution_count": 56,
   "id": "1f7b3c4b",
   "metadata": {},
   "outputs": [
    {
     "data": {
      "text/plain": [
       "Index(['quoteID', 'quotation', 'speaker', 'date', 'numOccurrences', 'probas',\n",
       "       'urls', 'aliases', 'date_of_birth', 'nationality', 'gender',\n",
       "       'lastrevid', 'ethnic_group', 'US_congress_bio_ID', 'occupation',\n",
       "       'party', 'academic_degree', 'label', 'candidacy', 'type', 'religion',\n",
       "       'sentiment'],\n",
       "      dtype='object')"
      ]
     },
     "execution_count": 56,
     "metadata": {},
     "output_type": "execute_result"
    }
   ],
   "source": [
    "df.columns"
   ]
  },
  {
   "cell_type": "code",
   "execution_count": 58,
   "id": "57fb9d1e",
   "metadata": {},
   "outputs": [
    {
     "data": {
      "text/plain": [
       "589"
      ]
     },
     "execution_count": 58,
     "metadata": {},
     "output_type": "execute_result"
    }
   ],
   "source": [
    "df['party'].nunique()"
   ]
  },
  {
   "cell_type": "code",
   "execution_count": 59,
   "id": "c0761e50",
   "metadata": {},
   "outputs": [
    {
     "data": {
      "text/plain": [
       "array(['Australian Labor Party', nan, 'Democratic Party',\n",
       "       'Liberal Party of Australia', 'Republican Party',\n",
       "       'Liberal Party of Canada', 'Alberta Liberal Party',\n",
       "       'independent politician',\n",
       "       'Communist Party of India (Marxist–Leninist) Liberation',\n",
       "       'African National Congress', 'National Party of Australia – NSW',\n",
       "       'New Zealand National Party',\n",
       "       'Minnesota Democratic–Farmer–Labor Party',\n",
       "       'National Democratic Congress', 'Justice and Development Party',\n",
       "       'New Democratic Party', 'Democratic Action Party',\n",
       "       'Fiji First Party', 'Liberty Union Party',\n",
       "       'New Democratic Party of Manitoba', 'Ontario Liberal Party',\n",
       "       'Bulgarian Socialist Party', 'Bharatiya Janata Party',\n",
       "       'Conservative Party of Canada', 'Truth and Justice Party',\n",
       "       'Socialist Party', 'Worker-communist Party of Iran',\n",
       "       'Labour Party', 'Indian National Congress',\n",
       "       'Progressive Conservative Association of Alberta',\n",
       "       'Communist Party of India', 'Independent Liberal Party',\n",
       "       'Communist Party of India (Marxist)', 'Awami National Party',\n",
       "       'Unity Party', 'Israeli Labor Party',\n",
       "       'Green Party of Aotearoa New Zealand',\n",
       "       'Union for a Popular Movement', 'Australian Democrats',\n",
       "       'Nacionalista Party', 'Congress for Progressive Change',\n",
       "       'Patriotic Front', 'New Zealand Labour Party',\n",
       "       'Conservative Party', 'Scottish National Party',\n",
       "       'Scottish Labour Party', 'British Columbia Liberal Party',\n",
       "       'United National Party', 'Hatnuah', 'Scottish Conservatives',\n",
       "       'Progressive Party', 'Sinn Féin', 'Liberal Democrats',\n",
       "       'Republican Party of Minnesota',\n",
       "       'United Socialist Party of Venezuela', 'Islamic Republican Party',\n",
       "       'Balad', 'National League for Democracy',\n",
       "       'Reform Party of the United States of America',\n",
       "       'Peoples Democratic Party', 'Saskatchewan New Democratic Party',\n",
       "       'Liberal Democratic Party', 'Parti Pesaka Bumiputera Bersatu',\n",
       "       'Forum for Democratic Change', 'Green Party',\n",
       "       'Ontario New Democratic Party', 'Bangladesh Awami League',\n",
       "       'Liberal National Party of Queensland', 'Iowa Democratic Party',\n",
       "       'Party of National Unity', 'Colombian Conservative Party',\n",
       "       'Australian Labor Party (Victorian Branch)',\n",
       "       'consensus government in Canada', 'Free Democratic Party',\n",
       "       'Swedish Social Democratic Party',\n",
       "       'Social Democratic Party of Croatia',\n",
       "       'Liberal Party of the Philippines', 'California Republican Party',\n",
       "       'Welsh Labour', 'Pakistan Peoples Party',\n",
       "       'Alberta New Democratic Party', \"People's Party\",\n",
       "       'Lakas Kampi CMD', 'Fianna Fáil', 'Podemos', 'The Jewish Home',\n",
       "       \"Clive Palmer's United Australia Party\", 'Social Democrats',\n",
       "       'Aam Aadmi Party', 'Christian Democratic Union',\n",
       "       'Labour Co-operative', 'Yesh Atid', 'National Salvation Party',\n",
       "       'Janata Dal (United)', 'Communist Party of China',\n",
       "       'Socialist Workers Party', \"Christian Social People's Party\",\n",
       "       'Australian Labor Party (Queensland Branch)',\n",
       "       'UK Independence Party', 'GABRIELA', 'Australian Greens',\n",
       "       'All Progressives Congress',\n",
       "       'All India Majlis-e-Ittehadul Muslimeen',\n",
       "       'Green Party of the United States',\n",
       "       'Conservative Party of New York State',\n",
       "       'Social Democratic Party of Germany', 'Justicialist Party',\n",
       "       'Rwandan Patriotic Front',\n",
       "       'Indonesian Democratic Party – Struggle',\n",
       "       'California Democratic Party', 'Working Families Party',\n",
       "       'National Party of Australia',\n",
       "       'Progressive Conservative Party of Ontario', \"New People's Party\",\n",
       "       'Libertarian Party', 'Scottish Green Party',\n",
       "       'United Development Party', 'Shiv Sena', 'The National Alliance',\n",
       "       'Utah Democratic Party', 'Fine Gael', 'Greens Western Australia',\n",
       "       'Democratic Socialists of America', 'Five Star Movement',\n",
       "       'United Malays National Organisation', \"Republican People's Party\",\n",
       "       'Liberal Party of Australia (Victorian Division)',\n",
       "       'Pakistan Muslim League (N)',\n",
       "       'Partido Demokratiko Pilipino–Lakas ng Bayan',\n",
       "       'Orange Democratic Movement', 'National Resistance Movement',\n",
       "       'Democratic Progressive Party', 'Otzma Yehudit',\n",
       "       \"People's National Movement\",\n",
       "       'Liberal Party of Australia (New South Wales Division)',\n",
       "       'Islamic Renaissance Party of Tajikistan',\n",
       "       'Christian Democratic and Flemish', 'Parti Bersatu Sabah',\n",
       "       \"Women's Equality Party\", 'Ohio Democratic Party', 'Likud',\n",
       "       \"People's National Party\", 'One Nation', \"People's Reform Party\",\n",
       "       \"People's Action Party\", \"People's Mujahedin of Iran\",\n",
       "       'Christian Democratic Party', 'Kenya African National Union',\n",
       "       'Biju Janata Dal', 'Country Liberal Party',\n",
       "       'Nebraska Democratic Party', 'Democratic National Alliance',\n",
       "       'Socialist Unity Party of Germany', 'Parti libéral du Québec',\n",
       "       \"Alliance '90/The Greens\",\n",
       "       'Zimbabwe African National Union – Patriotic Front',\n",
       "       'Social Democratic and Labour Party', 'Saskatchewan Party',\n",
       "       'Wiper Democratic Movement', 'Democracy Is Freedom – The Daisy',\n",
       "       'Republican Left of Catalonia', 'Civic Platform',\n",
       "       \"Derryn Hinch's Justice Party\", 'Liberty Korea Party',\n",
       "       'Telugu Desam Party',\n",
       "       'Australian Labor Party (New South Wales Branch)',\n",
       "       'Utah Republican Party', 'National Party of Australia (WA)',\n",
       "       'Humanist Party of Guatemala', 'Ecologist Party \"The Greens\"',\n",
       "       \"All People's Congress\", 'National Democratic Party',\n",
       "       \"Cambodian People's Party\", 'Awami Workers Party', 'Hadash',\n",
       "       'Democratic Party of Korea', 'Christian Democrats',\n",
       "       'United National Congress', 'Action Congress of Nigeria',\n",
       "       'Pakistan Tehreek-e-Insaf', 'Fifth Republic Movement',\n",
       "       \"People's Party for Freedom and Democracy\",\n",
       "       'Ulster Unionist Party', 'Solomon Islands Social Credit Party',\n",
       "       'Human Rights Protection Party', 'Solidarity–People Before Profit',\n",
       "       'Muttahida Qaumi Movement', 'Malaysian Chinese Association',\n",
       "       'Democratic Alliance', 'Vote 1 Local Jobs', 'Bahujan Samaj Party',\n",
       "       'Jubilee Party of Kenya', 'Party of the Revolution',\n",
       "       'Parti Québécois', 'Malaysian Islamic Party',\n",
       "       'Revolutionary Communist Party', 'Nepali Congress', 'Left Party',\n",
       "       'Australian Labor Party (Australian Capital Territory Branch)',\n",
       "       'Radical Party of the Left',\n",
       "       'Citizens for European Development of Bulgaria', 'Hamas',\n",
       "       \"United People's Freedom Alliance\",\n",
       "       'Green Party of England and Wales', 'New Patriotic Party',\n",
       "       'Republican Party of Iowa', 'Yisrael Beiteinu',\n",
       "       'Liberal Party of Australia (Western Australian Division)',\n",
       "       'International Marxist Group', 'Nova Scotia Liberal Party',\n",
       "       'Australian Labor Party (Northern Territory Branch)',\n",
       "       'National Rally',\n",
       "       'North Dakota Democratic-Nonpartisan League Party',\n",
       "       'Welsh Conservative Party', 'Scottish Liberal Democrats',\n",
       "       'Barbados Labour Party', 'Socialist Party of Chile',\n",
       "       'Social Democratic Party of Austria', 'Greens New South Wales',\n",
       "       'African Christian Democratic Party', 'Jatiya Samajtantrik Dal',\n",
       "       'Communist Party of Nepal (Unity Centre)',\n",
       "       'Independent Senators Group', 'Nationalist Party',\n",
       "       'Cambodian National Rescue Party',\n",
       "       'Social Democratic Party of Finland', 'Progressive Liberal Party',\n",
       "       'Samajwadi Party', 'Constitutional Democratic Party of Japan',\n",
       "       'United Opposition', 'McGillicuddy Serious Party',\n",
       "       'United Democratic Front', 'Conservative Party of New Zealand',\n",
       "       \"Nationalist People's Coalition\", 'Jamaica Labour Party',\n",
       "       'Liberty Movement', 'Rastakhiz Party',\n",
       "       'Islamic Iran Participation Front', 'Panameñista Party',\n",
       "       'Pakistan Muslim League',\n",
       "       'National Movement for Stability and Progress',\n",
       "       'British Columbia New Democratic Party',\n",
       "       'Democratic Party of Oregon', 'New Democracy',\n",
       "       \"Cameroon People's Democratic Movement\",\n",
       "       \"Akbayan Citizens' Action Party\", 'Maine Democratic Party',\n",
       "       'Bhutan Peace and Prosperity Party', 'Rally for the Republic',\n",
       "       'Coalition Avenir Québec', 'Liberal Democratic Party of Moldova',\n",
       "       'Armed Forces Revolutionary Council, Ghana',\n",
       "       'Economic Freedom Fighters', 'Communist Party of Czechoslovakia',\n",
       "       'Yukon Party', 'Pwersa ng Masang Pilipino', 'Your Movement',\n",
       "       \"Jammu and Kashmir People's Democratic Party\",\n",
       "       'Australian Labor Party (Western Australian Branch)',\n",
       "       'Norwegian Labour Party', 'Canadian Alliance', 'Japan New Party',\n",
       "       'Liberal Party of Australia (Tasmanian Division)',\n",
       "       'Free Democratic Party of Switzerland', 'Patriotic Alliance',\n",
       "       'Progressive Conservative Party of Manitoba',\n",
       "       'Rashtriya Janata Dal', 'Conservative Party of Norway',\n",
       "       \"Sarawak United Peoples' Party\",\n",
       "       \"South-West Africa People's Organization\", 'New Flemish Alliance',\n",
       "       \"Peoples' Democratic Party\", 'Free National Movement',\n",
       "       'North Carolina Republican Party',\n",
       "       'National Convergence \"Kwa Na Kwa\"', 'ACT New Zealand',\n",
       "       'New Macau Association', \"Italian People's Party\", 'Centre Party',\n",
       "       \"Workers' Party\", 'Yukon New Democratic Party',\n",
       "       'Europe Ecology – The Greens', 'National Coalition Party',\n",
       "       \"Swiss People's Party\", 'Popular Democratic Party',\n",
       "       'Workers World Party', 'SA-BEST', 'Action démocratique du Québec',\n",
       "       'Pirate Party', 'Civic Choice',\n",
       "       'Progressive Conservative Party of New Brunswick',\n",
       "       'The Wikileaks Party', 'Communist Party of Cuba',\n",
       "       'Democratic Action', 'Meretz', 'Danish Social Liberal Party',\n",
       "       'Hugpong sa Tawong Lungsod', 'Moderate Party',\n",
       "       \"Progressive Citizens' Party\", 'Free Voters of Bavaria',\n",
       "       'Progressive Conservative Association of Nova Scotia',\n",
       "       'Liberal Party of Australia (South Australian Division)',\n",
       "       'National Religious Party', 'Iranian reform movement', 'SYRIZA',\n",
       "       'Republican Proposal', 'FRELIMO', 'Dravida Munnetra Kazhagam',\n",
       "       'Vanguard Unionist Progressive Party', 'Toward Europe',\n",
       "       'People Before Profit Alliance', 'National Rally of Independents',\n",
       "       'United Conservative Party', \"Tigray People's Liberation Front\",\n",
       "       'Projet Montréal', 'Green Youth', 'La République En Marche',\n",
       "       'Social Democratic Party', 'Bangladesh Nationalist Party',\n",
       "       'Respect Party', 'Czech Social Democratic Party',\n",
       "       'Michigan Republican Party', 'Georgian Dream',\n",
       "       'Illinois Republican Party', \"Austrian People's Party\",\n",
       "       'New Brunswick Liberal Association',\n",
       "       'Communist Party of the Soviet Union',\n",
       "       'Armenian Revolutionary Federation', 'The People of Freedom',\n",
       "       'Lok Janshakti Party', 'Progressive Conservative Party of Canada',\n",
       "       'Greater Dunedin', 'Pirate Party UK', 'Democratic Rally',\n",
       "       'Coalition for Democratic Change', 'Forza Italia (1994)',\n",
       "       'National Action Party',\n",
       "       'Newfoundland and Labrador New Democratic Party',\n",
       "       'Communist Party of Canada', 'Antigua and Barbuda Labour Party',\n",
       "       'Liberals', 'Independence Party', 'Kuomintang',\n",
       "       'Saskatchewan Liberal Party', 'Left, Ecology and Freedom',\n",
       "       'BC Green Party', 'Malawi Congress Party',\n",
       "       'All Progressives Grand Alliance',\n",
       "       'Nova Scotia New Democratic Party', 'Popular Will',\n",
       "       'Prince Edward Island Liberal Party',\n",
       "       'Maine Green Independent Party', 'Barisan Nasional',\n",
       "       'Party for Democracy',\n",
       "       'Liberal Party of Newfoundland and Labrador', 'Charter Party',\n",
       "       'Forza Italia (2013)', 'Oregon Republican Party', 'Venstre',\n",
       "       'Telangana Rashtra Samithi', 'Centre Alliance',\n",
       "       'Initiative for Catalonia Greens', 'Rally of the Guinean People',\n",
       "       'Democratic Way', 'Plaid Cymru', 'Die Grünen', 'Bloc Québécois',\n",
       "       'Combatant Clergy Association', 'Nationalist Congress Party',\n",
       "       'United Democratic Movement', 'Sri Lanka Freedom Party',\n",
       "       'European Solidarity', \"Rivers State People's Democratic Party\",\n",
       "       'Social Democratic Party of Switzerland', 'Call for Tunisia',\n",
       "       'The Left', 'Communist Party of Nepal (Maoist Centre)',\n",
       "       'All India Trinamool Congress', 'All Ceylon Makkal Congress',\n",
       "       'Jammu & Kashmir National Conference', 'Apna Dal (Sonelal)',\n",
       "       'National Council for the Defense of Democracy–Forces for the Defense of Democracy',\n",
       "       'Open Flemish Liberals and Democrats',\n",
       "       'New Democratic Party of Prince Edward Island', 'Liberal Alliance',\n",
       "       'Lutte Ouvrière', 'Amal Movement', 'Yukon Liberal Party',\n",
       "       \"Latvia's First Party/Latvian Way\", \"Sierra Leone People's Party\",\n",
       "       'One NL', 'Socialist Alternative', 'French Communist Party',\n",
       "       'Communist Party USA',\n",
       "       'Forum for the Restoration of Democracy – Kenya',\n",
       "       \"People's Democratic Party\", 'Golongan Karya Party',\n",
       "       \"Northern Ireland Women's Coalition\", 'Vermont Progressive Party',\n",
       "       'Alternative for Germany', 'New Zealand First',\n",
       "       'Independent Conservative', 'United Democratic Party',\n",
       "       'Solidarity Electoral Action', 'Reform Movement',\n",
       "       'FDP.The Liberals', 'Alberta Party', 'Religious Zionist Party',\n",
       "       'Unsubmissive France', 'The Rally', 'New Right', 'Pheu Thai Party',\n",
       "       'Democratic Unionist Party', 'Congress of the People',\n",
       "       'Islamic Action Front', 'The Frontier',\n",
       "       'Peasants and Workers Party of India',\n",
       "       'Democratic Alliance for the Betterment and Progress of Hong Kong',\n",
       "       'Jammu Kashmir Liberation Front', 'Hungarian Socialist Party',\n",
       "       'Democratic Party of Japan', 'Lega Nord', 'Our Ukraine',\n",
       "       'Union for French Democracy', 'Italian Socialist Party',\n",
       "       'Left-Green Movement', 'Janata Dal (Secular)',\n",
       "       'Alliance for Democracy', 'Free Patriotic Movement',\n",
       "       'Australian Labor Party (South Australian Branch)',\n",
       "       'Patriotic Salvation Movement', 'Future Movement',\n",
       "       'United Republican Party', 'Republican Party of Armenia',\n",
       "       'Colombian Liberal Party', 'Feminist Initiative',\n",
       "       'Alliance of Free Democrats',\n",
       "       'Movement for Democratic Change – Tsvangirai', 'Fatah',\n",
       "       \"Spanish Socialist Workers' Party\", 'Pakatan Rakyat',\n",
       "       'Christian Social Union of Bavaria', 'Croatian Democratic Union',\n",
       "       'Makkal Neethi Maiyam', \"Citizens' Action Party\",\n",
       "       'Oromo Democratic Party', 'Finns Party', 'YSR Congress Party',\n",
       "       'China Democratic League', 'Nasdem Party', 'Estonian Reform Party',\n",
       "       \"Katter's Australian Party\", 'Kilusang Bagong Lipunan',\n",
       "       'Republican Party of India (A)', 'Singapore Democratic Party',\n",
       "       'Fidesz', \"Workers' Party of Singapore\", 'Democrats 66',\n",
       "       'Sri Lanka Muslim Congress',\n",
       "       'Co-operative Commonwealth Federation', 'United Russia',\n",
       "       \"People's Progressive Party\", 'Shiromani Akali Dal',\n",
       "       'Ennahda Movement',\n",
       "       'Progressive Conservative Party of Newfoundland and Labrador',\n",
       "       \"Malaysian People's Welfare Party\", 'SMER – Social Democracy',\n",
       "       'Wildrose Party', 'New Power Party', \"People's Electoral Movement\",\n",
       "       'Québec solidaire', 'Constitutional Democratic Rally',\n",
       "       'Brazilian Socialist Party', 'Popular Orthodox Rally',\n",
       "       'Social Christian Party', 'PAIS Alliance',\n",
       "       'British Columbia Social Credit Party', 'Barcelona en Comú',\n",
       "       'Mazingira Green Party of Kenya', 'Kulanu',\n",
       "       'Manitoba Liberal Party', 'Massachusetts Republican Party',\n",
       "       'Vishva Hindu Parishad', \"Dominican Workers' Party\",\n",
       "       'Freedom and Justice Party', 'British National Party',\n",
       "       'Executives of Construction Party', 'Fiji Labour Party',\n",
       "       'Batkivshchyna', 'Libertarian Party of Canada',\n",
       "       'Social Democratic Alliance', 'Socialist Left Party',\n",
       "       'Australian Greens Victoria', 'Movement for Socialism',\n",
       "       'Animal Justice Party', 'Komsomol',\n",
       "       'Green Party of Prince Edward Island', 'Radical Party',\n",
       "       'Independent Democratic Union', 'Dignity Party',\n",
       "       'Indonesian National Party Marhaenism',\n",
       "       'all India jihad committee founder', 'Vetëvendosje!',\n",
       "       \"People's United Party\", 'National Regeneration Movement',\n",
       "       'United Left', \"Luxembourg Socialist Workers' Party\",\n",
       "       \"People's Rally for Progress\", 'Soqosoqo ni Vakavulewa ni Taukei',\n",
       "       \"Conservative People's Party\", 'All India Students Association',\n",
       "       'Law and Justice', \"Mongolian People's Party\",\n",
       "       \"People's Justice Party\", 'Maldivian Democratic Party',\n",
       "       'Botswana Democratic Party', 'Welsh Liberal Democrats',\n",
       "       'Nationalist Democratic Progressive Party', 'Queensland Greens',\n",
       "       'Liberal Party', 'Broad Front',\n",
       "       'Malaysian United Indigenous Party',\n",
       "       'Social Democratic Party of Lithuania',\n",
       "       'Congress of the New Right', \"Palikot's Movement\",\n",
       "       'North Dakota Republican Party', 'Jamiat Ulema-e-Islam',\n",
       "       'Unified Progressive Party', 'BIJ1', 'Italian Radicals',\n",
       "       'Massachusetts Democratic Party',\n",
       "       'Washington State Democratic Party',\n",
       "       'Institutional Revolutionary Party', 'Civic Party',\n",
       "       'Green Party of Canada', 'Grow Party', 'Procés Constituent',\n",
       "       'The Republicans', 'Green Party in Northern Ireland',\n",
       "       \"Sudan People's Liberation Movement\", 'National Congress Party',\n",
       "       'Party of the Democratic Left',\n",
       "       'Pragatisheel Samajwadi Party (Lohiya)',\n",
       "       \"People's National Congress Party\", \"Citizens' Movement\",\n",
       "       'Inkatha Freedom Party', 'Social Democratic Union of Macedonia',\n",
       "       'All India Anna Dravida Munnetra Kazhagam', 'Yuva Sena',\n",
       "       'Britain First', 'Peace and Freedom Party',\n",
       "       'National Liberation Party',\n",
       "       'Communist Party of Nepal (Unified Marxist–Leninist)',\n",
       "       \"People's Progress Party\", 'Alliance for New Nigeria',\n",
       "       \"People's Movement for the Liberation of Angola\",\n",
       "       'Islamic Labour Party', 'Green Party of Switzerland',\n",
       "       'Future Forward Party', 'Ecolo', 'Left Alliance',\n",
       "       'Alliance Party of Northern Ireland', 'Kach and Kahane Chai',\n",
       "       \"British People's Party\", 'National Rainbow Coalition – Kenya',\n",
       "       'Tasmanian Greens', 'Israel Resilience Party', 'Left Bloc',\n",
       "       'Green League', 'GroenLinks', 'Revolutionary Communist League',\n",
       "       'Green Party of Manitoba', 'Brexit Party',\n",
       "       'American Independent Party', 'Democratic Left Party',\n",
       "       'New Encounter', 'Movement for Democratic Change – Ncube',\n",
       "       'National Awakening Party', 'Trentino Tyrolean Autonomist Party',\n",
       "       'Muttahida Majlis-e-Amal',\n",
       "       'Popular Front for the Liberation of Palestine',\n",
       "       'Australian Labor Party (Tasmanian Branch)', 'Haryana Vikas Party',\n",
       "       'Forward',\n",
       "       'Progressive Conservative Party of Prince Edward Island',\n",
       "       'Pakistan Muslim League (Q)', 'Telem',\n",
       "       \"Finnish People's Democratic League\",\n",
       "       'Party of the Democratic Revolution', 'Sweden Democrats'],\n",
       "      dtype=object)"
      ]
     },
     "execution_count": 59,
     "metadata": {},
     "output_type": "execute_result"
    }
   ],
   "source": [
    "df['party'].unique()"
   ]
  },
  {
   "cell_type": "code",
   "execution_count": 61,
   "id": "d6f709cd",
   "metadata": {},
   "outputs": [],
   "source": [
    "df_grouped_by_partyname = df.groupby(df.party).size()"
   ]
  },
  {
   "cell_type": "code",
   "execution_count": 65,
   "id": "ea315a66",
   "metadata": {},
   "outputs": [
    {
     "data": {
      "text/plain": [
       "party\n",
       "Democratic Party                  8783\n",
       "Republican Party                  3594\n",
       "Bharatiya Janata Party            1083\n",
       "Liberal Party of Canada           1024\n",
       "Labour Party                       525\n",
       "                                  ... \n",
       "Mazingira Green Party of Kenya       1\n",
       "Religious Zionist Party              1\n",
       "Republican Left of Catalonia         1\n",
       "One NL                               1\n",
       "Respect Party                        1\n",
       "Length: 589, dtype: int64"
      ]
     },
     "execution_count": 65,
     "metadata": {},
     "output_type": "execute_result"
    }
   ],
   "source": [
    "df.groupby(df.party).size().sort_values(ascending=False)"
   ]
  },
  {
   "cell_type": "code",
   "execution_count": 74,
   "id": "201d7035",
   "metadata": {},
   "outputs": [],
   "source": [
    "Democrat_quotes = df.query('party == \"Democratic Party\" ')\n",
    "Republican_quotes = df.query('party == \"Republican Party\" ')"
   ]
  },
  {
   "cell_type": "code",
   "execution_count": 77,
   "id": "008dba9e",
   "metadata": {},
   "outputs": [
    {
     "data": {
      "image/png": "[encoded data removed]",
      "text/plain": [
       "<Figure size 576x360 with 1 Axes>"
      ]
     },
     "metadata": {},
     "output_type": "display_data"
    }
   ],
   "source": [
    "Democrat_quotes['sentiment'].hist(bins=40, figsize = [8,5])\n",
    "plt.show()"
   ]
  },
  {
   "cell_type": "code",
   "execution_count": 78,
   "id": "e5b4c675",
   "metadata": {},
   "outputs": [
    {
     "data": {
      "image/png": "[encoded data removed]",
      "text/plain": [
       "<Figure size 576x360 with 1 Axes>"
      ]
     },
     "metadata": {},
     "output_type": "display_data"
    }
   ],
   "source": [
    "Republican_quotes['sentiment'].hist(bins=40, figsize = [8,5])\n",
    "plt.show()"
   ]
  },
  {
   "cell_type": "markdown",
   "id": "964113db",
   "metadata": {},
   "source": [
    "### Sentiment in function of gender ?"
   ]
  },
  {
   "cell_type": "code",
   "execution_count": 79,
   "id": "96d92488",
   "metadata": {},
   "outputs": [
    {
     "data": {
      "text/plain": [
       "11"
      ]
     },
     "execution_count": 79,
     "metadata": {},
     "output_type": "execute_result"
    }
   ],
   "source": [
    "df['gender'].nunique()"
   ]
  },
  {
   "cell_type": "code",
   "execution_count": 80,
   "id": "5c7cfc61",
   "metadata": {},
   "outputs": [
    {
     "data": {
      "text/plain": [
       "array(['female', 'male', nan, 'non-binary', 'transgender female',\n",
       "       'genderfluid', 'cisgender female', 'transgender male',\n",
       "       'cisgender male', 'genderqueer', 'shemale', 'intersex'],\n",
       "      dtype=object)"
      ]
     },
     "execution_count": 80,
     "metadata": {},
     "output_type": "execute_result"
    }
   ],
   "source": [
    "df['gender'].unique()"
   ]
  },
  {
   "cell_type": "code",
   "execution_count": 81,
   "id": "8d29834e",
   "metadata": {},
   "outputs": [
    {
     "data": {
      "text/plain": [
       "gender\n",
       "female                28286\n",
       "male                  26274\n",
       "transgender female       89\n",
       "non-binary               80\n",
       "genderfluid              26\n",
       "transgender male         21\n",
       "cisgender female         15\n",
       "genderqueer               4\n",
       "shemale                   3\n",
       "intersex                  2\n",
       "cisgender male            1\n",
       "dtype: int64"
      ]
     },
     "execution_count": 81,
     "metadata": {},
     "output_type": "execute_result"
    }
   ],
   "source": [
    "df.groupby(df.gender).size().sort_values(ascending=False)"
   ]
  },
  {
   "cell_type": "markdown",
   "id": "556d9499",
   "metadata": {},
   "source": [
    "Most of the data is from the male and female genders, so we will currently base our analysis on those two genders :"
   ]
  },
  {
   "cell_type": "code",
   "execution_count": 82,
   "id": "af78f8d0",
   "metadata": {},
   "outputs": [],
   "source": [
    "female_quotes = df.query('gender == \"female\" ')\n",
    "male_quotes = df.query('gender == \"male\" ')"
   ]
  },
  {
   "cell_type": "code",
   "execution_count": 83,
   "id": "3a913453",
   "metadata": {},
   "outputs": [
    {
     "data": {
      "image/png": "[encoded data removed]",
      "text/plain": [
       "<Figure size 576x360 with 1 Axes>"
      ]
     },
     "metadata": {},
     "output_type": "display_data"
    }
   ],
   "source": [
    "female_quotes['sentiment'].hist(bins=40, figsize = [8,5])\n",
    "plt.show()"
   ]
  },
  {
   "cell_type": "code",
   "execution_count": 84,
   "id": "474757f0",
   "metadata": {},
   "outputs": [
    {
     "data": {
      "image/png": "[encoded data removed]",
      "text/plain": [
       "<Figure size 576x360 with 1 Axes>"
      ]
     },
     "metadata": {},
     "output_type": "display_data"
    }
   ],
   "source": [
    "male_quotes['sentiment'].hist(bins=40, figsize = [8,5])\n",
    "plt.show()"
   ]
  },
  {
   "cell_type": "code",
   "execution_count": null,
   "id": "dde3eb1e",
   "metadata": {},
   "outputs": [],
   "source": []
  }
 ],
 "metadata": {
  "kernelspec": {
   "display_name": "Python 3 (ipykernel)",
   "language": "python",
   "name": "python3"
  },
  "language_info": {
   "codemirror_mode": {
    "name": "ipython",
    "version": 3
   },
   "file_extension": ".py",
   "mimetype": "text/x-python",
   "name": "python",
   "nbconvert_exporter": "python",
   "pygments_lexer": "ipython3",
   "version": "3.8.11"
  }
 },
 "nbformat": 4,
 "nbformat_minor": 5
}
