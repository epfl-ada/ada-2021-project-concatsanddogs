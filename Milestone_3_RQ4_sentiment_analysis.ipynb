{
 "cells": [
  {
   "cell_type": "markdown",
   "id": "7f6d4173",
   "metadata": {},
   "source": [
    "Delete this block before submission\n",
    "\n",
    "Mardown cheat cheat : https://github.com/adam-p/markdown-here/wiki/Markdown-Cheatsheet#blockquotes\n",
    "\n",
    "Things to do : \n",
    "- Don't forget of the statistical significance aspects of results, for every result, criticize that when interpreting\n",
    "- \n"
   ]
  },
  {
   "cell_type": "markdown",
   "id": "4311b01d",
   "metadata": {},
   "source": [
    "### Packages required to run this notebook : TO DO complete this\n",
    "- pandas\n",
    "- numpy\n",
    "- matplotlib\n",
    "- seaborn\n",
    "\n",
    "- texblob : \n",
    "    - conda install -c conda-forge textblob\n",
    "- nltk:\n",
    "    - conda install -c anaconda nltk\n",
    "- flair:\n",
    "    - pip install flair (conda install doesn't start)"
   ]
  },
  {
   "cell_type": "markdown",
   "id": "627bf409",
   "metadata": {},
   "source": [
    "# Project Milestone2 - Group Concatsanddogs"
   ]
  },
  {
   "cell_type": "markdown",
   "id": "097b2763",
   "metadata": {},
   "source": [
    "# The use of women's rights and gender equality rhetoric in the US"
   ]
  },
  {
   "cell_type": "markdown",
   "id": "8c937308",
   "metadata": {},
   "source": [
    "### Research Question 4 :"
   ]
  },
  {
   "cell_type": "markdown",
   "id": "ad6673e7",
   "metadata": {},
   "source": [
    "**What is the sentiment analysis of the context of the quotation containing women's rights mention?**\n",
    "\n",
    "**Can we link the sentiment to the use of women's rights ideology?**"
   ]
  },
  {
   "cell_type": "markdown",
   "id": "a6af8fc5",
   "metadata": {},
   "source": [
    "## Librairies"
   ]
  },
  {
   "cell_type": "code",
<<<<<<< HEAD
   "execution_count": 2,
   "id": "22624b9c",
=======
   "execution_count": 11,
   "id": "ceb1f57e",
>>>>>>> c55eb3c941b44dac3de5355555aa08828187bb2c
   "metadata": {},
   "outputs": [],
   "source": [
    "import pandas as pd\n",
    "import numpy as np\n",
    "import matplotlib.pyplot as plt\n",
    "%matplotlib inline\n",
    "import seaborn as sns\n",
    "import nltk\n",
    "#nltk.download('vader_lexicon')"
   ]
  },
  {
   "cell_type": "code",
<<<<<<< HEAD
   "execution_count": 3,
   "id": "f2dc452d",
=======
   "execution_count": 12,
   "id": "3bc6eca7",
>>>>>>> c55eb3c941b44dac3de5355555aa08828187bb2c
   "metadata": {},
   "outputs": [],
   "source": [
    "# Changing some pandas default appearance settings \n",
    "# https://pandas.pydata.org/pandas-docs/stable/user_guide/options.html\n",
    "# pd.options.display.max_colwidth = 200\n",
    "# pd.options.display.max_rows = 100"
   ]
  },
  {
   "cell_type": "code",
<<<<<<< HEAD
   "execution_count": 4,
   "id": "216dc7ce",
=======
   "execution_count": 13,
   "id": "e5f3a045",
>>>>>>> c55eb3c941b44dac3de5355555aa08828187bb2c
   "metadata": {},
   "outputs": [],
   "source": [
    "# pd.reset_option(\"^display\")"
   ]
  },
  {
   "cell_type": "code",
<<<<<<< HEAD
   "execution_count": 5,
   "id": "4072cda9",
   "metadata": {},
   "outputs": [
    {
     "name": "stderr",
     "output_type": "stream",
     "text": [
      "/opt/anaconda3/envs/ada/lib/python3.8/site-packages/gensim/similarities/__init__.py:15: UserWarning: The gensim.similarities.levenshtein submodule is disabled, because the optional Levenshtein package <https://pypi.org/project/python-Levenshtein/> is unavailable. Install Levenhstein (e.g. `pip install python-Levenshtein`) to suppress this warning.\n",
      "  warnings.warn(msg)\n"
     ]
    }
   ],
=======
   "execution_count": 14,
   "id": "c88aedcf",
   "metadata": {},
   "outputs": [],
>>>>>>> c55eb3c941b44dac3de5355555aa08828187bb2c
   "source": [
    "#NLP libraries\n",
    "import spacy, nltk, gensim, sklearn"
   ]
  },
  {
   "cell_type": "code",
<<<<<<< HEAD
   "execution_count": 6,
   "id": "72ef8c32",
=======
   "execution_count": 15,
   "id": "fec1a1fa",
>>>>>>> c55eb3c941b44dac3de5355555aa08828187bb2c
   "metadata": {},
   "outputs": [],
   "source": [
    "#Vader\n",
    "import vaderSentiment\n",
    "from vaderSentiment.vaderSentiment import SentimentIntensityAnalyzer"
   ]
  },
  {
   "cell_type": "code",
<<<<<<< HEAD
   "execution_count": 7,
   "id": "d36ce2b7",
=======
   "execution_count": 16,
   "id": "1ef37579",
>>>>>>> c55eb3c941b44dac3de5355555aa08828187bb2c
   "metadata": {},
   "outputs": [],
   "source": [
    "sns.set_theme() # sns.set_theme(rc={'figure.figsize':(20,3)})\n",
    "sns.set_style(\"whitegrid\")"
   ]
  },
  {
   "cell_type": "code",
<<<<<<< HEAD
   "execution_count": 8,
   "id": "a7e1de8d",
=======
   "execution_count": 17,
   "id": "20c1d427",
>>>>>>> c55eb3c941b44dac3de5355555aa08828187bb2c
   "metadata": {},
   "outputs": [],
   "source": [
    "PATH_GENERATED_DATA = 'generated_data/'"
   ]
  },
  {
   "cell_type": "markdown",
   "id": "7ec789cf",
   "metadata": {},
   "source": [
    "## Loading the selected quotes dataframe"
   ]
  },
  {
   "cell_type": "code",
<<<<<<< HEAD
   "execution_count": 13,
   "id": "1bee53be",
=======
   "execution_count": 18,
   "id": "b351c13d",
>>>>>>> c55eb3c941b44dac3de5355555aa08828187bb2c
   "metadata": {},
   "outputs": [],
   "source": [
    "# loading the dataframe with selected quotes and additional attributes\n",
    "df = pd.read_pickle(PATH_GENERATED_DATA+'df_enriched.pkl', compression='infer', storage_options=None)"
   ]
  },
  {
   "cell_type": "code",
<<<<<<< HEAD
   "execution_count": 10,
   "id": "7e0609b2",
=======
   "execution_count": 19,
   "id": "5ee1a91b",
>>>>>>> c55eb3c941b44dac3de5355555aa08828187bb2c
   "metadata": {
    "tags": []
   },
   "outputs": [
    {
     "data": {
      "text/html": [
       "<div>\n",
       "<style scoped>\n",
       "    .dataframe tbody tr th:only-of-type {\n",
       "        vertical-align: middle;\n",
       "    }\n",
       "\n",
       "    .dataframe tbody tr th {\n",
       "        vertical-align: top;\n",
       "    }\n",
       "\n",
       "    .dataframe thead th {\n",
       "        text-align: right;\n",
       "    }\n",
       "</style>\n",
       "<table border=\"1\" class=\"dataframe\">\n",
       "  <thead>\n",
       "    <tr style=\"text-align: right;\">\n",
       "      <th></th>\n",
       "      <th>quoteID</th>\n",
       "      <th>quotation</th>\n",
       "      <th>speaker</th>\n",
       "      <th>date</th>\n",
       "      <th>numOccurrences</th>\n",
       "      <th>probas</th>\n",
       "      <th>urls</th>\n",
       "      <th>aliases</th>\n",
       "      <th>date_of_birth</th>\n",
       "      <th>nationality</th>\n",
       "      <th>...</th>\n",
       "      <th>lastrevid</th>\n",
       "      <th>ethnic_group</th>\n",
       "      <th>US_congress_bio_ID</th>\n",
       "      <th>occupation</th>\n",
       "      <th>party</th>\n",
       "      <th>academic_degree</th>\n",
       "      <th>label</th>\n",
       "      <th>candidacy</th>\n",
       "      <th>type</th>\n",
       "      <th>religion</th>\n",
       "    </tr>\n",
       "  </thead>\n",
       "  <tbody>\n",
       "    <tr>\n",
       "      <th>0</th>\n",
       "      <td>2015-03-09-004706</td>\n",
       "      <td>Anything less than women winning 50 per cent o...</td>\n",
       "      <td>Katy Gallagher</td>\n",
       "      <td>2015-03-09 12:30:00</td>\n",
       "      <td>1</td>\n",
       "      <td>[[Katy Gallagher, 0.5872], [None, 0.4128]]</td>\n",
       "      <td>[http://www.smh.com.au/act-news/women-need-to-...</td>\n",
       "      <td>[Katherine Gallagher, Katherine Ruth Gallagher]</td>\n",
       "      <td>[+1970-03-17T00:00:00Z]</td>\n",
       "      <td>Australia</td>\n",
       "      <td>...</td>\n",
       "      <td>1349152158</td>\n",
       "      <td>NaN</td>\n",
       "      <td>None</td>\n",
       "      <td>politician</td>\n",
       "      <td>Australian Labor Party</td>\n",
       "      <td>NaN</td>\n",
       "      <td>Katy Gallagher</td>\n",
       "      <td>None</td>\n",
       "      <td>item</td>\n",
       "      <td>NaN</td>\n",
       "    </tr>\n",
       "    <tr>\n",
       "      <th>1</th>\n",
       "      <td>2017-05-11-081817</td>\n",
       "      <td>more family-friendly and flexible workplaces, ...</td>\n",
       "      <td>Katy Gallagher</td>\n",
       "      <td>2017-05-11 00:00:37</td>\n",
       "      <td>1</td>\n",
       "      <td>[[Katy Gallagher, 0.5596], [None, 0.4404]]</td>\n",
       "      <td>[http://www.mediamaxnetwork.co.ke/news/325569/...</td>\n",
       "      <td>[Katherine Gallagher, Katherine Ruth Gallagher]</td>\n",
       "      <td>[+1970-03-17T00:00:00Z]</td>\n",
       "      <td>Australia</td>\n",
       "      <td>...</td>\n",
       "      <td>1349152158</td>\n",
       "      <td>NaN</td>\n",
       "      <td>None</td>\n",
       "      <td>politician</td>\n",
       "      <td>Australian Labor Party</td>\n",
       "      <td>NaN</td>\n",
       "      <td>Katy Gallagher</td>\n",
       "      <td>None</td>\n",
       "      <td>item</td>\n",
       "      <td>NaN</td>\n",
       "    </tr>\n",
       "  </tbody>\n",
       "</table>\n",
       "<p>2 rows × 21 columns</p>\n",
       "</div>"
      ],
      "text/plain": [
       "             quoteID                                          quotation  \\\n",
       "0  2015-03-09-004706  Anything less than women winning 50 per cent o...   \n",
       "1  2017-05-11-081817  more family-friendly and flexible workplaces, ...   \n",
       "\n",
       "          speaker                date  numOccurrences  \\\n",
       "0  Katy Gallagher 2015-03-09 12:30:00               1   \n",
       "1  Katy Gallagher 2017-05-11 00:00:37               1   \n",
       "\n",
       "                                       probas  \\\n",
       "0  [[Katy Gallagher, 0.5872], [None, 0.4128]]   \n",
       "1  [[Katy Gallagher, 0.5596], [None, 0.4404]]   \n",
       "\n",
       "                                                urls  \\\n",
       "0  [http://www.smh.com.au/act-news/women-need-to-...   \n",
       "1  [http://www.mediamaxnetwork.co.ke/news/325569/...   \n",
       "\n",
       "                                           aliases            date_of_birth  \\\n",
       "0  [Katherine Gallagher, Katherine Ruth Gallagher]  [+1970-03-17T00:00:00Z]   \n",
       "1  [Katherine Gallagher, Katherine Ruth Gallagher]  [+1970-03-17T00:00:00Z]   \n",
       "\n",
       "  nationality  ...   lastrevid  ethnic_group US_congress_bio_ID  occupation  \\\n",
       "0   Australia  ...  1349152158           NaN               None  politician   \n",
       "1   Australia  ...  1349152158           NaN               None  politician   \n",
       "\n",
       "                    party academic_degree           label candidacy  type  \\\n",
       "0  Australian Labor Party             NaN  Katy Gallagher      None  item   \n",
       "1  Australian Labor Party             NaN  Katy Gallagher      None  item   \n",
       "\n",
       "  religion  \n",
       "0      NaN  \n",
       "1      NaN  \n",
       "\n",
       "[2 rows x 21 columns]"
      ]
     },
     "execution_count": 19,
     "metadata": {},
     "output_type": "execute_result"
    }
   ],
   "source": [
    "df.head(2)"
   ]
  },
  {
   "cell_type": "code",
<<<<<<< HEAD
   "execution_count": 11,
   "id": "0c49dc90",
=======
   "execution_count": 20,
   "id": "eb692941",
>>>>>>> c55eb3c941b44dac3de5355555aa08828187bb2c
   "metadata": {},
   "outputs": [
    {
     "name": "stdout",
     "output_type": "stream",
     "text": [
      "The dataframe has 55328 entries\n"
     ]
    }
   ],
   "source": [
    "print(f'The dataframe has {len(df)} entries')"
   ]
  },
  {
   "cell_type": "code",
<<<<<<< HEAD
   "execution_count": 12,
   "id": "017a6b7e",
=======
   "execution_count": 21,
   "id": "3969377b",
>>>>>>> c55eb3c941b44dac3de5355555aa08828187bb2c
   "metadata": {},
   "outputs": [
    {
     "data": {
      "text/plain": [
       "0    Anything less than women winning 50 per cent o...\n",
       "1    more family-friendly and flexible workplaces, ...\n",
       "Name: quotation, dtype: object"
      ]
     },
     "execution_count": 21,
     "metadata": {},
     "output_type": "execute_result"
    }
   ],
   "source": [
    "df['quotation'].head(2)"
   ]
  },
  {
   "cell_type": "markdown",
   "id": "b4c271e8",
   "metadata": {},
   "source": [
    "## Sentiment analysis prep"
   ]
  },
  {
   "cell_type": "code",
<<<<<<< HEAD
   "execution_count": 20,
   "id": "038de019",
=======
   "execution_count": 22,
   "id": "f88b16cd",
>>>>>>> c55eb3c941b44dac3de5355555aa08828187bb2c
   "metadata": {},
   "outputs": [],
   "source": [
    "quote = df['quotation'].iloc[0]"
   ]
  },
  {
   "cell_type": "markdown",
   "id": "18ff2a15",
   "metadata": {},
   "source": [
    "Vader : Gives a compound score from -1 to 1 ranging from negativity to positivity."
   ]
  },
  {
   "cell_type": "code",
<<<<<<< HEAD
   "execution_count": 21,
   "id": "97711c91",
=======
   "execution_count": 23,
   "id": "4ea62ab2",
>>>>>>> c55eb3c941b44dac3de5355555aa08828187bb2c
   "metadata": {},
   "outputs": [],
   "source": [
    "analyzer = SentimentIntensityAnalyzer()\n",
    "vs = analyzer.polarity_scores(df['quotation'].loc[1])"
   ]
  },
  {
   "cell_type": "code",
<<<<<<< HEAD
   "execution_count": 22,
   "id": "3968cd56",
=======
   "execution_count": 24,
   "id": "1b6e5fca",
>>>>>>> c55eb3c941b44dac3de5355555aa08828187bb2c
   "metadata": {},
   "outputs": [
    {
     "data": {
      "text/plain": [
       "0.6271"
      ]
     },
<<<<<<< HEAD
     "execution_count": 22,
=======
     "execution_count": 24,
>>>>>>> c55eb3c941b44dac3de5355555aa08828187bb2c
     "metadata": {},
     "output_type": "execute_result"
    }
   ],
   "source": [
    "# example use :\n",
    "analyzer.polarity_scores(quote)['compound']\n"
   ]
  },
  {
   "cell_type": "code",
<<<<<<< HEAD
   "execution_count": 23,
   "id": "1d3e7035",
=======
   "execution_count": 25,
   "id": "de419424",
>>>>>>> c55eb3c941b44dac3de5355555aa08828187bb2c
   "metadata": {},
   "outputs": [
    {
     "data": {
      "text/plain": [
       "{'neg': 0.097, 'neu': 0.697, 'pos': 0.205, 'compound': 0.6271}"
      ]
     },
<<<<<<< HEAD
     "execution_count": 23,
=======
     "execution_count": 25,
>>>>>>> c55eb3c941b44dac3de5355555aa08828187bb2c
     "metadata": {},
     "output_type": "execute_result"
    }
   ],
   "source": [
    "analyzer.polarity_scores(quote)"
   ]
  },
  {
   "cell_type": "markdown",
   "id": "bdbd6d7c",
   "metadata": {},
   "source": [
    "Text blob :"
   ]
  },
  {
   "cell_type": "code",
<<<<<<< HEAD
   "execution_count": 24,
   "id": "5acd1a0c",
=======
   "execution_count": 26,
   "id": "1383143d",
>>>>>>> c55eb3c941b44dac3de5355555aa08828187bb2c
   "metadata": {},
   "outputs": [
    {
     "ename": "ModuleNotFoundError",
     "evalue": "No module named 'textblob'",
     "output_type": "error",
     "traceback": [
      "\u001b[0;31m---------------------------------------------------------------------------\u001b[0m",
      "\u001b[0;31mModuleNotFoundError\u001b[0m                       Traceback (most recent call last)",
      "\u001b[0;32m/var/folders/3v/cd3_rvz10bd1jd08x0c03tpr0000gt/T/ipykernel_87097/12427506.py\u001b[0m in \u001b[0;36m<module>\u001b[0;34m\u001b[0m\n\u001b[0;32m----> 1\u001b[0;31m \u001b[0;32mfrom\u001b[0m \u001b[0mtextblob\u001b[0m \u001b[0;32mimport\u001b[0m \u001b[0mTextBlob\u001b[0m\u001b[0;34m\u001b[0m\u001b[0;34m\u001b[0m\u001b[0m\n\u001b[0m\u001b[1;32m      2\u001b[0m \u001b[0;34m\u001b[0m\u001b[0m\n\u001b[1;32m      3\u001b[0m \u001b[0;31m# polarity score function :\u001b[0m\u001b[0;34m\u001b[0m\u001b[0;34m\u001b[0m\u001b[0;34m\u001b[0m\u001b[0m\n\u001b[1;32m      4\u001b[0m \u001b[0;32mdef\u001b[0m \u001b[0mpolarity_blob\u001b[0m\u001b[0;34m(\u001b[0m\u001b[0mtext\u001b[0m\u001b[0;34m)\u001b[0m\u001b[0;34m:\u001b[0m\u001b[0;34m\u001b[0m\u001b[0;34m\u001b[0m\u001b[0m\n\u001b[1;32m      5\u001b[0m     \u001b[0;32mreturn\u001b[0m \u001b[0mTextBlob\u001b[0m\u001b[0;34m(\u001b[0m\u001b[0mtext\u001b[0m\u001b[0;34m)\u001b[0m\u001b[0;34m.\u001b[0m\u001b[0msentiment\u001b[0m\u001b[0;34m.\u001b[0m\u001b[0mpolarity\u001b[0m\u001b[0;34m\u001b[0m\u001b[0;34m\u001b[0m\u001b[0m\n",
      "\u001b[0;31mModuleNotFoundError\u001b[0m: No module named 'textblob'"
     ]
    }
   ],
   "source": [
    "from textblob import TextBlob\n",
    "\n",
    "# polarity score function :\n",
    "def polarity_blob(text):\n",
    "    return TextBlob(text).sentiment.polarity\n",
    "\n",
    "# subjectivity score function :\n",
    "def subjectivity_blob(text):\n",
    "    return TextBlob(text).sentiment.subjectivity"
   ]
  },
  {
   "cell_type": "code",
<<<<<<< HEAD
   "execution_count": 35,
   "id": "2d2d1d24",
=======
   "execution_count": 27,
   "id": "4efe98fd",
>>>>>>> c55eb3c941b44dac3de5355555aa08828187bb2c
   "metadata": {},
   "outputs": [
    {
     "data": {
      "text/plain": [
       "0.2532828282828283"
      ]
     },
     "execution_count": 27,
     "metadata": {},
     "output_type": "execute_result"
    }
   ],
   "source": [
    "# example use :\n",
    "polarity_blob(quote)"
   ]
  },
  {
   "cell_type": "code",
<<<<<<< HEAD
   "execution_count": 38,
   "id": "8790ac47",
=======
   "execution_count": 28,
   "id": "0c185b81",
>>>>>>> c55eb3c941b44dac3de5355555aa08828187bb2c
   "metadata": {},
   "outputs": [
    {
     "data": {
      "text/plain": [
       "Sentiment(polarity=0.2532828282828283, subjectivity=0.5868686868686869)"
      ]
     },
     "execution_count": 28,
     "metadata": {},
     "output_type": "execute_result"
    }
   ],
   "source": [
    "TextBlob(quote).sentiment"
   ]
  },
  {
   "cell_type": "markdown",
   "id": "dab5f615",
   "metadata": {},
   "source": [
    "Flair : A more advandced model that uses pretrained RNNs and pretrained text embeddings: \n",
    "\n",
    "source : https://github.com/flairNLP/flair/pull/1613"
   ]
  },
  {
   "cell_type": "code",
<<<<<<< HEAD
   "execution_count": 19,
   "id": "8ed28c54",
=======
   "execution_count": 29,
   "id": "ed21e387",
>>>>>>> c55eb3c941b44dac3de5355555aa08828187bb2c
   "metadata": {},
   "outputs": [
    {
     "ename": "ModuleNotFoundError",
     "evalue": "No module named 'flair'",
     "output_type": "error",
     "traceback": [
      "\u001b[0;31m---------------------------------------------------------------------------\u001b[0m",
      "\u001b[0;31mModuleNotFoundError\u001b[0m                       Traceback (most recent call last)",
      "\u001b[0;32m/var/folders/3v/cd3_rvz10bd1jd08x0c03tpr0000gt/T/ipykernel_87097/1271611521.py\u001b[0m in \u001b[0;36m<module>\u001b[0;34m\u001b[0m\n\u001b[0;32m----> 1\u001b[0;31m \u001b[0;32mfrom\u001b[0m \u001b[0mflair\u001b[0m\u001b[0;34m.\u001b[0m\u001b[0mmodels\u001b[0m \u001b[0;32mimport\u001b[0m \u001b[0mTextClassifier\u001b[0m\u001b[0;34m\u001b[0m\u001b[0;34m\u001b[0m\u001b[0m\n\u001b[0m\u001b[1;32m      2\u001b[0m \u001b[0;32mfrom\u001b[0m \u001b[0mflair\u001b[0m\u001b[0;34m.\u001b[0m\u001b[0mdata\u001b[0m \u001b[0;32mimport\u001b[0m \u001b[0mSentence\u001b[0m\u001b[0;34m\u001b[0m\u001b[0;34m\u001b[0m\u001b[0m\n",
      "\u001b[0;31mModuleNotFoundError\u001b[0m: No module named 'flair'"
     ]
    }
   ],
   "source": [
    "from flair.models import TextClassifier\n",
    "from flair.data import Sentence"
   ]
  },
  {
   "cell_type": "code",
<<<<<<< HEAD
   "execution_count": 18,
   "id": "e6624c2d",
   "metadata": {},
   "outputs": [
    {
     "ename": "NameError",
     "evalue": "name 'TextClassifier' is not defined",
     "output_type": "error",
     "traceback": [
      "\u001b[0;31m---------------------------------------------------------------------------\u001b[0m",
      "\u001b[0;31mNameError\u001b[0m                                 Traceback (most recent call last)",
      "\u001b[0;32m/var/folders/3v/cd3_rvz10bd1jd08x0c03tpr0000gt/T/ipykernel_87097/3283413996.py\u001b[0m in \u001b[0;36m<module>\u001b[0;34m\u001b[0m\n\u001b[1;32m      1\u001b[0m \u001b[0;31m# load tagger ( this could take a while, it's approx ~1 gb to download)\u001b[0m\u001b[0;34m\u001b[0m\u001b[0;34m\u001b[0m\u001b[0;34m\u001b[0m\u001b[0m\n\u001b[0;32m----> 2\u001b[0;31m \u001b[0mclassifier\u001b[0m \u001b[0;34m=\u001b[0m \u001b[0mTextClassifier\u001b[0m\u001b[0;34m.\u001b[0m\u001b[0mload\u001b[0m\u001b[0;34m(\u001b[0m\u001b[0;34m'sentiment-fast'\u001b[0m\u001b[0;34m)\u001b[0m\u001b[0;34m\u001b[0m\u001b[0;34m\u001b[0m\u001b[0m\n\u001b[0m\u001b[1;32m      3\u001b[0m \u001b[0;34m\u001b[0m\u001b[0m\n\u001b[1;32m      4\u001b[0m \u001b[0;32mdef\u001b[0m \u001b[0mflair_label\u001b[0m\u001b[0;34m(\u001b[0m\u001b[0mtext\u001b[0m \u001b[0;34m=\u001b[0m \u001b[0;34m'test text'\u001b[0m\u001b[0;34m)\u001b[0m\u001b[0;34m:\u001b[0m\u001b[0;34m\u001b[0m\u001b[0;34m\u001b[0m\u001b[0m\n\u001b[1;32m      5\u001b[0m     \u001b[0msentence\u001b[0m \u001b[0;34m=\u001b[0m \u001b[0mSentence\u001b[0m\u001b[0;34m(\u001b[0m\u001b[0mtext\u001b[0m\u001b[0;34m)\u001b[0m\u001b[0;34m\u001b[0m\u001b[0;34m\u001b[0m\u001b[0m\n",
      "\u001b[0;31mNameError\u001b[0m: name 'TextClassifier' is not defined"
=======
   "execution_count": 30,
   "id": "b6207fe3",
   "metadata": {},
   "outputs": [
    {
     "name": "stdout",
     "output_type": "stream",
     "text": [
      "2021-12-13 11:29:26,467 loading file C:\\Users\\Younes\\.flair\\models\\sentiment-en-mix-ft-rnn_v8.pt\n"
>>>>>>> c55eb3c941b44dac3de5355555aa08828187bb2c
     ]
    }
   ],
   "source": [
    "# load tagger ( this could take a while, it's approx ~1 gb to download)\n",
    "classifier = TextClassifier.load('sentiment-fast')\n",
    "\n",
    "def flair_label(text = 'test text'):\n",
    "    sentence = Sentence(text)\n",
    "    classifier.predict(sentence)\n",
    "    return sentence.labels[0].score"
   ]
  },
  {
   "cell_type": "code",
<<<<<<< HEAD
   "execution_count": 68,
   "id": "001b7228",
=======
   "execution_count": 31,
   "id": "9e53fc74",
>>>>>>> c55eb3c941b44dac3de5355555aa08828187bb2c
   "metadata": {},
   "outputs": [
    {
     "name": "stdout",
     "output_type": "stream",
     "text": [
      "[POSITIVE (0.9987)]\n",
      "0.9987253546714783\n"
     ]
    }
   ],
   "source": [
    "# example use :\n",
    "test = Sentence(\"enormously entertaining for moviegoers of any age .\")\n",
    "classifier.predict(test)\n",
    "print(test.labels)\n",
    "print(flair_label(text = \"enormously entertaining for moviegoers of any age .\")) "
   ]
  },
  {
   "cell_type": "markdown",
   "id": "cef6980d",
   "metadata": {},
   "source": [
    "## Sub question 1 : What is the sentiment analysis of the context of the quotations containing women's rights mention?"
   ]
  },
  {
   "cell_type": "code",
   "execution_count": 69,
   "id": "9296b7fe",
   "metadata": {},
   "outputs": [],
   "source": [
    "# only add tokenizer as preprocessing here ( I think we don't need more for now)"
   ]
  },
  {
   "cell_type": "code",
   "execution_count": 70,
   "id": "eab16391",
   "metadata": {},
   "outputs": [],
   "source": [
    "nlp = spacy.load('en')\n",
    "# nlp.remove_pipe('parser')\n",
    "# nlp.remove_pipe('tagger')\n",
    "# nlp.remove_pipe('ner')\n",
    "# nlp.remove_pipe('textcat')"
   ]
  },
  {
   "cell_type": "code",
   "execution_count": 71,
   "id": "215b2554",
   "metadata": {},
   "outputs": [
    {
     "name": "stdout",
     "output_type": "stream",
     "text": [
      "more family-friendly and flexible workplaces, and affordable child care, for everyone \n",
      "\n",
      "more family-friendly and flexible workplaces, and affordable child care, for everyone\n"
     ]
    }
   ],
   "source": [
    "print(df['quotation'].loc[1], '\\n')\n",
    "print(nlp(df['quotation'].loc[1]))"
   ]
  },
  {
   "cell_type": "code",
   "execution_count": 72,
   "id": "4365e57b",
   "metadata": {
    "scrolled": true
   },
   "outputs": [],
   "source": [
    "df['sentiment'] = df['quotation'].apply(lambda x : analyzer.polarity_scores(x)['compound'])"
   ]
  },
  {
   "cell_type": "code",
   "execution_count": 73,
   "id": "675c44cc",
   "metadata": {},
   "outputs": [
    {
     "data": {
      "text/plain": [
       "0    0.6271\n",
       "1    0.6557\n",
       "2    0.6557\n",
       "3    0.9460\n",
       "4    0.6705\n",
       "Name: sentiment, dtype: float64"
      ]
     },
     "execution_count": 73,
     "metadata": {},
     "output_type": "execute_result"
    }
   ],
   "source": [
    "df['sentiment'].head()"
   ]
  },
  {
   "cell_type": "code",
   "execution_count": 16,
   "id": "5f994b77",
   "metadata": {},
   "outputs": [
    {
     "data": {
      "image/png": "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\n",
      "text/plain": [
       "<Figure size 576x360 with 1 Axes>"
      ]
     },
     "metadata": {},
     "output_type": "display_data"
    }
   ],
   "source": [
    "fig = df['sentiment'].hist(bins=40, figsize = [8,5])\n",
    "plt.tight_layout()\n",
    "plt.savefig('all_quotes_polarization.png')"
   ]
  },
  {
   "cell_type": "markdown",
   "id": "ae8a9313",
   "metadata": {},
   "source": [
    "There seems to be a lof of quotes that are classified as neutral, but we can see that the data is polarised "
   ]
  },
  {
   "cell_type": "code",
   "execution_count": 1,
   "id": "f091b554",
   "metadata": {},
   "outputs": [
    {
     "ename": "NameError",
     "evalue": "name 'df' is not defined",
     "output_type": "error",
     "traceback": [
      "\u001b[0;31m---------------------------------------------------------------------------\u001b[0m",
      "\u001b[0;31mNameError\u001b[0m                                 Traceback (most recent call last)",
      "\u001b[0;32m/var/folders/3v/cd3_rvz10bd1jd08x0c03tpr0000gt/T/ipykernel_95525/176944877.py\u001b[0m in \u001b[0;36m<module>\u001b[0;34m\u001b[0m\n\u001b[1;32m      1\u001b[0m \u001b[0;31m# Save the dataframe containing the sentiment scores\u001b[0m\u001b[0;34m\u001b[0m\u001b[0;34m\u001b[0m\u001b[0;34m\u001b[0m\u001b[0m\n\u001b[0;32m----> 2\u001b[0;31m \u001b[0mdf\u001b[0m\u001b[0;34m.\u001b[0m\u001b[0mto_pickle\u001b[0m\u001b[0;34m(\u001b[0m\u001b[0mPATH_GENERATED_DATA\u001b[0m\u001b[0;34m+\u001b[0m\u001b[0;34m'df_enriched_w_sentiment.pkl'\u001b[0m\u001b[0;34m,\u001b[0m \u001b[0mcompression\u001b[0m\u001b[0;34m=\u001b[0m\u001b[0;34m'infer'\u001b[0m\u001b[0;34m,\u001b[0m \u001b[0mprotocol\u001b[0m\u001b[0;34m=\u001b[0m\u001b[0;36m5\u001b[0m\u001b[0;34m,\u001b[0m \u001b[0mstorage_options\u001b[0m\u001b[0;34m=\u001b[0m\u001b[0;32mNone\u001b[0m\u001b[0;34m)\u001b[0m\u001b[0;34m\u001b[0m\u001b[0;34m\u001b[0m\u001b[0m\n\u001b[0m",
      "\u001b[0;31mNameError\u001b[0m: name 'df' is not defined"
     ]
    }
   ],
   "source": [
    "# Save the dataframe containing the sentiment scores \n",
    "df.to_pickle(PATH_GENERATED_DATA+'df_enriched_w_sentiment.pkl', compression='infer', protocol=5, storage_options=None)"
   ]
  },
  {
   "cell_type": "code",
<<<<<<< HEAD
   "execution_count": null,
   "id": "1e42fb93",
   "metadata": {},
   "outputs": [],
   "source": [
    "# using statistics.multimode() \n",
    "import statistics \n",
    "# Multimode of List\n",
    "# using statistics.multimode() \n",
    "res = statistics.multimode(df['sentiment']) "
   ]
  },
  {
   "cell_type": "code",
   "execution_count": 9,
   "id": "b45e7903",
=======
   "execution_count": 32,
   "id": "7cfc9b22",
>>>>>>> c55eb3c941b44dac3de5355555aa08828187bb2c
   "metadata": {},
   "outputs": [],
   "source": [
    "# Load the dataframe containing sentiment scores\n",
    "df = pd.read_pickle(PATH_GENERATED_DATA+'df_enriched_w_sentiment.pkl', compression='infer', storage_options=None)"
   ]
  },
  {
   "cell_type": "code",
<<<<<<< HEAD
   "execution_count": 15,
   "id": "4d922ac7",
=======
   "execution_count": 33,
   "id": "da617e23",
>>>>>>> c55eb3c941b44dac3de5355555aa08828187bb2c
   "metadata": {},
   "outputs": [
    {
     "data": {
      "text/html": [
       "<div>\n",
       "<style scoped>\n",
       "    .dataframe tbody tr th:only-of-type {\n",
       "        vertical-align: middle;\n",
       "    }\n",
       "\n",
       "    .dataframe tbody tr th {\n",
       "        vertical-align: top;\n",
       "    }\n",
       "\n",
       "    .dataframe thead th {\n",
       "        text-align: right;\n",
       "    }\n",
       "</style>\n",
       "<table border=\"1\" class=\"dataframe\">\n",
       "  <thead>\n",
       "    <tr style=\"text-align: right;\">\n",
       "      <th></th>\n",
       "      <th>quoteID</th>\n",
       "      <th>quotation</th>\n",
       "      <th>speaker</th>\n",
       "      <th>date</th>\n",
       "      <th>numOccurrences</th>\n",
       "      <th>probas</th>\n",
       "      <th>urls</th>\n",
       "      <th>aliases</th>\n",
       "      <th>date_of_birth</th>\n",
       "      <th>nationality</th>\n",
       "      <th>...</th>\n",
       "      <th>ethnic_group</th>\n",
       "      <th>US_congress_bio_ID</th>\n",
       "      <th>occupation</th>\n",
       "      <th>party</th>\n",
       "      <th>academic_degree</th>\n",
       "      <th>label</th>\n",
       "      <th>candidacy</th>\n",
       "      <th>type</th>\n",
       "      <th>religion</th>\n",
       "      <th>sentiment</th>\n",
       "    </tr>\n",
       "  </thead>\n",
       "  <tbody>\n",
       "    <tr>\n",
       "      <th>0</th>\n",
       "      <td>2015-03-09-004706</td>\n",
       "      <td>Anything less than women winning 50 per cent o...</td>\n",
       "      <td>Katy Gallagher</td>\n",
       "      <td>2015-03-09 12:30:00</td>\n",
       "      <td>1</td>\n",
       "      <td>[[Katy Gallagher, 0.5872], [None, 0.4128]]</td>\n",
       "      <td>[http://www.smh.com.au/act-news/women-need-to-...</td>\n",
       "      <td>[Katherine Gallagher, Katherine Ruth Gallagher]</td>\n",
       "      <td>[+1970-03-17T00:00:00Z]</td>\n",
       "      <td>Australia</td>\n",
       "      <td>...</td>\n",
       "      <td>NaN</td>\n",
       "      <td>None</td>\n",
       "      <td>politician</td>\n",
       "      <td>Australian Labor Party</td>\n",
       "      <td>NaN</td>\n",
       "      <td>Katy Gallagher</td>\n",
       "      <td>None</td>\n",
       "      <td>item</td>\n",
       "      <td>NaN</td>\n",
       "      <td>0.6271</td>\n",
       "    </tr>\n",
       "    <tr>\n",
       "      <th>1</th>\n",
       "      <td>2017-05-11-081817</td>\n",
       "      <td>more family-friendly and flexible workplaces, ...</td>\n",
       "      <td>Katy Gallagher</td>\n",
       "      <td>2017-05-11 00:00:37</td>\n",
       "      <td>1</td>\n",
       "      <td>[[Katy Gallagher, 0.5596], [None, 0.4404]]</td>\n",
       "      <td>[http://www.mediamaxnetwork.co.ke/news/325569/...</td>\n",
       "      <td>[Katherine Gallagher, Katherine Ruth Gallagher]</td>\n",
       "      <td>[+1970-03-17T00:00:00Z]</td>\n",
       "      <td>Australia</td>\n",
       "      <td>...</td>\n",
       "      <td>NaN</td>\n",
       "      <td>None</td>\n",
       "      <td>politician</td>\n",
       "      <td>Australian Labor Party</td>\n",
       "      <td>NaN</td>\n",
       "      <td>Katy Gallagher</td>\n",
       "      <td>None</td>\n",
       "      <td>item</td>\n",
       "      <td>NaN</td>\n",
       "      <td>0.6557</td>\n",
       "    </tr>\n",
       "  </tbody>\n",
       "</table>\n",
       "<p>2 rows × 22 columns</p>\n",
       "</div>"
      ],
      "text/plain": [
       "             quoteID                                          quotation  \\\n",
       "0  2015-03-09-004706  Anything less than women winning 50 per cent o...   \n",
       "1  2017-05-11-081817  more family-friendly and flexible workplaces, ...   \n",
       "\n",
       "          speaker                date  numOccurrences  \\\n",
       "0  Katy Gallagher 2015-03-09 12:30:00               1   \n",
       "1  Katy Gallagher 2017-05-11 00:00:37               1   \n",
       "\n",
       "                                       probas  \\\n",
       "0  [[Katy Gallagher, 0.5872], [None, 0.4128]]   \n",
       "1  [[Katy Gallagher, 0.5596], [None, 0.4404]]   \n",
       "\n",
       "                                                urls  \\\n",
       "0  [http://www.smh.com.au/act-news/women-need-to-...   \n",
       "1  [http://www.mediamaxnetwork.co.ke/news/325569/...   \n",
       "\n",
       "                                           aliases            date_of_birth  \\\n",
       "0  [Katherine Gallagher, Katherine Ruth Gallagher]  [+1970-03-17T00:00:00Z]   \n",
       "1  [Katherine Gallagher, Katherine Ruth Gallagher]  [+1970-03-17T00:00:00Z]   \n",
       "\n",
       "  nationality  ... ethnic_group  US_congress_bio_ID  occupation  \\\n",
       "0   Australia  ...          NaN                None  politician   \n",
       "1   Australia  ...          NaN                None  politician   \n",
       "\n",
       "                    party academic_degree           label candidacy  type  \\\n",
       "0  Australian Labor Party             NaN  Katy Gallagher      None  item   \n",
       "1  Australian Labor Party             NaN  Katy Gallagher      None  item   \n",
       "\n",
       "  religion sentiment  \n",
       "0      NaN    0.6271  \n",
       "1      NaN    0.6557  \n",
       "\n",
       "[2 rows x 22 columns]"
      ]
     },
<<<<<<< HEAD
     "execution_count": 15,
=======
     "execution_count": 33,
>>>>>>> c55eb3c941b44dac3de5355555aa08828187bb2c
     "metadata": {},
     "output_type": "execute_result"
    }
   ],
   "source": [
    "df.head(2)"
   ]
  },
  {
   "cell_type": "markdown",
   "id": "eac949d0",
   "metadata": {},
   "source": [
    "### Sentiment in function of time"
   ]
  },
  {
   "cell_type": "code",
<<<<<<< HEAD
   "execution_count": 21,
   "id": "497cac54",
=======
   "execution_count": 64,
   "id": "a7bac637",
>>>>>>> c55eb3c941b44dac3de5355555aa08828187bb2c
   "metadata": {},
   "outputs": [
    {
     "data": {
<<<<<<< HEAD
      "image/png": "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\n",
=======
      "image/png": "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\n",
>>>>>>> c55eb3c941b44dac3de5355555aa08828187bb2c
      "text/plain": [
       "<Figure size 1440x576 with 2 Axes>"
      ]
     },
     "metadata": {},
     "output_type": "display_data"
    }
   ],
   "source": [
    "plt.figure(figsize=(20,8))\n",
<<<<<<< HEAD
    "fig = sns.histplot(df[['date','sentiment']], x=\"date\", y=\"sentiment\")\n",
    "fig.get_figure()\n",
    "plt.tight_layout()\n",
    "plt.savefig('all_quotes_timeline.png')"
=======
    "sns.histplot(df[['date','sentiment']], x=\"date\", y=\"sentiment\", stat='proportion',cbar=True,binwidth=(31,0.05)) # `count` `frequency`\n",
    "plt.savefig(\"./img/sentiment_heatmap.jpg\",dpi=400)\n",
    "plt.show()"
>>>>>>> c55eb3c941b44dac3de5355555aa08828187bb2c
   ]
  },
  {
   "cell_type": "markdown",
   "id": "a52baf48",
   "metadata": {},
   "source": [
    "Seems like there were a lot of negative quotes end of 2017\n",
    "We could maybe use the list provided by wikipedia : https://en.wikipedia.org/wiki/2017_in_the_United_States#October to see if there were quotes about that\n",
    " \n",
    ">Tough talk on immigration: Shortly after taking office in January, President Trump sought to make good on his “America First” campaign promise by imposing a series of contentious travel bans on citizens from several Muslim-majority nations.\n",
    "\n",
    ">Federal district courts struck down implementation of the bans, though a Supreme Court ruling in December 2017 reversed the lower courts’ decisions, allowing the administration to fully implement the bans.\n",
    "\n",
    ">Trump also continued to promote his election campaign idea of a border wall with Mexico that he says will help quell illegal immigration from Mexico and points south.\n",
    "\n",
    "https://www.history.com/topics/21st-century/2017-events#section_1\n",
    "\n",
    "---> maybe do some NER to recognize events ?"
   ]
  },
  {
   "cell_type": "markdown",
   "id": "c87c19eb",
   "metadata": {},
   "source": [
    "### Time events analysis"
   ]
  },
  {
   "cell_type": "code",
<<<<<<< HEAD
   "execution_count": 22,
   "id": "80dc8970",
=======
   "execution_count": 35,
   "id": "a6d257d9",
>>>>>>> c55eb3c941b44dac3de5355555aa08828187bb2c
   "metadata": {},
   "outputs": [],
   "source": [
    "# Select the negatives quotes around 2018\n",
    "#last two months of 2017\n",
    "end_2017_df = df[ (df['date'] > '2017-11-01') & (df['date'] < '2018-01-01')]\n",
    "#negative sentiments\n",
    "neg_end_2017_df = end_2017_df[end_2017_df['sentiment']<-0.5]"
   ]
  },
  {
   "cell_type": "code",
<<<<<<< HEAD
   "execution_count": 23,
   "id": "95738672",
=======
   "execution_count": 36,
   "id": "629cd12e",
>>>>>>> c55eb3c941b44dac3de5355555aa08828187bb2c
   "metadata": {},
   "outputs": [
    {
     "data": {
      "text/plain": [
       "2283"
      ]
     },
<<<<<<< HEAD
     "execution_count": 23,
=======
     "execution_count": 36,
>>>>>>> c55eb3c941b44dac3de5355555aa08828187bb2c
     "metadata": {},
     "output_type": "execute_result"
    }
   ],
   "source": [
    "len(neg_end_2017_df)"
   ]
  },
  {
   "cell_type": "code",
<<<<<<< HEAD
   "execution_count": 24,
   "id": "234e1823",
=======
   "execution_count": 37,
   "id": "7c6fb8b7",
>>>>>>> c55eb3c941b44dac3de5355555aa08828187bb2c
   "metadata": {},
   "outputs": [],
   "source": [
    "#pd.options.display.max_columns = 150\n",
    "#neg_end_2017_df.head(20)['quotation']"
   ]
  },
  {
   "cell_type": "code",
<<<<<<< HEAD
   "execution_count": 25,
   "id": "fe0abd50",
=======
   "execution_count": 38,
   "id": "eba9adfa",
>>>>>>> c55eb3c941b44dac3de5355555aa08828187bb2c
   "metadata": {},
   "outputs": [],
   "source": [
    "KEYWORDS_WAGES_EQUALITY =(\n",
    "    'equal pay',\n",
    "    'Equal wages',\n",
    "     'men pay',\n",
    "     'pay percentage',)\n",
    "\n",
    "KEYWORDS_EQUALITY = (\n",
    "'Equal opportunities',\n",
    "'Equal rights',\n",
    "'Equal status',\n",
    "'Gender equality',\n",
    "'gender equity',\n",
    "'gender gap',\n",
    " 'percentage men',\n",
    " 'women\\'s right',\n",
    " 'Women empowerment',\n",
    " 'Women emancipation',\n",
    "  'Gender discrimination',\n",
    " 'Men and women',\n",
    " 'women and men',\n",
    " 'women oppression',\n",
    " 'struggle of girls',\n",
    " 'struggle of women',\n",
    " 'war against women',\n",
    " 'oppression of girls',\n",
    " 'oppression of women',\n",
    " 'women oppression',\n",
    " \"women's opression\",\n",
    " 'liberate women',\n",
    " 'Male oppression',\n",
    " 'Female oppression',\n",
    " 'Patriarchal culture',\n",
    " 'gender equality',\n",
    " 'women girls',\n",
    " 'girls women',\n",
    " 'rates women',\n",
    " 'women according',\n",
    " 'share women',\n",
    " 'women movement',\n",
    " 'see women',\n",
    " 'gender stereotypes',\n",
    " 'women representation',\n",
    " 'sex discrimination',\n",
    " 'women rights',\n",
    " 'woman time',\n",
    " 'based gender',\n",
    " 'entirely female',\n",
    "     'women immigration',\n",
    " \"women's participation\",)\n",
    "KEYWORDS_REPRODUCTION_WORK = (\n",
    "'Exploitation of women',\n",
    " 'child care',\n",
    ")\n",
    "KEYWORDS_SEXUAL = (\n",
    "'Sexual harrasment',\n",
    "'abuse of women',\n",
    "'sexual harassment',\n",
    "'women victim',\n",
    "'gender-based violence',\n",
    ")\n",
    "KEYWORDS_TRANS = ('trans ')\n",
    "KEYWORDS_ABORTION = ('abortion')\n",
    "KEYWORDS_INDIGENEOUS = ('Indigenous')\n",
    "KEYWORDS_REPRESENTATION = ('female mayors','female candidates')\n",
    "KEYWORDS_FEMONAT = ('Western women',\n",
    " 'non-western woman',\n",
    " 'Muslim women',\n",
    " 'Muslim woman',\n",
    " 'niqab ban',\n",
    " 'religious oppression')"
   ]
  },
  {
   "cell_type": "code",
<<<<<<< HEAD
   "execution_count": 26,
   "id": "5ee1e160",
=======
   "execution_count": 39,
   "id": "0beadbef",
>>>>>>> c55eb3c941b44dac3de5355555aa08828187bb2c
   "metadata": {},
   "outputs": [],
   "source": [
    "def add_subtopic(df):\n",
    "    df['subtopic'] = np.where(df.quotation.str.contains('|'.join(KEYWORDS_FEMONAT)), \"islam\",\n",
    "                 np.where(df.quotation.str.contains('|'.join(KEYWORDS_REPRESENTATION)), \"representation\",\n",
    "                 np.where(df.quotation.str.contains(KEYWORDS_INDIGENEOUS), \"indigenous\",\n",
    "                 np.where(df.quotation.str.contains(KEYWORDS_ABORTION), \"abortion\",\n",
    "                 np.where(df.quotation.str.contains(KEYWORDS_TRANS), \"trans\",    \n",
    "                 np.where(df.quotation.str.contains('|'.join(KEYWORDS_SEXUAL)), \"sexual\", \n",
    "                 np.where(df.quotation.str.contains('|'.join(KEYWORDS_WAGES_EQUALITY)), \"wages equality\",\n",
    "                 np.where(df.quotation.str.contains('|'.join(KEYWORDS_REPRODUCTION_WORK)), \"reproductive work\",  \n",
    "                 np.where(df.quotation.str.contains('|'.join(KEYWORDS_EQUALITY)),\"equality\",\"other\")))))))))\n",
    "    return df"
   ]
  },
  {
   "cell_type": "code",
<<<<<<< HEAD
   "execution_count": 27,
   "id": "f1aa9744",
=======
   "execution_count": 40,
   "id": "bc429c1f",
>>>>>>> c55eb3c941b44dac3de5355555aa08828187bb2c
   "metadata": {
    "scrolled": true
   },
   "outputs": [
    {
     "name": "stderr",
     "output_type": "stream",
     "text": [
<<<<<<< HEAD
      "/var/folders/3v/cd3_rvz10bd1jd08x0c03tpr0000gt/T/ipykernel_95525/2519758697.py:2: SettingWithCopyWarning: \n",
=======
      "C:\\Users\\Younes\\AppData\\Local\\Temp/ipykernel_2428/2519758697.py:2: SettingWithCopyWarning: \n",
>>>>>>> c55eb3c941b44dac3de5355555aa08828187bb2c
      "A value is trying to be set on a copy of a slice from a DataFrame.\n",
      "Try using .loc[row_indexer,col_indexer] = value instead\n",
      "\n",
      "See the caveats in the documentation: https://pandas.pydata.org/pandas-docs/stable/user_guide/indexing.html#returning-a-view-versus-a-copy\n",
      "  df['subtopic'] = np.where(df.quotation.str.contains('|'.join(KEYWORDS_FEMONAT)), \"islam\",\n"
     ]
    },
    {
     "data": {
      "text/html": [
       "<div>\n",
       "<style scoped>\n",
       "    .dataframe tbody tr th:only-of-type {\n",
       "        vertical-align: middle;\n",
       "    }\n",
       "\n",
       "    .dataframe tbody tr th {\n",
       "        vertical-align: top;\n",
       "    }\n",
       "\n",
       "    .dataframe thead th {\n",
       "        text-align: right;\n",
       "    }\n",
       "</style>\n",
       "<table border=\"1\" class=\"dataframe\">\n",
       "  <thead>\n",
       "    <tr style=\"text-align: right;\">\n",
       "      <th></th>\n",
       "      <th>quoteID</th>\n",
       "      <th>quotation</th>\n",
       "      <th>speaker</th>\n",
       "      <th>date</th>\n",
       "      <th>numOccurrences</th>\n",
       "      <th>probas</th>\n",
       "      <th>urls</th>\n",
       "      <th>aliases</th>\n",
       "      <th>date_of_birth</th>\n",
       "      <th>nationality</th>\n",
       "      <th>...</th>\n",
       "      <th>US_congress_bio_ID</th>\n",
       "      <th>occupation</th>\n",
       "      <th>party</th>\n",
       "      <th>academic_degree</th>\n",
       "      <th>label</th>\n",
       "      <th>candidacy</th>\n",
       "      <th>type</th>\n",
       "      <th>religion</th>\n",
       "      <th>sentiment</th>\n",
       "      <th>subtopic</th>\n",
       "    </tr>\n",
       "  </thead>\n",
       "  <tbody>\n",
       "    <tr>\n",
       "      <th>754</th>\n",
       "      <td>2017-11-21-082375</td>\n",
       "      <td>No matter your party, no matter your politics,...</td>\n",
       "      <td>Tom Perez</td>\n",
       "      <td>2017-11-21 13:44:47</td>\n",
       "      <td>1</td>\n",
       "      <td>[[Tom Perez, 0.8127], [None, 0.1826], [Al Fran...</td>\n",
       "      <td>[http://www.masslive.com/politics/index.ssf/20...</td>\n",
       "      <td>[Tom Perez, Thomas E. Perez, Thomas Edward Perez]</td>\n",
       "      <td>[+1961-10-07T00:00:00Z, +1961-01-07T00:00:00Z]</td>\n",
       "      <td>United States of America</td>\n",
       "      <td>...</td>\n",
       "      <td>None</td>\n",
       "      <td>politician</td>\n",
       "      <td>Democratic Party</td>\n",
       "      <td>NaN</td>\n",
       "      <td>Thomas Perez</td>\n",
       "      <td>None</td>\n",
       "      <td>item</td>\n",
       "      <td>NaN</td>\n",
       "      <td>-0.6184</td>\n",
       "      <td>sexual</td>\n",
       "    </tr>\n",
       "    <tr>\n",
       "      <th>854</th>\n",
       "      <td>2017-11-16-172692</td>\n",
       "      <td>Women who come forward are brave and deserve t...</td>\n",
       "      <td>Elizabeth Warren</td>\n",
       "      <td>2017-11-16 14:25:41</td>\n",
       "      <td>4</td>\n",
       "      <td>[[Elizabeth Warren, 0.495], [None, 0.3292], [C...</td>\n",
       "      <td>[http://www.masslive.com/politics/index.ssf/20...</td>\n",
       "      <td>[Elizabeth Ann Warren, Senator Warren, Elisabe...</td>\n",
       "      <td>[+1949-06-22T00:00:00Z]</td>\n",
       "      <td>United States of America</td>\n",
       "      <td>...</td>\n",
       "      <td>W000817</td>\n",
       "      <td>jurist</td>\n",
       "      <td>Democratic Party</td>\n",
       "      <td>bachelor's degree</td>\n",
       "      <td>Elizabeth Warren</td>\n",
       "      <td>[Q28220813]</td>\n",
       "      <td>item</td>\n",
       "      <td>Methodism</td>\n",
       "      <td>-0.5423</td>\n",
       "      <td>sexual</td>\n",
       "    </tr>\n",
       "    <tr>\n",
       "      <th>855</th>\n",
       "      <td>2017-11-16-163952</td>\n",
       "      <td>We're not going to fix the problems of sexual ...</td>\n",
       "      <td>Elizabeth Warren</td>\n",
       "      <td>2017-11-16 14:55:00</td>\n",
       "      <td>6</td>\n",
       "      <td>[[Elizabeth Warren, 0.5309], [None, 0.339], [S...</td>\n",
       "      <td>[http://feeds.latimes.com/~r/latimes/entertain...</td>\n",
       "      <td>[Elizabeth Ann Warren, Senator Warren, Elisabe...</td>\n",
       "      <td>[+1949-06-22T00:00:00Z]</td>\n",
       "      <td>United States of America</td>\n",
       "      <td>...</td>\n",
       "      <td>W000817</td>\n",
       "      <td>jurist</td>\n",
       "      <td>Democratic Party</td>\n",
       "      <td>bachelor's degree</td>\n",
       "      <td>Elizabeth Warren</td>\n",
       "      <td>[Q28220813]</td>\n",
       "      <td>item</td>\n",
       "      <td>Methodism</td>\n",
       "      <td>-0.8750</td>\n",
       "      <td>sexual</td>\n",
       "    </tr>\n",
       "    <tr>\n",
       "      <th>863</th>\n",
       "      <td>2017-11-16-116217</td>\n",
       "      <td>The behavior reported today is unacceptable an...</td>\n",
       "      <td>Elizabeth Warren</td>\n",
       "      <td>2017-11-16 19:48:09</td>\n",
       "      <td>2</td>\n",
       "      <td>[[Elizabeth Warren, 0.7688], [None, 0.1378], [...</td>\n",
       "      <td>[https://www.boston.com/news/politics/2017/11/...</td>\n",
       "      <td>[Elizabeth Ann Warren, Senator Warren, Elisabe...</td>\n",
       "      <td>[+1949-06-22T00:00:00Z]</td>\n",
       "      <td>United States of America</td>\n",
       "      <td>...</td>\n",
       "      <td>W000817</td>\n",
       "      <td>jurist</td>\n",
       "      <td>Democratic Party</td>\n",
       "      <td>bachelor's degree</td>\n",
       "      <td>Elizabeth Warren</td>\n",
       "      <td>[Q28220813]</td>\n",
       "      <td>item</td>\n",
       "      <td>Methodism</td>\n",
       "      <td>-0.7089</td>\n",
       "      <td>sexual</td>\n",
       "    </tr>\n",
       "    <tr>\n",
       "      <th>865</th>\n",
       "      <td>2017-12-17-076169</td>\n",
       "      <td>Women are coming forward to tell stories of th...</td>\n",
       "      <td>Elizabeth Warren</td>\n",
       "      <td>2017-12-17 00:00:00</td>\n",
       "      <td>1</td>\n",
       "      <td>[[Elizabeth Warren, 0.8229], [None, 0.1664], [...</td>\n",
       "      <td>[https://www.opednews.com/articles/Warren-Brow...</td>\n",
       "      <td>[Elizabeth Ann Warren, Senator Warren, Elisabe...</td>\n",
       "      <td>[+1949-06-22T00:00:00Z]</td>\n",
       "      <td>United States of America</td>\n",
       "      <td>...</td>\n",
       "      <td>W000817</td>\n",
       "      <td>jurist</td>\n",
       "      <td>Democratic Party</td>\n",
       "      <td>bachelor's degree</td>\n",
       "      <td>Elizabeth Warren</td>\n",
       "      <td>[Q28220813]</td>\n",
       "      <td>item</td>\n",
       "      <td>Methodism</td>\n",
       "      <td>-0.5666</td>\n",
       "      <td>sexual</td>\n",
       "    </tr>\n",
       "    <tr>\n",
       "      <th>...</th>\n",
       "      <td>...</td>\n",
       "      <td>...</td>\n",
       "      <td>...</td>\n",
       "      <td>...</td>\n",
       "      <td>...</td>\n",
       "      <td>...</td>\n",
       "      <td>...</td>\n",
       "      <td>...</td>\n",
       "      <td>...</td>\n",
       "      <td>...</td>\n",
       "      <td>...</td>\n",
       "      <td>...</td>\n",
       "      <td>...</td>\n",
       "      <td>...</td>\n",
       "      <td>...</td>\n",
       "      <td>...</td>\n",
       "      <td>...</td>\n",
       "      <td>...</td>\n",
       "      <td>...</td>\n",
       "      <td>...</td>\n",
       "      <td>...</td>\n",
       "    </tr>\n",
       "    <tr>\n",
       "      <th>40533</th>\n",
       "      <td>2017-11-22-091474</td>\n",
       "      <td>recognizes and understands the seriousness of ...</td>\n",
       "      <td>Michael Padilla</td>\n",
       "      <td>2017-11-22 22:20:15</td>\n",
       "      <td>7</td>\n",
       "      <td>[[Michael Padilla, 0.4456], [Michelle Lujan Gr...</td>\n",
       "      <td>[http://www.lmtonline.com/news/article/New-Mex...</td>\n",
       "      <td>None</td>\n",
       "      <td>[+1972-06-13T00:00:00Z]</td>\n",
       "      <td>United States of America</td>\n",
       "      <td>...</td>\n",
       "      <td>None</td>\n",
       "      <td>politician</td>\n",
       "      <td>Democratic Party</td>\n",
       "      <td>NaN</td>\n",
       "      <td>Michael Padilla</td>\n",
       "      <td>None</td>\n",
       "      <td>item</td>\n",
       "      <td>NaN</td>\n",
       "      <td>-0.5574</td>\n",
       "      <td>sexual</td>\n",
       "    </tr>\n",
       "    <tr>\n",
       "      <th>40537</th>\n",
       "      <td>2017-11-24-027488</td>\n",
       "      <td>I don't think we should be spending government...</td>\n",
       "      <td>Mickey Kearns</td>\n",
       "      <td>2017-11-24 00:00:00</td>\n",
       "      <td>1</td>\n",
       "      <td>[[Mickey Kearns, 0.7134], [None, 0.25], [Sam H...</td>\n",
       "      <td>[http://news.wbfo.org/post/tackling-sexual-har...</td>\n",
       "      <td>None</td>\n",
       "      <td>[+1943-04-18T00:00:00Z]</td>\n",
       "      <td>Ireland</td>\n",
       "      <td>...</td>\n",
       "      <td>None</td>\n",
       "      <td>Gaelic football player</td>\n",
       "      <td>NaN</td>\n",
       "      <td>NaN</td>\n",
       "      <td>Mickey Kearns</td>\n",
       "      <td>None</td>\n",
       "      <td>item</td>\n",
       "      <td>NaN</td>\n",
       "      <td>-0.5423</td>\n",
       "      <td>sexual</td>\n",
       "    </tr>\n",
       "    <tr>\n",
       "      <th>40543</th>\n",
       "      <td>2017-11-16-085118</td>\n",
       "      <td>Lessons on self-silencing and sexual harassment,</td>\n",
       "      <td>Cass R. Sunstein</td>\n",
       "      <td>2017-11-16 08:09:01</td>\n",
       "      <td>2</td>\n",
       "      <td>[[Cass R. Sunstein, 0.9194], [None, 0.0807]]</td>\n",
       "      <td>[http://www.pressdemocrat.com/news/state/76071...</td>\n",
       "      <td>[Cass Robert Sunstein, Cass R. Sunstein]</td>\n",
       "      <td>[+1954-09-21T00:00:00Z]</td>\n",
       "      <td>United States of America</td>\n",
       "      <td>...</td>\n",
       "      <td>None</td>\n",
       "      <td>jurist</td>\n",
       "      <td>Democratic Party</td>\n",
       "      <td>NaN</td>\n",
       "      <td>Cass Sunstein</td>\n",
       "      <td>None</td>\n",
       "      <td>item</td>\n",
       "      <td>NaN</td>\n",
       "      <td>-0.5423</td>\n",
       "      <td>sexual</td>\n",
       "    </tr>\n",
       "    <tr>\n",
       "      <th>40548</th>\n",
       "      <td>2017-12-20-094235</td>\n",
       "      <td>That doesn't necessarily mean `believe in the ...</td>\n",
       "      <td>Megan McCabe</td>\n",
       "      <td>2017-12-20 11:04:36</td>\n",
       "      <td>1</td>\n",
       "      <td>[[Megan McCabe, 0.8509], [None, 0.1325], [Al F...</td>\n",
       "      <td>[https://www.ncronline.org/news/opinion/distin...</td>\n",
       "      <td>None</td>\n",
       "      <td>None</td>\n",
       "      <td>NaN</td>\n",
       "      <td>...</td>\n",
       "      <td>None</td>\n",
       "      <td>actor</td>\n",
       "      <td>NaN</td>\n",
       "      <td>NaN</td>\n",
       "      <td>Megan McCabe</td>\n",
       "      <td>None</td>\n",
       "      <td>item</td>\n",
       "      <td>NaN</td>\n",
       "      <td>-0.8856</td>\n",
       "      <td>sexual</td>\n",
       "    </tr>\n",
       "    <tr>\n",
       "      <th>40572</th>\n",
       "      <td>2017-12-05-136456</td>\n",
       "      <td>was the standard for suits alleging civil righ...</td>\n",
       "      <td>Nancy Gertner</td>\n",
       "      <td>2017-12-05 10:00:22</td>\n",
       "      <td>1</td>\n",
       "      <td>[[Nancy Gertner, 0.8795], [None, 0.1205]]</td>\n",
       "      <td>[https://www.nytimes.com/2017/12/05/magazine/t...</td>\n",
       "      <td>None</td>\n",
       "      <td>[+1946-05-22T00:00:00Z]</td>\n",
       "      <td>United States of America</td>\n",
       "      <td>...</td>\n",
       "      <td>None</td>\n",
       "      <td>lawyer</td>\n",
       "      <td>NaN</td>\n",
       "      <td>NaN</td>\n",
       "      <td>Nancy Gernter</td>\n",
       "      <td>None</td>\n",
       "      <td>item</td>\n",
       "      <td>NaN</td>\n",
       "      <td>-0.6597</td>\n",
       "      <td>sexual</td>\n",
       "    </tr>\n",
       "  </tbody>\n",
       "</table>\n",
       "<p>2283 rows × 23 columns</p>\n",
       "</div>"
      ],
      "text/plain": [
       "                 quoteID                                          quotation  \\\n",
       "754    2017-11-21-082375  No matter your party, no matter your politics,...   \n",
       "854    2017-11-16-172692  Women who come forward are brave and deserve t...   \n",
       "855    2017-11-16-163952  We're not going to fix the problems of sexual ...   \n",
       "863    2017-11-16-116217  The behavior reported today is unacceptable an...   \n",
       "865    2017-12-17-076169  Women are coming forward to tell stories of th...   \n",
       "...                  ...                                                ...   \n",
       "40533  2017-11-22-091474  recognizes and understands the seriousness of ...   \n",
       "40537  2017-11-24-027488  I don't think we should be spending government...   \n",
       "40543  2017-11-16-085118   Lessons on self-silencing and sexual harassment,   \n",
       "40548  2017-12-20-094235  That doesn't necessarily mean `believe in the ...   \n",
       "40572  2017-12-05-136456  was the standard for suits alleging civil righ...   \n",
       "\n",
       "                speaker                date  numOccurrences  \\\n",
       "754           Tom Perez 2017-11-21 13:44:47               1   \n",
       "854    Elizabeth Warren 2017-11-16 14:25:41               4   \n",
       "855    Elizabeth Warren 2017-11-16 14:55:00               6   \n",
       "863    Elizabeth Warren 2017-11-16 19:48:09               2   \n",
       "865    Elizabeth Warren 2017-12-17 00:00:00               1   \n",
       "...                 ...                 ...             ...   \n",
       "40533   Michael Padilla 2017-11-22 22:20:15               7   \n",
       "40537     Mickey Kearns 2017-11-24 00:00:00               1   \n",
       "40543  Cass R. Sunstein 2017-11-16 08:09:01               2   \n",
       "40548      Megan McCabe 2017-12-20 11:04:36               1   \n",
       "40572     Nancy Gertner 2017-12-05 10:00:22               1   \n",
       "\n",
       "                                                  probas  \\\n",
       "754    [[Tom Perez, 0.8127], [None, 0.1826], [Al Fran...   \n",
       "854    [[Elizabeth Warren, 0.495], [None, 0.3292], [C...   \n",
       "855    [[Elizabeth Warren, 0.5309], [None, 0.339], [S...   \n",
       "863    [[Elizabeth Warren, 0.7688], [None, 0.1378], [...   \n",
       "865    [[Elizabeth Warren, 0.8229], [None, 0.1664], [...   \n",
       "...                                                  ...   \n",
       "40533  [[Michael Padilla, 0.4456], [Michelle Lujan Gr...   \n",
       "40537  [[Mickey Kearns, 0.7134], [None, 0.25], [Sam H...   \n",
       "40543       [[Cass R. Sunstein, 0.9194], [None, 0.0807]]   \n",
       "40548  [[Megan McCabe, 0.8509], [None, 0.1325], [Al F...   \n",
       "40572          [[Nancy Gertner, 0.8795], [None, 0.1205]]   \n",
       "\n",
       "                                                    urls  \\\n",
       "754    [http://www.masslive.com/politics/index.ssf/20...   \n",
       "854    [http://www.masslive.com/politics/index.ssf/20...   \n",
       "855    [http://feeds.latimes.com/~r/latimes/entertain...   \n",
       "863    [https://www.boston.com/news/politics/2017/11/...   \n",
       "865    [https://www.opednews.com/articles/Warren-Brow...   \n",
       "...                                                  ...   \n",
       "40533  [http://www.lmtonline.com/news/article/New-Mex...   \n",
       "40537  [http://news.wbfo.org/post/tackling-sexual-har...   \n",
       "40543  [http://www.pressdemocrat.com/news/state/76071...   \n",
       "40548  [https://www.ncronline.org/news/opinion/distin...   \n",
       "40572  [https://www.nytimes.com/2017/12/05/magazine/t...   \n",
       "\n",
       "                                                 aliases  \\\n",
       "754    [Tom Perez, Thomas E. Perez, Thomas Edward Perez]   \n",
       "854    [Elizabeth Ann Warren, Senator Warren, Elisabe...   \n",
       "855    [Elizabeth Ann Warren, Senator Warren, Elisabe...   \n",
       "863    [Elizabeth Ann Warren, Senator Warren, Elisabe...   \n",
       "865    [Elizabeth Ann Warren, Senator Warren, Elisabe...   \n",
       "...                                                  ...   \n",
       "40533                                               None   \n",
       "40537                                               None   \n",
       "40543           [Cass Robert Sunstein, Cass R. Sunstein]   \n",
       "40548                                               None   \n",
       "40572                                               None   \n",
       "\n",
       "                                        date_of_birth  \\\n",
       "754    [+1961-10-07T00:00:00Z, +1961-01-07T00:00:00Z]   \n",
       "854                           [+1949-06-22T00:00:00Z]   \n",
       "855                           [+1949-06-22T00:00:00Z]   \n",
       "863                           [+1949-06-22T00:00:00Z]   \n",
       "865                           [+1949-06-22T00:00:00Z]   \n",
       "...                                               ...   \n",
       "40533                         [+1972-06-13T00:00:00Z]   \n",
       "40537                         [+1943-04-18T00:00:00Z]   \n",
       "40543                         [+1954-09-21T00:00:00Z]   \n",
       "40548                                            None   \n",
       "40572                         [+1946-05-22T00:00:00Z]   \n",
       "\n",
       "                    nationality  ... US_congress_bio_ID  \\\n",
       "754    United States of America  ...               None   \n",
       "854    United States of America  ...            W000817   \n",
       "855    United States of America  ...            W000817   \n",
       "863    United States of America  ...            W000817   \n",
       "865    United States of America  ...            W000817   \n",
       "...                         ...  ...                ...   \n",
       "40533  United States of America  ...               None   \n",
       "40537                   Ireland  ...               None   \n",
       "40543  United States of America  ...               None   \n",
       "40548                       NaN  ...               None   \n",
       "40572  United States of America  ...               None   \n",
       "\n",
       "                   occupation             party    academic_degree  \\\n",
       "754                politician  Democratic Party                NaN   \n",
       "854                    jurist  Democratic Party  bachelor's degree   \n",
       "855                    jurist  Democratic Party  bachelor's degree   \n",
       "863                    jurist  Democratic Party  bachelor's degree   \n",
       "865                    jurist  Democratic Party  bachelor's degree   \n",
       "...                       ...               ...                ...   \n",
       "40533              politician  Democratic Party                NaN   \n",
       "40537  Gaelic football player               NaN                NaN   \n",
       "40543                  jurist  Democratic Party                NaN   \n",
       "40548                   actor               NaN                NaN   \n",
       "40572                  lawyer               NaN                NaN   \n",
       "\n",
       "                  label    candidacy  type   religion sentiment subtopic  \n",
       "754        Thomas Perez         None  item        NaN   -0.6184   sexual  \n",
       "854    Elizabeth Warren  [Q28220813]  item  Methodism   -0.5423   sexual  \n",
       "855    Elizabeth Warren  [Q28220813]  item  Methodism   -0.8750   sexual  \n",
       "863    Elizabeth Warren  [Q28220813]  item  Methodism   -0.7089   sexual  \n",
       "865    Elizabeth Warren  [Q28220813]  item  Methodism   -0.5666   sexual  \n",
       "...                 ...          ...   ...        ...       ...      ...  \n",
       "40533   Michael Padilla         None  item        NaN   -0.5574   sexual  \n",
       "40537     Mickey Kearns         None  item        NaN   -0.5423   sexual  \n",
       "40543     Cass Sunstein         None  item        NaN   -0.5423   sexual  \n",
       "40548      Megan McCabe         None  item        NaN   -0.8856   sexual  \n",
       "40572     Nancy Gernter         None  item        NaN   -0.6597   sexual  \n",
       "\n",
       "[2283 rows x 23 columns]"
      ]
     },
<<<<<<< HEAD
     "execution_count": 27,
=======
     "execution_count": 40,
>>>>>>> c55eb3c941b44dac3de5355555aa08828187bb2c
     "metadata": {},
     "output_type": "execute_result"
    }
   ],
   "source": [
    "add_subtopic(neg_end_2017_df)"
   ]
  },
  {
   "cell_type": "code",
<<<<<<< HEAD
   "execution_count": 49,
   "id": "4412a31e",
=======
   "execution_count": 53,
   "id": "b0cbcb49",
>>>>>>> c55eb3c941b44dac3de5355555aa08828187bb2c
   "metadata": {},
   "outputs": [
    {
     "data": {
<<<<<<< HEAD
      "image/png": "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\n",
=======
      "image/png": "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\n",
>>>>>>> c55eb3c941b44dac3de5355555aa08828187bb2c
      "text/plain": [
       "<Figure size 432x288 with 1 Axes>"
      ]
     },
     "metadata": {},
     "output_type": "display_data"
    }
   ],
   "source": [
<<<<<<< HEAD
    "fig = neg_end_2017_df['subtopic'].value_counts().sort_index().plot.bar(x='Target Value', y='Number of Occurrences').get_figure()\n",
    "plt.tight_layout()\n",
    "plt.savefig('timeline_investigation.png')"
=======
    "neg_end_2017_df['subtopic'].value_counts().sort_index().plot.bar(x='Target Value', y='Number of Occurrences')\n",
    "plt.savefig(\"./img/sentiment_categ.jpg\",dpi=400)"
>>>>>>> c55eb3c941b44dac3de5355555aa08828187bb2c
   ]
  },
  {
   "cell_type": "markdown",
   "id": "e6c605b3",
   "metadata": {},
   "source": [
    "From this analysis it seems that the events are probably linked to some sexual harassment scandal..."
   ]
  },
  {
   "cell_type": "markdown",
   "id": "091502e1",
   "metadata": {},
   "source": [
    "### Overall Time analysis "
   ]
  },
  {
   "cell_type": "code",
<<<<<<< HEAD
   "execution_count": 29,
   "id": "51ab23fa",
=======
   "execution_count": 42,
   "id": "162afa01",
>>>>>>> c55eb3c941b44dac3de5355555aa08828187bb2c
   "metadata": {
    "scrolled": true
   },
   "outputs": [],
   "source": [
    "# sort dataframe by date\n",
    "# df.sort_values(ascending=[True],by=['date'],inplace=True)\n",
    "# df.head()"
   ]
  },
  {
   "cell_type": "code",
<<<<<<< HEAD
   "execution_count": 58,
   "id": "a441a8f6",
=======
   "execution_count": 43,
   "id": "0544d332",
>>>>>>> c55eb3c941b44dac3de5355555aa08828187bb2c
   "metadata": {
    "scrolled": false
   },
   "outputs": [
    {
     "data": {
      "image/png": "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\n",
      "text/plain": [
       "<Figure size 1296x360 with 1 Axes>"
      ]
     },
     "metadata": {},
     "output_type": "display_data"
    },
    {
     "data": {
      "text/plain": [
       "<Figure size 432x288 with 0 Axes>"
      ]
     },
     "metadata": {},
     "output_type": "display_data"
    }
   ],
   "source": [
    "# quotes in function of time\n",
    "fig = df['date'].hist(bins = 100, figsize = [18,5]).get_figure()\n",
    "plt.show() \n",
<<<<<<< HEAD
    "plt.tight_layout()\n",
    "fig.savefig('timeline_barplot.png')\n",
    "# this graph should probably go into a general presentation of our data instead of here "
=======
    "# this graph should probably go into a general presentation of our data instead of here \n"
>>>>>>> c55eb3c941b44dac3de5355555aa08828187bb2c
   ]
  },
  {
   "cell_type": "code",
<<<<<<< HEAD
   "execution_count": 119,
   "id": "e87adee3",
=======
   "execution_count": 44,
   "id": "00dba2f1",
>>>>>>> c55eb3c941b44dac3de5355555aa08828187bb2c
   "metadata": {
    "scrolled": true
   },
   "outputs": [
    {
     "data": {
      "image/png": "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\n",
      "text/plain": [
       "<Figure size 1296x360 with 1 Axes>"
      ]
     },
     "metadata": {},
     "output_type": "display_data"
    }
   ],
   "source": [
    "df.plot(x = 'date',y='sentiment', figsize = [18,5])\n",
    "plt.show()\n",
    "# not much info from this graph"
   ]
  },
  {
   "cell_type": "markdown",
   "id": "0058950e",
   "metadata": {},
   "source": [
    "#### separate the data into positive, negative, and neutral quotes"
   ]
  },
  {
   "cell_type": "code",
<<<<<<< HEAD
   "execution_count": 56,
   "id": "2e8331c9",
=======
   "execution_count": 45,
   "id": "47558c06",
>>>>>>> c55eb3c941b44dac3de5355555aa08828187bb2c
   "metadata": {},
   "outputs": [],
   "source": [
    "# take a threshold and separate the data in two : \n",
    "# threshold choice currently partly arbitrary\n",
    "df_positive = df.query('sentiment > 0.25')\n",
    "df_negative = df.query('sentiment < -0.25')\n",
    "df_neutral  = df.query('sentiment > -0.25').query('sentiment < 0.25')"
   ]
  },
  {
   "cell_type": "code",
<<<<<<< HEAD
   "execution_count": 60,
   "id": "1207c021",
=======
   "execution_count": 51,
   "id": "adb7f8f0",
>>>>>>> c55eb3c941b44dac3de5355555aa08828187bb2c
   "metadata": {},
   "outputs": [
    {
     "data": {
      "image/png": "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\n",
      "text/plain": [
       "<Figure size 1296x360 with 1 Axes>"
      ]
     },
     "metadata": {},
     "output_type": "display_data"
    },
    {
     "data": {
      "text/plain": [
       "<Figure size 432x288 with 0 Axes>"
      ]
     },
     "metadata": {},
     "output_type": "display_data"
    }
   ],
   "source": [
    "df_positive['date'].hist(bins = 100, figsize = [18,5])\n",
    "df_negative['date'].hist(bins = 100, figsize = [18,5],alpha = 0.5)\n",
    "# seems like around 2018 there were a lot of negative quotations\n",
<<<<<<< HEAD
    "fig = df_neutral['date'].hist(bins = 100, figsize = [18,5],alpha =0.5).get_figure()\n",
    "plt.show() \n",
    "plt.tight_layout()\n",
    "fig.savefig('timeline_barplot_sentiment.png')\n",
    "plt.show()"
=======
    "df_neutral['date'].hist(bins = 100, figsize = [18,5],alpha = 0.5)\n",
    "plt.savefig(\"./img/sentiment_time_pos_neg_neu.jpg\",dpi=400)\n",
    "plt.show()\n"
>>>>>>> c55eb3c941b44dac3de5355555aa08828187bb2c
   ]
  },
  {
   "cell_type": "markdown",
   "id": "0670fdeb",
   "metadata": {},
   "source": [
    "## Sub question 2 : Can we link the sentiment to the use of women's rights ideology?"
   ]
  },
  {
   "cell_type": "markdown",
   "id": "ebd7be9f",
   "metadata": {},
   "source": [
    "- Seperate the speakers in function of their political party\n",
    "- calculate the average of the compound score (from Vader) on their quotes. \n",
    "- show distribution in function of party\n",
    "\n",
    "Maybe we will find a relation between the compound score and the general opinion of the party."
   ]
  },
  {
   "cell_type": "markdown",
   "id": "79d04847",
   "metadata": {},
   "source": [
    "### Sentiment and political party"
   ]
  },
  {
   "cell_type": "code",
   "execution_count": 122,
   "id": "b12ec25b",
   "metadata": {},
   "outputs": [
    {
     "data": {
      "text/plain": [
       "Index(['quoteID', 'quotation', 'speaker', 'date', 'numOccurrences', 'probas',\n",
       "       'urls', 'aliases', 'date_of_birth', 'nationality', 'gender',\n",
       "       'lastrevid', 'ethnic_group', 'US_congress_bio_ID', 'occupation',\n",
       "       'party', 'academic_degree', 'label', 'candidacy', 'type', 'religion',\n",
       "       'sentiment'],\n",
       "      dtype='object')"
      ]
     },
     "execution_count": 122,
     "metadata": {},
     "output_type": "execute_result"
    }
   ],
   "source": [
    "df.columns"
   ]
  },
  {
   "cell_type": "code",
   "execution_count": 123,
   "id": "43832c76",
   "metadata": {},
   "outputs": [
    {
     "data": {
      "text/plain": [
       "589"
      ]
     },
     "execution_count": 123,
     "metadata": {},
     "output_type": "execute_result"
    }
   ],
   "source": [
    "df['party'].nunique()"
   ]
  },
  {
   "cell_type": "code",
   "execution_count": 124,
   "id": "6bdc5181",
   "metadata": {},
   "outputs": [
    {
     "data": {
      "text/plain": [
       "array(['Australian Labor Party', nan, 'Democratic Party',\n",
       "       'Liberal Party of Australia', 'Republican Party',\n",
       "       'Liberal Party of Canada', 'Alberta Liberal Party',\n",
       "       'independent politician',\n",
       "       'Communist Party of India (Marxist–Leninist) Liberation',\n",
       "       'African National Congress', 'National Party of Australia – NSW',\n",
       "       'New Zealand National Party',\n",
       "       'Minnesota Democratic–Farmer–Labor Party',\n",
       "       'National Democratic Congress', 'Justice and Development Party',\n",
       "       'New Democratic Party', 'Democratic Action Party',\n",
       "       'Fiji First Party', 'Liberty Union Party',\n",
       "       'New Democratic Party of Manitoba', 'Ontario Liberal Party',\n",
       "       'Bulgarian Socialist Party', 'Bharatiya Janata Party',\n",
       "       'Conservative Party of Canada', 'Truth and Justice Party',\n",
       "       'Socialist Party', 'Worker-communist Party of Iran',\n",
       "       'Labour Party', 'Indian National Congress',\n",
       "       'Progressive Conservative Association of Alberta',\n",
       "       'Communist Party of India', 'Independent Liberal Party',\n",
       "       'Communist Party of India (Marxist)', 'Awami National Party',\n",
       "       'Unity Party', 'Israeli Labor Party',\n",
       "       'Green Party of Aotearoa New Zealand',\n",
       "       'Union for a Popular Movement', 'Australian Democrats',\n",
       "       'Nacionalista Party', 'Congress for Progressive Change',\n",
       "       'Patriotic Front', 'New Zealand Labour Party',\n",
       "       'Conservative Party', 'Scottish National Party',\n",
       "       'Scottish Labour Party', 'British Columbia Liberal Party',\n",
       "       'United National Party', 'Hatnuah', 'Scottish Conservatives',\n",
       "       'Progressive Party', 'Sinn Féin', 'Liberal Democrats',\n",
       "       'Republican Party of Minnesota',\n",
       "       'United Socialist Party of Venezuela', 'Islamic Republican Party',\n",
       "       'Balad', 'National League for Democracy',\n",
       "       'Reform Party of the United States of America',\n",
       "       'Peoples Democratic Party', 'Saskatchewan New Democratic Party',\n",
       "       'Liberal Democratic Party', 'Parti Pesaka Bumiputera Bersatu',\n",
       "       'Forum for Democratic Change', 'Green Party',\n",
       "       'Ontario New Democratic Party', 'Bangladesh Awami League',\n",
       "       'Liberal National Party of Queensland', 'Iowa Democratic Party',\n",
       "       'Party of National Unity', 'Colombian Conservative Party',\n",
       "       'Australian Labor Party (Victorian Branch)',\n",
       "       'consensus government in Canada', 'Free Democratic Party',\n",
       "       'Swedish Social Democratic Party',\n",
       "       'Social Democratic Party of Croatia',\n",
       "       'Liberal Party of the Philippines', 'California Republican Party',\n",
       "       'Welsh Labour', 'Pakistan Peoples Party',\n",
       "       'Alberta New Democratic Party', \"People's Party\",\n",
       "       'Lakas Kampi CMD', 'Fianna Fáil', 'Podemos', 'The Jewish Home',\n",
       "       \"Clive Palmer's United Australia Party\", 'Social Democrats',\n",
       "       'Aam Aadmi Party', 'Christian Democratic Union',\n",
       "       'Labour Co-operative', 'Yesh Atid', 'National Salvation Party',\n",
       "       'Janata Dal (United)', 'Communist Party of China',\n",
       "       'Socialist Workers Party', \"Christian Social People's Party\",\n",
       "       'Australian Labor Party (Queensland Branch)',\n",
       "       'UK Independence Party', 'GABRIELA', 'Australian Greens',\n",
       "       'All Progressives Congress',\n",
       "       'All India Majlis-e-Ittehadul Muslimeen',\n",
       "       'Green Party of the United States',\n",
       "       'Conservative Party of New York State',\n",
       "       'Social Democratic Party of Germany', 'Justicialist Party',\n",
       "       'Rwandan Patriotic Front',\n",
       "       'Indonesian Democratic Party – Struggle',\n",
       "       'California Democratic Party', 'Working Families Party',\n",
       "       'National Party of Australia',\n",
       "       'Progressive Conservative Party of Ontario', \"New People's Party\",\n",
       "       'Libertarian Party', 'Scottish Green Party',\n",
       "       'United Development Party', 'Shiv Sena', 'The National Alliance',\n",
       "       'Utah Democratic Party', 'Fine Gael', 'Greens Western Australia',\n",
       "       'Democratic Socialists of America', 'Five Star Movement',\n",
       "       'United Malays National Organisation', \"Republican People's Party\",\n",
       "       'Liberal Party of Australia (Victorian Division)',\n",
       "       'Pakistan Muslim League (N)',\n",
       "       'Partido Demokratiko Pilipino–Lakas ng Bayan',\n",
       "       'Orange Democratic Movement', 'National Resistance Movement',\n",
       "       'Democratic Progressive Party', 'Otzma Yehudit',\n",
       "       \"People's National Movement\",\n",
       "       'Liberal Party of Australia (New South Wales Division)',\n",
       "       'Islamic Renaissance Party of Tajikistan',\n",
       "       'Christian Democratic and Flemish', 'Parti Bersatu Sabah',\n",
       "       \"Women's Equality Party\", 'Ohio Democratic Party', 'Likud',\n",
       "       \"People's National Party\", 'One Nation', \"People's Reform Party\",\n",
       "       \"People's Action Party\", \"People's Mujahedin of Iran\",\n",
       "       'Christian Democratic Party', 'Kenya African National Union',\n",
       "       'Biju Janata Dal', 'Country Liberal Party',\n",
       "       'Nebraska Democratic Party', 'Democratic National Alliance',\n",
       "       'Socialist Unity Party of Germany', 'Parti libéral du Québec',\n",
       "       \"Alliance '90/The Greens\",\n",
       "       'Zimbabwe African National Union – Patriotic Front',\n",
       "       'Social Democratic and Labour Party', 'Saskatchewan Party',\n",
       "       'Wiper Democratic Movement', 'Democracy Is Freedom – The Daisy',\n",
       "       'Republican Left of Catalonia', 'Civic Platform',\n",
       "       \"Derryn Hinch's Justice Party\", 'Liberty Korea Party',\n",
       "       'Telugu Desam Party',\n",
       "       'Australian Labor Party (New South Wales Branch)',\n",
       "       'Utah Republican Party', 'National Party of Australia (WA)',\n",
       "       'Humanist Party of Guatemala', 'Ecologist Party \"The Greens\"',\n",
       "       \"All People's Congress\", 'National Democratic Party',\n",
       "       \"Cambodian People's Party\", 'Awami Workers Party', 'Hadash',\n",
       "       'Democratic Party of Korea', 'Christian Democrats',\n",
       "       'United National Congress', 'Action Congress of Nigeria',\n",
       "       'Pakistan Tehreek-e-Insaf', 'Fifth Republic Movement',\n",
       "       \"People's Party for Freedom and Democracy\",\n",
       "       'Ulster Unionist Party', 'Solomon Islands Social Credit Party',\n",
       "       'Human Rights Protection Party', 'Solidarity–People Before Profit',\n",
       "       'Muttahida Qaumi Movement', 'Malaysian Chinese Association',\n",
       "       'Democratic Alliance', 'Vote 1 Local Jobs', 'Bahujan Samaj Party',\n",
       "       'Jubilee Party of Kenya', 'Party of the Revolution',\n",
       "       'Parti Québécois', 'Malaysian Islamic Party',\n",
       "       'Revolutionary Communist Party', 'Nepali Congress', 'Left Party',\n",
       "       'Australian Labor Party (Australian Capital Territory Branch)',\n",
       "       'Radical Party of the Left',\n",
       "       'Citizens for European Development of Bulgaria', 'Hamas',\n",
       "       \"United People's Freedom Alliance\",\n",
       "       'Green Party of England and Wales', 'New Patriotic Party',\n",
       "       'Republican Party of Iowa', 'Yisrael Beiteinu',\n",
       "       'Liberal Party of Australia (Western Australian Division)',\n",
       "       'International Marxist Group', 'Nova Scotia Liberal Party',\n",
       "       'Australian Labor Party (Northern Territory Branch)',\n",
       "       'National Rally',\n",
       "       'North Dakota Democratic-Nonpartisan League Party',\n",
       "       'Welsh Conservative Party', 'Scottish Liberal Democrats',\n",
       "       'Barbados Labour Party', 'Socialist Party of Chile',\n",
       "       'Social Democratic Party of Austria', 'Greens New South Wales',\n",
       "       'African Christian Democratic Party', 'Jatiya Samajtantrik Dal',\n",
       "       'Communist Party of Nepal (Unity Centre)',\n",
       "       'Independent Senators Group', 'Nationalist Party',\n",
       "       'Cambodian National Rescue Party',\n",
       "       'Social Democratic Party of Finland', 'Progressive Liberal Party',\n",
       "       'Samajwadi Party', 'Constitutional Democratic Party of Japan',\n",
       "       'United Opposition', 'McGillicuddy Serious Party',\n",
       "       'United Democratic Front', 'Conservative Party of New Zealand',\n",
       "       \"Nationalist People's Coalition\", 'Jamaica Labour Party',\n",
       "       'Liberty Movement', 'Rastakhiz Party',\n",
       "       'Islamic Iran Participation Front', 'Panameñista Party',\n",
       "       'Pakistan Muslim League',\n",
       "       'National Movement for Stability and Progress',\n",
       "       'British Columbia New Democratic Party',\n",
       "       'Democratic Party of Oregon', 'New Democracy',\n",
       "       \"Cameroon People's Democratic Movement\",\n",
       "       \"Akbayan Citizens' Action Party\", 'Maine Democratic Party',\n",
       "       'Bhutan Peace and Prosperity Party', 'Rally for the Republic',\n",
       "       'Coalition Avenir Québec', 'Liberal Democratic Party of Moldova',\n",
       "       'Armed Forces Revolutionary Council, Ghana',\n",
       "       'Economic Freedom Fighters', 'Communist Party of Czechoslovakia',\n",
       "       'Yukon Party', 'Pwersa ng Masang Pilipino', 'Your Movement',\n",
       "       \"Jammu and Kashmir People's Democratic Party\",\n",
       "       'Australian Labor Party (Western Australian Branch)',\n",
       "       'Norwegian Labour Party', 'Canadian Alliance', 'Japan New Party',\n",
       "       'Liberal Party of Australia (Tasmanian Division)',\n",
       "       'Free Democratic Party of Switzerland', 'Patriotic Alliance',\n",
       "       'Progressive Conservative Party of Manitoba',\n",
       "       'Rashtriya Janata Dal', 'Conservative Party of Norway',\n",
       "       \"Sarawak United Peoples' Party\",\n",
       "       \"South-West Africa People's Organization\", 'New Flemish Alliance',\n",
       "       \"Peoples' Democratic Party\", 'Free National Movement',\n",
       "       'North Carolina Republican Party',\n",
       "       'National Convergence \"Kwa Na Kwa\"', 'ACT New Zealand',\n",
       "       'New Macau Association', \"Italian People's Party\", 'Centre Party',\n",
       "       \"Workers' Party\", 'Yukon New Democratic Party',\n",
       "       'Europe Ecology – The Greens', 'National Coalition Party',\n",
       "       \"Swiss People's Party\", 'Popular Democratic Party',\n",
       "       'Workers World Party', 'SA-BEST', 'Action démocratique du Québec',\n",
       "       'Pirate Party', 'Civic Choice',\n",
       "       'Progressive Conservative Party of New Brunswick',\n",
       "       'The Wikileaks Party', 'Communist Party of Cuba',\n",
       "       'Democratic Action', 'Meretz', 'Danish Social Liberal Party',\n",
       "       'Hugpong sa Tawong Lungsod', 'Moderate Party',\n",
       "       \"Progressive Citizens' Party\", 'Free Voters of Bavaria',\n",
       "       'Progressive Conservative Association of Nova Scotia',\n",
       "       'Liberal Party of Australia (South Australian Division)',\n",
       "       'National Religious Party', 'Iranian reform movement', 'SYRIZA',\n",
       "       'Republican Proposal', 'FRELIMO', 'Dravida Munnetra Kazhagam',\n",
       "       'Vanguard Unionist Progressive Party', 'Toward Europe',\n",
       "       'People Before Profit Alliance', 'National Rally of Independents',\n",
       "       'United Conservative Party', \"Tigray People's Liberation Front\",\n",
       "       'Projet Montréal', 'Green Youth', 'La République En Marche',\n",
       "       'Social Democratic Party', 'Bangladesh Nationalist Party',\n",
       "       'Respect Party', 'Czech Social Democratic Party',\n",
       "       'Michigan Republican Party', 'Georgian Dream',\n",
       "       'Illinois Republican Party', \"Austrian People's Party\",\n",
       "       'New Brunswick Liberal Association',\n",
       "       'Communist Party of the Soviet Union',\n",
       "       'Armenian Revolutionary Federation', 'The People of Freedom',\n",
       "       'Lok Janshakti Party', 'Progressive Conservative Party of Canada',\n",
       "       'Greater Dunedin', 'Pirate Party UK', 'Democratic Rally',\n",
       "       'Coalition for Democratic Change', 'Forza Italia (1994)',\n",
       "       'National Action Party',\n",
       "       'Newfoundland and Labrador New Democratic Party',\n",
       "       'Communist Party of Canada', 'Antigua and Barbuda Labour Party',\n",
       "       'Liberals', 'Independence Party', 'Kuomintang',\n",
       "       'Saskatchewan Liberal Party', 'Left, Ecology and Freedom',\n",
       "       'BC Green Party', 'Malawi Congress Party',\n",
       "       'All Progressives Grand Alliance',\n",
       "       'Nova Scotia New Democratic Party', 'Popular Will',\n",
       "       'Prince Edward Island Liberal Party',\n",
       "       'Maine Green Independent Party', 'Barisan Nasional',\n",
       "       'Party for Democracy',\n",
       "       'Liberal Party of Newfoundland and Labrador', 'Charter Party',\n",
       "       'Forza Italia (2013)', 'Oregon Republican Party', 'Venstre',\n",
       "       'Telangana Rashtra Samithi', 'Centre Alliance',\n",
       "       'Initiative for Catalonia Greens', 'Rally of the Guinean People',\n",
       "       'Democratic Way', 'Plaid Cymru', 'Die Grünen', 'Bloc Québécois',\n",
       "       'Combatant Clergy Association', 'Nationalist Congress Party',\n",
       "       'United Democratic Movement', 'Sri Lanka Freedom Party',\n",
       "       'European Solidarity', \"Rivers State People's Democratic Party\",\n",
       "       'Social Democratic Party of Switzerland', 'Call for Tunisia',\n",
       "       'The Left', 'Communist Party of Nepal (Maoist Centre)',\n",
       "       'All India Trinamool Congress', 'All Ceylon Makkal Congress',\n",
       "       'Jammu & Kashmir National Conference', 'Apna Dal (Sonelal)',\n",
       "       'National Council for the Defense of Democracy–Forces for the Defense of Democracy',\n",
       "       'Open Flemish Liberals and Democrats',\n",
       "       'New Democratic Party of Prince Edward Island', 'Liberal Alliance',\n",
       "       'Lutte Ouvrière', 'Amal Movement', 'Yukon Liberal Party',\n",
       "       \"Latvia's First Party/Latvian Way\", \"Sierra Leone People's Party\",\n",
       "       'One NL', 'Socialist Alternative', 'French Communist Party',\n",
       "       'Communist Party USA',\n",
       "       'Forum for the Restoration of Democracy – Kenya',\n",
       "       \"People's Democratic Party\", 'Golongan Karya Party',\n",
       "       \"Northern Ireland Women's Coalition\", 'Vermont Progressive Party',\n",
       "       'Alternative for Germany', 'New Zealand First',\n",
       "       'Independent Conservative', 'United Democratic Party',\n",
       "       'Solidarity Electoral Action', 'Reform Movement',\n",
       "       'FDP.The Liberals', 'Alberta Party', 'Religious Zionist Party',\n",
       "       'Unsubmissive France', 'The Rally', 'New Right', 'Pheu Thai Party',\n",
       "       'Democratic Unionist Party', 'Congress of the People',\n",
       "       'Islamic Action Front', 'The Frontier',\n",
       "       'Peasants and Workers Party of India',\n",
       "       'Democratic Alliance for the Betterment and Progress of Hong Kong',\n",
       "       'Jammu Kashmir Liberation Front', 'Hungarian Socialist Party',\n",
       "       'Democratic Party of Japan', 'Lega Nord', 'Our Ukraine',\n",
       "       'Union for French Democracy', 'Italian Socialist Party',\n",
       "       'Left-Green Movement', 'Janata Dal (Secular)',\n",
       "       'Alliance for Democracy', 'Free Patriotic Movement',\n",
       "       'Australian Labor Party (South Australian Branch)',\n",
       "       'Patriotic Salvation Movement', 'Future Movement',\n",
       "       'United Republican Party', 'Republican Party of Armenia',\n",
       "       'Colombian Liberal Party', 'Feminist Initiative',\n",
       "       'Alliance of Free Democrats',\n",
       "       'Movement for Democratic Change – Tsvangirai', 'Fatah',\n",
       "       \"Spanish Socialist Workers' Party\", 'Pakatan Rakyat',\n",
       "       'Christian Social Union of Bavaria', 'Croatian Democratic Union',\n",
       "       'Makkal Neethi Maiyam', \"Citizens' Action Party\",\n",
       "       'Oromo Democratic Party', 'Finns Party', 'YSR Congress Party',\n",
       "       'China Democratic League', 'Nasdem Party', 'Estonian Reform Party',\n",
       "       \"Katter's Australian Party\", 'Kilusang Bagong Lipunan',\n",
       "       'Republican Party of India (A)', 'Singapore Democratic Party',\n",
       "       'Fidesz', \"Workers' Party of Singapore\", 'Democrats 66',\n",
       "       'Sri Lanka Muslim Congress',\n",
       "       'Co-operative Commonwealth Federation', 'United Russia',\n",
       "       \"People's Progressive Party\", 'Shiromani Akali Dal',\n",
       "       'Ennahda Movement',\n",
       "       'Progressive Conservative Party of Newfoundland and Labrador',\n",
       "       \"Malaysian People's Welfare Party\", 'SMER – Social Democracy',\n",
       "       'Wildrose Party', 'New Power Party', \"People's Electoral Movement\",\n",
       "       'Québec solidaire', 'Constitutional Democratic Rally',\n",
       "       'Brazilian Socialist Party', 'Popular Orthodox Rally',\n",
       "       'Social Christian Party', 'PAIS Alliance',\n",
       "       'British Columbia Social Credit Party', 'Barcelona en Comú',\n",
       "       'Mazingira Green Party of Kenya', 'Kulanu',\n",
       "       'Manitoba Liberal Party', 'Massachusetts Republican Party',\n",
       "       'Vishva Hindu Parishad', \"Dominican Workers' Party\",\n",
       "       'Freedom and Justice Party', 'British National Party',\n",
       "       'Executives of Construction Party', 'Fiji Labour Party',\n",
       "       'Batkivshchyna', 'Libertarian Party of Canada',\n",
       "       'Social Democratic Alliance', 'Socialist Left Party',\n",
       "       'Australian Greens Victoria', 'Movement for Socialism',\n",
       "       'Animal Justice Party', 'Komsomol',\n",
       "       'Green Party of Prince Edward Island', 'Radical Party',\n",
       "       'Independent Democratic Union', 'Dignity Party',\n",
       "       'Indonesian National Party Marhaenism',\n",
       "       'all India jihad committee founder', 'Vetëvendosje!',\n",
       "       \"People's United Party\", 'National Regeneration Movement',\n",
       "       'United Left', \"Luxembourg Socialist Workers' Party\",\n",
       "       \"People's Rally for Progress\", 'Soqosoqo ni Vakavulewa ni Taukei',\n",
       "       \"Conservative People's Party\", 'All India Students Association',\n",
       "       'Law and Justice', \"Mongolian People's Party\",\n",
       "       \"People's Justice Party\", 'Maldivian Democratic Party',\n",
       "       'Botswana Democratic Party', 'Welsh Liberal Democrats',\n",
       "       'Nationalist Democratic Progressive Party', 'Queensland Greens',\n",
       "       'Liberal Party', 'Broad Front',\n",
       "       'Malaysian United Indigenous Party',\n",
       "       'Social Democratic Party of Lithuania',\n",
       "       'Congress of the New Right', \"Palikot's Movement\",\n",
       "       'North Dakota Republican Party', 'Jamiat Ulema-e-Islam',\n",
       "       'Unified Progressive Party', 'BIJ1', 'Italian Radicals',\n",
       "       'Massachusetts Democratic Party',\n",
       "       'Washington State Democratic Party',\n",
       "       'Institutional Revolutionary Party', 'Civic Party',\n",
       "       'Green Party of Canada', 'Grow Party', 'Procés Constituent',\n",
       "       'The Republicans', 'Green Party in Northern Ireland',\n",
       "       \"Sudan People's Liberation Movement\", 'National Congress Party',\n",
       "       'Party of the Democratic Left',\n",
       "       'Pragatisheel Samajwadi Party (Lohiya)',\n",
       "       \"People's National Congress Party\", \"Citizens' Movement\",\n",
       "       'Inkatha Freedom Party', 'Social Democratic Union of Macedonia',\n",
       "       'All India Anna Dravida Munnetra Kazhagam', 'Yuva Sena',\n",
       "       'Britain First', 'Peace and Freedom Party',\n",
       "       'National Liberation Party',\n",
       "       'Communist Party of Nepal (Unified Marxist–Leninist)',\n",
       "       \"People's Progress Party\", 'Alliance for New Nigeria',\n",
       "       \"People's Movement for the Liberation of Angola\",\n",
       "       'Islamic Labour Party', 'Green Party of Switzerland',\n",
       "       'Future Forward Party', 'Ecolo', 'Left Alliance',\n",
       "       'Alliance Party of Northern Ireland', 'Kach and Kahane Chai',\n",
       "       \"British People's Party\", 'National Rainbow Coalition – Kenya',\n",
       "       'Tasmanian Greens', 'Israel Resilience Party', 'Left Bloc',\n",
       "       'Green League', 'GroenLinks', 'Revolutionary Communist League',\n",
       "       'Green Party of Manitoba', 'Brexit Party',\n",
       "       'American Independent Party', 'Democratic Left Party',\n",
       "       'New Encounter', 'Movement for Democratic Change – Ncube',\n",
       "       'National Awakening Party', 'Trentino Tyrolean Autonomist Party',\n",
       "       'Muttahida Majlis-e-Amal',\n",
       "       'Popular Front for the Liberation of Palestine',\n",
       "       'Australian Labor Party (Tasmanian Branch)', 'Haryana Vikas Party',\n",
       "       'Forward',\n",
       "       'Progressive Conservative Party of Prince Edward Island',\n",
       "       'Pakistan Muslim League (Q)', 'Telem',\n",
       "       \"Finnish People's Democratic League\",\n",
       "       'Party of the Democratic Revolution', 'Sweden Democrats'],\n",
       "      dtype=object)"
      ]
     },
     "execution_count": 124,
     "metadata": {},
     "output_type": "execute_result"
    }
   ],
   "source": [
    "df['party'].unique()"
   ]
  },
  {
   "cell_type": "code",
   "execution_count": 125,
   "id": "40969c92",
   "metadata": {},
   "outputs": [],
   "source": [
    "df_grouped_by_partyname = df.groupby(df.party).size()"
   ]
  },
  {
   "cell_type": "code",
   "execution_count": 126,
   "id": "4881314d",
   "metadata": {},
   "outputs": [
    {
     "data": {
      "text/plain": [
       "party\n",
       "Democratic Party                  8783\n",
       "Republican Party                  3594\n",
       "Bharatiya Janata Party            1083\n",
       "Liberal Party of Canada           1024\n",
       "Labour Party                       525\n",
       "                                  ... \n",
       "Mazingira Green Party of Kenya       1\n",
       "Religious Zionist Party              1\n",
       "Republican Left of Catalonia         1\n",
       "One NL                               1\n",
       "Respect Party                        1\n",
       "Length: 589, dtype: int64"
      ]
     },
     "execution_count": 126,
     "metadata": {},
     "output_type": "execute_result"
    }
   ],
   "source": [
    "df.groupby(df.party).size().sort_values(ascending=False)"
   ]
  },
  {
   "cell_type": "code",
   "execution_count": 62,
   "id": "0c2d97b4",
   "metadata": {},
   "outputs": [],
   "source": [
    "Democrat_quotes = df.query('party == \"Democratic Party\" ')\n",
    "Republican_quotes = df.query('party == \"Republican Party\" ')"
   ]
  },
  {
   "cell_type": "code",
   "execution_count": 67,
   "id": "47560ed9",
   "metadata": {},
   "outputs": [
    {
     "data": {
      "image/png": "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\n",
      "text/plain": [
       "<Figure size 576x360 with 1 Axes>"
      ]
     },
     "metadata": {},
     "output_type": "display_data"
    }
   ],
   "source": [
    "Democrat_quotes['sentiment'].hist(bins=40, figsize = [8,5])\n",
    "Republican_quotes['sentiment'].hist(bins=40, figsize = [8,5],alpha=0.5)\n",
    "plt.tight_layout()\n",
    "plt.savefig('political_parties_sentiment.png')\n"
   ]
  },
  {
   "cell_type": "markdown",
   "id": "657a5560",
   "metadata": {},
   "source": [
    "### Sentiment in function of gender ?"
   ]
  },
  {
   "cell_type": "code",
   "execution_count": 129,
   "id": "87229dba",
   "metadata": {},
   "outputs": [
    {
     "data": {
      "text/plain": [
       "11"
      ]
     },
     "execution_count": 129,
     "metadata": {},
     "output_type": "execute_result"
    }
   ],
   "source": [
    "df['gender'].nunique()"
   ]
  },
  {
   "cell_type": "code",
   "execution_count": 130,
   "id": "e72787a9",
   "metadata": {},
   "outputs": [
    {
     "data": {
      "text/plain": [
       "array(['female', 'male', nan, 'non-binary', 'transgender female',\n",
       "       'genderfluid', 'cisgender female', 'transgender male',\n",
       "       'cisgender male', 'genderqueer', 'shemale', 'intersex'],\n",
       "      dtype=object)"
      ]
     },
     "execution_count": 130,
     "metadata": {},
     "output_type": "execute_result"
    }
   ],
   "source": [
    "df['gender'].unique()"
   ]
  },
  {
   "cell_type": "code",
   "execution_count": 131,
   "id": "65c1c496",
   "metadata": {},
   "outputs": [
    {
     "data": {
      "text/plain": [
       "gender\n",
       "female                28286\n",
       "male                  26274\n",
       "transgender female       89\n",
       "non-binary               80\n",
       "genderfluid              26\n",
       "transgender male         21\n",
       "cisgender female         15\n",
       "genderqueer               4\n",
       "shemale                   3\n",
       "intersex                  2\n",
       "cisgender male            1\n",
       "dtype: int64"
      ]
     },
     "execution_count": 131,
     "metadata": {},
     "output_type": "execute_result"
    }
   ],
   "source": [
    "df.groupby(df.gender).size().sort_values(ascending=False)"
   ]
  },
  {
   "cell_type": "markdown",
   "id": "3b41290b",
   "metadata": {},
   "source": [
    "Most of the data is from the male and female genders, so we will currently base our analysis on those two genders :"
   ]
  },
  {
   "cell_type": "code",
   "execution_count": 69,
   "id": "80e92191",
   "metadata": {},
   "outputs": [],
   "source": [
    "female_quotes = df.query('gender == \"female\" ')\n",
    "male_quotes = df.query('gender == \"male\" ')"
   ]
  },
  {
   "cell_type": "code",
   "execution_count": 70,
   "id": "1f4bc159",
   "metadata": {},
   "outputs": [
    {
     "data": {
      "image/png": "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\n",
      "text/plain": [
       "<Figure size 576x360 with 1 Axes>"
      ]
     },
     "metadata": {},
     "output_type": "display_data"
    },
    {
     "data": {
      "text/plain": [
       "<Figure size 432x288 with 0 Axes>"
      ]
     },
     "metadata": {},
     "output_type": "display_data"
    }
   ],
   "source": [
    "female_quotes['sentiment'].hist(bins=40, figsize = [8,5])\n",
    "male_quotes['sentiment'].hist(bins=40, figsize = [8,5],alpha=0.5)\n",
    "plt.show()\n",
    "plt.tight_layout()\n",
    "plt.savefig('gender_sentiment.png')"
   ]
  },
  {
   "cell_type": "markdown",
   "id": "b68f54db",
   "metadata": {},
   "source": [
    "# Using other tools and comparing them : "
   ]
  },
  {
   "cell_type": "markdown",
   "id": "d1fd3419",
   "metadata": {},
   "source": [
    "Reloading the original dataframe: "
   ]
  },
  {
   "cell_type": "code",
   "execution_count": 139,
   "id": "1fa67555",
   "metadata": {},
   "outputs": [],
   "source": [
    "df = pd.read_pickle(PATH_GENERATED_DATA+'df_enriched.pkl', compression='infer', storage_options=None)"
   ]
  },
  {
   "cell_type": "markdown",
   "id": "42d55ebd",
   "metadata": {},
   "source": [
    "Vader"
   ]
  },
  {
   "cell_type": "code",
   "execution_count": 146,
   "id": "f20d7483",
   "metadata": {},
   "outputs": [],
   "source": [
    "df['sentiment_vader'] = df['quotation'].apply(lambda x : analyzer.polarity_scores(x)['compound'])"
   ]
  },
  {
   "cell_type": "code",
   "execution_count": 147,
   "id": "dd9daec4",
   "metadata": {},
   "outputs": [
    {
     "data": {
      "text/plain": [
       "0    0.6271\n",
       "1    0.6557\n",
       "2    0.6557\n",
       "3    0.9460\n",
       "4    0.6705\n",
       "Name: sentiment_vader, dtype: float64"
      ]
     },
     "execution_count": 147,
     "metadata": {},
     "output_type": "execute_result"
    }
   ],
   "source": [
    "df['sentiment_vader'].head()"
   ]
  },
  {
   "cell_type": "markdown",
   "id": "13951ebf",
   "metadata": {},
   "source": [
    "Text blob"
   ]
  },
  {
   "cell_type": "code",
   "execution_count": 148,
   "id": "1b7717f6",
   "metadata": {},
   "outputs": [],
   "source": [
    "df['sentiment_blob'] = df['quotation'].apply(lambda x : polarity_blob(x)) "
   ]
  },
  {
   "cell_type": "code",
   "execution_count": 149,
   "id": "2f8e925a",
   "metadata": {},
   "outputs": [
    {
     "data": {
      "text/plain": [
       "0    0.253283\n",
       "1    0.500000\n",
       "2    0.500000\n",
       "3    0.120000\n",
       "4    0.133333\n",
       "Name: sentiment_blob, dtype: float64"
      ]
     },
     "execution_count": 149,
     "metadata": {},
     "output_type": "execute_result"
    }
   ],
   "source": [
    "df['sentiment_blob'].head()"
   ]
  },
  {
   "cell_type": "markdown",
   "id": "6ced9418",
   "metadata": {},
   "source": [
    "Flair "
   ]
  },
  {
   "cell_type": "code",
   "execution_count": 154,
   "id": "b36874c5",
   "metadata": {},
   "outputs": [],
   "source": [
    "df['sentiment_flair'] = df['quotation'].apply(lambda x : flair_label(x))  # takes approx 15 minutes to run"
   ]
  },
  {
   "cell_type": "code",
   "execution_count": 155,
   "id": "bc0f87f6",
   "metadata": {},
   "outputs": [
    {
     "data": {
      "text/plain": [
       "0    0.766071\n",
       "1    0.994783\n",
       "2    0.983703\n",
       "3    0.989518\n",
       "4    0.973179\n",
       "Name: sentiment_flair, dtype: float64"
      ]
     },
     "execution_count": 155,
     "metadata": {},
     "output_type": "execute_result"
    }
   ],
   "source": [
    "df['sentiment_flair'].head()"
   ]
  },
  {
   "cell_type": "code",
<<<<<<< HEAD
   "execution_count": 158,
   "id": "b5e1c083",
   "metadata": {},
=======
   "execution_count": 18,
   "id": "dc376109",
   "metadata": {
    "scrolled": false
   },
>>>>>>> c55eb3c941b44dac3de5355555aa08828187bb2c
   "outputs": [
    {
     "data": {
      "text/html": [
       "<div>\n",
       "<style scoped>\n",
       "    .dataframe tbody tr th:only-of-type {\n",
       "        vertical-align: middle;\n",
       "    }\n",
       "\n",
       "    .dataframe tbody tr th {\n",
       "        vertical-align: top;\n",
       "    }\n",
       "\n",
       "    .dataframe thead th {\n",
       "        text-align: right;\n",
       "    }\n",
       "</style>\n",
       "<table border=\"1\" class=\"dataframe\">\n",
       "  <thead>\n",
       "    <tr style=\"text-align: right;\">\n",
       "      <th></th>\n",
       "      <th>quotation</th>\n",
       "      <th>sentiment_vader</th>\n",
       "      <th>sentiment_blob</th>\n",
       "      <th>sentiment_flair</th>\n",
       "    </tr>\n",
       "  </thead>\n",
       "  <tbody>\n",
       "    <tr>\n",
       "      <th>0</th>\n",
       "      <td>Anything less than women winning 50 per cent o...</td>\n",
       "      <td>0.6271</td>\n",
       "      <td>0.253283</td>\n",
       "      <td>0.766071</td>\n",
       "    </tr>\n",
       "    <tr>\n",
       "      <th>1</th>\n",
       "      <td>more family-friendly and flexible workplaces, ...</td>\n",
       "      <td>0.6557</td>\n",
       "      <td>0.500000</td>\n",
       "      <td>0.994783</td>\n",
       "    </tr>\n",
       "    <tr>\n",
       "      <th>2</th>\n",
       "      <td>We need more women and parents in Parliament. ...</td>\n",
       "      <td>0.6557</td>\n",
       "      <td>0.500000</td>\n",
       "      <td>0.983703</td>\n",
       "    </tr>\n",
       "    <tr>\n",
       "      <th>3</th>\n",
       "      <td>I'd like to congratulate all the winners and f...</td>\n",
       "      <td>0.9460</td>\n",
       "      <td>0.120000</td>\n",
       "      <td>0.989518</td>\n",
       "    </tr>\n",
       "    <tr>\n",
       "      <th>4</th>\n",
       "      <td>Clearly we have got a long way to go before we...</td>\n",
       "      <td>0.6705</td>\n",
       "      <td>0.133333</td>\n",
       "      <td>0.973179</td>\n",
       "    </tr>\n",
       "    <tr>\n",
       "      <th>5</th>\n",
       "      <td>I'd like to congratulate all the winners and f...</td>\n",
       "      <td>0.9628</td>\n",
       "      <td>0.120000</td>\n",
       "      <td>0.989818</td>\n",
       "    </tr>\n",
       "    <tr>\n",
       "      <th>6</th>\n",
       "      <td>Men and women are different -- equally intelli...</td>\n",
       "      <td>0.7184</td>\n",
       "      <td>0.200000</td>\n",
       "      <td>0.632734</td>\n",
       "    </tr>\n",
       "    <tr>\n",
       "      <th>7</th>\n",
       "      <td>30% Club is built on the premise of not just w...</td>\n",
       "      <td>0.9621</td>\n",
       "      <td>0.300000</td>\n",
       "      <td>0.999050</td>\n",
       "    </tr>\n",
       "    <tr>\n",
       "      <th>8</th>\n",
       "      <td>If one looks at the history of gender equality...</td>\n",
       "      <td>0.4215</td>\n",
       "      <td>0.000000</td>\n",
       "      <td>0.833747</td>\n",
       "    </tr>\n",
       "    <tr>\n",
       "      <th>9</th>\n",
       "      <td>I think we need to place gender equality in th...</td>\n",
       "      <td>0.0000</td>\n",
       "      <td>-0.041667</td>\n",
       "      <td>0.922163</td>\n",
       "    </tr>\n",
       "    <tr>\n",
       "      <th>10</th>\n",
       "      <td>I'm excited about the launch of the Girl Fund,...</td>\n",
       "      <td>0.9633</td>\n",
       "      <td>0.325000</td>\n",
       "      <td>0.983625</td>\n",
       "    </tr>\n",
       "    <tr>\n",
       "      <th>11</th>\n",
       "      <td>I feel very strongly that most men I work with...</td>\n",
       "      <td>0.5984</td>\n",
       "      <td>0.531667</td>\n",
       "      <td>0.980084</td>\n",
       "    </tr>\n",
       "    <tr>\n",
       "      <th>12</th>\n",
       "      <td>Collectively, we can help achieve gender equal...</td>\n",
       "      <td>0.6808</td>\n",
       "      <td>0.000000</td>\n",
       "      <td>0.989672</td>\n",
       "    </tr>\n",
       "    <tr>\n",
       "      <th>13</th>\n",
       "      <td>When we invest in the success of women, we are...</td>\n",
       "      <td>0.9186</td>\n",
       "      <td>0.300000</td>\n",
       "      <td>0.961381</td>\n",
       "    </tr>\n",
       "    <tr>\n",
       "      <th>14</th>\n",
       "      <td>Gender inequality is one of the key issues of ...</td>\n",
       "      <td>0.8891</td>\n",
       "      <td>0.162500</td>\n",
       "      <td>0.982078</td>\n",
       "    </tr>\n",
       "    <tr>\n",
       "      <th>15</th>\n",
       "      <td>we are investing in the success of business. C...</td>\n",
       "      <td>0.8519</td>\n",
       "      <td>0.300000</td>\n",
       "      <td>0.982455</td>\n",
       "    </tr>\n",
       "    <tr>\n",
       "      <th>16</th>\n",
       "      <td>It was a macho environment. These days, that s...</td>\n",
       "      <td>-0.3036</td>\n",
       "      <td>0.100000</td>\n",
       "      <td>0.994175</td>\n",
       "    </tr>\n",
       "    <tr>\n",
       "      <th>17</th>\n",
       "      <td>I think what Deepika has spoken in the video m...</td>\n",
       "      <td>0.4111</td>\n",
       "      <td>0.135500</td>\n",
       "      <td>0.678619</td>\n",
       "    </tr>\n",
       "    <tr>\n",
       "      <th>18</th>\n",
       "      <td>I think most of the people feel the pressure t...</td>\n",
       "      <td>0.9423</td>\n",
       "      <td>0.108333</td>\n",
       "      <td>0.912298</td>\n",
       "    </tr>\n",
       "    <tr>\n",
       "      <th>19</th>\n",
       "      <td>For any real dialogue to happen, men need to g...</td>\n",
       "      <td>-0.6015</td>\n",
       "      <td>0.233333</td>\n",
       "      <td>0.747909</td>\n",
       "    </tr>\n",
       "    <tr>\n",
       "      <th>20</th>\n",
       "      <td>All of us are introspecting. The result is onl...</td>\n",
       "      <td>0.5390</td>\n",
       "      <td>0.175000</td>\n",
       "      <td>0.994225</td>\n",
       "    </tr>\n",
       "    <tr>\n",
       "      <th>21</th>\n",
       "      <td>That's what makes the play so relevant even in...</td>\n",
       "      <td>0.3804</td>\n",
       "      <td>0.207273</td>\n",
       "      <td>0.997855</td>\n",
       "    </tr>\n",
       "    <tr>\n",
       "      <th>22</th>\n",
       "      <td>All of us are introspecting. The result is onl...</td>\n",
       "      <td>0.5390</td>\n",
       "      <td>0.175000</td>\n",
       "      <td>0.993204</td>\n",
       "    </tr>\n",
       "    <tr>\n",
       "      <th>23</th>\n",
       "      <td>if advocating for equal pay for equal work is ...</td>\n",
       "      <td>0.5994</td>\n",
       "      <td>-0.022917</td>\n",
       "      <td>0.546759</td>\n",
       "    </tr>\n",
       "    <tr>\n",
       "      <th>24</th>\n",
       "      <td>Family planning is an important part of women'...</td>\n",
       "      <td>-0.0516</td>\n",
       "      <td>0.280000</td>\n",
       "      <td>0.991181</td>\n",
       "    </tr>\n",
       "    <tr>\n",
       "      <th>25</th>\n",
       "      <td>We're not doing that when the hard work of wom...</td>\n",
       "      <td>-0.4069</td>\n",
       "      <td>-0.291667</td>\n",
       "      <td>0.770833</td>\n",
       "    </tr>\n",
       "    <tr>\n",
       "      <th>26</th>\n",
       "      <td>Fair pay and fair scheduling, paid family leav...</td>\n",
       "      <td>0.6705</td>\n",
       "      <td>0.171429</td>\n",
       "      <td>0.957686</td>\n",
       "    </tr>\n",
       "    <tr>\n",
       "      <th>27</th>\n",
       "      <td>So it will include, whether it's raising the m...</td>\n",
       "      <td>0.0516</td>\n",
       "      <td>0.086111</td>\n",
       "      <td>0.873401</td>\n",
       "    </tr>\n",
       "    <tr>\n",
       "      <th>28</th>\n",
       "      <td>who offer themselves as leaders who see nothin...</td>\n",
       "      <td>0.4922</td>\n",
       "      <td>-0.250000</td>\n",
       "      <td>0.829938</td>\n",
       "    </tr>\n",
       "    <tr>\n",
       "      <th>29</th>\n",
       "      <td>And it is way past time for us to protect wome...</td>\n",
       "      <td>0.6908</td>\n",
       "      <td>-0.125000</td>\n",
       "      <td>0.619627</td>\n",
       "    </tr>\n",
       "  </tbody>\n",
       "</table>\n",
       "</div>"
      ],
      "text/plain": [
       "                                            quotation  sentiment_vader  \\\n",
       "0   Anything less than women winning 50 per cent o...           0.6271   \n",
       "1   more family-friendly and flexible workplaces, ...           0.6557   \n",
       "2   We need more women and parents in Parliament. ...           0.6557   \n",
       "3   I'd like to congratulate all the winners and f...           0.9460   \n",
       "4   Clearly we have got a long way to go before we...           0.6705   \n",
       "5   I'd like to congratulate all the winners and f...           0.9628   \n",
       "6   Men and women are different -- equally intelli...           0.7184   \n",
       "7   30% Club is built on the premise of not just w...           0.9621   \n",
       "8   If one looks at the history of gender equality...           0.4215   \n",
       "9   I think we need to place gender equality in th...           0.0000   \n",
       "10  I'm excited about the launch of the Girl Fund,...           0.9633   \n",
       "11  I feel very strongly that most men I work with...           0.5984   \n",
       "12  Collectively, we can help achieve gender equal...           0.6808   \n",
       "13  When we invest in the success of women, we are...           0.9186   \n",
       "14  Gender inequality is one of the key issues of ...           0.8891   \n",
       "15  we are investing in the success of business. C...           0.8519   \n",
       "16  It was a macho environment. These days, that s...          -0.3036   \n",
       "17  I think what Deepika has spoken in the video m...           0.4111   \n",
       "18  I think most of the people feel the pressure t...           0.9423   \n",
       "19  For any real dialogue to happen, men need to g...          -0.6015   \n",
       "20  All of us are introspecting. The result is onl...           0.5390   \n",
       "21  That's what makes the play so relevant even in...           0.3804   \n",
       "22  All of us are introspecting. The result is onl...           0.5390   \n",
       "23  if advocating for equal pay for equal work is ...           0.5994   \n",
       "24  Family planning is an important part of women'...          -0.0516   \n",
       "25  We're not doing that when the hard work of wom...          -0.4069   \n",
       "26  Fair pay and fair scheduling, paid family leav...           0.6705   \n",
       "27  So it will include, whether it's raising the m...           0.0516   \n",
       "28  who offer themselves as leaders who see nothin...           0.4922   \n",
       "29  And it is way past time for us to protect wome...           0.6908   \n",
       "\n",
       "    sentiment_blob  sentiment_flair  \n",
       "0         0.253283         0.766071  \n",
       "1         0.500000         0.994783  \n",
       "2         0.500000         0.983703  \n",
       "3         0.120000         0.989518  \n",
       "4         0.133333         0.973179  \n",
       "5         0.120000         0.989818  \n",
       "6         0.200000         0.632734  \n",
       "7         0.300000         0.999050  \n",
       "8         0.000000         0.833747  \n",
       "9        -0.041667         0.922163  \n",
       "10        0.325000         0.983625  \n",
       "11        0.531667         0.980084  \n",
       "12        0.000000         0.989672  \n",
       "13        0.300000         0.961381  \n",
       "14        0.162500         0.982078  \n",
       "15        0.300000         0.982455  \n",
       "16        0.100000         0.994175  \n",
       "17        0.135500         0.678619  \n",
       "18        0.108333         0.912298  \n",
       "19        0.233333         0.747909  \n",
       "20        0.175000         0.994225  \n",
       "21        0.207273         0.997855  \n",
       "22        0.175000         0.993204  \n",
       "23       -0.022917         0.546759  \n",
       "24        0.280000         0.991181  \n",
       "25       -0.291667         0.770833  \n",
       "26        0.171429         0.957686  \n",
       "27        0.086111         0.873401  \n",
       "28       -0.250000         0.829938  \n",
       "29       -0.125000         0.619627  "
      ]
     },
     "execution_count": 18,
     "metadata": {},
     "output_type": "execute_result"
    }
   ],
   "source": [
    "# df_sentiment = df[['quotation','sentiment_vader','sentiment_blob','sentiment_flair']]\n",
    "\n",
    "df_sentiment.head(30)"
   ]
  },
  {
   "cell_type": "code",
<<<<<<< HEAD
   "execution_count": 159,
   "id": "685edf26",
=======
   "execution_count": null,
   "id": "d9ff3eee",
>>>>>>> c55eb3c941b44dac3de5355555aa08828187bb2c
   "metadata": {},
   "outputs": [],
   "source": [
    "# Save the dataframe containing the sentiment scores \n",
    "# df_sentiment.to_pickle(PATH_GENERATED_DATA+'df_enriched_w_sentiment_allscores.pkl', compression='infer', protocol=5, storage_options=None)"
   ]
  },
  {
   "cell_type": "code",
<<<<<<< HEAD
   "execution_count": 76,
   "id": "8b8471d1",
=======
   "execution_count": 9,
   "id": "966141a0",
>>>>>>> c55eb3c941b44dac3de5355555aa08828187bb2c
   "metadata": {},
   "outputs": [],
   "source": [
    "# Load the dataframe containing sentiment scores\n",
    "df_sentiment = pd.read_pickle(PATH_GENERATED_DATA+'df_enriched_w_sentiment_allscores.pkl', compression='infer', storage_options=None)"
   ]
  },
  {
   "cell_type": "markdown",
   "id": "cd1c8900",
   "metadata": {},
   "source": [
    "First we compare the tools between each other"
   ]
  },
  {
   "cell_type": "code",
<<<<<<< HEAD
   "execution_count": 163,
   "id": "a46ee2f5",
=======
   "execution_count": 10,
   "id": "975dcaef",
>>>>>>> c55eb3c941b44dac3de5355555aa08828187bb2c
   "metadata": {},
   "outputs": [
    {
     "data": {
      "text/html": [
       "<div>\n",
       "<style scoped>\n",
       "    .dataframe tbody tr th:only-of-type {\n",
       "        vertical-align: middle;\n",
       "    }\n",
       "\n",
       "    .dataframe tbody tr th {\n",
       "        vertical-align: top;\n",
       "    }\n",
       "\n",
       "    .dataframe thead th {\n",
       "        text-align: right;\n",
       "    }\n",
       "</style>\n",
       "<table border=\"1\" class=\"dataframe\">\n",
       "  <thead>\n",
       "    <tr style=\"text-align: right;\">\n",
       "      <th></th>\n",
       "      <th>sentiment_vader</th>\n",
       "      <th>sentiment_blob</th>\n",
       "      <th>sentiment_flair</th>\n",
       "    </tr>\n",
       "  </thead>\n",
       "  <tbody>\n",
       "    <tr>\n",
       "      <th>count</th>\n",
       "      <td>55328.000000</td>\n",
       "      <td>55328.000000</td>\n",
       "      <td>55328.000000</td>\n",
       "    </tr>\n",
       "    <tr>\n",
       "      <th>mean</th>\n",
       "      <td>0.054224</td>\n",
       "      <td>0.163196</td>\n",
       "      <td>0.884701</td>\n",
       "    </tr>\n",
       "    <tr>\n",
       "      <th>std</th>\n",
       "      <td>0.616717</td>\n",
       "      <td>0.219878</td>\n",
       "      <td>0.139945</td>\n",
       "    </tr>\n",
       "    <tr>\n",
       "      <th>min</th>\n",
       "      <td>-0.997900</td>\n",
       "      <td>-1.000000</td>\n",
       "      <td>0.500033</td>\n",
       "    </tr>\n",
       "    <tr>\n",
       "      <th>25%</th>\n",
       "      <td>-0.542300</td>\n",
       "      <td>0.000000</td>\n",
       "      <td>0.812941</td>\n",
       "    </tr>\n",
       "    <tr>\n",
       "      <th>50%</th>\n",
       "      <td>0.024000</td>\n",
       "      <td>0.144444</td>\n",
       "      <td>0.953504</td>\n",
       "    </tr>\n",
       "    <tr>\n",
       "      <th>75%</th>\n",
       "      <td>0.636900</td>\n",
       "      <td>0.300000</td>\n",
       "      <td>0.992212</td>\n",
       "    </tr>\n",
       "    <tr>\n",
       "      <th>max</th>\n",
       "      <td>0.997700</td>\n",
       "      <td>1.000000</td>\n",
       "      <td>0.999998</td>\n",
       "    </tr>\n",
       "  </tbody>\n",
       "</table>\n",
       "</div>"
      ],
      "text/plain": [
       "       sentiment_vader  sentiment_blob  sentiment_flair\n",
       "count     55328.000000    55328.000000     55328.000000\n",
       "mean          0.054224        0.163196         0.884701\n",
       "std           0.616717        0.219878         0.139945\n",
       "min          -0.997900       -1.000000         0.500033\n",
       "25%          -0.542300        0.000000         0.812941\n",
       "50%           0.024000        0.144444         0.953504\n",
       "75%           0.636900        0.300000         0.992212\n",
       "max           0.997700        1.000000         0.999998"
      ]
     },
     "execution_count": 10,
     "metadata": {},
     "output_type": "execute_result"
    }
   ],
   "source": [
    "df_sentiment.describe()"
   ]
  },
  {
   "cell_type": "markdown",
   "id": "dfcbd0d5",
   "metadata": {},
   "source": [
    "Randomly select 100 quotes :"
   ]
  },
  {
   "cell_type": "code",
   "execution_count": 169,
   "id": "3a010885",
   "metadata": {},
   "outputs": [],
   "source": [
    "# ONLY RUN THIS ONCE\n",
    "# df_sample = df_sentiment.sample(n=100)"
   ]
  },
  {
   "cell_type": "markdown",
   "id": "84ac6c5f",
   "metadata": {},
   "source": [
    "Save the 100 randomly selected quotes to a file"
   ]
  },
  {
   "cell_type": "code",
   "execution_count": 170,
   "id": "44513f36",
   "metadata": {},
   "outputs": [],
   "source": [
    "# df_sample.to_pickle(PATH_GENERATED_DATA+'df_sentiment_sample.pkl', compression='infer', protocol=5, storage_options=None)"
   ]
  },
  {
   "cell_type": "markdown",
   "id": "06028389",
   "metadata": {},
   "source": [
    "Load the 100 randomly selected quotes :"
   ]
  },
  {
   "cell_type": "code",
   "execution_count": 343,
   "id": "5d54b5f3",
   "metadata": {},
   "outputs": [],
   "source": [
    "# df_sample = pd.read_pickle(PATH_GENERATED_DATA+'df_sentiment_sample.pkl', compression='infer', storage_options=None)"
   ]
  },
  {
   "cell_type": "code",
   "execution_count": null,
   "id": "0161b244",
   "metadata": {},
   "outputs": [],
   "source": [
    "# df_sample_labeled = df_sample"
   ]
  },
  {
   "cell_type": "code",
<<<<<<< HEAD
   "execution_count": null,
   "id": "afd330e2",
=======
   "execution_count": 11,
   "id": "0c9f371f",
>>>>>>> c55eb3c941b44dac3de5355555aa08828187bb2c
   "metadata": {},
   "outputs": [],
   "source": [
    "# load labeled samples dataframe\n",
    "df_sample_labeled = pd.read_pickle(PATH_GENERATED_DATA+'df_sample_labeled.pkl', compression='infer', storage_options=None)"
   ]
  },
  {
   "cell_type": "markdown",
   "id": "2015aa48",
   "metadata": {},
   "source": [
    "Manually label the quotes :"
   ]
  },
  {
   "cell_type": "code",
   "execution_count": 227,
   "id": "de83b6c0",
   "metadata": {},
   "outputs": [],
   "source": [
    "# Initialise column at -1 so we know what hasn't been labeled yet\n",
    "# df_sample_labeled['label_younes'] = -1.5 # only run once to avoid overwriting"
   ]
  },
  {
   "cell_type": "code",
<<<<<<< HEAD
   "execution_count": 347,
   "id": "2dde6f3c",
=======
   "execution_count": 12,
   "id": "7dc309ce",
>>>>>>> c55eb3c941b44dac3de5355555aa08828187bb2c
   "metadata": {},
   "outputs": [],
   "source": [
    "n=33"
   ]
  },
  {
   "cell_type": "code",
   "execution_count": 433,
   "id": "6ba2c4d8",
   "metadata": {},
   "outputs": [],
   "source": [
    "n+=1"
   ]
  },
  {
   "cell_type": "code",
<<<<<<< HEAD
   "execution_count": 434,
   "id": "9b61238e",
=======
   "execution_count": 13,
   "id": "1b570f9b",
>>>>>>> c55eb3c941b44dac3de5355555aa08828187bb2c
   "metadata": {},
   "outputs": [
    {
     "name": "stdout",
     "output_type": "stream",
     "text": [
      "quote number : 33 \n",
      "\n",
      "I am proud to join with Sen. Hagan and Rep. Baldwin to promote gender equality and positive portrayals of women and girls in the media. What children see affects their attitudes toward male and female roles and impacts the value they place on girls and women in society. The Healthy Media for Youth Act will help ensure we are creating a positive media environment for all our children.\n",
      "\n",
      "Current score : -1.5\n"
     ]
    }
   ],
   "source": [
    "print('quote number :',n,'\\n')\n",
    "print(df_sample_labeled['quotation'].iloc[n])\n",
    "\n",
    "print('\\nCurrent score :' , df_sample_labeled.at[df_sample_labeled.index[n], 'label_younes'])"
   ]
  },
  {
   "cell_type": "code",
   "execution_count": 431,
   "id": "224db486",
   "metadata": {},
   "outputs": [
    {
     "name": "stdout",
     "output_type": "stream",
     "text": [
      "0.5\n"
     ]
    }
   ],
   "source": [
    "# labeling : 0 for negative || 0.5 for neutral || 1 for positive\n",
    "\n",
    "df_sample_labeled.at[df_sample_labeled.index[n], 'label_younes'] = 1\n",
    "print(df_sample_labeled.at[df_sample_labeled.index[n], 'label_younes'])"
   ]
  },
  {
   "cell_type": "code",
<<<<<<< HEAD
   "execution_count": 432,
   "id": "2e66e2b4",
=======
   "execution_count": 14,
   "id": "d4e28c02",
>>>>>>> c55eb3c941b44dac3de5355555aa08828187bb2c
   "metadata": {},
   "outputs": [
    {
     "data": {
      "text/html": [
       "<div>\n",
       "<style scoped>\n",
       "    .dataframe tbody tr th:only-of-type {\n",
       "        vertical-align: middle;\n",
       "    }\n",
       "\n",
       "    .dataframe tbody tr th {\n",
       "        vertical-align: top;\n",
       "    }\n",
       "\n",
       "    .dataframe thead th {\n",
       "        text-align: right;\n",
       "    }\n",
       "</style>\n",
       "<table border=\"1\" class=\"dataframe\">\n",
       "  <thead>\n",
       "    <tr style=\"text-align: right;\">\n",
       "      <th></th>\n",
       "      <th>quotation</th>\n",
       "      <th>label_younes</th>\n",
       "    </tr>\n",
       "  </thead>\n",
       "  <tbody>\n",
       "    <tr>\n",
       "      <th>19386</th>\n",
       "      <td>Closing the gender gap in labor force particip...</td>\n",
       "      <td>0.5</td>\n",
       "    </tr>\n",
       "    <tr>\n",
       "      <th>12649</th>\n",
       "      <td>I am proud to join with Sen. Hagan and Rep. Ba...</td>\n",
       "      <td>-1.5</td>\n",
       "    </tr>\n",
       "    <tr>\n",
       "      <th>32422</th>\n",
       "      <td>I thought, will this be an `artie' movie that ...</td>\n",
       "      <td>-1.5</td>\n",
       "    </tr>\n",
       "    <tr>\n",
       "      <th>38171</th>\n",
       "      <td>In light of recent events, both students and c...</td>\n",
       "      <td>-1.5</td>\n",
       "    </tr>\n",
       "    <tr>\n",
       "      <th>2821</th>\n",
       "      <td>My child care plan allows for every parent or ...</td>\n",
       "      <td>-1.5</td>\n",
       "    </tr>\n",
       "    <tr>\n",
       "      <th>6913</th>\n",
       "      <td>a win for gender equality</td>\n",
       "      <td>-1.5</td>\n",
       "    </tr>\n",
       "  </tbody>\n",
       "</table>\n",
       "</div>"
      ],
      "text/plain": [
       "                                               quotation  label_younes\n",
       "19386  Closing the gender gap in labor force particip...           0.5\n",
       "12649  I am proud to join with Sen. Hagan and Rep. Ba...          -1.5\n",
       "32422  I thought, will this be an `artie' movie that ...          -1.5\n",
       "38171  In light of recent events, both students and c...          -1.5\n",
       "2821   My child care plan allows for every parent or ...          -1.5\n",
       "6913                           a win for gender equality          -1.5"
      ]
     },
     "execution_count": 14,
     "metadata": {},
     "output_type": "execute_result"
    }
   ],
   "source": [
    "df_sample_labeled[['quotation','label_younes']].iloc[n-1:n+5]"
   ]
  },
  {
   "cell_type": "code",
   "execution_count": 328,
   "id": "7889d402",
   "metadata": {},
   "outputs": [],
   "source": [
    "# Initialise column at -1 so we know what hasn't been labeled yet\n",
    "# df_sample_labeled['label_galann'] = -1.5 # only run once to avoid overwriting"
   ]
  },
  {
   "cell_type": "code",
   "execution_count": 333,
   "id": "a1904872",
   "metadata": {},
   "outputs": [],
   "source": [
    "n=0"
   ]
  },
  {
   "cell_type": "code",
   "execution_count": 337,
   "id": "ae90abd6",
   "metadata": {},
   "outputs": [],
   "source": [
    "n+=1"
   ]
  },
  {
   "cell_type": "code",
   "execution_count": 339,
   "id": "0051f32a",
   "metadata": {},
   "outputs": [
    {
     "name": "stdout",
     "output_type": "stream",
     "text": [
      "quote number : 1 \n",
      "\n",
      "modern conscription is gender neutral and will include both women and men.\n",
      "\n",
      "Current score : -1.5\n"
     ]
    }
   ],
   "source": [
    "print('quote number :',n,'\\n')\n",
    "print(df_sample_labeled['quotation'].iloc[n])\n",
    "\n",
    "print('\\nCurrent score :' , df_sample_labeled.at[df_sample_labeled.index[n], 'label_galann'])"
   ]
  },
  {
   "cell_type": "code",
   "execution_count": 323,
   "id": "4e25ea25",
   "metadata": {},
   "outputs": [
    {
     "name": "stdout",
     "output_type": "stream",
     "text": [
      "1.0\n"
     ]
    }
   ],
   "source": [
    "# labeling : 0 for negative || 0.5 for neutral || 1 for positive\n",
    "\n",
    "df_sample_labeled.at[df_sample_labeled.index[n], 'label_galann'] = 1\n",
    "print(df_sample_labeled.at[df_sample_labeled.index[n], 'label_galann'])"
   ]
  },
  {
   "cell_type": "code",
<<<<<<< HEAD
   "execution_count": 345,
   "id": "2c8b0584",
   "metadata": {},
   "outputs": [
    {
     "data": {
      "text/html": [
       "<div>\n",
       "<style scoped>\n",
       "    .dataframe tbody tr th:only-of-type {\n",
       "        vertical-align: middle;\n",
       "    }\n",
       "\n",
       "    .dataframe tbody tr th {\n",
       "        vertical-align: top;\n",
       "    }\n",
       "\n",
       "    .dataframe thead th {\n",
       "        text-align: right;\n",
       "    }\n",
       "</style>\n",
       "<table border=\"1\" class=\"dataframe\">\n",
       "  <thead>\n",
       "    <tr style=\"text-align: right;\">\n",
       "      <th></th>\n",
       "      <th>quotation</th>\n",
       "      <th>label_galann</th>\n",
       "    </tr>\n",
       "  </thead>\n",
       "  <tbody>\n",
       "    <tr>\n",
       "      <th>54581</th>\n",
       "      <td>Today, the Committee heard Yoni make a compell...</td>\n",
       "      <td>-1.5</td>\n",
       "    </tr>\n",
       "    <tr>\n",
       "      <th>33050</th>\n",
       "      <td>modern conscription is gender neutral and will...</td>\n",
       "      <td>-1.5</td>\n",
       "    </tr>\n",
       "    <tr>\n",
       "      <th>44014</th>\n",
       "      <td>The allegations of sexual harassment in the of...</td>\n",
       "      <td>-1.5</td>\n",
       "    </tr>\n",
       "    <tr>\n",
       "      <th>12252</th>\n",
       "      <td>When it comes to protecting a women's right to...</td>\n",
       "      <td>-1.5</td>\n",
       "    </tr>\n",
       "    <tr>\n",
       "      <th>26072</th>\n",
       "      <td>the mental state of young Muslim women who fee...</td>\n",
       "      <td>-1.5</td>\n",
       "    </tr>\n",
       "    <tr>\n",
       "      <th>27604</th>\n",
       "      <td>We do not yet have comprehensive data on the f...</td>\n",
       "      <td>-1.5</td>\n",
       "    </tr>\n",
       "  </tbody>\n",
       "</table>\n",
       "</div>"
      ],
      "text/plain": [
       "                                               quotation  label_galann\n",
       "54581  Today, the Committee heard Yoni make a compell...          -1.5\n",
       "33050  modern conscription is gender neutral and will...          -1.5\n",
       "44014  The allegations of sexual harassment in the of...          -1.5\n",
       "12252  When it comes to protecting a women's right to...          -1.5\n",
       "26072  the mental state of young Muslim women who fee...          -1.5\n",
       "27604  We do not yet have comprehensive data on the f...          -1.5"
      ]
     },
     "execution_count": 345,
     "metadata": {},
     "output_type": "execute_result"
    }
   ],
=======
   "execution_count": null,
   "id": "ca9355ad",
   "metadata": {
    "scrolled": true
   },
   "outputs": [],
>>>>>>> c55eb3c941b44dac3de5355555aa08828187bb2c
   "source": [
    "df_sample_labeled[['quotation','label_galann']].iloc[n-1:n+5]"
   ]
  },
  {
   "cell_type": "code",
<<<<<<< HEAD
   "execution_count": 436,
   "id": "3410289a",
=======
   "execution_count": 16,
   "id": "a7216fa0",
>>>>>>> c55eb3c941b44dac3de5355555aa08828187bb2c
   "metadata": {},
   "outputs": [
    {
     "data": {
      "text/html": [
       "<div>\n",
       "<style scoped>\n",
       "    .dataframe tbody tr th:only-of-type {\n",
       "        vertical-align: middle;\n",
       "    }\n",
       "\n",
       "    .dataframe tbody tr th {\n",
       "        vertical-align: top;\n",
       "    }\n",
       "\n",
       "    .dataframe thead th {\n",
       "        text-align: right;\n",
       "    }\n",
       "</style>\n",
       "<table border=\"1\" class=\"dataframe\">\n",
       "  <thead>\n",
       "    <tr style=\"text-align: right;\">\n",
       "      <th></th>\n",
       "      <th>quotation</th>\n",
       "      <th>sentiment_vader</th>\n",
       "      <th>sentiment_blob</th>\n",
       "      <th>sentiment_flair</th>\n",
       "      <th>label_younes</th>\n",
       "    </tr>\n",
       "  </thead>\n",
       "  <tbody>\n",
       "    <tr>\n",
       "      <th>54581</th>\n",
       "      <td>Today, the Committee heard Yoni make a compell...</td>\n",
       "      <td>0.4019</td>\n",
       "      <td>0.101190</td>\n",
       "      <td>0.997242</td>\n",
       "      <td>1.0</td>\n",
       "    </tr>\n",
       "    <tr>\n",
       "      <th>33050</th>\n",
       "      <td>modern conscription is gender neutral and will...</td>\n",
       "      <td>0.0000</td>\n",
       "      <td>0.200000</td>\n",
       "      <td>0.719044</td>\n",
       "      <td>0.5</td>\n",
       "    </tr>\n",
       "    <tr>\n",
       "      <th>44014</th>\n",
       "      <td>The allegations of sexual harassment in the of...</td>\n",
       "      <td>-0.7906</td>\n",
       "      <td>0.033333</td>\n",
       "      <td>0.988527</td>\n",
       "      <td>0.0</td>\n",
       "    </tr>\n",
       "    <tr>\n",
       "      <th>12252</th>\n",
       "      <td>When it comes to protecting a women's right to...</td>\n",
       "      <td>0.0000</td>\n",
       "      <td>0.442857</td>\n",
       "      <td>0.581920</td>\n",
       "      <td>1.0</td>\n",
       "    </tr>\n",
       "    <tr>\n",
       "      <th>26072</th>\n",
       "      <td>the mental state of young Muslim women who fee...</td>\n",
       "      <td>0.0000</td>\n",
       "      <td>0.066667</td>\n",
       "      <td>0.981104</td>\n",
       "      <td>0.0</td>\n",
       "    </tr>\n",
       "  </tbody>\n",
       "</table>\n",
       "</div>"
      ],
      "text/plain": [
       "                                               quotation  sentiment_vader  \\\n",
       "54581  Today, the Committee heard Yoni make a compell...           0.4019   \n",
       "33050  modern conscription is gender neutral and will...           0.0000   \n",
       "44014  The allegations of sexual harassment in the of...          -0.7906   \n",
       "12252  When it comes to protecting a women's right to...           0.0000   \n",
       "26072  the mental state of young Muslim women who fee...           0.0000   \n",
       "\n",
       "       sentiment_blob  sentiment_flair  label_younes  \n",
       "54581        0.101190         0.997242           1.0  \n",
       "33050        0.200000         0.719044           0.5  \n",
       "44014        0.033333         0.988527           0.0  \n",
       "12252        0.442857         0.581920           1.0  \n",
       "26072        0.066667         0.981104           0.0  "
      ]
     },
     "execution_count": 16,
     "metadata": {},
     "output_type": "execute_result"
    }
   ],
   "source": [
    "df_sample_labeled[['quotation','sentiment_vader','sentiment_blob','sentiment_flair','label_younes']].head()"
   ]
  },
  {
   "cell_type": "code",
   "execution_count": 437,
   "id": "48c159d5",
   "metadata": {},
   "outputs": [],
   "source": [
    "# save labeled samples dataframe\n",
    " # df_sample_labeled.to_pickle(PATH_GENERATED_DATA+'df_sample_labeled.pkl', compression='infer', protocol=5, storage_options=None)"
   ]
  },
  {
   "cell_type": "code",
   "execution_count": null,
   "id": "f89aebbf",
   "metadata": {},
   "outputs": [],
   "source": []
  },
  {
   "cell_type": "code",
   "execution_count": null,
   "id": "3a771915",
   "metadata": {},
   "outputs": [],
   "source": []
  },
  {
   "cell_type": "code",
   "execution_count": null,
   "id": "1e5a17e8",
   "metadata": {},
   "outputs": [],
   "source": []
  },
  {
   "cell_type": "markdown",
   "id": "6c23a870",
   "metadata": {},
   "source": [
    "We add thresholds to separate the data into negative and positive ( should we add neutral ? ) categories :"
   ]
  },
  {
   "cell_type": "code",
   "execution_count": null,
   "id": "76882b38",
   "metadata": {},
   "outputs": [],
   "source": [
    "# For vader score <0\n",
    "# df_sentiment['sentiment_vader'].aply\n",
    "# df_sentiment['sentiment_blob'].aply\n",
    "# df_sentiment['sentiment_flair'].aply\n",
    "\n",
    "# for textblob\n",
    "\n",
    "# for flair"
   ]
  },
  {
   "cell_type": "markdown",
   "id": "77ec8c9f",
   "metadata": {},
   "source": [
    "***\n",
    "### Plot testing"
   ]
  },
  {
   "cell_type": "markdown",
   "id": "b05d75be",
   "metadata": {},
   "source": [
    "For a first step, sentiment analysis using Vader will be done. We could potentially use other tools such as the current state of the art in sentiment analysis and text classification XLNet, or otherwise DeepMoji or Flair."
   ]
  },
  {
   "cell_type": "code",
   "execution_count": 134,
   "id": "e7afc835",
   "metadata": {},
   "outputs": [],
   "source": [
    "def sentiment_plot(scores):\n",
    "    '''\n",
    "    This function plots the polarity score for every word in a quote\n",
    "    inputs : dict containing the polarity score for the whole sentence, \n",
    "    and the one for every word of the sentence\n",
    "    outputs : the plot\n",
    "    '''\n",
    "    sns.set(rc={'figure.figsize':(20,3)})\n",
    "    sns.heatmap(pd.DataFrame(scores).set_index(\"quotation\").T,center=0, annot=True, cmap = \"PiYG\",annot_kws={\"size\": 10})"
   ]
  },
  {
   "cell_type": "code",
   "execution_count": 135,
   "id": "ec2fd897",
   "metadata": {},
   "outputs": [],
   "source": [
    "quotation = df['quotation'].loc[1]"
   ]
  },
  {
   "cell_type": "code",
   "execution_count": 136,
   "id": "830de5f7",
   "metadata": {},
   "outputs": [
    {
     "data": {
      "text/plain": [
       "{'neg': 0.0, 'neu': 0.627, 'pos': 0.373, 'compound': 0.6557}"
      ]
     },
     "execution_count": 136,
     "metadata": {},
     "output_type": "execute_result"
    }
   ],
   "source": [
    "analyzer.polarity_scores(quotation)"
   ]
  },
  {
   "cell_type": "code",
   "execution_count": 137,
   "id": "538fc4c5",
   "metadata": {
    "scrolled": false
   },
   "outputs": [
    {
     "data": {
      "image/png": "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\n",
      "text/plain": [
       "<Figure size 1440x216 with 2 Axes>"
      ]
     },
     "metadata": {},
     "output_type": "display_data"
    }
   ],
   "source": [
    "sentiment_plot({\n",
    "    \"quotation\":[\"Quotation\"] + quotation.split(),\n",
    "    \"Sentiment\":[analyzer.polarity_scores(quotation)[\"compound\"]] + [analyzer.polarity_scores(word)[\"compound\"] for word in quotation.split()]\n",
    "})"
   ]
  }
 ],
 "metadata": {
  "kernelspec": {
   "display_name": "Python 3 (ipykernel)",
   "language": "python",
   "name": "python3"
  },
  "language_info": {
   "codemirror_mode": {
    "name": "ipython",
    "version": 3
   },
   "file_extension": ".py",
   "mimetype": "text/x-python",
   "name": "python",
   "nbconvert_exporter": "python",
   "pygments_lexer": "ipython3",
   "version": "3.8.11"
  }
 },
 "nbformat": 4,
 "nbformat_minor": 5
}
