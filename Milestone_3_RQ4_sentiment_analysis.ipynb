{
 "cells": [
  {
   "cell_type": "markdown",
   "id": "a47b8d17",
   "metadata": {},
   "source": [
    "Delete this block before submission\n",
    "\n",
    "Mardown cheat cheat : https://github.com/adam-p/markdown-here/wiki/Markdown-Cheatsheet#blockquotes\n",
    "\n",
    "Things to do : \n",
    "- Don't forget of the statistical significance aspects of results, for every result, criticize that when interpreting\n",
    "- \n"
   ]
  },
  {
   "cell_type": "markdown",
   "id": "5fea011a",
   "metadata": {},
   "source": [
    "# Project Milestone2 - Group Concatsanddogs"
   ]
  },
  {
   "cell_type": "markdown",
   "id": "754733a8",
   "metadata": {},
   "source": [
    "# The use of women's rights and gender equality rhetoric in the US"
   ]
  },
  {
   "cell_type": "markdown",
   "id": "79aa810f",
   "metadata": {},
   "source": [
    "### Research Question 4 :"
   ]
  },
  {
   "cell_type": "markdown",
   "id": "febe8922",
   "metadata": {},
   "source": [
    "**What is the sentiment analysis of the context of the quotation containing women's rights mention?**\n",
    "\n",
    "**Can we link the sentiment to the use of women's rights ideology?**"
   ]
  },
  {
   "cell_type": "markdown",
   "id": "38f2be5c",
   "metadata": {},
   "source": [
    "## Librairies"
   ]
  },
  {
   "cell_type": "code",
   "execution_count": 1,
   "id": "ceb1f57e",
   "metadata": {},
   "outputs": [],
   "source": [
    "import pandas as pd\n",
    "import numpy as np\n",
    "import matplotlib.pyplot as plt\n",
    "%matplotlib inline\n",
    "import seaborn as sns\n",
    "import nltk\n",
    "#nltk.download('vader_lexicon')"
   ]
  },
  {
   "cell_type": "code",
   "execution_count": 2,
   "id": "3bc6eca7",
   "metadata": {},
   "outputs": [],
   "source": [
    "# Changing some pandas default appearance settings \n",
    "# https://pandas.pydata.org/pandas-docs/stable/user_guide/options.html\n",
    "# pd.options.display.max_colwidth = 200\n",
    "# pd.options.display.max_rows = 100\n",
    "#pd.reset_option(\"display.max_colwidth\") # reset the options"
   ]
  },
  {
   "cell_type": "code",
   "execution_count": 3,
   "id": "e5f3a045",
   "metadata": {},
   "outputs": [],
   "source": [
    "#pd.reset_option(\"^display\")"
   ]
  },
  {
   "cell_type": "code",
   "execution_count": 5,
   "id": "c88aedcf",
   "metadata": {},
   "outputs": [
    {
     "name": "stderr",
     "output_type": "stream",
     "text": [
      "/opt/anaconda3/envs/ada/lib/python3.8/site-packages/gensim/similarities/__init__.py:15: UserWarning: The gensim.similarities.levenshtein submodule is disabled, because the optional Levenshtein package <https://pypi.org/project/python-Levenshtein/> is unavailable. Install Levenhstein (e.g. `pip install python-Levenshtein`) to suppress this warning.\n",
      "  warnings.warn(msg)\n"
     ]
    }
   ],
   "source": [
    "#NLP libraries\n",
    "import spacy, nltk, gensim, sklearn"
   ]
  },
  {
   "cell_type": "code",
   "execution_count": 7,
   "id": "fec1a1fa",
   "metadata": {},
   "outputs": [],
   "source": [
    "#Vader\n",
    "import vaderSentiment\n",
    "from vaderSentiment.vaderSentiment import SentimentIntensityAnalyzer"
   ]
  },
  {
   "cell_type": "code",
   "execution_count": 8,
   "id": "1ef37579",
   "metadata": {},
   "outputs": [],
   "source": [
    "sns.set_style(\"whitegrid\")"
   ]
  },
  {
   "cell_type": "code",
   "execution_count": 9,
   "id": "20c1d427",
   "metadata": {},
   "outputs": [],
   "source": [
    "PATH_GENERATED_DATA = 'generated_data/'"
   ]
  },
  {
   "cell_type": "markdown",
   "id": "77c33624",
   "metadata": {},
   "source": [
    "## Loading the selected quotes dataframe"
   ]
  },
  {
   "cell_type": "code",
   "execution_count": 10,
   "id": "b351c13d",
   "metadata": {},
   "outputs": [],
   "source": [
    "# loading the dataframe with selected quotes and additional attributes\n",
    "df = pd.read_pickle(PATH_GENERATED_DATA+'df_enriched.pkl', compression='infer', storage_options=None)"
   ]
  },
  {
   "cell_type": "code",
   "execution_count": 10,
   "id": "5ee1a91b",
   "metadata": {
    "tags": []
   },
   "outputs": [
    {
     "data": {
      "text/html": [
       "<div>\n",
       "<style scoped>\n",
       "    .dataframe tbody tr th:only-of-type {\n",
       "        vertical-align: middle;\n",
       "    }\n",
       "\n",
       "    .dataframe tbody tr th {\n",
       "        vertical-align: top;\n",
       "    }\n",
       "\n",
       "    .dataframe thead th {\n",
       "        text-align: right;\n",
       "    }\n",
       "</style>\n",
       "<table border=\"1\" class=\"dataframe\">\n",
       "  <thead>\n",
       "    <tr style=\"text-align: right;\">\n",
       "      <th></th>\n",
       "      <th>quoteID</th>\n",
       "      <th>quotation</th>\n",
       "      <th>speaker</th>\n",
       "      <th>date</th>\n",
       "      <th>numOccurrences</th>\n",
       "      <th>probas</th>\n",
       "      <th>urls</th>\n",
       "      <th>aliases</th>\n",
       "      <th>date_of_birth</th>\n",
       "      <th>nationality</th>\n",
       "      <th>...</th>\n",
       "      <th>lastrevid</th>\n",
       "      <th>ethnic_group</th>\n",
       "      <th>US_congress_bio_ID</th>\n",
       "      <th>occupation</th>\n",
       "      <th>party</th>\n",
       "      <th>academic_degree</th>\n",
       "      <th>label</th>\n",
       "      <th>candidacy</th>\n",
       "      <th>type</th>\n",
       "      <th>religion</th>\n",
       "    </tr>\n",
       "  </thead>\n",
       "  <tbody>\n",
       "    <tr>\n",
       "      <th>0</th>\n",
       "      <td>2015-03-09-004706</td>\n",
       "      <td>Anything less than women winning 50 per cent o...</td>\n",
       "      <td>Katy Gallagher</td>\n",
       "      <td>2015-03-09 12:30:00</td>\n",
       "      <td>1</td>\n",
       "      <td>[[Katy Gallagher, 0.5872], [None, 0.4128]]</td>\n",
       "      <td>[http://www.smh.com.au/act-news/women-need-to-...</td>\n",
       "      <td>[Katherine Gallagher, Katherine Ruth Gallagher]</td>\n",
       "      <td>[+1970-03-17T00:00:00Z]</td>\n",
       "      <td>Australia</td>\n",
       "      <td>...</td>\n",
       "      <td>1349152158</td>\n",
       "      <td>NaN</td>\n",
       "      <td>None</td>\n",
       "      <td>politician</td>\n",
       "      <td>Australian Labor Party</td>\n",
       "      <td>NaN</td>\n",
       "      <td>Katy Gallagher</td>\n",
       "      <td>None</td>\n",
       "      <td>item</td>\n",
       "      <td>NaN</td>\n",
       "    </tr>\n",
       "    <tr>\n",
       "      <th>1</th>\n",
       "      <td>2017-05-11-081817</td>\n",
       "      <td>more family-friendly and flexible workplaces, ...</td>\n",
       "      <td>Katy Gallagher</td>\n",
       "      <td>2017-05-11 00:00:37</td>\n",
       "      <td>1</td>\n",
       "      <td>[[Katy Gallagher, 0.5596], [None, 0.4404]]</td>\n",
       "      <td>[http://www.mediamaxnetwork.co.ke/news/325569/...</td>\n",
       "      <td>[Katherine Gallagher, Katherine Ruth Gallagher]</td>\n",
       "      <td>[+1970-03-17T00:00:00Z]</td>\n",
       "      <td>Australia</td>\n",
       "      <td>...</td>\n",
       "      <td>1349152158</td>\n",
       "      <td>NaN</td>\n",
       "      <td>None</td>\n",
       "      <td>politician</td>\n",
       "      <td>Australian Labor Party</td>\n",
       "      <td>NaN</td>\n",
       "      <td>Katy Gallagher</td>\n",
       "      <td>None</td>\n",
       "      <td>item</td>\n",
       "      <td>NaN</td>\n",
       "    </tr>\n",
       "    <tr>\n",
       "      <th>2</th>\n",
       "      <td>2017-06-23-130636</td>\n",
       "      <td>We need more women and parents in Parliament. ...</td>\n",
       "      <td>Katy Gallagher</td>\n",
       "      <td>2017-06-23 03:20:00</td>\n",
       "      <td>1</td>\n",
       "      <td>[[Katy Gallagher, 0.4996], [None, 0.4403], [La...</td>\n",
       "      <td>[http://www.harpersbazaar.com/culture/features...</td>\n",
       "      <td>[Katherine Gallagher, Katherine Ruth Gallagher]</td>\n",
       "      <td>[+1970-03-17T00:00:00Z]</td>\n",
       "      <td>Australia</td>\n",
       "      <td>...</td>\n",
       "      <td>1349152158</td>\n",
       "      <td>NaN</td>\n",
       "      <td>None</td>\n",
       "      <td>politician</td>\n",
       "      <td>Australian Labor Party</td>\n",
       "      <td>NaN</td>\n",
       "      <td>Katy Gallagher</td>\n",
       "      <td>None</td>\n",
       "      <td>item</td>\n",
       "      <td>NaN</td>\n",
       "    </tr>\n",
       "    <tr>\n",
       "      <th>3</th>\n",
       "      <td>2015-04-24-025718</td>\n",
       "      <td>I'd like to congratulate all the winners and f...</td>\n",
       "      <td>Helena Morrissey</td>\n",
       "      <td>2015-04-24 15:33:00</td>\n",
       "      <td>1</td>\n",
       "      <td>[[Helena Morrissey, 0.8706], [None, 0.1294]]</td>\n",
       "      <td>[http://www.cipd.co.uk/PM/peoplemanagement/b/w...</td>\n",
       "      <td>None</td>\n",
       "      <td>[+1966-03-22T00:00:00Z]</td>\n",
       "      <td>United Kingdom</td>\n",
       "      <td>...</td>\n",
       "      <td>1393002378</td>\n",
       "      <td>NaN</td>\n",
       "      <td>None</td>\n",
       "      <td>business executive</td>\n",
       "      <td>NaN</td>\n",
       "      <td>NaN</td>\n",
       "      <td>Helena Morrissey</td>\n",
       "      <td>None</td>\n",
       "      <td>item</td>\n",
       "      <td>NaN</td>\n",
       "    </tr>\n",
       "    <tr>\n",
       "      <th>4</th>\n",
       "      <td>2015-04-08-011609</td>\n",
       "      <td>Clearly we have got a long way to go before we...</td>\n",
       "      <td>Helena Morrissey</td>\n",
       "      <td>2015-04-08 18:28:01</td>\n",
       "      <td>1</td>\n",
       "      <td>[[Helena Morrissey, 0.5805], [None, 0.2061], [...</td>\n",
       "      <td>[http://feeds.theguardian.com/c/34708/f/663879...</td>\n",
       "      <td>None</td>\n",
       "      <td>[+1966-03-22T00:00:00Z]</td>\n",
       "      <td>United Kingdom</td>\n",
       "      <td>...</td>\n",
       "      <td>1393002378</td>\n",
       "      <td>NaN</td>\n",
       "      <td>None</td>\n",
       "      <td>business executive</td>\n",
       "      <td>NaN</td>\n",
       "      <td>NaN</td>\n",
       "      <td>Helena Morrissey</td>\n",
       "      <td>None</td>\n",
       "      <td>item</td>\n",
       "      <td>NaN</td>\n",
       "    </tr>\n",
       "  </tbody>\n",
       "</table>\n",
       "<p>5 rows × 21 columns</p>\n",
       "</div>"
      ],
      "text/plain": [
       "             quoteID                                          quotation  \\\n",
       "0  2015-03-09-004706  Anything less than women winning 50 per cent o...   \n",
       "1  2017-05-11-081817  more family-friendly and flexible workplaces, ...   \n",
       "2  2017-06-23-130636  We need more women and parents in Parliament. ...   \n",
       "3  2015-04-24-025718  I'd like to congratulate all the winners and f...   \n",
       "4  2015-04-08-011609  Clearly we have got a long way to go before we...   \n",
       "\n",
       "            speaker                date  numOccurrences  \\\n",
       "0    Katy Gallagher 2015-03-09 12:30:00               1   \n",
       "1    Katy Gallagher 2017-05-11 00:00:37               1   \n",
       "2    Katy Gallagher 2017-06-23 03:20:00               1   \n",
       "3  Helena Morrissey 2015-04-24 15:33:00               1   \n",
       "4  Helena Morrissey 2015-04-08 18:28:01               1   \n",
       "\n",
       "                                              probas  \\\n",
       "0         [[Katy Gallagher, 0.5872], [None, 0.4128]]   \n",
       "1         [[Katy Gallagher, 0.5596], [None, 0.4404]]   \n",
       "2  [[Katy Gallagher, 0.4996], [None, 0.4403], [La...   \n",
       "3       [[Helena Morrissey, 0.8706], [None, 0.1294]]   \n",
       "4  [[Helena Morrissey, 0.5805], [None, 0.2061], [...   \n",
       "\n",
       "                                                urls  \\\n",
       "0  [http://www.smh.com.au/act-news/women-need-to-...   \n",
       "1  [http://www.mediamaxnetwork.co.ke/news/325569/...   \n",
       "2  [http://www.harpersbazaar.com/culture/features...   \n",
       "3  [http://www.cipd.co.uk/PM/peoplemanagement/b/w...   \n",
       "4  [http://feeds.theguardian.com/c/34708/f/663879...   \n",
       "\n",
       "                                           aliases            date_of_birth  \\\n",
       "0  [Katherine Gallagher, Katherine Ruth Gallagher]  [+1970-03-17T00:00:00Z]   \n",
       "1  [Katherine Gallagher, Katherine Ruth Gallagher]  [+1970-03-17T00:00:00Z]   \n",
       "2  [Katherine Gallagher, Katherine Ruth Gallagher]  [+1970-03-17T00:00:00Z]   \n",
       "3                                             None  [+1966-03-22T00:00:00Z]   \n",
       "4                                             None  [+1966-03-22T00:00:00Z]   \n",
       "\n",
       "      nationality  ...   lastrevid  ethnic_group US_congress_bio_ID  \\\n",
       "0       Australia  ...  1349152158           NaN               None   \n",
       "1       Australia  ...  1349152158           NaN               None   \n",
       "2       Australia  ...  1349152158           NaN               None   \n",
       "3  United Kingdom  ...  1393002378           NaN               None   \n",
       "4  United Kingdom  ...  1393002378           NaN               None   \n",
       "\n",
       "           occupation                   party academic_degree  \\\n",
       "0          politician  Australian Labor Party             NaN   \n",
       "1          politician  Australian Labor Party             NaN   \n",
       "2          politician  Australian Labor Party             NaN   \n",
       "3  business executive                     NaN             NaN   \n",
       "4  business executive                     NaN             NaN   \n",
       "\n",
       "              label candidacy  type religion  \n",
       "0    Katy Gallagher      None  item      NaN  \n",
       "1    Katy Gallagher      None  item      NaN  \n",
       "2    Katy Gallagher      None  item      NaN  \n",
       "3  Helena Morrissey      None  item      NaN  \n",
       "4  Helena Morrissey      None  item      NaN  \n",
       "\n",
       "[5 rows x 21 columns]"
      ]
     },
     "execution_count": 10,
     "metadata": {},
     "output_type": "execute_result"
    }
   ],
   "source": [
    "df.head()"
   ]
  },
  {
   "cell_type": "code",
   "execution_count": 11,
   "id": "eb692941",
   "metadata": {},
   "outputs": [
    {
     "name": "stdout",
     "output_type": "stream",
     "text": [
      "The dataframe has 55328 entries\n"
     ]
    }
   ],
   "source": [
    "print(f'The dataframe has {len(df)} entries')"
   ]
  },
  {
   "cell_type": "code",
   "execution_count": 12,
   "id": "3969377b",
   "metadata": {},
   "outputs": [
    {
     "data": {
      "text/plain": [
       "0    Anything less than women winning 50 per cent o...\n",
       "1    more family-friendly and flexible workplaces, ...\n",
       "Name: quotation, dtype: object"
      ]
     },
     "execution_count": 12,
     "metadata": {},
     "output_type": "execute_result"
    }
   ],
   "source": [
    "df['quotation'].head(2)"
   ]
  },
  {
   "cell_type": "code",
   "execution_count": null,
   "id": "19c0550a",
   "metadata": {},
   "outputs": [],
   "source": []
  },
  {
   "cell_type": "markdown",
   "id": "3c212a86",
   "metadata": {},
   "source": [
    "## Sentiment analysis prep"
   ]
  },
  {
   "cell_type": "code",
   "execution_count": 11,
   "id": "4ea62ab2",
   "metadata": {},
   "outputs": [],
   "source": [
    "analyzer = SentimentIntensityAnalyzer()\n",
    "vs = analyzer.polarity_scores(df['quotation'].loc[1])"
   ]
  },
  {
   "cell_type": "markdown",
   "id": "d9b7e27b",
   "metadata": {},
   "source": [
    "***\n",
    "### Plot testing"
   ]
  },
  {
   "cell_type": "markdown",
   "id": "3c43588a",
   "metadata": {},
   "source": [
    "For a first step, sentiment analysis using Vader will be done. We could potentially use other tools such as the current state of the art in sentiment analysis and text classification XLNet, or otherwise DeepMoji or Flair."
   ]
  },
  {
   "cell_type": "code",
   "execution_count": 12,
   "id": "ca194679",
   "metadata": {},
   "outputs": [],
   "source": [
    "def sentiment_plot(scores):\n",
    "    '''\n",
    "    This function plots the polarity score for every word in a quote\n",
    "    inputs : dict containing the polarity score for the whole sentence, \n",
    "    and the one for every word of the sentence\n",
    "    outputs : the plot\n",
    "    '''\n",
    "    sns.set(rc={'figure.figsize':(20,3)})\n",
    "    sns.heatmap(pd.DataFrame(scores).set_index(\"quotation\").T,center=0, annot=True, cmap = \"PiYG\",annot_kws={\"size\": 10})"
   ]
  },
  {
   "cell_type": "code",
   "execution_count": 13,
   "id": "dfaf8ae6",
   "metadata": {},
   "outputs": [],
   "source": [
    "quotation = df['quotation'].loc[1]"
   ]
  },
  {
   "cell_type": "code",
   "execution_count": 14,
   "id": "7c4e76d3",
   "metadata": {},
   "outputs": [
    {
     "data": {
      "text/plain": [
       "{'neg': 0.0, 'neu': 0.627, 'pos': 0.373, 'compound': 0.6557}"
      ]
     },
     "execution_count": 14,
     "metadata": {},
     "output_type": "execute_result"
    }
   ],
   "source": [
    "analyzer.polarity_scores(quotation)"
   ]
  },
  {
   "cell_type": "code",
   "execution_count": 15,
   "id": "e42ad9ba",
   "metadata": {
    "scrolled": true
   },
   "outputs": [
    {
     "data": {
      "image/png": "[encoded data removed]",
      "text/plain": [
       "<Figure size 1440x216 with 2 Axes>"
      ]
     },
     "metadata": {},
     "output_type": "display_data"
    }
   ],
   "source": [
    "sentiment_plot({\n",
    "    \"quotation\":[\"Quotation\"] + quotation.split(),\n",
    "    \"Sentiment\":[analyzer.polarity_scores(quotation)[\"compound\"]] + [analyzer.polarity_scores(word)[\"compound\"] for word in quotation.split()]\n",
    "})"
   ]
  },
  {
   "cell_type": "markdown",
   "id": "ffdcc441",
   "metadata": {},
   "source": [
    "## Sub question 1 : What is the sentiment analysis of the context of the quotations containing women's rights mention?"
   ]
  },
  {
   "cell_type": "code",
   "execution_count": 16,
   "id": "f131a66d",
   "metadata": {},
   "outputs": [],
   "source": [
    "# only add tokenizer as preprocessing here ( I think we don't need more for now)"
   ]
  },
  {
   "cell_type": "code",
   "execution_count": 17,
   "id": "7a0a8b51",
   "metadata": {},
   "outputs": [
    {
     "ename": "OSError",
     "evalue": "[E941] Can't find model 'en'. It looks like you're trying to load a model from a shortcut, which is obsolete as of spaCy v3.0. To load the model, use its full name instead:\n\nnlp = spacy.load(\"en_core_web_sm\")\n\nFor more details on the available models, see the models directory: https://spacy.io/models. If you want to create a blank model, use spacy.blank: nlp = spacy.blank(\"en\")",
     "output_type": "error",
     "traceback": [
      "\u001b[0;31m---------------------------------------------------------------------------\u001b[0m",
      "\u001b[0;31mOSError\u001b[0m                                   Traceback (most recent call last)",
      "\u001b[0;32m/var/folders/3v/cd3_rvz10bd1jd08x0c03tpr0000gt/T/ipykernel_29673/3527127468.py\u001b[0m in \u001b[0;36m<module>\u001b[0;34m\u001b[0m\n\u001b[0;32m----> 1\u001b[0;31m \u001b[0mnlp\u001b[0m \u001b[0;34m=\u001b[0m \u001b[0mspacy\u001b[0m\u001b[0;34m.\u001b[0m\u001b[0mload\u001b[0m\u001b[0;34m(\u001b[0m\u001b[0;34m'en'\u001b[0m\u001b[0;34m)\u001b[0m\u001b[0;34m\u001b[0m\u001b[0;34m\u001b[0m\u001b[0m\n\u001b[0m\u001b[1;32m      2\u001b[0m \u001b[0mnlp\u001b[0m\u001b[0;34m.\u001b[0m\u001b[0mremove_pipe\u001b[0m\u001b[0;34m(\u001b[0m\u001b[0;34m'parser'\u001b[0m\u001b[0;34m)\u001b[0m\u001b[0;34m\u001b[0m\u001b[0;34m\u001b[0m\u001b[0m\n\u001b[1;32m      3\u001b[0m \u001b[0mnlp\u001b[0m\u001b[0;34m.\u001b[0m\u001b[0mremove_pipe\u001b[0m\u001b[0;34m(\u001b[0m\u001b[0;34m'tagger'\u001b[0m\u001b[0;34m)\u001b[0m\u001b[0;34m\u001b[0m\u001b[0;34m\u001b[0m\u001b[0m\n\u001b[1;32m      4\u001b[0m \u001b[0mnlp\u001b[0m\u001b[0;34m.\u001b[0m\u001b[0mremove_pipe\u001b[0m\u001b[0;34m(\u001b[0m\u001b[0;34m'ner'\u001b[0m\u001b[0;34m)\u001b[0m\u001b[0;34m\u001b[0m\u001b[0;34m\u001b[0m\u001b[0m\n\u001b[1;32m      5\u001b[0m \u001b[0;31m#nlp.remove_pipe('textcat')\u001b[0m\u001b[0;34m\u001b[0m\u001b[0;34m\u001b[0m\u001b[0;34m\u001b[0m\u001b[0m\n",
      "\u001b[0;32m/opt/anaconda3/envs/ada/lib/python3.8/site-packages/spacy/__init__.py\u001b[0m in \u001b[0;36mload\u001b[0;34m(name, vocab, disable, exclude, config)\u001b[0m\n\u001b[1;32m     49\u001b[0m     \u001b[0mRETURNS\u001b[0m \u001b[0;34m(\u001b[0m\u001b[0mLanguage\u001b[0m\u001b[0;34m)\u001b[0m\u001b[0;34m:\u001b[0m \u001b[0mThe\u001b[0m \u001b[0mloaded\u001b[0m \u001b[0mnlp\u001b[0m \u001b[0mobject\u001b[0m\u001b[0;34m.\u001b[0m\u001b[0;34m\u001b[0m\u001b[0;34m\u001b[0m\u001b[0m\n\u001b[1;32m     50\u001b[0m     \"\"\"\n\u001b[0;32m---> 51\u001b[0;31m     return util.load_model(\n\u001b[0m\u001b[1;32m     52\u001b[0m         \u001b[0mname\u001b[0m\u001b[0;34m,\u001b[0m \u001b[0mvocab\u001b[0m\u001b[0;34m=\u001b[0m\u001b[0mvocab\u001b[0m\u001b[0;34m,\u001b[0m \u001b[0mdisable\u001b[0m\u001b[0;34m=\u001b[0m\u001b[0mdisable\u001b[0m\u001b[0;34m,\u001b[0m \u001b[0mexclude\u001b[0m\u001b[0;34m=\u001b[0m\u001b[0mexclude\u001b[0m\u001b[0;34m,\u001b[0m \u001b[0mconfig\u001b[0m\u001b[0;34m=\u001b[0m\u001b[0mconfig\u001b[0m\u001b[0;34m\u001b[0m\u001b[0;34m\u001b[0m\u001b[0m\n\u001b[1;32m     53\u001b[0m     )\n",
      "\u001b[0;32m/opt/anaconda3/envs/ada/lib/python3.8/site-packages/spacy/util.py\u001b[0m in \u001b[0;36mload_model\u001b[0;34m(name, vocab, disable, exclude, config)\u001b[0m\n\u001b[1;32m    424\u001b[0m         \u001b[0;32mreturn\u001b[0m \u001b[0mload_model_from_path\u001b[0m\u001b[0;34m(\u001b[0m\u001b[0mname\u001b[0m\u001b[0;34m,\u001b[0m \u001b[0;34m**\u001b[0m\u001b[0mkwargs\u001b[0m\u001b[0;34m)\u001b[0m  \u001b[0;31m# type: ignore[arg-type]\u001b[0m\u001b[0;34m\u001b[0m\u001b[0;34m\u001b[0m\u001b[0m\n\u001b[1;32m    425\u001b[0m     \u001b[0;32mif\u001b[0m \u001b[0mname\u001b[0m \u001b[0;32min\u001b[0m \u001b[0mOLD_MODEL_SHORTCUTS\u001b[0m\u001b[0;34m:\u001b[0m\u001b[0;34m\u001b[0m\u001b[0;34m\u001b[0m\u001b[0m\n\u001b[0;32m--> 426\u001b[0;31m         \u001b[0;32mraise\u001b[0m \u001b[0mIOError\u001b[0m\u001b[0;34m(\u001b[0m\u001b[0mErrors\u001b[0m\u001b[0;34m.\u001b[0m\u001b[0mE941\u001b[0m\u001b[0;34m.\u001b[0m\u001b[0mformat\u001b[0m\u001b[0;34m(\u001b[0m\u001b[0mname\u001b[0m\u001b[0;34m=\u001b[0m\u001b[0mname\u001b[0m\u001b[0;34m,\u001b[0m \u001b[0mfull\u001b[0m\u001b[0;34m=\u001b[0m\u001b[0mOLD_MODEL_SHORTCUTS\u001b[0m\u001b[0;34m[\u001b[0m\u001b[0mname\u001b[0m\u001b[0;34m]\u001b[0m\u001b[0;34m)\u001b[0m\u001b[0;34m)\u001b[0m  \u001b[0;31m# type: ignore[index]\u001b[0m\u001b[0;34m\u001b[0m\u001b[0;34m\u001b[0m\u001b[0m\n\u001b[0m\u001b[1;32m    427\u001b[0m     \u001b[0;32mraise\u001b[0m \u001b[0mIOError\u001b[0m\u001b[0;34m(\u001b[0m\u001b[0mErrors\u001b[0m\u001b[0;34m.\u001b[0m\u001b[0mE050\u001b[0m\u001b[0;34m.\u001b[0m\u001b[0mformat\u001b[0m\u001b[0;34m(\u001b[0m\u001b[0mname\u001b[0m\u001b[0;34m=\u001b[0m\u001b[0mname\u001b[0m\u001b[0;34m)\u001b[0m\u001b[0;34m)\u001b[0m\u001b[0;34m\u001b[0m\u001b[0;34m\u001b[0m\u001b[0m\n\u001b[1;32m    428\u001b[0m \u001b[0;34m\u001b[0m\u001b[0m\n",
      "\u001b[0;31mOSError\u001b[0m: [E941] Can't find model 'en'. It looks like you're trying to load a model from a shortcut, which is obsolete as of spaCy v3.0. To load the model, use its full name instead:\n\nnlp = spacy.load(\"en_core_web_sm\")\n\nFor more details on the available models, see the models directory: https://spacy.io/models. If you want to create a blank model, use spacy.blank: nlp = spacy.blank(\"en\")"
     ]
    }
   ],
   "source": [
    "nlp = spacy.load('en')\n",
    "nlp.remove_pipe('parser')\n",
    "nlp.remove_pipe('tagger')\n",
    "nlp.remove_pipe('ner')\n",
    "#nlp.remove_pipe('textcat') "
   ]
  },
  {
   "cell_type": "code",
   "execution_count": 18,
   "id": "00af47b9",
   "metadata": {},
   "outputs": [
    {
     "name": "stdout",
     "output_type": "stream",
     "text": [
      "more family-friendly and flexible workplaces, and affordable child care, for everyone \n",
      "\n"
     ]
    },
    {
     "ename": "NameError",
     "evalue": "name 'nlp' is not defined",
     "output_type": "error",
     "traceback": [
      "\u001b[0;31m---------------------------------------------------------------------------\u001b[0m",
      "\u001b[0;31mNameError\u001b[0m                                 Traceback (most recent call last)",
      "\u001b[0;32m/var/folders/3v/cd3_rvz10bd1jd08x0c03tpr0000gt/T/ipykernel_29673/3027813953.py\u001b[0m in \u001b[0;36m<module>\u001b[0;34m\u001b[0m\n\u001b[1;32m      1\u001b[0m \u001b[0mprint\u001b[0m\u001b[0;34m(\u001b[0m\u001b[0mdf\u001b[0m\u001b[0;34m[\u001b[0m\u001b[0;34m'quotation'\u001b[0m\u001b[0;34m]\u001b[0m\u001b[0;34m.\u001b[0m\u001b[0mloc\u001b[0m\u001b[0;34m[\u001b[0m\u001b[0;36m1\u001b[0m\u001b[0;34m]\u001b[0m\u001b[0;34m,\u001b[0m \u001b[0;34m'\\n'\u001b[0m\u001b[0;34m)\u001b[0m\u001b[0;34m\u001b[0m\u001b[0;34m\u001b[0m\u001b[0m\n\u001b[0;32m----> 2\u001b[0;31m \u001b[0mprint\u001b[0m\u001b[0;34m(\u001b[0m\u001b[0mnlp\u001b[0m\u001b[0;34m(\u001b[0m\u001b[0mdf\u001b[0m\u001b[0;34m[\u001b[0m\u001b[0;34m'quotation'\u001b[0m\u001b[0;34m]\u001b[0m\u001b[0;34m.\u001b[0m\u001b[0mloc\u001b[0m\u001b[0;34m[\u001b[0m\u001b[0;36m1\u001b[0m\u001b[0;34m]\u001b[0m\u001b[0;34m)\u001b[0m\u001b[0;34m)\u001b[0m\u001b[0;34m\u001b[0m\u001b[0;34m\u001b[0m\u001b[0m\n\u001b[0m",
      "\u001b[0;31mNameError\u001b[0m: name 'nlp' is not defined"
     ]
    }
   ],
   "source": [
    "print(df['quotation'].loc[1], '\\n')\n",
    "print(nlp(df['quotation'].loc[1]))"
   ]
  },
  {
   "cell_type": "code",
   "execution_count": 19,
   "id": "655fab14",
   "metadata": {
    "scrolled": true
   },
   "outputs": [],
   "source": [
    "df['sentiment'] = df['quotation'].apply(lambda x : analyzer.polarity_scores(x)['compound'])"
   ]
  },
  {
   "cell_type": "code",
   "execution_count": 20,
   "id": "228e1792",
   "metadata": {},
   "outputs": [
    {
     "data": {
      "text/plain": [
       "0    0.6271\n",
       "1    0.6557\n",
       "2    0.6557\n",
       "3    0.9460\n",
       "4    0.6705\n",
       "Name: sentiment, dtype: float64"
      ]
     },
     "execution_count": 20,
     "metadata": {},
     "output_type": "execute_result"
    }
   ],
   "source": [
    "df['sentiment'].head()"
   ]
  },
  {
   "cell_type": "code",
   "execution_count": 21,
   "id": "09908de8",
   "metadata": {
    "scrolled": true
   },
   "outputs": [
    {
     "data": {
      "image/png": "[encoded data removed]",
      "text/plain": [
       "<Figure size 576x360 with 1 Axes>"
      ]
     },
     "metadata": {},
     "output_type": "display_data"
    }
   ],
   "source": [
    "df['sentiment'].hist(bins=40, figsize = [8,5])\n",
    "plt.show()"
   ]
  },
  {
   "cell_type": "markdown",
   "id": "113f6965",
   "metadata": {},
   "source": [
    "There seems to be a lof of quotes that are classified as neutral, but we can see that the data is polarised "
   ]
  },
  {
   "cell_type": "markdown",
   "id": "b75c075d",
   "metadata": {},
   "source": [
    "### Sentiment in function of time"
   ]
  },
  {
   "cell_type": "code",
   "execution_count": 22,
   "id": "a7bac637",
   "metadata": {},
   "outputs": [
    {
     "data": {
      "image/png": "[encoded data removed]",
      "text/plain": [
       "<Figure size 1440x576 with 1 Axes>"
      ]
     },
     "metadata": {},
     "output_type": "display_data"
    }
   ],
   "source": [
    "plt.figure(figsize=(20,8))\n",
    "sns.histplot(df[['date','sentiment']], x=\"date\", y=\"sentiment\")\n",
    "plt.show()"
   ]
  },
  {
   "cell_type": "markdown",
   "id": "92bdf739",
   "metadata": {},
   "source": [
    "Seems like there were a lot of negative quotes end of 2017\n",
    "We could maybe use the list provided by wikipedia : https://en.wikipedia.org/wiki/2017_in_the_United_States#October to see if there were quotes about that\n",
    " \n",
    ">Tough talk on immigration: Shortly after taking office in January, President Trump sought to make good on his “America First” campaign promise by imposing a series of contentious travel bans on citizens from several Muslim-majority nations.\n",
    "\n",
    ">Federal district courts struck down implementation of the bans, though a Supreme Court ruling in December 2017 reversed the lower courts’ decisions, allowing the administration to fully implement the bans.\n",
    "\n",
    ">Trump also continued to promote his election campaign idea of a border wall with Mexico that he says will help quell illegal immigration from Mexico and points south.\n",
    "\n",
    "https://www.history.com/topics/21st-century/2017-events#section_1\n",
    "\n",
    "---> maybe do some NER to recognize events ?"
   ]
  },
  {
   "cell_type": "markdown",
   "id": "ee00cf40",
   "metadata": {},
   "source": [
    "### Time events analysis"
   ]
  },
  {
   "cell_type": "code",
   "execution_count": 31,
   "id": "a6d257d9",
   "metadata": {},
   "outputs": [],
   "source": [
    "# Select the negatives quotes around 2018\n",
    "#last two months of 2017\n",
    "end_2017_df = df[ (df['date'] > '2017-11-01') & (df['date'] < '2018-01-01')]\n",
    "#negative sentiments\n",
    "neg_end_2017_df = end_2017_df[end_2017_df['sentiment']<-0.5]"
   ]
  },
  {
   "cell_type": "code",
   "execution_count": 33,
   "id": "629cd12e",
   "metadata": {},
   "outputs": [
    {
     "data": {
      "text/plain": [
       "2283"
      ]
     },
     "execution_count": 33,
     "metadata": {},
     "output_type": "execute_result"
    }
   ],
   "source": [
    "len(neg_end_2017_df)"
   ]
  },
  {
   "cell_type": "code",
   "execution_count": 49,
   "id": "7c6fb8b7",
   "metadata": {},
   "outputs": [],
   "source": [
    "#pd.options.display.max_columns = 150\n",
    "#neg_end_2017_df.head(20)['quotation']"
   ]
  },
  {
   "cell_type": "code",
   "execution_count": 50,
   "id": "eba9adfa",
   "metadata": {},
   "outputs": [],
   "source": [
    "KEYWORDS_WAGES_EQUALITY =(\n",
    "    'equal pay',\n",
    "    'Equal wages',\n",
    "     'men pay',\n",
    "     'pay percentage',)\n",
    "\n",
    "KEYWORDS_EQUALITY = (\n",
    "'Equal opportunities',\n",
    "'Equal rights',\n",
    "'Equal status',\n",
    "'Gender equality',\n",
    "'gender equity',\n",
    "'gender gap',\n",
    " 'percentage men',\n",
    " 'women\\'s right',\n",
    " 'Women empowerment',\n",
    " 'Women emancipation',\n",
    "  'Gender discrimination',\n",
    " 'Men and women',\n",
    " 'women and men',\n",
    " 'women oppression',\n",
    " 'struggle of girls',\n",
    " 'struggle of women',\n",
    " 'war against women',\n",
    " 'oppression of girls',\n",
    " 'oppression of women',\n",
    " 'women oppression',\n",
    " \"women's opression\",\n",
    " 'liberate women',\n",
    " 'Male oppression',\n",
    " 'Female oppression',\n",
    " 'Patriarchal culture',\n",
    " 'gender equality',\n",
    " 'women girls',\n",
    " 'girls women',\n",
    " 'rates women',\n",
    " 'women according',\n",
    " 'share women',\n",
    " 'women movement',\n",
    " 'see women',\n",
    " 'gender stereotypes',\n",
    " 'women representation',\n",
    " 'sex discrimination',\n",
    " 'women rights',\n",
    " 'woman time',\n",
    " 'based gender',\n",
    " 'entirely female',\n",
    "     'women immigration',\n",
    " \"women's participation\",)\n",
    "KEYWORDS_REPRODUCTION_WORK = (\n",
    "'Exploitation of women',\n",
    " 'child care',\n",
    ")\n",
    "KEYWORDS_SEXUAL = (\n",
    "'Sexual harrasment',\n",
    "'abuse of women',\n",
    "'sexual harassment',\n",
    "'women victim',\n",
    "'gender-based violence',\n",
    ")\n",
    "KEYWORDS_TRANS = ('trans ')\n",
    "KEYWORDS_ABORTION = ('abortion')\n",
    "KEYWORDS_INDIGENEOUS = ('Indigenous')\n",
    "KEYWORDS_REPRESENTATION = ('female mayors','female candidates')\n",
    "KEYWORDS_FEMONAT = ('Western women',\n",
    " 'non-western woman',\n",
    " 'Muslim women',\n",
    " 'Muslim woman',\n",
    " 'niqab ban',\n",
    " 'religious oppression')"
   ]
  },
  {
   "cell_type": "code",
   "execution_count": 51,
   "id": "0beadbef",
   "metadata": {},
   "outputs": [],
   "source": [
    "def add_subtopic(df):\n",
    "    df['subtopic'] = np.where(df.quotation.str.contains('|'.join(KEYWORDS_FEMONAT)), \"islam\",\n",
    "                 np.where(df.quotation.str.contains('|'.join(KEYWORDS_REPRESENTATION)), \"representation\",\n",
    "                 np.where(df.quotation.str.contains(KEYWORDS_INDIGENEOUS), \"indigenous\",\n",
    "                 np.where(df.quotation.str.contains(KEYWORDS_ABORTION), \"abortion\",\n",
    "                 np.where(df.quotation.str.contains(KEYWORDS_TRANS), \"trans\",    \n",
    "                 np.where(df.quotation.str.contains('|'.join(KEYWORDS_SEXUAL)), \"sexual\", \n",
    "                 np.where(df.quotation.str.contains('|'.join(KEYWORDS_WAGES_EQUALITY)), \"wages equality\",\n",
    "                 np.where(df.quotation.str.contains('|'.join(KEYWORDS_REPRODUCTION_WORK)), \"reproductive work\",  \n",
    "                 np.where(df.quotation.str.contains('|'.join(KEYWORDS_EQUALITY)),\"equality\",\"other\")))))))))\n",
    "    return df"
   ]
  },
  {
   "cell_type": "code",
   "execution_count": 47,
   "id": "bc429c1f",
   "metadata": {
    "scrolled": true
   },
   "outputs": [
    {
     "name": "stderr",
     "output_type": "stream",
     "text": [
      "/var/folders/3v/cd3_rvz10bd1jd08x0c03tpr0000gt/T/ipykernel_29673/2519758697.py:2: SettingWithCopyWarning: \n",
      "A value is trying to be set on a copy of a slice from a DataFrame.\n",
      "Try using .loc[row_indexer,col_indexer] = value instead\n",
      "\n",
      "See the caveats in the documentation: https://pandas.pydata.org/pandas-docs/stable/user_guide/indexing.html#returning-a-view-versus-a-copy\n",
      "  df['subtopic'] = np.where(df.quotation.str.contains('|'.join(KEYWORDS_FEMONAT)), \"islam\",\n"
     ]
    },
    {
     "data": {
      "text/html": [
       "<div>\n",
       "<style scoped>\n",
       "    .dataframe tbody tr th:only-of-type {\n",
       "        vertical-align: middle;\n",
       "    }\n",
       "\n",
       "    .dataframe tbody tr th {\n",
       "        vertical-align: top;\n",
       "    }\n",
       "\n",
       "    .dataframe thead th {\n",
       "        text-align: right;\n",
       "    }\n",
       "</style>\n",
       "<table border=\"1\" class=\"dataframe\">\n",
       "  <thead>\n",
       "    <tr style=\"text-align: right;\">\n",
       "      <th></th>\n",
       "      <th>quoteID</th>\n",
       "      <th>quotation</th>\n",
       "      <th>speaker</th>\n",
       "      <th>date</th>\n",
       "      <th>numOccurrences</th>\n",
       "      <th>probas</th>\n",
       "      <th>urls</th>\n",
       "      <th>aliases</th>\n",
       "      <th>date_of_birth</th>\n",
       "      <th>nationality</th>\n",
       "      <th>gender</th>\n",
       "      <th>lastrevid</th>\n",
       "      <th>ethnic_group</th>\n",
       "      <th>US_congress_bio_ID</th>\n",
       "      <th>occupation</th>\n",
       "      <th>party</th>\n",
       "      <th>academic_degree</th>\n",
       "      <th>label</th>\n",
       "      <th>candidacy</th>\n",
       "      <th>type</th>\n",
       "      <th>religion</th>\n",
       "      <th>sentiment</th>\n",
       "      <th>subtopic</th>\n",
       "    </tr>\n",
       "  </thead>\n",
       "  <tbody>\n",
       "    <tr>\n",
       "      <th>754</th>\n",
       "      <td>2017-11-21-082375</td>\n",
       "      <td>No matter your party, no matter your politics,...</td>\n",
       "      <td>Tom Perez</td>\n",
       "      <td>2017-11-21 13:44:47</td>\n",
       "      <td>1</td>\n",
       "      <td>[[Tom Perez, 0.8127], [None, 0.1826], [Al Fran...</td>\n",
       "      <td>[http://www.masslive.com/politics/index.ssf/20...</td>\n",
       "      <td>[Tom Perez, Thomas E. Perez, Thomas Edward Perez]</td>\n",
       "      <td>[+1961-10-07T00:00:00Z, +1961-01-07T00:00:00Z]</td>\n",
       "      <td>United States of America</td>\n",
       "      <td>male</td>\n",
       "      <td>1392691414</td>\n",
       "      <td>NaN</td>\n",
       "      <td>None</td>\n",
       "      <td>politician</td>\n",
       "      <td>Democratic Party</td>\n",
       "      <td>NaN</td>\n",
       "      <td>Thomas Perez</td>\n",
       "      <td>None</td>\n",
       "      <td>item</td>\n",
       "      <td>NaN</td>\n",
       "      <td>-0.6184</td>\n",
       "      <td>sexual</td>\n",
       "    </tr>\n",
       "    <tr>\n",
       "      <th>854</th>\n",
       "      <td>2017-11-16-172692</td>\n",
       "      <td>Women who come forward are brave and deserve t...</td>\n",
       "      <td>Elizabeth Warren</td>\n",
       "      <td>2017-11-16 14:25:41</td>\n",
       "      <td>4</td>\n",
       "      <td>[[Elizabeth Warren, 0.495], [None, 0.3292], [C...</td>\n",
       "      <td>[http://www.masslive.com/politics/index.ssf/20...</td>\n",
       "      <td>[Elizabeth Ann Warren, Senator Warren, Elisabe...</td>\n",
       "      <td>[+1949-06-22T00:00:00Z]</td>\n",
       "      <td>United States of America</td>\n",
       "      <td>female</td>\n",
       "      <td>1394365746</td>\n",
       "      <td>White Americans</td>\n",
       "      <td>W000817</td>\n",
       "      <td>jurist</td>\n",
       "      <td>Democratic Party</td>\n",
       "      <td>bachelor's degree</td>\n",
       "      <td>Elizabeth Warren</td>\n",
       "      <td>[Q28220813]</td>\n",
       "      <td>item</td>\n",
       "      <td>Methodism</td>\n",
       "      <td>-0.5423</td>\n",
       "      <td>sexual</td>\n",
       "    </tr>\n",
       "    <tr>\n",
       "      <th>855</th>\n",
       "      <td>2017-11-16-163952</td>\n",
       "      <td>We're not going to fix the problems of sexual ...</td>\n",
       "      <td>Elizabeth Warren</td>\n",
       "      <td>2017-11-16 14:55:00</td>\n",
       "      <td>6</td>\n",
       "      <td>[[Elizabeth Warren, 0.5309], [None, 0.339], [S...</td>\n",
       "      <td>[http://feeds.latimes.com/~r/latimes/entertain...</td>\n",
       "      <td>[Elizabeth Ann Warren, Senator Warren, Elisabe...</td>\n",
       "      <td>[+1949-06-22T00:00:00Z]</td>\n",
       "      <td>United States of America</td>\n",
       "      <td>female</td>\n",
       "      <td>1394365746</td>\n",
       "      <td>White Americans</td>\n",
       "      <td>W000817</td>\n",
       "      <td>jurist</td>\n",
       "      <td>Democratic Party</td>\n",
       "      <td>bachelor's degree</td>\n",
       "      <td>Elizabeth Warren</td>\n",
       "      <td>[Q28220813]</td>\n",
       "      <td>item</td>\n",
       "      <td>Methodism</td>\n",
       "      <td>-0.8750</td>\n",
       "      <td>sexual</td>\n",
       "    </tr>\n",
       "    <tr>\n",
       "      <th>863</th>\n",
       "      <td>2017-11-16-116217</td>\n",
       "      <td>The behavior reported today is unacceptable an...</td>\n",
       "      <td>Elizabeth Warren</td>\n",
       "      <td>2017-11-16 19:48:09</td>\n",
       "      <td>2</td>\n",
       "      <td>[[Elizabeth Warren, 0.7688], [None, 0.1378], [...</td>\n",
       "      <td>[https://www.boston.com/news/politics/2017/11/...</td>\n",
       "      <td>[Elizabeth Ann Warren, Senator Warren, Elisabe...</td>\n",
       "      <td>[+1949-06-22T00:00:00Z]</td>\n",
       "      <td>United States of America</td>\n",
       "      <td>female</td>\n",
       "      <td>1394365746</td>\n",
       "      <td>White Americans</td>\n",
       "      <td>W000817</td>\n",
       "      <td>jurist</td>\n",
       "      <td>Democratic Party</td>\n",
       "      <td>bachelor's degree</td>\n",
       "      <td>Elizabeth Warren</td>\n",
       "      <td>[Q28220813]</td>\n",
       "      <td>item</td>\n",
       "      <td>Methodism</td>\n",
       "      <td>-0.7089</td>\n",
       "      <td>sexual</td>\n",
       "    </tr>\n",
       "    <tr>\n",
       "      <th>865</th>\n",
       "      <td>2017-12-17-076169</td>\n",
       "      <td>Women are coming forward to tell stories of th...</td>\n",
       "      <td>Elizabeth Warren</td>\n",
       "      <td>2017-12-17 00:00:00</td>\n",
       "      <td>1</td>\n",
       "      <td>[[Elizabeth Warren, 0.8229], [None, 0.1664], [...</td>\n",
       "      <td>[https://www.opednews.com/articles/Warren-Brow...</td>\n",
       "      <td>[Elizabeth Ann Warren, Senator Warren, Elisabe...</td>\n",
       "      <td>[+1949-06-22T00:00:00Z]</td>\n",
       "      <td>United States of America</td>\n",
       "      <td>female</td>\n",
       "      <td>1394365746</td>\n",
       "      <td>White Americans</td>\n",
       "      <td>W000817</td>\n",
       "      <td>jurist</td>\n",
       "      <td>Democratic Party</td>\n",
       "      <td>bachelor's degree</td>\n",
       "      <td>Elizabeth Warren</td>\n",
       "      <td>[Q28220813]</td>\n",
       "      <td>item</td>\n",
       "      <td>Methodism</td>\n",
       "      <td>-0.5666</td>\n",
       "      <td>sexual</td>\n",
       "    </tr>\n",
       "    <tr>\n",
       "      <th>...</th>\n",
       "      <td>...</td>\n",
       "      <td>...</td>\n",
       "      <td>...</td>\n",
       "      <td>...</td>\n",
       "      <td>...</td>\n",
       "      <td>...</td>\n",
       "      <td>...</td>\n",
       "      <td>...</td>\n",
       "      <td>...</td>\n",
       "      <td>...</td>\n",
       "      <td>...</td>\n",
       "      <td>...</td>\n",
       "      <td>...</td>\n",
       "      <td>...</td>\n",
       "      <td>...</td>\n",
       "      <td>...</td>\n",
       "      <td>...</td>\n",
       "      <td>...</td>\n",
       "      <td>...</td>\n",
       "      <td>...</td>\n",
       "      <td>...</td>\n",
       "      <td>...</td>\n",
       "      <td>...</td>\n",
       "    </tr>\n",
       "    <tr>\n",
       "      <th>40533</th>\n",
       "      <td>2017-11-22-091474</td>\n",
       "      <td>recognizes and understands the seriousness of ...</td>\n",
       "      <td>Michael Padilla</td>\n",
       "      <td>2017-11-22 22:20:15</td>\n",
       "      <td>7</td>\n",
       "      <td>[[Michael Padilla, 0.4456], [Michelle Lujan Gr...</td>\n",
       "      <td>[http://www.lmtonline.com/news/article/New-Mex...</td>\n",
       "      <td>None</td>\n",
       "      <td>[+1972-06-13T00:00:00Z]</td>\n",
       "      <td>United States of America</td>\n",
       "      <td>male</td>\n",
       "      <td>1393973809</td>\n",
       "      <td>NaN</td>\n",
       "      <td>None</td>\n",
       "      <td>politician</td>\n",
       "      <td>Democratic Party</td>\n",
       "      <td>NaN</td>\n",
       "      <td>Michael Padilla</td>\n",
       "      <td>None</td>\n",
       "      <td>item</td>\n",
       "      <td>NaN</td>\n",
       "      <td>-0.5574</td>\n",
       "      <td>sexual</td>\n",
       "    </tr>\n",
       "    <tr>\n",
       "      <th>40537</th>\n",
       "      <td>2017-11-24-027488</td>\n",
       "      <td>I don't think we should be spending government...</td>\n",
       "      <td>Mickey Kearns</td>\n",
       "      <td>2017-11-24 00:00:00</td>\n",
       "      <td>1</td>\n",
       "      <td>[[Mickey Kearns, 0.7134], [None, 0.25], [Sam H...</td>\n",
       "      <td>[http://news.wbfo.org/post/tackling-sexual-har...</td>\n",
       "      <td>None</td>\n",
       "      <td>[+1943-04-18T00:00:00Z]</td>\n",
       "      <td>Ireland</td>\n",
       "      <td>male</td>\n",
       "      <td>1330221817</td>\n",
       "      <td>NaN</td>\n",
       "      <td>None</td>\n",
       "      <td>Gaelic football player</td>\n",
       "      <td>NaN</td>\n",
       "      <td>NaN</td>\n",
       "      <td>Mickey Kearns</td>\n",
       "      <td>None</td>\n",
       "      <td>item</td>\n",
       "      <td>NaN</td>\n",
       "      <td>-0.5423</td>\n",
       "      <td>sexual</td>\n",
       "    </tr>\n",
       "    <tr>\n",
       "      <th>40543</th>\n",
       "      <td>2017-11-16-085118</td>\n",
       "      <td>Lessons on self-silencing and sexual harassment,</td>\n",
       "      <td>Cass R. Sunstein</td>\n",
       "      <td>2017-11-16 08:09:01</td>\n",
       "      <td>2</td>\n",
       "      <td>[[Cass R. Sunstein, 0.9194], [None, 0.0807]]</td>\n",
       "      <td>[http://www.pressdemocrat.com/news/state/76071...</td>\n",
       "      <td>[Cass Robert Sunstein, Cass R. Sunstein]</td>\n",
       "      <td>[+1954-09-21T00:00:00Z]</td>\n",
       "      <td>United States of America</td>\n",
       "      <td>male</td>\n",
       "      <td>1378244802</td>\n",
       "      <td>NaN</td>\n",
       "      <td>None</td>\n",
       "      <td>jurist</td>\n",
       "      <td>Democratic Party</td>\n",
       "      <td>NaN</td>\n",
       "      <td>Cass Sunstein</td>\n",
       "      <td>None</td>\n",
       "      <td>item</td>\n",
       "      <td>NaN</td>\n",
       "      <td>-0.5423</td>\n",
       "      <td>sexual</td>\n",
       "    </tr>\n",
       "    <tr>\n",
       "      <th>40548</th>\n",
       "      <td>2017-12-20-094235</td>\n",
       "      <td>That doesn't necessarily mean `believe in the ...</td>\n",
       "      <td>Megan McCabe</td>\n",
       "      <td>2017-12-20 11:04:36</td>\n",
       "      <td>1</td>\n",
       "      <td>[[Megan McCabe, 0.8509], [None, 0.1325], [Al F...</td>\n",
       "      <td>[https://www.ncronline.org/news/opinion/distin...</td>\n",
       "      <td>None</td>\n",
       "      <td>None</td>\n",
       "      <td>NaN</td>\n",
       "      <td>female</td>\n",
       "      <td>1213981069</td>\n",
       "      <td>NaN</td>\n",
       "      <td>None</td>\n",
       "      <td>actor</td>\n",
       "      <td>NaN</td>\n",
       "      <td>NaN</td>\n",
       "      <td>Megan McCabe</td>\n",
       "      <td>None</td>\n",
       "      <td>item</td>\n",
       "      <td>NaN</td>\n",
       "      <td>-0.8856</td>\n",
       "      <td>sexual</td>\n",
       "    </tr>\n",
       "    <tr>\n",
       "      <th>40572</th>\n",
       "      <td>2017-12-05-136456</td>\n",
       "      <td>was the standard for suits alleging civil righ...</td>\n",
       "      <td>Nancy Gertner</td>\n",
       "      <td>2017-12-05 10:00:22</td>\n",
       "      <td>1</td>\n",
       "      <td>[[Nancy Gertner, 0.8795], [None, 0.1205]]</td>\n",
       "      <td>[https://www.nytimes.com/2017/12/05/magazine/t...</td>\n",
       "      <td>None</td>\n",
       "      <td>[+1946-05-22T00:00:00Z]</td>\n",
       "      <td>United States of America</td>\n",
       "      <td>female</td>\n",
       "      <td>1377692954</td>\n",
       "      <td>NaN</td>\n",
       "      <td>None</td>\n",
       "      <td>lawyer</td>\n",
       "      <td>NaN</td>\n",
       "      <td>NaN</td>\n",
       "      <td>Nancy Gernter</td>\n",
       "      <td>None</td>\n",
       "      <td>item</td>\n",
       "      <td>NaN</td>\n",
       "      <td>-0.6597</td>\n",
       "      <td>sexual</td>\n",
       "    </tr>\n",
       "  </tbody>\n",
       "</table>\n",
       "<p>2283 rows × 23 columns</p>\n",
       "</div>"
      ],
      "text/plain": [
       "                 quoteID                                          quotation  \\\n",
       "754    2017-11-21-082375  No matter your party, no matter your politics,...   \n",
       "854    2017-11-16-172692  Women who come forward are brave and deserve t...   \n",
       "855    2017-11-16-163952  We're not going to fix the problems of sexual ...   \n",
       "863    2017-11-16-116217  The behavior reported today is unacceptable an...   \n",
       "865    2017-12-17-076169  Women are coming forward to tell stories of th...   \n",
       "...                  ...                                                ...   \n",
       "40533  2017-11-22-091474  recognizes and understands the seriousness of ...   \n",
       "40537  2017-11-24-027488  I don't think we should be spending government...   \n",
       "40543  2017-11-16-085118   Lessons on self-silencing and sexual harassment,   \n",
       "40548  2017-12-20-094235  That doesn't necessarily mean `believe in the ...   \n",
       "40572  2017-12-05-136456  was the standard for suits alleging civil righ...   \n",
       "\n",
       "                speaker                date  numOccurrences  \\\n",
       "754           Tom Perez 2017-11-21 13:44:47               1   \n",
       "854    Elizabeth Warren 2017-11-16 14:25:41               4   \n",
       "855    Elizabeth Warren 2017-11-16 14:55:00               6   \n",
       "863    Elizabeth Warren 2017-11-16 19:48:09               2   \n",
       "865    Elizabeth Warren 2017-12-17 00:00:00               1   \n",
       "...                 ...                 ...             ...   \n",
       "40533   Michael Padilla 2017-11-22 22:20:15               7   \n",
       "40537     Mickey Kearns 2017-11-24 00:00:00               1   \n",
       "40543  Cass R. Sunstein 2017-11-16 08:09:01               2   \n",
       "40548      Megan McCabe 2017-12-20 11:04:36               1   \n",
       "40572     Nancy Gertner 2017-12-05 10:00:22               1   \n",
       "\n",
       "                                                  probas  \\\n",
       "754    [[Tom Perez, 0.8127], [None, 0.1826], [Al Fran...   \n",
       "854    [[Elizabeth Warren, 0.495], [None, 0.3292], [C...   \n",
       "855    [[Elizabeth Warren, 0.5309], [None, 0.339], [S...   \n",
       "863    [[Elizabeth Warren, 0.7688], [None, 0.1378], [...   \n",
       "865    [[Elizabeth Warren, 0.8229], [None, 0.1664], [...   \n",
       "...                                                  ...   \n",
       "40533  [[Michael Padilla, 0.4456], [Michelle Lujan Gr...   \n",
       "40537  [[Mickey Kearns, 0.7134], [None, 0.25], [Sam H...   \n",
       "40543       [[Cass R. Sunstein, 0.9194], [None, 0.0807]]   \n",
       "40548  [[Megan McCabe, 0.8509], [None, 0.1325], [Al F...   \n",
       "40572          [[Nancy Gertner, 0.8795], [None, 0.1205]]   \n",
       "\n",
       "                                                    urls  \\\n",
       "754    [http://www.masslive.com/politics/index.ssf/20...   \n",
       "854    [http://www.masslive.com/politics/index.ssf/20...   \n",
       "855    [http://feeds.latimes.com/~r/latimes/entertain...   \n",
       "863    [https://www.boston.com/news/politics/2017/11/...   \n",
       "865    [https://www.opednews.com/articles/Warren-Brow...   \n",
       "...                                                  ...   \n",
       "40533  [http://www.lmtonline.com/news/article/New-Mex...   \n",
       "40537  [http://news.wbfo.org/post/tackling-sexual-har...   \n",
       "40543  [http://www.pressdemocrat.com/news/state/76071...   \n",
       "40548  [https://www.ncronline.org/news/opinion/distin...   \n",
       "40572  [https://www.nytimes.com/2017/12/05/magazine/t...   \n",
       "\n",
       "                                                 aliases  \\\n",
       "754    [Tom Perez, Thomas E. Perez, Thomas Edward Perez]   \n",
       "854    [Elizabeth Ann Warren, Senator Warren, Elisabe...   \n",
       "855    [Elizabeth Ann Warren, Senator Warren, Elisabe...   \n",
       "863    [Elizabeth Ann Warren, Senator Warren, Elisabe...   \n",
       "865    [Elizabeth Ann Warren, Senator Warren, Elisabe...   \n",
       "...                                                  ...   \n",
       "40533                                               None   \n",
       "40537                                               None   \n",
       "40543           [Cass Robert Sunstein, Cass R. Sunstein]   \n",
       "40548                                               None   \n",
       "40572                                               None   \n",
       "\n",
       "                                        date_of_birth  \\\n",
       "754    [+1961-10-07T00:00:00Z, +1961-01-07T00:00:00Z]   \n",
       "854                           [+1949-06-22T00:00:00Z]   \n",
       "855                           [+1949-06-22T00:00:00Z]   \n",
       "863                           [+1949-06-22T00:00:00Z]   \n",
       "865                           [+1949-06-22T00:00:00Z]   \n",
       "...                                               ...   \n",
       "40533                         [+1972-06-13T00:00:00Z]   \n",
       "40537                         [+1943-04-18T00:00:00Z]   \n",
       "40543                         [+1954-09-21T00:00:00Z]   \n",
       "40548                                            None   \n",
       "40572                         [+1946-05-22T00:00:00Z]   \n",
       "\n",
       "                    nationality  gender   lastrevid     ethnic_group  \\\n",
       "754    United States of America    male  1392691414              NaN   \n",
       "854    United States of America  female  1394365746  White Americans   \n",
       "855    United States of America  female  1394365746  White Americans   \n",
       "863    United States of America  female  1394365746  White Americans   \n",
       "865    United States of America  female  1394365746  White Americans   \n",
       "...                         ...     ...         ...              ...   \n",
       "40533  United States of America    male  1393973809              NaN   \n",
       "40537                   Ireland    male  1330221817              NaN   \n",
       "40543  United States of America    male  1378244802              NaN   \n",
       "40548                       NaN  female  1213981069              NaN   \n",
       "40572  United States of America  female  1377692954              NaN   \n",
       "\n",
       "      US_congress_bio_ID              occupation             party  \\\n",
       "754                 None              politician  Democratic Party   \n",
       "854              W000817                  jurist  Democratic Party   \n",
       "855              W000817                  jurist  Democratic Party   \n",
       "863              W000817                  jurist  Democratic Party   \n",
       "865              W000817                  jurist  Democratic Party   \n",
       "...                  ...                     ...               ...   \n",
       "40533               None              politician  Democratic Party   \n",
       "40537               None  Gaelic football player               NaN   \n",
       "40543               None                  jurist  Democratic Party   \n",
       "40548               None                   actor               NaN   \n",
       "40572               None                  lawyer               NaN   \n",
       "\n",
       "         academic_degree             label    candidacy  type   religion  \\\n",
       "754                  NaN      Thomas Perez         None  item        NaN   \n",
       "854    bachelor's degree  Elizabeth Warren  [Q28220813]  item  Methodism   \n",
       "855    bachelor's degree  Elizabeth Warren  [Q28220813]  item  Methodism   \n",
       "863    bachelor's degree  Elizabeth Warren  [Q28220813]  item  Methodism   \n",
       "865    bachelor's degree  Elizabeth Warren  [Q28220813]  item  Methodism   \n",
       "...                  ...               ...          ...   ...        ...   \n",
       "40533                NaN   Michael Padilla         None  item        NaN   \n",
       "40537                NaN     Mickey Kearns         None  item        NaN   \n",
       "40543                NaN     Cass Sunstein         None  item        NaN   \n",
       "40548                NaN      Megan McCabe         None  item        NaN   \n",
       "40572                NaN     Nancy Gernter         None  item        NaN   \n",
       "\n",
       "       sentiment subtopic  \n",
       "754      -0.6184   sexual  \n",
       "854      -0.5423   sexual  \n",
       "855      -0.8750   sexual  \n",
       "863      -0.7089   sexual  \n",
       "865      -0.5666   sexual  \n",
       "...          ...      ...  \n",
       "40533    -0.5574   sexual  \n",
       "40537    -0.5423   sexual  \n",
       "40543    -0.5423   sexual  \n",
       "40548    -0.8856   sexual  \n",
       "40572    -0.6597   sexual  \n",
       "\n",
       "[2283 rows x 23 columns]"
      ]
     },
     "execution_count": 47,
     "metadata": {},
     "output_type": "execute_result"
    }
   ],
   "source": [
    "add_subtopic(neg_end_2017_df)"
   ]
  },
  {
   "cell_type": "code",
   "execution_count": 48,
   "id": "b0cbcb49",
   "metadata": {},
   "outputs": [
    {
     "data": {
      "text/plain": [
       "<AxesSubplot:>"
      ]
     },
     "execution_count": 48,
     "metadata": {},
     "output_type": "execute_result"
    },
    {
     "data": {
      "image/png": "[encoded data removed]",
      "text/plain": [
       "<Figure size 1440x216 with 1 Axes>"
      ]
     },
     "metadata": {},
     "output_type": "display_data"
    }
   ],
   "source": [
    "neg_end_2017_df['subtopic'].value_counts().sort_index().plot.bar(x='Target Value', y='Number of Occurrences')"
   ]
  },
  {
   "cell_type": "code",
   "execution_count": null,
   "id": "02454882",
   "metadata": {},
   "outputs": [],
   "source": [
    "From this analysis it seems that the events are probably linked to some sexual harassment scandal..."
   ]
  },
  {
   "cell_type": "markdown",
   "id": "4eab9af1",
   "metadata": {},
   "source": [
    "### Overall Time analysis "
   ]
  },
  {
   "cell_type": "code",
   "execution_count": 25,
   "id": "162afa01",
   "metadata": {
    "scrolled": true
   },
   "outputs": [],
   "source": [
    "# sort dataframe by date\n",
    "# df.sort_values(ascending=[True],by=['date'],inplace=True)\n",
    "# df.head()"
   ]
  },
  {
   "cell_type": "code",
   "execution_count": 26,
   "id": "0544d332",
   "metadata": {
    "scrolled": true
   },
   "outputs": [
    {
     "data": {
      "image/png": "[encoded data removed]",
      "text/plain": [
       "<Figure size 1296x360 with 1 Axes>"
      ]
     },
     "metadata": {},
     "output_type": "display_data"
    }
   ],
   "source": [
    "# quotes in function of time\n",
    "df['date'].hist(bins = 100, figsize = [18,5])\n",
    "plt.show() \n",
    "# this graph should probably go into a general presentation of our data instead of here "
   ]
  },
  {
   "cell_type": "code",
   "execution_count": 27,
   "id": "00dba2f1",
   "metadata": {
    "scrolled": true
   },
   "outputs": [
    {
     "data": {
      "image/png": "[encoded data removed]",
      "text/plain": [
       "<Figure size 1296x360 with 1 Axes>"
      ]
     },
     "metadata": {},
     "output_type": "display_data"
    }
   ],
   "source": [
    "df.plot(x = 'date',y='sentiment', figsize = [18,5])\n",
    "plt.show()\n",
    "# not much info from this graph"
   ]
  },
  {
   "cell_type": "markdown",
   "id": "39614fca",
   "metadata": {},
   "source": [
    "#### separate the data into positive, negative, and neutral quotes"
   ]
  },
  {
   "cell_type": "code",
   "execution_count": 28,
   "id": "47558c06",
   "metadata": {},
   "outputs": [],
   "source": [
    "# take a threshold and separate the data in two : \n",
    "# threshold choice currently partly arbitrary\n",
    "df_positive = df.query('sentiment > 0.25')\n",
    "df_negative = df.query('sentiment < -0.25')\n",
    "df_neutral  = df.query('sentiment > -0.25').query('sentiment < 0.25')"
   ]
  },
  {
   "cell_type": "code",
   "execution_count": 51,
   "id": "adb7f8f0",
   "metadata": {},
   "outputs": [
    {
     "data": {
      "image/png": "[encoded data removed]",
      "text/plain": [
       "<Figure size 1296x360 with 1 Axes>"
      ]
     },
     "metadata": {},
     "output_type": "display_data"
    }
   ],
   "source": [
    "df_positive['date'].hist(bins = 100, figsize = [18,5])\n",
    "df_negative['date'].hist(bins = 100, figsize = [18,5],alpha =0.5)\n",
    "# seems like around 2018 there were a lot of negative quotations\n",
    "df_neutral['date'].hist(bins = 100, figsize = [18,5],alpha =0.5)\n",
    "plt.show()"
   ]
  },
  {
   "cell_type": "markdown",
   "id": "94c9650f",
   "metadata": {},
   "source": [
    "## Sub question 2 : Can we link the sentiment to the use of women's rights ideology?"
   ]
  },
  {
   "cell_type": "markdown",
   "id": "31cb60c7",
   "metadata": {},
   "source": [
    "- Seperate the speakers in function of their political party\n",
    "- calculate the average of the compound score (from Vader) on their quotes. \n",
    "- show distribution in function of party\n",
    "\n",
    "Maybe we will find a relation between the compound score and the general opinion of the party."
   ]
  },
  {
   "cell_type": "markdown",
   "id": "d8924181",
   "metadata": {},
   "source": [
    "### Sentiment and political party"
   ]
  },
  {
   "cell_type": "code",
   "execution_count": 32,
   "id": "1f7b3c4b",
   "metadata": {},
   "outputs": [
    {
     "data": {
      "text/plain": [
       "Index(['quoteID', 'quotation', 'speaker', 'date', 'numOccurrences', 'probas',\n",
       "       'urls', 'aliases', 'date_of_birth', 'nationality', 'gender',\n",
       "       'lastrevid', 'ethnic_group', 'US_congress_bio_ID', 'occupation',\n",
       "       'party', 'academic_degree', 'label', 'candidacy', 'type', 'religion',\n",
       "       'sentiment'],\n",
       "      dtype='object')"
      ]
     },
     "execution_count": 32,
     "metadata": {},
     "output_type": "execute_result"
    }
   ],
   "source": [
    "df.columns"
   ]
  },
  {
   "cell_type": "code",
   "execution_count": 33,
   "id": "57fb9d1e",
   "metadata": {},
   "outputs": [
    {
     "data": {
      "text/plain": [
       "589"
      ]
     },
     "execution_count": 33,
     "metadata": {},
     "output_type": "execute_result"
    }
   ],
   "source": [
    "df['party'].nunique()"
   ]
  },
  {
   "cell_type": "code",
   "execution_count": 34,
   "id": "c0761e50",
   "metadata": {},
   "outputs": [
    {
     "data": {
      "text/plain": [
       "array(['Australian Labor Party', nan, 'Democratic Party',\n",
       "       'Liberal Party of Australia', 'Republican Party',\n",
       "       'Liberal Party of Canada', 'Alberta Liberal Party',\n",
       "       'independent politician',\n",
       "       'Communist Party of India (Marxist–Leninist) Liberation',\n",
       "       'African National Congress', 'National Party of Australia – NSW',\n",
       "       'New Zealand National Party',\n",
       "       'Minnesota Democratic–Farmer–Labor Party',\n",
       "       'National Democratic Congress', 'Justice and Development Party',\n",
       "       'New Democratic Party', 'Democratic Action Party',\n",
       "       'Fiji First Party', 'Liberty Union Party',\n",
       "       'New Democratic Party of Manitoba', 'Ontario Liberal Party',\n",
       "       'Bulgarian Socialist Party', 'Bharatiya Janata Party',\n",
       "       'Conservative Party of Canada', 'Truth and Justice Party',\n",
       "       'Socialist Party', 'Worker-communist Party of Iran',\n",
       "       'Labour Party', 'Indian National Congress',\n",
       "       'Progressive Conservative Association of Alberta',\n",
       "       'Communist Party of India', 'Independent Liberal Party',\n",
       "       'Communist Party of India (Marxist)', 'Awami National Party',\n",
       "       'Unity Party', 'Israeli Labor Party',\n",
       "       'Green Party of Aotearoa New Zealand',\n",
       "       'Union for a Popular Movement', 'Australian Democrats',\n",
       "       'Nacionalista Party', 'Congress for Progressive Change',\n",
       "       'Patriotic Front', 'New Zealand Labour Party',\n",
       "       'Conservative Party', 'Scottish National Party',\n",
       "       'Scottish Labour Party', 'British Columbia Liberal Party',\n",
       "       'United National Party', 'Hatnuah', 'Scottish Conservatives',\n",
       "       'Progressive Party', 'Sinn Féin', 'Liberal Democrats',\n",
       "       'Republican Party of Minnesota',\n",
       "       'United Socialist Party of Venezuela', 'Islamic Republican Party',\n",
       "       'Balad', 'National League for Democracy',\n",
       "       'Reform Party of the United States of America',\n",
       "       'Peoples Democratic Party', 'Saskatchewan New Democratic Party',\n",
       "       'Liberal Democratic Party', 'Parti Pesaka Bumiputera Bersatu',\n",
       "       'Forum for Democratic Change', 'Green Party',\n",
       "       'Ontario New Democratic Party', 'Bangladesh Awami League',\n",
       "       'Liberal National Party of Queensland', 'Iowa Democratic Party',\n",
       "       'Party of National Unity', 'Colombian Conservative Party',\n",
       "       'Australian Labor Party (Victorian Branch)',\n",
       "       'consensus government in Canada', 'Free Democratic Party',\n",
       "       'Swedish Social Democratic Party',\n",
       "       'Social Democratic Party of Croatia',\n",
       "       'Liberal Party of the Philippines', 'California Republican Party',\n",
       "       'Welsh Labour', 'Pakistan Peoples Party',\n",
       "       'Alberta New Democratic Party', \"People's Party\",\n",
       "       'Lakas Kampi CMD', 'Fianna Fáil', 'Podemos', 'The Jewish Home',\n",
       "       \"Clive Palmer's United Australia Party\", 'Social Democrats',\n",
       "       'Aam Aadmi Party', 'Christian Democratic Union',\n",
       "       'Labour Co-operative', 'Yesh Atid', 'National Salvation Party',\n",
       "       'Janata Dal (United)', 'Communist Party of China',\n",
       "       'Socialist Workers Party', \"Christian Social People's Party\",\n",
       "       'Australian Labor Party (Queensland Branch)',\n",
       "       'UK Independence Party', 'GABRIELA', 'Australian Greens',\n",
       "       'All Progressives Congress',\n",
       "       'All India Majlis-e-Ittehadul Muslimeen',\n",
       "       'Green Party of the United States',\n",
       "       'Conservative Party of New York State',\n",
       "       'Social Democratic Party of Germany', 'Justicialist Party',\n",
       "       'Rwandan Patriotic Front',\n",
       "       'Indonesian Democratic Party – Struggle',\n",
       "       'California Democratic Party', 'Working Families Party',\n",
       "       'National Party of Australia',\n",
       "       'Progressive Conservative Party of Ontario', \"New People's Party\",\n",
       "       'Libertarian Party', 'Scottish Green Party',\n",
       "       'United Development Party', 'Shiv Sena', 'The National Alliance',\n",
       "       'Utah Democratic Party', 'Fine Gael', 'Greens Western Australia',\n",
       "       'Democratic Socialists of America', 'Five Star Movement',\n",
       "       'United Malays National Organisation', \"Republican People's Party\",\n",
       "       'Liberal Party of Australia (Victorian Division)',\n",
       "       'Pakistan Muslim League (N)',\n",
       "       'Partido Demokratiko Pilipino–Lakas ng Bayan',\n",
       "       'Orange Democratic Movement', 'National Resistance Movement',\n",
       "       'Democratic Progressive Party', 'Otzma Yehudit',\n",
       "       \"People's National Movement\",\n",
       "       'Liberal Party of Australia (New South Wales Division)',\n",
       "       'Islamic Renaissance Party of Tajikistan',\n",
       "       'Christian Democratic and Flemish', 'Parti Bersatu Sabah',\n",
       "       \"Women's Equality Party\", 'Ohio Democratic Party', 'Likud',\n",
       "       \"People's National Party\", 'One Nation', \"People's Reform Party\",\n",
       "       \"People's Action Party\", \"People's Mujahedin of Iran\",\n",
       "       'Christian Democratic Party', 'Kenya African National Union',\n",
       "       'Biju Janata Dal', 'Country Liberal Party',\n",
       "       'Nebraska Democratic Party', 'Democratic National Alliance',\n",
       "       'Socialist Unity Party of Germany', 'Parti libéral du Québec',\n",
       "       \"Alliance '90/The Greens\",\n",
       "       'Zimbabwe African National Union – Patriotic Front',\n",
       "       'Social Democratic and Labour Party', 'Saskatchewan Party',\n",
       "       'Wiper Democratic Movement', 'Democracy Is Freedom – The Daisy',\n",
       "       'Republican Left of Catalonia', 'Civic Platform',\n",
       "       \"Derryn Hinch's Justice Party\", 'Liberty Korea Party',\n",
       "       'Telugu Desam Party',\n",
       "       'Australian Labor Party (New South Wales Branch)',\n",
       "       'Utah Republican Party', 'National Party of Australia (WA)',\n",
       "       'Humanist Party of Guatemala', 'Ecologist Party \"The Greens\"',\n",
       "       \"All People's Congress\", 'National Democratic Party',\n",
       "       \"Cambodian People's Party\", 'Awami Workers Party', 'Hadash',\n",
       "       'Democratic Party of Korea', 'Christian Democrats',\n",
       "       'United National Congress', 'Action Congress of Nigeria',\n",
       "       'Pakistan Tehreek-e-Insaf', 'Fifth Republic Movement',\n",
       "       \"People's Party for Freedom and Democracy\",\n",
       "       'Ulster Unionist Party', 'Solomon Islands Social Credit Party',\n",
       "       'Human Rights Protection Party', 'Solidarity–People Before Profit',\n",
       "       'Muttahida Qaumi Movement', 'Malaysian Chinese Association',\n",
       "       'Democratic Alliance', 'Vote 1 Local Jobs', 'Bahujan Samaj Party',\n",
       "       'Jubilee Party of Kenya', 'Party of the Revolution',\n",
       "       'Parti Québécois', 'Malaysian Islamic Party',\n",
       "       'Revolutionary Communist Party', 'Nepali Congress', 'Left Party',\n",
       "       'Australian Labor Party (Australian Capital Territory Branch)',\n",
       "       'Radical Party of the Left',\n",
       "       'Citizens for European Development of Bulgaria', 'Hamas',\n",
       "       \"United People's Freedom Alliance\",\n",
       "       'Green Party of England and Wales', 'New Patriotic Party',\n",
       "       'Republican Party of Iowa', 'Yisrael Beiteinu',\n",
       "       'Liberal Party of Australia (Western Australian Division)',\n",
       "       'International Marxist Group', 'Nova Scotia Liberal Party',\n",
       "       'Australian Labor Party (Northern Territory Branch)',\n",
       "       'National Rally',\n",
       "       'North Dakota Democratic-Nonpartisan League Party',\n",
       "       'Welsh Conservative Party', 'Scottish Liberal Democrats',\n",
       "       'Barbados Labour Party', 'Socialist Party of Chile',\n",
       "       'Social Democratic Party of Austria', 'Greens New South Wales',\n",
       "       'African Christian Democratic Party', 'Jatiya Samajtantrik Dal',\n",
       "       'Communist Party of Nepal (Unity Centre)',\n",
       "       'Independent Senators Group', 'Nationalist Party',\n",
       "       'Cambodian National Rescue Party',\n",
       "       'Social Democratic Party of Finland', 'Progressive Liberal Party',\n",
       "       'Samajwadi Party', 'Constitutional Democratic Party of Japan',\n",
       "       'United Opposition', 'McGillicuddy Serious Party',\n",
       "       'United Democratic Front', 'Conservative Party of New Zealand',\n",
       "       \"Nationalist People's Coalition\", 'Jamaica Labour Party',\n",
       "       'Liberty Movement', 'Rastakhiz Party',\n",
       "       'Islamic Iran Participation Front', 'Panameñista Party',\n",
       "       'Pakistan Muslim League',\n",
       "       'National Movement for Stability and Progress',\n",
       "       'British Columbia New Democratic Party',\n",
       "       'Democratic Party of Oregon', 'New Democracy',\n",
       "       \"Cameroon People's Democratic Movement\",\n",
       "       \"Akbayan Citizens' Action Party\", 'Maine Democratic Party',\n",
       "       'Bhutan Peace and Prosperity Party', 'Rally for the Republic',\n",
       "       'Coalition Avenir Québec', 'Liberal Democratic Party of Moldova',\n",
       "       'Armed Forces Revolutionary Council, Ghana',\n",
       "       'Economic Freedom Fighters', 'Communist Party of Czechoslovakia',\n",
       "       'Yukon Party', 'Pwersa ng Masang Pilipino', 'Your Movement',\n",
       "       \"Jammu and Kashmir People's Democratic Party\",\n",
       "       'Australian Labor Party (Western Australian Branch)',\n",
       "       'Norwegian Labour Party', 'Canadian Alliance', 'Japan New Party',\n",
       "       'Liberal Party of Australia (Tasmanian Division)',\n",
       "       'Free Democratic Party of Switzerland', 'Patriotic Alliance',\n",
       "       'Progressive Conservative Party of Manitoba',\n",
       "       'Rashtriya Janata Dal', 'Conservative Party of Norway',\n",
       "       \"Sarawak United Peoples' Party\",\n",
       "       \"South-West Africa People's Organization\", 'New Flemish Alliance',\n",
       "       \"Peoples' Democratic Party\", 'Free National Movement',\n",
       "       'North Carolina Republican Party',\n",
       "       'National Convergence \"Kwa Na Kwa\"', 'ACT New Zealand',\n",
       "       'New Macau Association', \"Italian People's Party\", 'Centre Party',\n",
       "       \"Workers' Party\", 'Yukon New Democratic Party',\n",
       "       'Europe Ecology – The Greens', 'National Coalition Party',\n",
       "       \"Swiss People's Party\", 'Popular Democratic Party',\n",
       "       'Workers World Party', 'SA-BEST', 'Action démocratique du Québec',\n",
       "       'Pirate Party', 'Civic Choice',\n",
       "       'Progressive Conservative Party of New Brunswick',\n",
       "       'The Wikileaks Party', 'Communist Party of Cuba',\n",
       "       'Democratic Action', 'Meretz', 'Danish Social Liberal Party',\n",
       "       'Hugpong sa Tawong Lungsod', 'Moderate Party',\n",
       "       \"Progressive Citizens' Party\", 'Free Voters of Bavaria',\n",
       "       'Progressive Conservative Association of Nova Scotia',\n",
       "       'Liberal Party of Australia (South Australian Division)',\n",
       "       'National Religious Party', 'Iranian reform movement', 'SYRIZA',\n",
       "       'Republican Proposal', 'FRELIMO', 'Dravida Munnetra Kazhagam',\n",
       "       'Vanguard Unionist Progressive Party', 'Toward Europe',\n",
       "       'People Before Profit Alliance', 'National Rally of Independents',\n",
       "       'United Conservative Party', \"Tigray People's Liberation Front\",\n",
       "       'Projet Montréal', 'Green Youth', 'La République En Marche',\n",
       "       'Social Democratic Party', 'Bangladesh Nationalist Party',\n",
       "       'Respect Party', 'Czech Social Democratic Party',\n",
       "       'Michigan Republican Party', 'Georgian Dream',\n",
       "       'Illinois Republican Party', \"Austrian People's Party\",\n",
       "       'New Brunswick Liberal Association',\n",
       "       'Communist Party of the Soviet Union',\n",
       "       'Armenian Revolutionary Federation', 'The People of Freedom',\n",
       "       'Lok Janshakti Party', 'Progressive Conservative Party of Canada',\n",
       "       'Greater Dunedin', 'Pirate Party UK', 'Democratic Rally',\n",
       "       'Coalition for Democratic Change', 'Forza Italia (1994)',\n",
       "       'National Action Party',\n",
       "       'Newfoundland and Labrador New Democratic Party',\n",
       "       'Communist Party of Canada', 'Antigua and Barbuda Labour Party',\n",
       "       'Liberals', 'Independence Party', 'Kuomintang',\n",
       "       'Saskatchewan Liberal Party', 'Left, Ecology and Freedom',\n",
       "       'BC Green Party', 'Malawi Congress Party',\n",
       "       'All Progressives Grand Alliance',\n",
       "       'Nova Scotia New Democratic Party', 'Popular Will',\n",
       "       'Prince Edward Island Liberal Party',\n",
       "       'Maine Green Independent Party', 'Barisan Nasional',\n",
       "       'Party for Democracy',\n",
       "       'Liberal Party of Newfoundland and Labrador', 'Charter Party',\n",
       "       'Forza Italia (2013)', 'Oregon Republican Party', 'Venstre',\n",
       "       'Telangana Rashtra Samithi', 'Centre Alliance',\n",
       "       'Initiative for Catalonia Greens', 'Rally of the Guinean People',\n",
       "       'Democratic Way', 'Plaid Cymru', 'Die Grünen', 'Bloc Québécois',\n",
       "       'Combatant Clergy Association', 'Nationalist Congress Party',\n",
       "       'United Democratic Movement', 'Sri Lanka Freedom Party',\n",
       "       'European Solidarity', \"Rivers State People's Democratic Party\",\n",
       "       'Social Democratic Party of Switzerland', 'Call for Tunisia',\n",
       "       'The Left', 'Communist Party of Nepal (Maoist Centre)',\n",
       "       'All India Trinamool Congress', 'All Ceylon Makkal Congress',\n",
       "       'Jammu & Kashmir National Conference', 'Apna Dal (Sonelal)',\n",
       "       'National Council for the Defense of Democracy–Forces for the Defense of Democracy',\n",
       "       'Open Flemish Liberals and Democrats',\n",
       "       'New Democratic Party of Prince Edward Island', 'Liberal Alliance',\n",
       "       'Lutte Ouvrière', 'Amal Movement', 'Yukon Liberal Party',\n",
       "       \"Latvia's First Party/Latvian Way\", \"Sierra Leone People's Party\",\n",
       "       'One NL', 'Socialist Alternative', 'French Communist Party',\n",
       "       'Communist Party USA',\n",
       "       'Forum for the Restoration of Democracy – Kenya',\n",
       "       \"People's Democratic Party\", 'Golongan Karya Party',\n",
       "       \"Northern Ireland Women's Coalition\", 'Vermont Progressive Party',\n",
       "       'Alternative for Germany', 'New Zealand First',\n",
       "       'Independent Conservative', 'United Democratic Party',\n",
       "       'Solidarity Electoral Action', 'Reform Movement',\n",
       "       'FDP.The Liberals', 'Alberta Party', 'Religious Zionist Party',\n",
       "       'Unsubmissive France', 'The Rally', 'New Right', 'Pheu Thai Party',\n",
       "       'Democratic Unionist Party', 'Congress of the People',\n",
       "       'Islamic Action Front', 'The Frontier',\n",
       "       'Peasants and Workers Party of India',\n",
       "       'Democratic Alliance for the Betterment and Progress of Hong Kong',\n",
       "       'Jammu Kashmir Liberation Front', 'Hungarian Socialist Party',\n",
       "       'Democratic Party of Japan', 'Lega Nord', 'Our Ukraine',\n",
       "       'Union for French Democracy', 'Italian Socialist Party',\n",
       "       'Left-Green Movement', 'Janata Dal (Secular)',\n",
       "       'Alliance for Democracy', 'Free Patriotic Movement',\n",
       "       'Australian Labor Party (South Australian Branch)',\n",
       "       'Patriotic Salvation Movement', 'Future Movement',\n",
       "       'United Republican Party', 'Republican Party of Armenia',\n",
       "       'Colombian Liberal Party', 'Feminist Initiative',\n",
       "       'Alliance of Free Democrats',\n",
       "       'Movement for Democratic Change – Tsvangirai', 'Fatah',\n",
       "       \"Spanish Socialist Workers' Party\", 'Pakatan Rakyat',\n",
       "       'Christian Social Union of Bavaria', 'Croatian Democratic Union',\n",
       "       'Makkal Neethi Maiyam', \"Citizens' Action Party\",\n",
       "       'Oromo Democratic Party', 'Finns Party', 'YSR Congress Party',\n",
       "       'China Democratic League', 'Nasdem Party', 'Estonian Reform Party',\n",
       "       \"Katter's Australian Party\", 'Kilusang Bagong Lipunan',\n",
       "       'Republican Party of India (A)', 'Singapore Democratic Party',\n",
       "       'Fidesz', \"Workers' Party of Singapore\", 'Democrats 66',\n",
       "       'Sri Lanka Muslim Congress',\n",
       "       'Co-operative Commonwealth Federation', 'United Russia',\n",
       "       \"People's Progressive Party\", 'Shiromani Akali Dal',\n",
       "       'Ennahda Movement',\n",
       "       'Progressive Conservative Party of Newfoundland and Labrador',\n",
       "       \"Malaysian People's Welfare Party\", 'SMER – Social Democracy',\n",
       "       'Wildrose Party', 'New Power Party', \"People's Electoral Movement\",\n",
       "       'Québec solidaire', 'Constitutional Democratic Rally',\n",
       "       'Brazilian Socialist Party', 'Popular Orthodox Rally',\n",
       "       'Social Christian Party', 'PAIS Alliance',\n",
       "       'British Columbia Social Credit Party', 'Barcelona en Comú',\n",
       "       'Mazingira Green Party of Kenya', 'Kulanu',\n",
       "       'Manitoba Liberal Party', 'Massachusetts Republican Party',\n",
       "       'Vishva Hindu Parishad', \"Dominican Workers' Party\",\n",
       "       'Freedom and Justice Party', 'British National Party',\n",
       "       'Executives of Construction Party', 'Fiji Labour Party',\n",
       "       'Batkivshchyna', 'Libertarian Party of Canada',\n",
       "       'Social Democratic Alliance', 'Socialist Left Party',\n",
       "       'Australian Greens Victoria', 'Movement for Socialism',\n",
       "       'Animal Justice Party', 'Komsomol',\n",
       "       'Green Party of Prince Edward Island', 'Radical Party',\n",
       "       'Independent Democratic Union', 'Dignity Party',\n",
       "       'Indonesian National Party Marhaenism',\n",
       "       'all India jihad committee founder', 'Vetëvendosje!',\n",
       "       \"People's United Party\", 'National Regeneration Movement',\n",
       "       'United Left', \"Luxembourg Socialist Workers' Party\",\n",
       "       \"People's Rally for Progress\", 'Soqosoqo ni Vakavulewa ni Taukei',\n",
       "       \"Conservative People's Party\", 'All India Students Association',\n",
       "       'Law and Justice', \"Mongolian People's Party\",\n",
       "       \"People's Justice Party\", 'Maldivian Democratic Party',\n",
       "       'Botswana Democratic Party', 'Welsh Liberal Democrats',\n",
       "       'Nationalist Democratic Progressive Party', 'Queensland Greens',\n",
       "       'Liberal Party', 'Broad Front',\n",
       "       'Malaysian United Indigenous Party',\n",
       "       'Social Democratic Party of Lithuania',\n",
       "       'Congress of the New Right', \"Palikot's Movement\",\n",
       "       'North Dakota Republican Party', 'Jamiat Ulema-e-Islam',\n",
       "       'Unified Progressive Party', 'BIJ1', 'Italian Radicals',\n",
       "       'Massachusetts Democratic Party',\n",
       "       'Washington State Democratic Party',\n",
       "       'Institutional Revolutionary Party', 'Civic Party',\n",
       "       'Green Party of Canada', 'Grow Party', 'Procés Constituent',\n",
       "       'The Republicans', 'Green Party in Northern Ireland',\n",
       "       \"Sudan People's Liberation Movement\", 'National Congress Party',\n",
       "       'Party of the Democratic Left',\n",
       "       'Pragatisheel Samajwadi Party (Lohiya)',\n",
       "       \"People's National Congress Party\", \"Citizens' Movement\",\n",
       "       'Inkatha Freedom Party', 'Social Democratic Union of Macedonia',\n",
       "       'All India Anna Dravida Munnetra Kazhagam', 'Yuva Sena',\n",
       "       'Britain First', 'Peace and Freedom Party',\n",
       "       'National Liberation Party',\n",
       "       'Communist Party of Nepal (Unified Marxist–Leninist)',\n",
       "       \"People's Progress Party\", 'Alliance for New Nigeria',\n",
       "       \"People's Movement for the Liberation of Angola\",\n",
       "       'Islamic Labour Party', 'Green Party of Switzerland',\n",
       "       'Future Forward Party', 'Ecolo', 'Left Alliance',\n",
       "       'Alliance Party of Northern Ireland', 'Kach and Kahane Chai',\n",
       "       \"British People's Party\", 'National Rainbow Coalition – Kenya',\n",
       "       'Tasmanian Greens', 'Israel Resilience Party', 'Left Bloc',\n",
       "       'Green League', 'GroenLinks', 'Revolutionary Communist League',\n",
       "       'Green Party of Manitoba', 'Brexit Party',\n",
       "       'American Independent Party', 'Democratic Left Party',\n",
       "       'New Encounter', 'Movement for Democratic Change – Ncube',\n",
       "       'National Awakening Party', 'Trentino Tyrolean Autonomist Party',\n",
       "       'Muttahida Majlis-e-Amal',\n",
       "       'Popular Front for the Liberation of Palestine',\n",
       "       'Australian Labor Party (Tasmanian Branch)', 'Haryana Vikas Party',\n",
       "       'Forward',\n",
       "       'Progressive Conservative Party of Prince Edward Island',\n",
       "       'Pakistan Muslim League (Q)', 'Telem',\n",
       "       \"Finnish People's Democratic League\",\n",
       "       'Party of the Democratic Revolution', 'Sweden Democrats'],\n",
       "      dtype=object)"
      ]
     },
     "execution_count": 34,
     "metadata": {},
     "output_type": "execute_result"
    }
   ],
   "source": [
    "df['party'].unique()"
   ]
  },
  {
   "cell_type": "code",
   "execution_count": 35,
   "id": "d6f709cd",
   "metadata": {},
   "outputs": [],
   "source": [
    "df_grouped_by_partyname = df.groupby(df.party).size()"
   ]
  },
  {
   "cell_type": "code",
   "execution_count": 36,
   "id": "ea315a66",
   "metadata": {},
   "outputs": [
    {
     "data": {
      "text/plain": [
       "party\n",
       "Democratic Party                  8783\n",
       "Republican Party                  3594\n",
       "Bharatiya Janata Party            1083\n",
       "Liberal Party of Canada           1024\n",
       "Labour Party                       525\n",
       "                                  ... \n",
       "Mazingira Green Party of Kenya       1\n",
       "Religious Zionist Party              1\n",
       "Republican Left of Catalonia         1\n",
       "One NL                               1\n",
       "Respect Party                        1\n",
       "Length: 589, dtype: int64"
      ]
     },
     "execution_count": 36,
     "metadata": {},
     "output_type": "execute_result"
    }
   ],
   "source": [
    "df.groupby(df.party).size().sort_values(ascending=False)"
   ]
  },
  {
   "cell_type": "code",
   "execution_count": 37,
   "id": "201d7035",
   "metadata": {},
   "outputs": [],
   "source": [
    "Democrat_quotes = df.query('party == \"Democratic Party\" ')\n",
    "Republican_quotes = df.query('party == \"Republican Party\" ')"
   ]
  },
  {
   "cell_type": "code",
   "execution_count": 45,
   "id": "008dba9e",
   "metadata": {},
   "outputs": [
    {
     "data": {
      "image/png": "[encoded data removed]",
      "text/plain": [
       "<Figure size 576x360 with 1 Axes>"
      ]
     },
     "metadata": {},
     "output_type": "display_data"
    }
   ],
   "source": [
    "Democrat_quotes['sentiment'].hist(bins=40, figsize = [8,5])\n",
    "Republican_quotes['sentiment'].hist(bins=40, figsize = [8,5],alpha=0.5)\n",
    "plt.show()"
   ]
  },
  {
   "cell_type": "markdown",
   "id": "964113db",
   "metadata": {},
   "source": [
    "### Sentiment in function of gender ?"
   ]
  },
  {
   "cell_type": "code",
   "execution_count": 40,
   "id": "96d92488",
   "metadata": {},
   "outputs": [
    {
     "data": {
      "text/plain": [
       "11"
      ]
     },
     "execution_count": 40,
     "metadata": {},
     "output_type": "execute_result"
    }
   ],
   "source": [
    "df['gender'].nunique()"
   ]
  },
  {
   "cell_type": "code",
   "execution_count": 41,
   "id": "5c7cfc61",
   "metadata": {},
   "outputs": [
    {
     "data": {
      "text/plain": [
       "array(['female', 'male', nan, 'non-binary', 'transgender female',\n",
       "       'genderfluid', 'cisgender female', 'transgender male',\n",
       "       'cisgender male', 'genderqueer', 'shemale', 'intersex'],\n",
       "      dtype=object)"
      ]
     },
     "execution_count": 41,
     "metadata": {},
     "output_type": "execute_result"
    }
   ],
   "source": [
    "df['gender'].unique()"
   ]
  },
  {
   "cell_type": "code",
   "execution_count": 42,
   "id": "8d29834e",
   "metadata": {},
   "outputs": [
    {
     "data": {
      "text/plain": [
       "gender\n",
       "female                28286\n",
       "male                  26274\n",
       "transgender female       89\n",
       "non-binary               80\n",
       "genderfluid              26\n",
       "transgender male         21\n",
       "cisgender female         15\n",
       "genderqueer               4\n",
       "shemale                   3\n",
       "intersex                  2\n",
       "cisgender male            1\n",
       "dtype: int64"
      ]
     },
     "execution_count": 42,
     "metadata": {},
     "output_type": "execute_result"
    }
   ],
   "source": [
    "df.groupby(df.gender).size().sort_values(ascending=False)"
   ]
  },
  {
   "cell_type": "markdown",
   "id": "556d9499",
   "metadata": {},
   "source": [
    "Most of the data is from the male and female genders, so we will currently base our analysis on those two genders :"
   ]
  },
  {
   "cell_type": "code",
   "execution_count": 43,
   "id": "af78f8d0",
   "metadata": {},
   "outputs": [],
   "source": [
    "female_quotes = df.query('gender == \"female\" ')\n",
    "male_quotes = df.query('gender == \"male\" ')"
   ]
  },
  {
   "cell_type": "code",
   "execution_count": 44,
   "id": "3a913453",
   "metadata": {},
   "outputs": [
    {
     "data": {
      "image/png": "[encoded data removed]",
      "text/plain": [
       "<Figure size 576x360 with 1 Axes>"
      ]
     },
     "metadata": {},
     "output_type": "display_data"
    }
   ],
   "source": [
    "female_quotes['sentiment'].hist(bins=40, figsize = [8,5])\n",
    "male_quotes['sentiment'].hist(bins=40, figsize = [8,5],alpha=0.5)\n",
    "plt.show()"
   ]
  }
 ],
 "metadata": {
  "kernelspec": {
   "display_name": "Python 3 (ipykernel)",
   "language": "python",
   "name": "python3"
  },
  "language_info": {
   "codemirror_mode": {
    "name": "ipython",
    "version": 3
   },
   "file_extension": ".py",
   "mimetype": "text/x-python",
   "name": "python",
   "nbconvert_exporter": "python",
   "pygments_lexer": "ipython3",
   "version": "3.8.11"
  }
 },
 "nbformat": 4,
 "nbformat_minor": 5
}
