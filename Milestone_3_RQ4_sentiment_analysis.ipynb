{
 "cells": [
  {
   "cell_type": "markdown",
   "id": "a47b8d17",
   "metadata": {},
   "source": [
    "Delete this block before submission\n",
    "\n",
    "Mardown cheat cheat : https://github.com/adam-p/markdown-here/wiki/Markdown-Cheatsheet#blockquotes\n",
    "\n",
    "Things to do : \n",
    "- Don't forget of the statistical significance aspects of results, for every result, criticize that when interpreting\n",
    "- \n"
   ]
  },
  {
   "cell_type": "markdown",
   "id": "6b8d58f9",
   "metadata": {},
   "source": [
    "### Packages required to run this notebook : TO DO complete this\n",
    "- pandas\n",
    "- numpy\n",
    "- matplotlib\n",
    "- seaborn\n",
    "\n",
    "- texblob : \n",
    "    - conda install -c conda-forge textblob\n",
    "- nltk:\n",
    "    - conda install -c anaconda nltk\n",
    "- flair:\n",
    "    - pip install flair (conda install doesn't start)"
   ]
  },
  {
   "cell_type": "markdown",
   "id": "5fea011a",
   "metadata": {},
   "source": [
    "# Project Milestone2 - Group Concatsanddogs"
   ]
  },
  {
   "cell_type": "markdown",
   "id": "754733a8",
   "metadata": {},
   "source": [
    "# The use of women's rights and gender equality rhetoric in the US"
   ]
  },
  {
   "cell_type": "markdown",
   "id": "79aa810f",
   "metadata": {},
   "source": [
    "### Research Question 4 :"
   ]
  },
  {
   "cell_type": "markdown",
   "id": "febe8922",
   "metadata": {},
   "source": [
    "**What is the sentiment analysis of the context of the quotation containing women's rights mention?**\n",
    "\n",
    "**Can we link the sentiment to the use of women's rights ideology?**"
   ]
  },
  {
   "cell_type": "markdown",
   "id": "38f2be5c",
   "metadata": {},
   "source": [
    "## Librairies"
   ]
  },
  {
   "cell_type": "code",
   "execution_count": 10,
   "id": "ceb1f57e",
   "metadata": {},
   "outputs": [],
   "source": [
    "import pandas as pd\n",
    "import numpy as np\n",
    "import matplotlib.pyplot as plt\n",
    "%matplotlib inline\n",
    "import seaborn as sns\n",
    "import nltk\n",
    "#nltk.download('vader_lexicon')"
   ]
  },
  {
   "cell_type": "code",
   "execution_count": 11,
   "id": "4bc047ad",
   "metadata": {},
   "outputs": [],
   "source": [
    "import matplotlib as mpl"
   ]
  },
  {
   "cell_type": "code",
   "execution_count": 12,
   "id": "3bc6eca7",
   "metadata": {},
   "outputs": [],
   "source": [
    "# Changing some pandas default appearance settings \n",
    "# https://pandas.pydata.org/pandas-docs/stable/user_guide/options.html\n",
    "# pd.options.display.max_colwidth = 200\n",
    "# pd.options.display.max_rows = 100"
   ]
  },
  {
   "cell_type": "code",
   "execution_count": 13,
   "id": "e5f3a045",
   "metadata": {},
   "outputs": [],
   "source": [
    "# pd.reset_option(\"^display\")"
   ]
  },
  {
   "cell_type": "code",
   "execution_count": 14,
   "id": "c88aedcf",
   "metadata": {},
   "outputs": [],
   "source": [
    "#NLP libraries\n",
    "import spacy, nltk, gensim, sklearn"
   ]
  },
  {
   "cell_type": "code",
   "execution_count": 15,
   "id": "fec1a1fa",
   "metadata": {},
   "outputs": [],
   "source": [
    "#Vader\n",
    "import vaderSentiment\n",
    "from vaderSentiment.vaderSentiment import SentimentIntensityAnalyzer"
   ]
  },
  {
   "cell_type": "code",
   "execution_count": 16,
   "id": "1ef37579",
   "metadata": {},
   "outputs": [],
   "source": [
    "#sns.set_theme() # sns.set_theme(rc={'figure.figsize':(20,3)})\n",
    "#sns.set_style(\"whitegrid\")"
   ]
  },
  {
   "cell_type": "code",
   "execution_count": 17,
   "id": "20c1d427",
   "metadata": {},
   "outputs": [],
   "source": [
    "PATH_GENERATED_DATA = 'generated_data/'"
   ]
  },
  {
   "cell_type": "markdown",
   "id": "77c33624",
   "metadata": {},
   "source": [
    "## Loading the selected quotes dataframe"
   ]
  },
  {
   "cell_type": "code",
   "execution_count": 18,
   "id": "b351c13d",
   "metadata": {},
   "outputs": [],
   "source": [
    "# loading the dataframe with selected quotes and additional attributes\n",
    "df = pd.read_pickle(PATH_GENERATED_DATA+'df_enriched.pkl', compression='infer', storage_options=None)"
   ]
  },
  {
   "cell_type": "code",
   "execution_count": 19,
   "id": "6c8f8761",
   "metadata": {},
   "outputs": [
    {
     "data": {
      "text/plain": [
       "55328"
      ]
     },
     "execution_count": 19,
     "metadata": {},
     "output_type": "execute_result"
    }
   ],
   "source": [
    "len(df)"
   ]
  },
  {
   "cell_type": "code",
   "execution_count": 12,
   "id": "5ee1a91b",
   "metadata": {
    "tags": []
   },
   "outputs": [
    {
     "data": {
      "text/html": [
       "<div>\n",
       "<style scoped>\n",
       "    .dataframe tbody tr th:only-of-type {\n",
       "        vertical-align: middle;\n",
       "    }\n",
       "\n",
       "    .dataframe tbody tr th {\n",
       "        vertical-align: top;\n",
       "    }\n",
       "\n",
       "    .dataframe thead th {\n",
       "        text-align: right;\n",
       "    }\n",
       "</style>\n",
       "<table border=\"1\" class=\"dataframe\">\n",
       "  <thead>\n",
       "    <tr style=\"text-align: right;\">\n",
       "      <th></th>\n",
       "      <th>quoteID</th>\n",
       "      <th>quotation</th>\n",
       "      <th>speaker</th>\n",
       "      <th>date</th>\n",
       "      <th>numOccurrences</th>\n",
       "      <th>probas</th>\n",
       "      <th>urls</th>\n",
       "      <th>aliases</th>\n",
       "      <th>date_of_birth</th>\n",
       "      <th>nationality</th>\n",
       "      <th>...</th>\n",
       "      <th>lastrevid</th>\n",
       "      <th>ethnic_group</th>\n",
       "      <th>US_congress_bio_ID</th>\n",
       "      <th>occupation</th>\n",
       "      <th>party</th>\n",
       "      <th>academic_degree</th>\n",
       "      <th>label</th>\n",
       "      <th>candidacy</th>\n",
       "      <th>type</th>\n",
       "      <th>religion</th>\n",
       "    </tr>\n",
       "  </thead>\n",
       "  <tbody>\n",
       "    <tr>\n",
       "      <th>0</th>\n",
       "      <td>2015-03-09-004706</td>\n",
       "      <td>Anything less than women winning 50 per cent o...</td>\n",
       "      <td>Katy Gallagher</td>\n",
       "      <td>2015-03-09 12:30:00</td>\n",
       "      <td>1</td>\n",
       "      <td>[[Katy Gallagher, 0.5872], [None, 0.4128]]</td>\n",
       "      <td>[http://www.smh.com.au/act-news/women-need-to-...</td>\n",
       "      <td>[Katherine Gallagher, Katherine Ruth Gallagher]</td>\n",
       "      <td>[+1970-03-17T00:00:00Z]</td>\n",
       "      <td>Australia</td>\n",
       "      <td>...</td>\n",
       "      <td>1349152158</td>\n",
       "      <td>NaN</td>\n",
       "      <td>None</td>\n",
       "      <td>politician</td>\n",
       "      <td>Australian Labor Party</td>\n",
       "      <td>NaN</td>\n",
       "      <td>Katy Gallagher</td>\n",
       "      <td>None</td>\n",
       "      <td>item</td>\n",
       "      <td>NaN</td>\n",
       "    </tr>\n",
       "    <tr>\n",
       "      <th>1</th>\n",
       "      <td>2017-05-11-081817</td>\n",
       "      <td>more family-friendly and flexible workplaces, ...</td>\n",
       "      <td>Katy Gallagher</td>\n",
       "      <td>2017-05-11 00:00:37</td>\n",
       "      <td>1</td>\n",
       "      <td>[[Katy Gallagher, 0.5596], [None, 0.4404]]</td>\n",
       "      <td>[http://www.mediamaxnetwork.co.ke/news/325569/...</td>\n",
       "      <td>[Katherine Gallagher, Katherine Ruth Gallagher]</td>\n",
       "      <td>[+1970-03-17T00:00:00Z]</td>\n",
       "      <td>Australia</td>\n",
       "      <td>...</td>\n",
       "      <td>1349152158</td>\n",
       "      <td>NaN</td>\n",
       "      <td>None</td>\n",
       "      <td>politician</td>\n",
       "      <td>Australian Labor Party</td>\n",
       "      <td>NaN</td>\n",
       "      <td>Katy Gallagher</td>\n",
       "      <td>None</td>\n",
       "      <td>item</td>\n",
       "      <td>NaN</td>\n",
       "    </tr>\n",
       "  </tbody>\n",
       "</table>\n",
       "<p>2 rows × 21 columns</p>\n",
       "</div>"
      ],
      "text/plain": [
       "             quoteID                                          quotation  \\\n",
       "0  2015-03-09-004706  Anything less than women winning 50 per cent o...   \n",
       "1  2017-05-11-081817  more family-friendly and flexible workplaces, ...   \n",
       "\n",
       "          speaker                date  numOccurrences  \\\n",
       "0  Katy Gallagher 2015-03-09 12:30:00               1   \n",
       "1  Katy Gallagher 2017-05-11 00:00:37               1   \n",
       "\n",
       "                                       probas  \\\n",
       "0  [[Katy Gallagher, 0.5872], [None, 0.4128]]   \n",
       "1  [[Katy Gallagher, 0.5596], [None, 0.4404]]   \n",
       "\n",
       "                                                urls  \\\n",
       "0  [http://www.smh.com.au/act-news/women-need-to-...   \n",
       "1  [http://www.mediamaxnetwork.co.ke/news/325569/...   \n",
       "\n",
       "                                           aliases            date_of_birth  \\\n",
       "0  [Katherine Gallagher, Katherine Ruth Gallagher]  [+1970-03-17T00:00:00Z]   \n",
       "1  [Katherine Gallagher, Katherine Ruth Gallagher]  [+1970-03-17T00:00:00Z]   \n",
       "\n",
       "  nationality  ...   lastrevid  ethnic_group US_congress_bio_ID  occupation  \\\n",
       "0   Australia  ...  1349152158           NaN               None  politician   \n",
       "1   Australia  ...  1349152158           NaN               None  politician   \n",
       "\n",
       "                    party academic_degree           label candidacy  type  \\\n",
       "0  Australian Labor Party             NaN  Katy Gallagher      None  item   \n",
       "1  Australian Labor Party             NaN  Katy Gallagher      None  item   \n",
       "\n",
       "  religion  \n",
       "0      NaN  \n",
       "1      NaN  \n",
       "\n",
       "[2 rows x 21 columns]"
      ]
     },
     "execution_count": 12,
     "metadata": {},
     "output_type": "execute_result"
    }
   ],
   "source": [
    "df.head(2)"
   ]
  },
  {
   "cell_type": "code",
   "execution_count": 57,
   "id": "eb692941",
   "metadata": {},
   "outputs": [
    {
     "name": "stdout",
     "output_type": "stream",
     "text": [
      "The dataframe has 55328 entries\n"
     ]
    }
   ],
   "source": [
    "print(f'The dataframe has {len(df)} entries')"
   ]
  },
  {
   "cell_type": "code",
   "execution_count": 58,
   "id": "3969377b",
   "metadata": {},
   "outputs": [
    {
     "data": {
      "text/plain": [
       "0    Anything less than women winning 50 per cent o...\n",
       "1    more family-friendly and flexible workplaces, ...\n",
       "Name: quotation, dtype: object"
      ]
     },
     "execution_count": 58,
     "metadata": {},
     "output_type": "execute_result"
    }
   ],
   "source": [
    "df['quotation'].head(2)"
   ]
  },
  {
   "cell_type": "markdown",
   "id": "3c212a86",
   "metadata": {},
   "source": [
    "## Sentiment analysis prep"
   ]
  },
  {
   "cell_type": "code",
   "execution_count": 18,
   "id": "f88b16cd",
   "metadata": {},
   "outputs": [],
   "source": [
    "quote = df['quotation'].iloc[0]"
   ]
  },
  {
   "cell_type": "markdown",
   "id": "5a64bd3e",
   "metadata": {},
   "source": [
    "Vader : Gives a compound score from -1 to 1 ranging from negativity to positivity."
   ]
  },
  {
   "cell_type": "code",
   "execution_count": 19,
   "id": "4ea62ab2",
   "metadata": {},
   "outputs": [],
   "source": [
    "analyzer = SentimentIntensityAnalyzer()\n",
    "vs = analyzer.polarity_scores(df['quotation'].loc[1])"
   ]
  },
  {
   "cell_type": "code",
   "execution_count": 20,
   "id": "1b6e5fca",
   "metadata": {},
   "outputs": [
    {
     "data": {
      "text/plain": [
       "0.6271"
      ]
     },
     "execution_count": 20,
     "metadata": {},
     "output_type": "execute_result"
    }
   ],
   "source": [
    "# example use :\n",
    "analyzer.polarity_scores(quote)['compound']\n"
   ]
  },
  {
   "cell_type": "code",
   "execution_count": 21,
   "id": "de419424",
   "metadata": {},
   "outputs": [
    {
     "data": {
      "text/plain": [
       "{'neg': 0.097, 'neu': 0.697, 'pos': 0.205, 'compound': 0.6271}"
      ]
     },
     "execution_count": 21,
     "metadata": {},
     "output_type": "execute_result"
    }
   ],
   "source": [
    "analyzer.polarity_scores(quote)"
   ]
  },
  {
   "cell_type": "markdown",
   "id": "0b4a9a48",
   "metadata": {},
   "source": [
    "Text blob :"
   ]
  },
  {
   "cell_type": "code",
   "execution_count": 22,
   "id": "1383143d",
   "metadata": {},
   "outputs": [],
   "source": [
    "from textblob import TextBlob\n",
    "\n",
    "# polarity score function :\n",
    "def polarity_blob(text):\n",
    "    return TextBlob(text).sentiment.polarity\n",
    "\n",
    "# subjectivity score function :\n",
    "def subjectivity_blob(text):\n",
    "    return TextBlob(text).sentiment.subjectivity"
   ]
  },
  {
   "cell_type": "code",
   "execution_count": 23,
   "id": "4efe98fd",
   "metadata": {},
   "outputs": [
    {
     "data": {
      "text/plain": [
       "0.2532828282828283"
      ]
     },
     "execution_count": 23,
     "metadata": {},
     "output_type": "execute_result"
    }
   ],
   "source": [
    "# example use :\n",
    "polarity_blob(quote)"
   ]
  },
  {
   "cell_type": "code",
   "execution_count": 24,
   "id": "0c185b81",
   "metadata": {},
   "outputs": [
    {
     "data": {
      "text/plain": [
       "Sentiment(polarity=0.2532828282828283, subjectivity=0.5868686868686869)"
      ]
     },
     "execution_count": 24,
     "metadata": {},
     "output_type": "execute_result"
    }
   ],
   "source": [
    "TextBlob(quote).sentiment"
   ]
  },
  {
   "cell_type": "markdown",
   "id": "ebac6ba1",
   "metadata": {},
   "source": [
    "Flair : A more advandced model that uses pretrained RNNs and pretrained text embeddings: \n",
    "\n",
    "source : https://github.com/flairNLP/flair/pull/1613"
   ]
  },
  {
   "cell_type": "code",
   "execution_count": 25,
   "id": "ed21e387",
   "metadata": {},
   "outputs": [],
   "source": [
    "from flair.models import TextClassifier\n",
    "from flair.data import Sentence"
   ]
  },
  {
   "cell_type": "code",
   "execution_count": 26,
   "id": "b6207fe3",
   "metadata": {},
   "outputs": [
    {
     "name": "stdout",
     "output_type": "stream",
     "text": [
      "2021-12-14 20:01:07,618 loading file C:\\Users\\Younes\\.flair\\models\\sentiment-en-mix-ft-rnn_v8.pt\n"
     ]
    }
   ],
   "source": [
    "# load tagger ( this could take a while, it's approx ~1 gb to download)\n",
    "classifier = TextClassifier.load('sentiment-fast')\n",
    "\n",
    "def flair_label(text = 'test text'):\n",
    "    sentence = Sentence(text)\n",
    "    classifier.predict(sentence)\n",
    "    return sentence.labels[0].score"
   ]
  },
  {
   "cell_type": "code",
   "execution_count": 27,
   "id": "9e53fc74",
   "metadata": {},
   "outputs": [
    {
     "name": "stdout",
     "output_type": "stream",
     "text": [
      "[POSITIVE (0.9987)]\n",
      "0.9987253546714783\n"
     ]
    }
   ],
   "source": [
    "# example use :\n",
    "test = Sentence(\"enormously entertaining for moviegoers of any age .\")\n",
    "classifier.predict(test)\n",
    "print(test.labels)\n",
    "print(flair_label(text = \"enormously entertaining for moviegoers of any age .\")) "
   ]
  },
  {
   "cell_type": "markdown",
   "id": "ffdcc441",
   "metadata": {},
   "source": [
    "## Sub question 1 : What is the sentiment analysis of the context of the quotations containing women's rights mention?"
   ]
  },
  {
   "cell_type": "code",
   "execution_count": 28,
   "id": "f131a66d",
   "metadata": {},
   "outputs": [],
   "source": [
    "# only add tokenizer as preprocessing here ( I think we don't need more for now)"
   ]
  },
  {
   "cell_type": "code",
   "execution_count": 29,
   "id": "7a0a8b51",
   "metadata": {},
   "outputs": [],
   "source": [
    "nlp = spacy.load('en')\n",
    "# nlp.remove_pipe('parser')\n",
    "# nlp.remove_pipe('tagger')\n",
    "# nlp.remove_pipe('ner')\n",
    "# nlp.remove_pipe('textcat')"
   ]
  },
  {
   "cell_type": "code",
   "execution_count": 30,
   "id": "00af47b9",
   "metadata": {},
   "outputs": [
    {
     "name": "stdout",
     "output_type": "stream",
     "text": [
      "more family-friendly and flexible workplaces, and affordable child care, for everyone \n",
      "\n",
      "more family-friendly and flexible workplaces, and affordable child care, for everyone\n"
     ]
    }
   ],
   "source": [
    "print(df['quotation'].loc[1], '\\n')\n",
    "print(nlp(df['quotation'].loc[1]))"
   ]
  },
  {
   "cell_type": "code",
   "execution_count": 31,
   "id": "655fab14",
   "metadata": {
    "scrolled": true
   },
   "outputs": [],
   "source": [
    "df['sentiment'] = df['quotation'].apply(lambda x : analyzer.polarity_scores(x)['compound'])"
   ]
  },
  {
   "cell_type": "code",
   "execution_count": 32,
   "id": "228e1792",
   "metadata": {},
   "outputs": [
    {
     "data": {
      "text/plain": [
       "0    0.6271\n",
       "1    0.6557\n",
       "2    0.6557\n",
       "3    0.9460\n",
       "4    0.6705\n",
       "Name: sentiment, dtype: float64"
      ]
     },
     "execution_count": 32,
     "metadata": {},
     "output_type": "execute_result"
    }
   ],
   "source": [
    "df['sentiment'].head()"
   ]
  },
  {
   "cell_type": "code",
   "execution_count": 33,
   "id": "24f902da",
   "metadata": {},
   "outputs": [
    {
     "data": {
      "image/png": "[encoded data removed]",
      "text/plain": [
       "<Figure size 576x360 with 1 Axes>"
      ]
     },
     "metadata": {},
     "output_type": "display_data"
    }
   ],
   "source": [
    "df['sentiment'].hist(bins=40, figsize = [8,5])\n",
    "plt.show()"
   ]
  },
  {
   "cell_type": "markdown",
   "id": "113f6965",
   "metadata": {},
   "source": [
    "There seems to be a lof of quotes that are classified as neutral, but we can see that the data is polarised "
   ]
  },
  {
   "cell_type": "code",
   "execution_count": 75,
   "id": "9034bbf3",
   "metadata": {},
   "outputs": [],
   "source": [
    "# Save the dataframe containing the sentiment scores \n",
    "df.to_pickle(PATH_GENERATED_DATA+'df_enriched_w_sentiment.pkl', compression='infer', protocol=5, storage_options=None)"
   ]
  },
  {
   "cell_type": "code",
   "execution_count": 20,
   "id": "7cfc9b22",
   "metadata": {},
   "outputs": [],
   "source": [
    "# Load the dataframe containing sentiment scores\n",
    "df = pd.read_pickle(PATH_GENERATED_DATA+'df_enriched_w_sentiment.pkl', compression='infer', storage_options=None)"
   ]
  },
  {
   "cell_type": "code",
   "execution_count": 21,
   "id": "da617e23",
   "metadata": {},
   "outputs": [
    {
     "data": {
      "text/html": [
       "<div>\n",
       "<style scoped>\n",
       "    .dataframe tbody tr th:only-of-type {\n",
       "        vertical-align: middle;\n",
       "    }\n",
       "\n",
       "    .dataframe tbody tr th {\n",
       "        vertical-align: top;\n",
       "    }\n",
       "\n",
       "    .dataframe thead th {\n",
       "        text-align: right;\n",
       "    }\n",
       "</style>\n",
       "<table border=\"1\" class=\"dataframe\">\n",
       "  <thead>\n",
       "    <tr style=\"text-align: right;\">\n",
       "      <th></th>\n",
       "      <th>quoteID</th>\n",
       "      <th>quotation</th>\n",
       "      <th>speaker</th>\n",
       "      <th>date</th>\n",
       "      <th>numOccurrences</th>\n",
       "      <th>probas</th>\n",
       "      <th>urls</th>\n",
       "      <th>aliases</th>\n",
       "      <th>date_of_birth</th>\n",
       "      <th>nationality</th>\n",
       "      <th>...</th>\n",
       "      <th>ethnic_group</th>\n",
       "      <th>US_congress_bio_ID</th>\n",
       "      <th>occupation</th>\n",
       "      <th>party</th>\n",
       "      <th>academic_degree</th>\n",
       "      <th>label</th>\n",
       "      <th>candidacy</th>\n",
       "      <th>type</th>\n",
       "      <th>religion</th>\n",
       "      <th>sentiment</th>\n",
       "    </tr>\n",
       "  </thead>\n",
       "  <tbody>\n",
       "    <tr>\n",
       "      <th>0</th>\n",
       "      <td>2015-03-09-004706</td>\n",
       "      <td>Anything less than women winning 50 per cent o...</td>\n",
       "      <td>Katy Gallagher</td>\n",
       "      <td>2015-03-09 12:30:00</td>\n",
       "      <td>1</td>\n",
       "      <td>[[Katy Gallagher, 0.5872], [None, 0.4128]]</td>\n",
       "      <td>[http://www.smh.com.au/act-news/women-need-to-...</td>\n",
       "      <td>[Katherine Gallagher, Katherine Ruth Gallagher]</td>\n",
       "      <td>[+1970-03-17T00:00:00Z]</td>\n",
       "      <td>Australia</td>\n",
       "      <td>...</td>\n",
       "      <td>NaN</td>\n",
       "      <td>None</td>\n",
       "      <td>politician</td>\n",
       "      <td>Australian Labor Party</td>\n",
       "      <td>NaN</td>\n",
       "      <td>Katy Gallagher</td>\n",
       "      <td>None</td>\n",
       "      <td>item</td>\n",
       "      <td>NaN</td>\n",
       "      <td>0.6271</td>\n",
       "    </tr>\n",
       "    <tr>\n",
       "      <th>1</th>\n",
       "      <td>2017-05-11-081817</td>\n",
       "      <td>more family-friendly and flexible workplaces, ...</td>\n",
       "      <td>Katy Gallagher</td>\n",
       "      <td>2017-05-11 00:00:37</td>\n",
       "      <td>1</td>\n",
       "      <td>[[Katy Gallagher, 0.5596], [None, 0.4404]]</td>\n",
       "      <td>[http://www.mediamaxnetwork.co.ke/news/325569/...</td>\n",
       "      <td>[Katherine Gallagher, Katherine Ruth Gallagher]</td>\n",
       "      <td>[+1970-03-17T00:00:00Z]</td>\n",
       "      <td>Australia</td>\n",
       "      <td>...</td>\n",
       "      <td>NaN</td>\n",
       "      <td>None</td>\n",
       "      <td>politician</td>\n",
       "      <td>Australian Labor Party</td>\n",
       "      <td>NaN</td>\n",
       "      <td>Katy Gallagher</td>\n",
       "      <td>None</td>\n",
       "      <td>item</td>\n",
       "      <td>NaN</td>\n",
       "      <td>0.6557</td>\n",
       "    </tr>\n",
       "  </tbody>\n",
       "</table>\n",
       "<p>2 rows × 22 columns</p>\n",
       "</div>"
      ],
      "text/plain": [
       "             quoteID                                          quotation  \\\n",
       "0  2015-03-09-004706  Anything less than women winning 50 per cent o...   \n",
       "1  2017-05-11-081817  more family-friendly and flexible workplaces, ...   \n",
       "\n",
       "          speaker                date  numOccurrences  \\\n",
       "0  Katy Gallagher 2015-03-09 12:30:00               1   \n",
       "1  Katy Gallagher 2017-05-11 00:00:37               1   \n",
       "\n",
       "                                       probas  \\\n",
       "0  [[Katy Gallagher, 0.5872], [None, 0.4128]]   \n",
       "1  [[Katy Gallagher, 0.5596], [None, 0.4404]]   \n",
       "\n",
       "                                                urls  \\\n",
       "0  [http://www.smh.com.au/act-news/women-need-to-...   \n",
       "1  [http://www.mediamaxnetwork.co.ke/news/325569/...   \n",
       "\n",
       "                                           aliases            date_of_birth  \\\n",
       "0  [Katherine Gallagher, Katherine Ruth Gallagher]  [+1970-03-17T00:00:00Z]   \n",
       "1  [Katherine Gallagher, Katherine Ruth Gallagher]  [+1970-03-17T00:00:00Z]   \n",
       "\n",
       "  nationality  ... ethnic_group  US_congress_bio_ID  occupation  \\\n",
       "0   Australia  ...          NaN                None  politician   \n",
       "1   Australia  ...          NaN                None  politician   \n",
       "\n",
       "                    party academic_degree           label candidacy  type  \\\n",
       "0  Australian Labor Party             NaN  Katy Gallagher      None  item   \n",
       "1  Australian Labor Party             NaN  Katy Gallagher      None  item   \n",
       "\n",
       "  religion sentiment  \n",
       "0      NaN    0.6271  \n",
       "1      NaN    0.6557  \n",
       "\n",
       "[2 rows x 22 columns]"
      ]
     },
     "execution_count": 21,
     "metadata": {},
     "output_type": "execute_result"
    }
   ],
   "source": [
    "df.head(2)"
   ]
  },
  {
   "cell_type": "markdown",
   "id": "b75c075d",
   "metadata": {},
   "source": [
    "### Sentiment in function of time"
   ]
  },
  {
   "cell_type": "code",
   "execution_count": 22,
   "id": "c2ccedb1",
   "metadata": {},
   "outputs": [],
   "source": [
    "import numpy as np\n",
    "import matplotlib.pyplot as plt\n",
    "import matplotlib.colors as mcolors"
   ]
  },
  {
   "cell_type": "code",
   "execution_count": 23,
   "id": "3bf0d846",
   "metadata": {},
   "outputs": [],
   "source": [
    "import matplotlib.cm\n",
    "import matplotlib.colors"
   ]
  },
  {
   "cell_type": "code",
   "execution_count": 42,
   "id": "60f49b84",
   "metadata": {},
   "outputs": [],
   "source": [
    "sns.set_palette(sns.color_palette(['#58699D']))"
   ]
  },
  {
   "cell_type": "code",
   "execution_count": 43,
   "id": "a7bac637",
   "metadata": {},
   "outputs": [
    {
     "data": {
      "image/png": "[encoded data removed]",
      "text/plain": [
       "<Figure size 1440x576 with 2 Axes>"
      ]
     },
     "metadata": {
      "needs_background": "light"
     },
     "output_type": "display_data"
    }
   ],
   "source": [
    "fig, ax = plt.subplots()\n",
    "ax = sns.histplot(df[['date','sentiment']], x=\"date\", y=\"sentiment\", \n",
    "                  stat='proportion',cbar=True,binwidth=(31,0.05)) # `count` `frequency`\n",
    "mpl.rcParams['font.sans-serif'] = 'Lato' # Just write the name of the font\n",
    "plt.rcParams['font.size'] = 15\n",
    "\n",
    "fig.set_size_inches(20,8)\n",
    "#plt.figure(figsize=(20,8))\n",
    "\n",
    "ax.spines['bottom'].set_color('#dddddd')\n",
    "ax.spines['top'].set_color('#dddddd') \n",
    "ax.spines['right'].set_color('#dddddd')\n",
    "ax.spines['left'].set_color('#dddddd')\n",
    "\n",
    "plt.xlabel('Date')\n",
    "plt.ylabel('Sentiment score')\n",
    "\n",
    "#ax.set_visible(False)\n",
    "\n",
    "plt.grid(visible=True)\n",
    "ax.set_axisbelow(True) # set grid lines behind\n",
    "plt.savefig(\"./img/sentiment_heatmap.jpg\",dpi=400)\n",
    "plt.show()"
   ]
  },
  {
   "cell_type": "markdown",
   "id": "92bdf739",
   "metadata": {},
   "source": [
    "Seems like there were a lot of negative quotes end of 2017\n",
    "We could maybe use the list provided by wikipedia : https://en.wikipedia.org/wiki/2017_in_the_United_States#October to see if there were quotes about that\n",
    " \n",
    ">Tough talk on immigration: Shortly after taking office in January, President Trump sought to make good on his “America First” campaign promise by imposing a series of contentious travel bans on citizens from several Muslim-majority nations.\n",
    "\n",
    ">Federal district courts struck down implementation of the bans, though a Supreme Court ruling in December 2017 reversed the lower courts’ decisions, allowing the administration to fully implement the bans.\n",
    "\n",
    ">Trump also continued to promote his election campaign idea of a border wall with Mexico that he says will help quell illegal immigration from Mexico and points south.\n",
    "\n",
    "https://www.history.com/topics/21st-century/2017-events#section_1\n",
    "\n",
    "---> maybe do some NER to recognize events ?"
   ]
  },
  {
   "cell_type": "markdown",
   "id": "ee00cf40",
   "metadata": {},
   "source": [
    "### Time events analysis"
   ]
  },
  {
   "cell_type": "code",
   "execution_count": 23,
   "id": "a6d257d9",
   "metadata": {},
   "outputs": [],
   "source": [
    "# Select the negatives quotes around 2018\n",
    "#last two months of 2017\n",
    "end_2017_df = df[ (df['date'] > '2017-11-01') & (df['date'] < '2018-01-01')]\n",
    "#negative sentiments\n",
    "neg_end_2017_df = end_2017_df[end_2017_df['sentiment']<-0.5]"
   ]
  },
  {
   "cell_type": "code",
   "execution_count": 24,
   "id": "629cd12e",
   "metadata": {},
   "outputs": [
    {
     "data": {
      "text/plain": [
       "2283"
      ]
     },
     "execution_count": 24,
     "metadata": {},
     "output_type": "execute_result"
    }
   ],
   "source": [
    "len(neg_end_2017_df)"
   ]
  },
  {
   "cell_type": "code",
   "execution_count": 25,
   "id": "7c6fb8b7",
   "metadata": {},
   "outputs": [],
   "source": [
    "#pd.options.display.max_columns = 150\n",
    "#neg_end_2017_df.head(20)['quotation']"
   ]
  },
  {
   "cell_type": "code",
   "execution_count": 26,
   "id": "eba9adfa",
   "metadata": {},
   "outputs": [],
   "source": [
    "KEYWORDS_WAGES_EQUALITY =(\n",
    "    'equal pay',\n",
    "    'Equal wages',\n",
    "     'men pay',\n",
    "     'pay percentage',)\n",
    "\n",
    "KEYWORDS_EQUALITY = (\n",
    "'Equal opportunities',\n",
    "'Equal rights',\n",
    "'Equal status',\n",
    "'Gender equality',\n",
    "'gender equity',\n",
    "'gender gap',\n",
    " 'percentage men',\n",
    " 'women\\'s right',\n",
    " 'Women empowerment',\n",
    " 'Women emancipation',\n",
    "  'Gender discrimination',\n",
    " 'Men and women',\n",
    " 'women and men',\n",
    " 'women oppression',\n",
    " 'struggle of girls',\n",
    " 'struggle of women',\n",
    " 'war against women',\n",
    " 'oppression of girls',\n",
    " 'oppression of women',\n",
    " 'women oppression',\n",
    " \"women's opression\",\n",
    " 'liberate women',\n",
    " 'Male oppression',\n",
    " 'Female oppression',\n",
    " 'Patriarchal culture',\n",
    " 'gender equality',\n",
    " 'women girls',\n",
    " 'girls women',\n",
    " 'rates women',\n",
    " 'women according',\n",
    " 'share women',\n",
    " 'women movement',\n",
    " 'see women',\n",
    " 'gender stereotypes',\n",
    " 'women representation',\n",
    " 'sex discrimination',\n",
    " 'women rights',\n",
    " 'woman time',\n",
    " 'based gender',\n",
    " 'entirely female',\n",
    "     'women immigration',\n",
    " \"women's participation\",)\n",
    "KEYWORDS_REPRODUCTION_WORK = (\n",
    "'Exploitation of women',\n",
    " 'child care',\n",
    ")\n",
    "KEYWORDS_SEXUAL = (\n",
    "'Sexual harrasment',\n",
    "'abuse of women',\n",
    "'sexual harassment',\n",
    "'women victim',\n",
    "'gender-based violence',\n",
    ")\n",
    "KEYWORDS_TRANS = ('trans ')\n",
    "KEYWORDS_ABORTION = ('abortion')\n",
    "KEYWORDS_INDIGENEOUS = ('Indigenous')\n",
    "KEYWORDS_REPRESENTATION = ('female mayors','female candidates')\n",
    "KEYWORDS_FEMONAT = ('Western women',\n",
    " 'non-western woman',\n",
    " 'Muslim women',\n",
    " 'Muslim woman',\n",
    " 'niqab ban',\n",
    " 'religious oppression')"
   ]
  },
  {
   "cell_type": "code",
   "execution_count": 27,
   "id": "0beadbef",
   "metadata": {},
   "outputs": [],
   "source": [
    "def add_subtopic(df):\n",
    "    df['subtopic'] = np.where(df.quotation.str.contains('|'.join(KEYWORDS_FEMONAT),case=False), \"islam\",\n",
    "                 np.where(df.quotation.str.contains('|'.join(KEYWORDS_REPRESENTATION),case=False), \"representation\",\n",
    "                 np.where(df.quotation.str.contains(KEYWORDS_INDIGENEOUS,case=False), \"indigenous\",\n",
    "                 np.where(df.quotation.str.contains(KEYWORDS_ABORTION,case=False), \"abortion\",\n",
    "                 np.where(df.quotation.str.contains(KEYWORDS_TRANS,case=False), \"trans\",    \n",
    "                 np.where(df.quotation.str.contains('|'.join(KEYWORDS_SEXUAL),case=False), \"sexual\", \n",
    "                 np.where(df.quotation.str.contains('|'.join(KEYWORDS_WAGES_EQUALITY),case=False), \"wages equality\",\n",
    "                 np.where(df.quotation.str.contains('|'.join(KEYWORDS_REPRODUCTION_WORK),case=False), \"reproductive work\",  \n",
    "                 np.where(df.quotation.str.contains('|'.join(KEYWORDS_EQUALITY),case=False),\"equality\",\"other\")))))))))\n",
    "    return df"
   ]
  },
  {
   "cell_type": "code",
   "execution_count": 28,
   "id": "bc429c1f",
   "metadata": {
    "scrolled": true
   },
   "outputs": [
    {
     "name": "stderr",
     "output_type": "stream",
     "text": [
      "C:\\Users\\Younes\\AppData\\Local\\Temp/ipykernel_14044/3581026964.py:2: SettingWithCopyWarning: \n",
      "A value is trying to be set on a copy of a slice from a DataFrame.\n",
      "Try using .loc[row_indexer,col_indexer] = value instead\n",
      "\n",
      "See the caveats in the documentation: https://pandas.pydata.org/pandas-docs/stable/user_guide/indexing.html#returning-a-view-versus-a-copy\n",
      "  df['subtopic'] = np.where(df.quotation.str.contains('|'.join(KEYWORDS_FEMONAT),case=False), \"islam\",\n"
     ]
    },
    {
     "data": {
      "text/html": [
       "<div>\n",
       "<style scoped>\n",
       "    .dataframe tbody tr th:only-of-type {\n",
       "        vertical-align: middle;\n",
       "    }\n",
       "\n",
       "    .dataframe tbody tr th {\n",
       "        vertical-align: top;\n",
       "    }\n",
       "\n",
       "    .dataframe thead th {\n",
       "        text-align: right;\n",
       "    }\n",
       "</style>\n",
       "<table border=\"1\" class=\"dataframe\">\n",
       "  <thead>\n",
       "    <tr style=\"text-align: right;\">\n",
       "      <th></th>\n",
       "      <th>quoteID</th>\n",
       "      <th>quotation</th>\n",
       "      <th>speaker</th>\n",
       "      <th>date</th>\n",
       "      <th>numOccurrences</th>\n",
       "      <th>probas</th>\n",
       "      <th>urls</th>\n",
       "      <th>aliases</th>\n",
       "      <th>date_of_birth</th>\n",
       "      <th>nationality</th>\n",
       "      <th>...</th>\n",
       "      <th>US_congress_bio_ID</th>\n",
       "      <th>occupation</th>\n",
       "      <th>party</th>\n",
       "      <th>academic_degree</th>\n",
       "      <th>label</th>\n",
       "      <th>candidacy</th>\n",
       "      <th>type</th>\n",
       "      <th>religion</th>\n",
       "      <th>sentiment</th>\n",
       "      <th>subtopic</th>\n",
       "    </tr>\n",
       "  </thead>\n",
       "  <tbody>\n",
       "    <tr>\n",
       "      <th>754</th>\n",
       "      <td>2017-11-21-082375</td>\n",
       "      <td>No matter your party, no matter your politics,...</td>\n",
       "      <td>Tom Perez</td>\n",
       "      <td>2017-11-21 13:44:47</td>\n",
       "      <td>1</td>\n",
       "      <td>[[Tom Perez, 0.8127], [None, 0.1826], [Al Fran...</td>\n",
       "      <td>[http://www.masslive.com/politics/index.ssf/20...</td>\n",
       "      <td>[Tom Perez, Thomas E. Perez, Thomas Edward Perez]</td>\n",
       "      <td>[+1961-10-07T00:00:00Z, +1961-01-07T00:00:00Z]</td>\n",
       "      <td>United States of America</td>\n",
       "      <td>...</td>\n",
       "      <td>None</td>\n",
       "      <td>politician</td>\n",
       "      <td>Democratic Party</td>\n",
       "      <td>NaN</td>\n",
       "      <td>Thomas Perez</td>\n",
       "      <td>None</td>\n",
       "      <td>item</td>\n",
       "      <td>NaN</td>\n",
       "      <td>-0.6184</td>\n",
       "      <td>sexual</td>\n",
       "    </tr>\n",
       "    <tr>\n",
       "      <th>854</th>\n",
       "      <td>2017-11-16-172692</td>\n",
       "      <td>Women who come forward are brave and deserve t...</td>\n",
       "      <td>Elizabeth Warren</td>\n",
       "      <td>2017-11-16 14:25:41</td>\n",
       "      <td>4</td>\n",
       "      <td>[[Elizabeth Warren, 0.495], [None, 0.3292], [C...</td>\n",
       "      <td>[http://www.masslive.com/politics/index.ssf/20...</td>\n",
       "      <td>[Elizabeth Ann Warren, Senator Warren, Elisabe...</td>\n",
       "      <td>[+1949-06-22T00:00:00Z]</td>\n",
       "      <td>United States of America</td>\n",
       "      <td>...</td>\n",
       "      <td>W000817</td>\n",
       "      <td>jurist</td>\n",
       "      <td>Democratic Party</td>\n",
       "      <td>bachelor's degree</td>\n",
       "      <td>Elizabeth Warren</td>\n",
       "      <td>[Q28220813]</td>\n",
       "      <td>item</td>\n",
       "      <td>Methodism</td>\n",
       "      <td>-0.5423</td>\n",
       "      <td>sexual</td>\n",
       "    </tr>\n",
       "    <tr>\n",
       "      <th>855</th>\n",
       "      <td>2017-11-16-163952</td>\n",
       "      <td>We're not going to fix the problems of sexual ...</td>\n",
       "      <td>Elizabeth Warren</td>\n",
       "      <td>2017-11-16 14:55:00</td>\n",
       "      <td>6</td>\n",
       "      <td>[[Elizabeth Warren, 0.5309], [None, 0.339], [S...</td>\n",
       "      <td>[http://feeds.latimes.com/~r/latimes/entertain...</td>\n",
       "      <td>[Elizabeth Ann Warren, Senator Warren, Elisabe...</td>\n",
       "      <td>[+1949-06-22T00:00:00Z]</td>\n",
       "      <td>United States of America</td>\n",
       "      <td>...</td>\n",
       "      <td>W000817</td>\n",
       "      <td>jurist</td>\n",
       "      <td>Democratic Party</td>\n",
       "      <td>bachelor's degree</td>\n",
       "      <td>Elizabeth Warren</td>\n",
       "      <td>[Q28220813]</td>\n",
       "      <td>item</td>\n",
       "      <td>Methodism</td>\n",
       "      <td>-0.8750</td>\n",
       "      <td>sexual</td>\n",
       "    </tr>\n",
       "    <tr>\n",
       "      <th>863</th>\n",
       "      <td>2017-11-16-116217</td>\n",
       "      <td>The behavior reported today is unacceptable an...</td>\n",
       "      <td>Elizabeth Warren</td>\n",
       "      <td>2017-11-16 19:48:09</td>\n",
       "      <td>2</td>\n",
       "      <td>[[Elizabeth Warren, 0.7688], [None, 0.1378], [...</td>\n",
       "      <td>[https://www.boston.com/news/politics/2017/11/...</td>\n",
       "      <td>[Elizabeth Ann Warren, Senator Warren, Elisabe...</td>\n",
       "      <td>[+1949-06-22T00:00:00Z]</td>\n",
       "      <td>United States of America</td>\n",
       "      <td>...</td>\n",
       "      <td>W000817</td>\n",
       "      <td>jurist</td>\n",
       "      <td>Democratic Party</td>\n",
       "      <td>bachelor's degree</td>\n",
       "      <td>Elizabeth Warren</td>\n",
       "      <td>[Q28220813]</td>\n",
       "      <td>item</td>\n",
       "      <td>Methodism</td>\n",
       "      <td>-0.7089</td>\n",
       "      <td>sexual</td>\n",
       "    </tr>\n",
       "    <tr>\n",
       "      <th>865</th>\n",
       "      <td>2017-12-17-076169</td>\n",
       "      <td>Women are coming forward to tell stories of th...</td>\n",
       "      <td>Elizabeth Warren</td>\n",
       "      <td>2017-12-17 00:00:00</td>\n",
       "      <td>1</td>\n",
       "      <td>[[Elizabeth Warren, 0.8229], [None, 0.1664], [...</td>\n",
       "      <td>[https://www.opednews.com/articles/Warren-Brow...</td>\n",
       "      <td>[Elizabeth Ann Warren, Senator Warren, Elisabe...</td>\n",
       "      <td>[+1949-06-22T00:00:00Z]</td>\n",
       "      <td>United States of America</td>\n",
       "      <td>...</td>\n",
       "      <td>W000817</td>\n",
       "      <td>jurist</td>\n",
       "      <td>Democratic Party</td>\n",
       "      <td>bachelor's degree</td>\n",
       "      <td>Elizabeth Warren</td>\n",
       "      <td>[Q28220813]</td>\n",
       "      <td>item</td>\n",
       "      <td>Methodism</td>\n",
       "      <td>-0.5666</td>\n",
       "      <td>sexual</td>\n",
       "    </tr>\n",
       "    <tr>\n",
       "      <th>...</th>\n",
       "      <td>...</td>\n",
       "      <td>...</td>\n",
       "      <td>...</td>\n",
       "      <td>...</td>\n",
       "      <td>...</td>\n",
       "      <td>...</td>\n",
       "      <td>...</td>\n",
       "      <td>...</td>\n",
       "      <td>...</td>\n",
       "      <td>...</td>\n",
       "      <td>...</td>\n",
       "      <td>...</td>\n",
       "      <td>...</td>\n",
       "      <td>...</td>\n",
       "      <td>...</td>\n",
       "      <td>...</td>\n",
       "      <td>...</td>\n",
       "      <td>...</td>\n",
       "      <td>...</td>\n",
       "      <td>...</td>\n",
       "      <td>...</td>\n",
       "    </tr>\n",
       "    <tr>\n",
       "      <th>40533</th>\n",
       "      <td>2017-11-22-091474</td>\n",
       "      <td>recognizes and understands the seriousness of ...</td>\n",
       "      <td>Michael Padilla</td>\n",
       "      <td>2017-11-22 22:20:15</td>\n",
       "      <td>7</td>\n",
       "      <td>[[Michael Padilla, 0.4456], [Michelle Lujan Gr...</td>\n",
       "      <td>[http://www.lmtonline.com/news/article/New-Mex...</td>\n",
       "      <td>None</td>\n",
       "      <td>[+1972-06-13T00:00:00Z]</td>\n",
       "      <td>United States of America</td>\n",
       "      <td>...</td>\n",
       "      <td>None</td>\n",
       "      <td>politician</td>\n",
       "      <td>Democratic Party</td>\n",
       "      <td>NaN</td>\n",
       "      <td>Michael Padilla</td>\n",
       "      <td>None</td>\n",
       "      <td>item</td>\n",
       "      <td>NaN</td>\n",
       "      <td>-0.5574</td>\n",
       "      <td>sexual</td>\n",
       "    </tr>\n",
       "    <tr>\n",
       "      <th>40537</th>\n",
       "      <td>2017-11-24-027488</td>\n",
       "      <td>I don't think we should be spending government...</td>\n",
       "      <td>Mickey Kearns</td>\n",
       "      <td>2017-11-24 00:00:00</td>\n",
       "      <td>1</td>\n",
       "      <td>[[Mickey Kearns, 0.7134], [None, 0.25], [Sam H...</td>\n",
       "      <td>[http://news.wbfo.org/post/tackling-sexual-har...</td>\n",
       "      <td>None</td>\n",
       "      <td>[+1943-04-18T00:00:00Z]</td>\n",
       "      <td>Ireland</td>\n",
       "      <td>...</td>\n",
       "      <td>None</td>\n",
       "      <td>Gaelic football player</td>\n",
       "      <td>NaN</td>\n",
       "      <td>NaN</td>\n",
       "      <td>Mickey Kearns</td>\n",
       "      <td>None</td>\n",
       "      <td>item</td>\n",
       "      <td>NaN</td>\n",
       "      <td>-0.5423</td>\n",
       "      <td>sexual</td>\n",
       "    </tr>\n",
       "    <tr>\n",
       "      <th>40543</th>\n",
       "      <td>2017-11-16-085118</td>\n",
       "      <td>Lessons on self-silencing and sexual harassment,</td>\n",
       "      <td>Cass R. Sunstein</td>\n",
       "      <td>2017-11-16 08:09:01</td>\n",
       "      <td>2</td>\n",
       "      <td>[[Cass R. Sunstein, 0.9194], [None, 0.0807]]</td>\n",
       "      <td>[http://www.pressdemocrat.com/news/state/76071...</td>\n",
       "      <td>[Cass Robert Sunstein, Cass R. Sunstein]</td>\n",
       "      <td>[+1954-09-21T00:00:00Z]</td>\n",
       "      <td>United States of America</td>\n",
       "      <td>...</td>\n",
       "      <td>None</td>\n",
       "      <td>jurist</td>\n",
       "      <td>Democratic Party</td>\n",
       "      <td>NaN</td>\n",
       "      <td>Cass Sunstein</td>\n",
       "      <td>None</td>\n",
       "      <td>item</td>\n",
       "      <td>NaN</td>\n",
       "      <td>-0.5423</td>\n",
       "      <td>sexual</td>\n",
       "    </tr>\n",
       "    <tr>\n",
       "      <th>40548</th>\n",
       "      <td>2017-12-20-094235</td>\n",
       "      <td>That doesn't necessarily mean `believe in the ...</td>\n",
       "      <td>Megan McCabe</td>\n",
       "      <td>2017-12-20 11:04:36</td>\n",
       "      <td>1</td>\n",
       "      <td>[[Megan McCabe, 0.8509], [None, 0.1325], [Al F...</td>\n",
       "      <td>[https://www.ncronline.org/news/opinion/distin...</td>\n",
       "      <td>None</td>\n",
       "      <td>None</td>\n",
       "      <td>NaN</td>\n",
       "      <td>...</td>\n",
       "      <td>None</td>\n",
       "      <td>actor</td>\n",
       "      <td>NaN</td>\n",
       "      <td>NaN</td>\n",
       "      <td>Megan McCabe</td>\n",
       "      <td>None</td>\n",
       "      <td>item</td>\n",
       "      <td>NaN</td>\n",
       "      <td>-0.8856</td>\n",
       "      <td>sexual</td>\n",
       "    </tr>\n",
       "    <tr>\n",
       "      <th>40572</th>\n",
       "      <td>2017-12-05-136456</td>\n",
       "      <td>was the standard for suits alleging civil righ...</td>\n",
       "      <td>Nancy Gertner</td>\n",
       "      <td>2017-12-05 10:00:22</td>\n",
       "      <td>1</td>\n",
       "      <td>[[Nancy Gertner, 0.8795], [None, 0.1205]]</td>\n",
       "      <td>[https://www.nytimes.com/2017/12/05/magazine/t...</td>\n",
       "      <td>None</td>\n",
       "      <td>[+1946-05-22T00:00:00Z]</td>\n",
       "      <td>United States of America</td>\n",
       "      <td>...</td>\n",
       "      <td>None</td>\n",
       "      <td>lawyer</td>\n",
       "      <td>NaN</td>\n",
       "      <td>NaN</td>\n",
       "      <td>Nancy Gernter</td>\n",
       "      <td>None</td>\n",
       "      <td>item</td>\n",
       "      <td>NaN</td>\n",
       "      <td>-0.6597</td>\n",
       "      <td>sexual</td>\n",
       "    </tr>\n",
       "  </tbody>\n",
       "</table>\n",
       "<p>2283 rows × 23 columns</p>\n",
       "</div>"
      ],
      "text/plain": [
       "                 quoteID                                          quotation  \\\n",
       "754    2017-11-21-082375  No matter your party, no matter your politics,...   \n",
       "854    2017-11-16-172692  Women who come forward are brave and deserve t...   \n",
       "855    2017-11-16-163952  We're not going to fix the problems of sexual ...   \n",
       "863    2017-11-16-116217  The behavior reported today is unacceptable an...   \n",
       "865    2017-12-17-076169  Women are coming forward to tell stories of th...   \n",
       "...                  ...                                                ...   \n",
       "40533  2017-11-22-091474  recognizes and understands the seriousness of ...   \n",
       "40537  2017-11-24-027488  I don't think we should be spending government...   \n",
       "40543  2017-11-16-085118   Lessons on self-silencing and sexual harassment,   \n",
       "40548  2017-12-20-094235  That doesn't necessarily mean `believe in the ...   \n",
       "40572  2017-12-05-136456  was the standard for suits alleging civil righ...   \n",
       "\n",
       "                speaker                date  numOccurrences  \\\n",
       "754           Tom Perez 2017-11-21 13:44:47               1   \n",
       "854    Elizabeth Warren 2017-11-16 14:25:41               4   \n",
       "855    Elizabeth Warren 2017-11-16 14:55:00               6   \n",
       "863    Elizabeth Warren 2017-11-16 19:48:09               2   \n",
       "865    Elizabeth Warren 2017-12-17 00:00:00               1   \n",
       "...                 ...                 ...             ...   \n",
       "40533   Michael Padilla 2017-11-22 22:20:15               7   \n",
       "40537     Mickey Kearns 2017-11-24 00:00:00               1   \n",
       "40543  Cass R. Sunstein 2017-11-16 08:09:01               2   \n",
       "40548      Megan McCabe 2017-12-20 11:04:36               1   \n",
       "40572     Nancy Gertner 2017-12-05 10:00:22               1   \n",
       "\n",
       "                                                  probas  \\\n",
       "754    [[Tom Perez, 0.8127], [None, 0.1826], [Al Fran...   \n",
       "854    [[Elizabeth Warren, 0.495], [None, 0.3292], [C...   \n",
       "855    [[Elizabeth Warren, 0.5309], [None, 0.339], [S...   \n",
       "863    [[Elizabeth Warren, 0.7688], [None, 0.1378], [...   \n",
       "865    [[Elizabeth Warren, 0.8229], [None, 0.1664], [...   \n",
       "...                                                  ...   \n",
       "40533  [[Michael Padilla, 0.4456], [Michelle Lujan Gr...   \n",
       "40537  [[Mickey Kearns, 0.7134], [None, 0.25], [Sam H...   \n",
       "40543       [[Cass R. Sunstein, 0.9194], [None, 0.0807]]   \n",
       "40548  [[Megan McCabe, 0.8509], [None, 0.1325], [Al F...   \n",
       "40572          [[Nancy Gertner, 0.8795], [None, 0.1205]]   \n",
       "\n",
       "                                                    urls  \\\n",
       "754    [http://www.masslive.com/politics/index.ssf/20...   \n",
       "854    [http://www.masslive.com/politics/index.ssf/20...   \n",
       "855    [http://feeds.latimes.com/~r/latimes/entertain...   \n",
       "863    [https://www.boston.com/news/politics/2017/11/...   \n",
       "865    [https://www.opednews.com/articles/Warren-Brow...   \n",
       "...                                                  ...   \n",
       "40533  [http://www.lmtonline.com/news/article/New-Mex...   \n",
       "40537  [http://news.wbfo.org/post/tackling-sexual-har...   \n",
       "40543  [http://www.pressdemocrat.com/news/state/76071...   \n",
       "40548  [https://www.ncronline.org/news/opinion/distin...   \n",
       "40572  [https://www.nytimes.com/2017/12/05/magazine/t...   \n",
       "\n",
       "                                                 aliases  \\\n",
       "754    [Tom Perez, Thomas E. Perez, Thomas Edward Perez]   \n",
       "854    [Elizabeth Ann Warren, Senator Warren, Elisabe...   \n",
       "855    [Elizabeth Ann Warren, Senator Warren, Elisabe...   \n",
       "863    [Elizabeth Ann Warren, Senator Warren, Elisabe...   \n",
       "865    [Elizabeth Ann Warren, Senator Warren, Elisabe...   \n",
       "...                                                  ...   \n",
       "40533                                               None   \n",
       "40537                                               None   \n",
       "40543           [Cass Robert Sunstein, Cass R. Sunstein]   \n",
       "40548                                               None   \n",
       "40572                                               None   \n",
       "\n",
       "                                        date_of_birth  \\\n",
       "754    [+1961-10-07T00:00:00Z, +1961-01-07T00:00:00Z]   \n",
       "854                           [+1949-06-22T00:00:00Z]   \n",
       "855                           [+1949-06-22T00:00:00Z]   \n",
       "863                           [+1949-06-22T00:00:00Z]   \n",
       "865                           [+1949-06-22T00:00:00Z]   \n",
       "...                                               ...   \n",
       "40533                         [+1972-06-13T00:00:00Z]   \n",
       "40537                         [+1943-04-18T00:00:00Z]   \n",
       "40543                         [+1954-09-21T00:00:00Z]   \n",
       "40548                                            None   \n",
       "40572                         [+1946-05-22T00:00:00Z]   \n",
       "\n",
       "                    nationality  ... US_congress_bio_ID  \\\n",
       "754    United States of America  ...               None   \n",
       "854    United States of America  ...            W000817   \n",
       "855    United States of America  ...            W000817   \n",
       "863    United States of America  ...            W000817   \n",
       "865    United States of America  ...            W000817   \n",
       "...                         ...  ...                ...   \n",
       "40533  United States of America  ...               None   \n",
       "40537                   Ireland  ...               None   \n",
       "40543  United States of America  ...               None   \n",
       "40548                       NaN  ...               None   \n",
       "40572  United States of America  ...               None   \n",
       "\n",
       "                   occupation             party    academic_degree  \\\n",
       "754                politician  Democratic Party                NaN   \n",
       "854                    jurist  Democratic Party  bachelor's degree   \n",
       "855                    jurist  Democratic Party  bachelor's degree   \n",
       "863                    jurist  Democratic Party  bachelor's degree   \n",
       "865                    jurist  Democratic Party  bachelor's degree   \n",
       "...                       ...               ...                ...   \n",
       "40533              politician  Democratic Party                NaN   \n",
       "40537  Gaelic football player               NaN                NaN   \n",
       "40543                  jurist  Democratic Party                NaN   \n",
       "40548                   actor               NaN                NaN   \n",
       "40572                  lawyer               NaN                NaN   \n",
       "\n",
       "                  label    candidacy  type   religion sentiment subtopic  \n",
       "754        Thomas Perez         None  item        NaN   -0.6184   sexual  \n",
       "854    Elizabeth Warren  [Q28220813]  item  Methodism   -0.5423   sexual  \n",
       "855    Elizabeth Warren  [Q28220813]  item  Methodism   -0.8750   sexual  \n",
       "863    Elizabeth Warren  [Q28220813]  item  Methodism   -0.7089   sexual  \n",
       "865    Elizabeth Warren  [Q28220813]  item  Methodism   -0.5666   sexual  \n",
       "...                 ...          ...   ...        ...       ...      ...  \n",
       "40533   Michael Padilla         None  item        NaN   -0.5574   sexual  \n",
       "40537     Mickey Kearns         None  item        NaN   -0.5423   sexual  \n",
       "40543     Cass Sunstein         None  item        NaN   -0.5423   sexual  \n",
       "40548      Megan McCabe         None  item        NaN   -0.8856   sexual  \n",
       "40572     Nancy Gernter         None  item        NaN   -0.6597   sexual  \n",
       "\n",
       "[2283 rows x 23 columns]"
      ]
     },
     "execution_count": 28,
     "metadata": {},
     "output_type": "execute_result"
    }
   ],
   "source": [
    "add_subtopic(neg_end_2017_df)"
   ]
  },
  {
   "cell_type": "code",
   "execution_count": 29,
   "id": "b0cbcb49",
   "metadata": {},
   "outputs": [
    {
     "data": {
      "image/png": "[encoded data removed]",
      "text/plain": [
       "<Figure size 1800x360 with 1 Axes>"
      ]
     },
     "metadata": {
      "needs_background": "light"
     },
     "output_type": "display_data"
    }
   ],
   "source": [
    "neg_end_2017_df['subtopic'].value_counts().sort_index().plot.bar(x='Target Value', y='Number of Occurrences')\n",
    "plt.savefig(\"./img/sentiment_categ.jpg\",dpi=400)"
   ]
  },
  {
   "cell_type": "markdown",
   "id": "ac7d037d",
   "metadata": {},
   "source": [
    "From this analysis it seems that the events are probably linked to some sexual harassment scandal..."
   ]
  },
  {
   "cell_type": "markdown",
   "id": "4eab9af1",
   "metadata": {},
   "source": [
    "### Overall Time analysis "
   ]
  },
  {
   "cell_type": "code",
   "execution_count": 30,
   "id": "162afa01",
   "metadata": {
    "scrolled": true
   },
   "outputs": [],
   "source": [
    "# sort dataframe by date\n",
    "# df.sort_values(ascending=[True],by=['date'],inplace=True)\n",
    "# df.head()"
   ]
  },
  {
   "cell_type": "code",
   "execution_count": 31,
   "id": "0544d332",
   "metadata": {
    "scrolled": false
   },
   "outputs": [
    {
     "data": {
      "image/png": "[encoded data removed]",
      "text/plain": [
       "<Figure size 1296x360 with 1 Axes>"
      ]
     },
     "metadata": {
      "needs_background": "light"
     },
     "output_type": "display_data"
    }
   ],
   "source": [
    "# quotes in function of time\n",
    "df['date'].hist(bins = 100, figsize = [18,5])\n",
    "plt.show() \n",
    "# this graph should probably go into a general presentation of our data instead of here \n"
   ]
  },
  {
   "cell_type": "code",
   "execution_count": 32,
   "id": "00dba2f1",
   "metadata": {
    "scrolled": true
   },
   "outputs": [
    {
     "data": {
      "image/png": "[encoded data removed]",
      "text/plain": [
       "<Figure size 1296x360 with 1 Axes>"
      ]
     },
     "metadata": {
      "needs_background": "light"
     },
     "output_type": "display_data"
    }
   ],
   "source": [
    "df.plot(x = 'date',y='sentiment', figsize = [18,5])\n",
    "plt.show()\n",
    "# not much info from this graph"
   ]
  },
  {
   "cell_type": "markdown",
   "id": "39614fca",
   "metadata": {},
   "source": [
    "#### separate the data into positive, negative, and neutral quotes"
   ]
  },
  {
   "cell_type": "code",
   "execution_count": 33,
   "id": "47558c06",
   "metadata": {},
   "outputs": [],
   "source": [
    "# take a threshold and separate the data in two : \n",
    "# threshold choice currently partly arbitrary\n",
    "df_positive = df.query('sentiment > 0.25')\n",
    "df_negative = df.query('sentiment < -0.25')\n",
    "df_neutral  = df.query('sentiment > -0.25').query('sentiment < 0.25')"
   ]
  },
  {
   "cell_type": "code",
   "execution_count": 34,
   "id": "d99a9b90",
   "metadata": {},
   "outputs": [],
   "source": [
    "# Create an array with the colors you want to use\n",
    "colors = [\"#FF0B04\", \"#4374B3\"]\n",
    "# Set your custom color palette\n",
    "customPalette = sns.set_palette(sns.color_palette(colors))"
   ]
  },
  {
   "cell_type": "code",
   "execution_count": 78,
   "id": "adb7f8f0",
   "metadata": {
    "scrolled": true
   },
   "outputs": [
    {
     "data": {
      "image/png": "[encoded data removed]",
      "text/plain": [
       "<Figure size 1296x360 with 1 Axes>"
      ]
     },
     "metadata": {
      "needs_background": "light"
     },
     "output_type": "display_data"
    }
   ],
   "source": [
    "fig, ax = plt.subplots()\n",
    "# Just write the name of the font\n",
    "mpl.rcParams['font.sans-serif'] = 'Lato'\n",
    "plt.rcParams['font.size'] = 15\n",
    "plt.rcParams[\"figure.figsize\"] = (25,5)\n",
    "\n",
    "\n",
    "df_positive['date'].hist(bins = 100, figsize = [18,5],color='#4EA692')\n",
    "df_negative['date'].hist(bins = 100, figsize = [18,5],alpha = 0.8,color ='#FF3A20')\n",
    "# seems like around 2018 there were a lot of negative quotations\n",
    "df_neutral['date'].hist(bins = 100, figsize = [18,5],alpha = 1,color='#58699D')\n",
    "#plt.grid(False)\n",
    "ax.set_axisbelow(True) # set grid lines behind\n",
    "plt.xlabel('Date')\n",
    "plt.ylabel('Frequency')\n",
    "plt.legend(labels=('positive','negative','neutral'))\n",
    "plt.savefig(\"./img/sentiment_time_pos_neg_neu.jpg\",dpi=400)\n",
    "plt.show()"
   ]
  },
  {
   "cell_type": "markdown",
   "id": "94c9650f",
   "metadata": {},
   "source": [
    "## Sub question 2 : Can we link the sentiment to the use of women's rights ideology?"
   ]
  },
  {
   "cell_type": "markdown",
   "id": "31cb60c7",
   "metadata": {},
   "source": [
    "- Seperate the speakers in function of their political party\n",
    "- calculate the average of the compound score (from Vader) on their quotes. \n",
    "- show distribution in function of party\n",
    "\n",
    "Maybe we will find a relation between the compound score and the general opinion of the party."
   ]
  },
  {
   "cell_type": "markdown",
   "id": "d8924181",
   "metadata": {},
   "source": [
    "### Sentiment and political party"
   ]
  },
  {
   "cell_type": "code",
   "execution_count": 36,
   "id": "1f7b3c4b",
   "metadata": {},
   "outputs": [
    {
     "data": {
      "text/plain": [
       "Index(['quoteID', 'quotation', 'speaker', 'date', 'numOccurrences', 'probas',\n",
       "       'urls', 'aliases', 'date_of_birth', 'nationality', 'gender',\n",
       "       'lastrevid', 'ethnic_group', 'US_congress_bio_ID', 'occupation',\n",
       "       'party', 'academic_degree', 'label', 'candidacy', 'type', 'religion',\n",
       "       'sentiment'],\n",
       "      dtype='object')"
      ]
     },
     "execution_count": 36,
     "metadata": {},
     "output_type": "execute_result"
    }
   ],
   "source": [
    "df.columns"
   ]
  },
  {
   "cell_type": "code",
   "execution_count": 37,
   "id": "57fb9d1e",
   "metadata": {},
   "outputs": [
    {
     "data": {
      "text/plain": [
       "589"
      ]
     },
     "execution_count": 37,
     "metadata": {},
     "output_type": "execute_result"
    }
   ],
   "source": [
    "df['party'].nunique()"
   ]
  },
  {
   "cell_type": "code",
   "execution_count": 51,
   "id": "c0761e50",
   "metadata": {},
   "outputs": [
    {
     "data": {
      "text/plain": [
       "array(['Australian Labor Party', nan, 'Democratic Party',\n",
       "       'Liberal Party of Australia', 'Republican Party',\n",
       "       'Liberal Party of Canada', 'Alberta Liberal Party',\n",
       "       'independent politician',\n",
       "       'Communist Party of India (Marxist–Leninist) Liberation',\n",
       "       'African National Congress', 'National Party of Australia – NSW',\n",
       "       'New Zealand National Party',\n",
       "       'Minnesota Democratic–Farmer–Labor Party',\n",
       "       'National Democratic Congress', 'Justice and Development Party',\n",
       "       'New Democratic Party', 'Democratic Action Party',\n",
       "       'Fiji First Party', 'Liberty Union Party',\n",
       "       'New Democratic Party of Manitoba', 'Ontario Liberal Party',\n",
       "       'Bulgarian Socialist Party', 'Bharatiya Janata Party',\n",
       "       'Conservative Party of Canada', 'Truth and Justice Party',\n",
       "       'Socialist Party', 'Worker-communist Party of Iran',\n",
       "       'Labour Party', 'Indian National Congress',\n",
       "       'Progressive Conservative Association of Alberta',\n",
       "       'Communist Party of India', 'Independent Liberal Party',\n",
       "       'Communist Party of India (Marxist)', 'Awami National Party',\n",
       "       'Unity Party', 'Israeli Labor Party',\n",
       "       'Green Party of Aotearoa New Zealand',\n",
       "       'Union for a Popular Movement', 'Australian Democrats',\n",
       "       'Nacionalista Party', 'Congress for Progressive Change',\n",
       "       'Patriotic Front', 'New Zealand Labour Party',\n",
       "       'Conservative Party', 'Scottish National Party',\n",
       "       'Scottish Labour Party', 'British Columbia Liberal Party',\n",
       "       'United National Party', 'Hatnuah', 'Scottish Conservatives',\n",
       "       'Progressive Party', 'Sinn Féin', 'Liberal Democrats',\n",
       "       'Republican Party of Minnesota',\n",
       "       'United Socialist Party of Venezuela', 'Islamic Republican Party',\n",
       "       'Balad', 'National League for Democracy',\n",
       "       'Reform Party of the United States of America',\n",
       "       'Peoples Democratic Party', 'Saskatchewan New Democratic Party',\n",
       "       'Liberal Democratic Party', 'Parti Pesaka Bumiputera Bersatu',\n",
       "       'Forum for Democratic Change', 'Green Party',\n",
       "       'Ontario New Democratic Party', 'Bangladesh Awami League',\n",
       "       'Liberal National Party of Queensland', 'Iowa Democratic Party',\n",
       "       'Party of National Unity', 'Colombian Conservative Party',\n",
       "       'Australian Labor Party (Victorian Branch)',\n",
       "       'consensus government in Canada', 'Free Democratic Party',\n",
       "       'Swedish Social Democratic Party',\n",
       "       'Social Democratic Party of Croatia',\n",
       "       'Liberal Party of the Philippines', 'California Republican Party',\n",
       "       'Welsh Labour', 'Pakistan Peoples Party',\n",
       "       'Alberta New Democratic Party', \"People's Party\",\n",
       "       'Lakas Kampi CMD', 'Fianna Fáil', 'Podemos', 'The Jewish Home',\n",
       "       \"Clive Palmer's United Australia Party\", 'Social Democrats',\n",
       "       'Aam Aadmi Party', 'Christian Democratic Union',\n",
       "       'Labour Co-operative', 'Yesh Atid', 'National Salvation Party',\n",
       "       'Janata Dal (United)', 'Communist Party of China',\n",
       "       'Socialist Workers Party', \"Christian Social People's Party\",\n",
       "       'Australian Labor Party (Queensland Branch)',\n",
       "       'UK Independence Party', 'GABRIELA', 'Australian Greens',\n",
       "       'All Progressives Congress',\n",
       "       'All India Majlis-e-Ittehadul Muslimeen',\n",
       "       'Green Party of the United States',\n",
       "       'Conservative Party of New York State',\n",
       "       'Social Democratic Party of Germany', 'Justicialist Party',\n",
       "       'Rwandan Patriotic Front',\n",
       "       'Indonesian Democratic Party – Struggle',\n",
       "       'California Democratic Party', 'Working Families Party',\n",
       "       'National Party of Australia',\n",
       "       'Progressive Conservative Party of Ontario', \"New People's Party\",\n",
       "       'Libertarian Party', 'Scottish Green Party',\n",
       "       'United Development Party', 'Shiv Sena', 'The National Alliance',\n",
       "       'Utah Democratic Party', 'Fine Gael', 'Greens Western Australia',\n",
       "       'Democratic Socialists of America', 'Five Star Movement',\n",
       "       'United Malays National Organisation', \"Republican People's Party\",\n",
       "       'Liberal Party of Australia (Victorian Division)',\n",
       "       'Pakistan Muslim League (N)',\n",
       "       'Partido Demokratiko Pilipino–Lakas ng Bayan',\n",
       "       'Orange Democratic Movement', 'National Resistance Movement',\n",
       "       'Democratic Progressive Party', 'Otzma Yehudit',\n",
       "       \"People's National Movement\",\n",
       "       'Liberal Party of Australia (New South Wales Division)',\n",
       "       'Islamic Renaissance Party of Tajikistan',\n",
       "       'Christian Democratic and Flemish', 'Parti Bersatu Sabah',\n",
       "       \"Women's Equality Party\", 'Ohio Democratic Party', 'Likud',\n",
       "       \"People's National Party\", 'One Nation', \"People's Reform Party\",\n",
       "       \"People's Action Party\", \"People's Mujahedin of Iran\",\n",
       "       'Christian Democratic Party', 'Kenya African National Union',\n",
       "       'Biju Janata Dal', 'Country Liberal Party',\n",
       "       'Nebraska Democratic Party', 'Democratic National Alliance',\n",
       "       'Socialist Unity Party of Germany', 'Parti libéral du Québec',\n",
       "       \"Alliance '90/The Greens\",\n",
       "       'Zimbabwe African National Union – Patriotic Front',\n",
       "       'Social Democratic and Labour Party', 'Saskatchewan Party',\n",
       "       'Wiper Democratic Movement', 'Democracy Is Freedom – The Daisy',\n",
       "       'Republican Left of Catalonia', 'Civic Platform',\n",
       "       \"Derryn Hinch's Justice Party\", 'Liberty Korea Party',\n",
       "       'Telugu Desam Party',\n",
       "       'Australian Labor Party (New South Wales Branch)',\n",
       "       'Utah Republican Party', 'National Party of Australia (WA)',\n",
       "       'Humanist Party of Guatemala', 'Ecologist Party \"The Greens\"',\n",
       "       \"All People's Congress\", 'National Democratic Party',\n",
       "       \"Cambodian People's Party\", 'Awami Workers Party', 'Hadash',\n",
       "       'Democratic Party of Korea', 'Christian Democrats',\n",
       "       'United National Congress', 'Action Congress of Nigeria',\n",
       "       'Pakistan Tehreek-e-Insaf', 'Fifth Republic Movement',\n",
       "       \"People's Party for Freedom and Democracy\",\n",
       "       'Ulster Unionist Party', 'Solomon Islands Social Credit Party',\n",
       "       'Human Rights Protection Party', 'Solidarity–People Before Profit',\n",
       "       'Muttahida Qaumi Movement', 'Malaysian Chinese Association',\n",
       "       'Democratic Alliance', 'Vote 1 Local Jobs', 'Bahujan Samaj Party',\n",
       "       'Jubilee Party of Kenya', 'Party of the Revolution',\n",
       "       'Parti Québécois', 'Malaysian Islamic Party',\n",
       "       'Revolutionary Communist Party', 'Nepali Congress', 'Left Party',\n",
       "       'Australian Labor Party (Australian Capital Territory Branch)',\n",
       "       'Radical Party of the Left',\n",
       "       'Citizens for European Development of Bulgaria', 'Hamas',\n",
       "       \"United People's Freedom Alliance\",\n",
       "       'Green Party of England and Wales', 'New Patriotic Party',\n",
       "       'Republican Party of Iowa', 'Yisrael Beiteinu',\n",
       "       'Liberal Party of Australia (Western Australian Division)',\n",
       "       'International Marxist Group', 'Nova Scotia Liberal Party',\n",
       "       'Australian Labor Party (Northern Territory Branch)',\n",
       "       'National Rally',\n",
       "       'North Dakota Democratic-Nonpartisan League Party',\n",
       "       'Welsh Conservative Party', 'Scottish Liberal Democrats',\n",
       "       'Barbados Labour Party', 'Socialist Party of Chile',\n",
       "       'Social Democratic Party of Austria', 'Greens New South Wales',\n",
       "       'African Christian Democratic Party', 'Jatiya Samajtantrik Dal',\n",
       "       'Communist Party of Nepal (Unity Centre)',\n",
       "       'Independent Senators Group', 'Nationalist Party',\n",
       "       'Cambodian National Rescue Party',\n",
       "       'Social Democratic Party of Finland', 'Progressive Liberal Party',\n",
       "       'Samajwadi Party', 'Constitutional Democratic Party of Japan',\n",
       "       'United Opposition', 'McGillicuddy Serious Party',\n",
       "       'United Democratic Front', 'Conservative Party of New Zealand',\n",
       "       \"Nationalist People's Coalition\", 'Jamaica Labour Party',\n",
       "       'Liberty Movement', 'Rastakhiz Party',\n",
       "       'Islamic Iran Participation Front', 'Panameñista Party',\n",
       "       'Pakistan Muslim League',\n",
       "       'National Movement for Stability and Progress',\n",
       "       'British Columbia New Democratic Party',\n",
       "       'Democratic Party of Oregon', 'New Democracy',\n",
       "       \"Cameroon People's Democratic Movement\",\n",
       "       \"Akbayan Citizens' Action Party\", 'Maine Democratic Party',\n",
       "       'Bhutan Peace and Prosperity Party', 'Rally for the Republic',\n",
       "       'Coalition Avenir Québec', 'Liberal Democratic Party of Moldova',\n",
       "       'Armed Forces Revolutionary Council, Ghana',\n",
       "       'Economic Freedom Fighters', 'Communist Party of Czechoslovakia',\n",
       "       'Yukon Party', 'Pwersa ng Masang Pilipino', 'Your Movement',\n",
       "       \"Jammu and Kashmir People's Democratic Party\",\n",
       "       'Australian Labor Party (Western Australian Branch)',\n",
       "       'Norwegian Labour Party', 'Canadian Alliance', 'Japan New Party',\n",
       "       'Liberal Party of Australia (Tasmanian Division)',\n",
       "       'Free Democratic Party of Switzerland', 'Patriotic Alliance',\n",
       "       'Progressive Conservative Party of Manitoba',\n",
       "       'Rashtriya Janata Dal', 'Conservative Party of Norway',\n",
       "       \"Sarawak United Peoples' Party\",\n",
       "       \"South-West Africa People's Organization\", 'New Flemish Alliance',\n",
       "       \"Peoples' Democratic Party\", 'Free National Movement',\n",
       "       'North Carolina Republican Party',\n",
       "       'National Convergence \"Kwa Na Kwa\"', 'ACT New Zealand',\n",
       "       'New Macau Association', \"Italian People's Party\", 'Centre Party',\n",
       "       \"Workers' Party\", 'Yukon New Democratic Party',\n",
       "       'Europe Ecology – The Greens', 'National Coalition Party',\n",
       "       \"Swiss People's Party\", 'Popular Democratic Party',\n",
       "       'Workers World Party', 'SA-BEST', 'Action démocratique du Québec',\n",
       "       'Pirate Party', 'Civic Choice',\n",
       "       'Progressive Conservative Party of New Brunswick',\n",
       "       'The Wikileaks Party', 'Communist Party of Cuba',\n",
       "       'Democratic Action', 'Meretz', 'Danish Social Liberal Party',\n",
       "       'Hugpong sa Tawong Lungsod', 'Moderate Party',\n",
       "       \"Progressive Citizens' Party\", 'Free Voters of Bavaria',\n",
       "       'Progressive Conservative Association of Nova Scotia',\n",
       "       'Liberal Party of Australia (South Australian Division)',\n",
       "       'National Religious Party', 'Iranian reform movement', 'SYRIZA',\n",
       "       'Republican Proposal', 'FRELIMO', 'Dravida Munnetra Kazhagam',\n",
       "       'Vanguard Unionist Progressive Party', 'Toward Europe',\n",
       "       'People Before Profit Alliance', 'National Rally of Independents',\n",
       "       'United Conservative Party', \"Tigray People's Liberation Front\",\n",
       "       'Projet Montréal', 'Green Youth', 'La République En Marche',\n",
       "       'Social Democratic Party', 'Bangladesh Nationalist Party',\n",
       "       'Respect Party', 'Czech Social Democratic Party',\n",
       "       'Michigan Republican Party', 'Georgian Dream',\n",
       "       'Illinois Republican Party', \"Austrian People's Party\",\n",
       "       'New Brunswick Liberal Association',\n",
       "       'Communist Party of the Soviet Union',\n",
       "       'Armenian Revolutionary Federation', 'The People of Freedom',\n",
       "       'Lok Janshakti Party', 'Progressive Conservative Party of Canada',\n",
       "       'Greater Dunedin', 'Pirate Party UK', 'Democratic Rally',\n",
       "       'Coalition for Democratic Change', 'Forza Italia (1994)',\n",
       "       'National Action Party',\n",
       "       'Newfoundland and Labrador New Democratic Party',\n",
       "       'Communist Party of Canada', 'Antigua and Barbuda Labour Party',\n",
       "       'Liberals', 'Independence Party', 'Kuomintang',\n",
       "       'Saskatchewan Liberal Party', 'Left, Ecology and Freedom',\n",
       "       'BC Green Party', 'Malawi Congress Party',\n",
       "       'All Progressives Grand Alliance',\n",
       "       'Nova Scotia New Democratic Party', 'Popular Will',\n",
       "       'Prince Edward Island Liberal Party',\n",
       "       'Maine Green Independent Party', 'Barisan Nasional',\n",
       "       'Party for Democracy',\n",
       "       'Liberal Party of Newfoundland and Labrador', 'Charter Party',\n",
       "       'Forza Italia (2013)', 'Oregon Republican Party', 'Venstre',\n",
       "       'Telangana Rashtra Samithi', 'Centre Alliance',\n",
       "       'Initiative for Catalonia Greens', 'Rally of the Guinean People',\n",
       "       'Democratic Way', 'Plaid Cymru', 'Die Grünen', 'Bloc Québécois',\n",
       "       'Combatant Clergy Association', 'Nationalist Congress Party',\n",
       "       'United Democratic Movement', 'Sri Lanka Freedom Party',\n",
       "       'European Solidarity', \"Rivers State People's Democratic Party\",\n",
       "       'Social Democratic Party of Switzerland', 'Call for Tunisia',\n",
       "       'The Left', 'Communist Party of Nepal (Maoist Centre)',\n",
       "       'All India Trinamool Congress', 'All Ceylon Makkal Congress',\n",
       "       'Jammu & Kashmir National Conference', 'Apna Dal (Sonelal)',\n",
       "       'National Council for the Defense of Democracy–Forces for the Defense of Democracy',\n",
       "       'Open Flemish Liberals and Democrats',\n",
       "       'New Democratic Party of Prince Edward Island', 'Liberal Alliance',\n",
       "       'Lutte Ouvrière', 'Amal Movement', 'Yukon Liberal Party',\n",
       "       \"Latvia's First Party/Latvian Way\", \"Sierra Leone People's Party\",\n",
       "       'One NL', 'Socialist Alternative', 'French Communist Party',\n",
       "       'Communist Party USA',\n",
       "       'Forum for the Restoration of Democracy – Kenya',\n",
       "       \"People's Democratic Party\", 'Golongan Karya Party',\n",
       "       \"Northern Ireland Women's Coalition\", 'Vermont Progressive Party',\n",
       "       'Alternative for Germany', 'New Zealand First',\n",
       "       'Independent Conservative', 'United Democratic Party',\n",
       "       'Solidarity Electoral Action', 'Reform Movement',\n",
       "       'FDP.The Liberals', 'Alberta Party', 'Religious Zionist Party',\n",
       "       'Unsubmissive France', 'The Rally', 'New Right', 'Pheu Thai Party',\n",
       "       'Democratic Unionist Party', 'Congress of the People',\n",
       "       'Islamic Action Front', 'The Frontier',\n",
       "       'Peasants and Workers Party of India',\n",
       "       'Democratic Alliance for the Betterment and Progress of Hong Kong',\n",
       "       'Jammu Kashmir Liberation Front', 'Hungarian Socialist Party',\n",
       "       'Democratic Party of Japan', 'Lega Nord', 'Our Ukraine',\n",
       "       'Union for French Democracy', 'Italian Socialist Party',\n",
       "       'Left-Green Movement', 'Janata Dal (Secular)',\n",
       "       'Alliance for Democracy', 'Free Patriotic Movement',\n",
       "       'Australian Labor Party (South Australian Branch)',\n",
       "       'Patriotic Salvation Movement', 'Future Movement',\n",
       "       'United Republican Party', 'Republican Party of Armenia',\n",
       "       'Colombian Liberal Party', 'Feminist Initiative',\n",
       "       'Alliance of Free Democrats',\n",
       "       'Movement for Democratic Change – Tsvangirai', 'Fatah',\n",
       "       \"Spanish Socialist Workers' Party\", 'Pakatan Rakyat',\n",
       "       'Christian Social Union of Bavaria', 'Croatian Democratic Union',\n",
       "       'Makkal Neethi Maiyam', \"Citizens' Action Party\",\n",
       "       'Oromo Democratic Party', 'Finns Party', 'YSR Congress Party',\n",
       "       'China Democratic League', 'Nasdem Party', 'Estonian Reform Party',\n",
       "       \"Katter's Australian Party\", 'Kilusang Bagong Lipunan',\n",
       "       'Republican Party of India (A)', 'Singapore Democratic Party',\n",
       "       'Fidesz', \"Workers' Party of Singapore\", 'Democrats 66',\n",
       "       'Sri Lanka Muslim Congress',\n",
       "       'Co-operative Commonwealth Federation', 'United Russia',\n",
       "       \"People's Progressive Party\", 'Shiromani Akali Dal',\n",
       "       'Ennahda Movement',\n",
       "       'Progressive Conservative Party of Newfoundland and Labrador',\n",
       "       \"Malaysian People's Welfare Party\", 'SMER – Social Democracy',\n",
       "       'Wildrose Party', 'New Power Party', \"People's Electoral Movement\",\n",
       "       'Québec solidaire', 'Constitutional Democratic Rally',\n",
       "       'Brazilian Socialist Party', 'Popular Orthodox Rally',\n",
       "       'Social Christian Party', 'PAIS Alliance',\n",
       "       'British Columbia Social Credit Party', 'Barcelona en Comú',\n",
       "       'Mazingira Green Party of Kenya', 'Kulanu',\n",
       "       'Manitoba Liberal Party', 'Massachusetts Republican Party',\n",
       "       'Vishva Hindu Parishad', \"Dominican Workers' Party\",\n",
       "       'Freedom and Justice Party', 'British National Party',\n",
       "       'Executives of Construction Party', 'Fiji Labour Party',\n",
       "       'Batkivshchyna', 'Libertarian Party of Canada',\n",
       "       'Social Democratic Alliance', 'Socialist Left Party',\n",
       "       'Australian Greens Victoria', 'Movement for Socialism',\n",
       "       'Animal Justice Party', 'Komsomol',\n",
       "       'Green Party of Prince Edward Island', 'Radical Party',\n",
       "       'Independent Democratic Union', 'Dignity Party',\n",
       "       'Indonesian National Party Marhaenism',\n",
       "       'all India jihad committee founder', 'Vetëvendosje!',\n",
       "       \"People's United Party\", 'National Regeneration Movement',\n",
       "       'United Left', \"Luxembourg Socialist Workers' Party\",\n",
       "       \"People's Rally for Progress\", 'Soqosoqo ni Vakavulewa ni Taukei',\n",
       "       \"Conservative People's Party\", 'All India Students Association',\n",
       "       'Law and Justice', \"Mongolian People's Party\",\n",
       "       \"People's Justice Party\", 'Maldivian Democratic Party',\n",
       "       'Botswana Democratic Party', 'Welsh Liberal Democrats',\n",
       "       'Nationalist Democratic Progressive Party', 'Queensland Greens',\n",
       "       'Liberal Party', 'Broad Front',\n",
       "       'Malaysian United Indigenous Party',\n",
       "       'Social Democratic Party of Lithuania',\n",
       "       'Congress of the New Right', \"Palikot's Movement\",\n",
       "       'North Dakota Republican Party', 'Jamiat Ulema-e-Islam',\n",
       "       'Unified Progressive Party', 'BIJ1', 'Italian Radicals',\n",
       "       'Massachusetts Democratic Party',\n",
       "       'Washington State Democratic Party',\n",
       "       'Institutional Revolutionary Party', 'Civic Party',\n",
       "       'Green Party of Canada', 'Grow Party', 'Procés Constituent',\n",
       "       'The Republicans', 'Green Party in Northern Ireland',\n",
       "       \"Sudan People's Liberation Movement\", 'National Congress Party',\n",
       "       'Party of the Democratic Left',\n",
       "       'Pragatisheel Samajwadi Party (Lohiya)',\n",
       "       \"People's National Congress Party\", \"Citizens' Movement\",\n",
       "       'Inkatha Freedom Party', 'Social Democratic Union of Macedonia',\n",
       "       'All India Anna Dravida Munnetra Kazhagam', 'Yuva Sena',\n",
       "       'Britain First', 'Peace and Freedom Party',\n",
       "       'National Liberation Party',\n",
       "       'Communist Party of Nepal (Unified Marxist–Leninist)',\n",
       "       \"People's Progress Party\", 'Alliance for New Nigeria',\n",
       "       \"People's Movement for the Liberation of Angola\",\n",
       "       'Islamic Labour Party', 'Green Party of Switzerland',\n",
       "       'Future Forward Party', 'Ecolo', 'Left Alliance',\n",
       "       'Alliance Party of Northern Ireland', 'Kach and Kahane Chai',\n",
       "       \"British People's Party\", 'National Rainbow Coalition – Kenya',\n",
       "       'Tasmanian Greens', 'Israel Resilience Party', 'Left Bloc',\n",
       "       'Green League', 'GroenLinks', 'Revolutionary Communist League',\n",
       "       'Green Party of Manitoba', 'Brexit Party',\n",
       "       'American Independent Party', 'Democratic Left Party',\n",
       "       'New Encounter', 'Movement for Democratic Change – Ncube',\n",
       "       'National Awakening Party', 'Trentino Tyrolean Autonomist Party',\n",
       "       'Muttahida Majlis-e-Amal',\n",
       "       'Popular Front for the Liberation of Palestine',\n",
       "       'Australian Labor Party (Tasmanian Branch)', 'Haryana Vikas Party',\n",
       "       'Forward',\n",
       "       'Progressive Conservative Party of Prince Edward Island',\n",
       "       'Pakistan Muslim League (Q)', 'Telem',\n",
       "       \"Finnish People's Democratic League\",\n",
       "       'Party of the Democratic Revolution', 'Sweden Democrats'],\n",
       "      dtype=object)"
      ]
     },
     "execution_count": 51,
     "metadata": {},
     "output_type": "execute_result"
    }
   ],
   "source": [
    "df['party'].unique()"
   ]
  },
  {
   "cell_type": "code",
   "execution_count": 52,
   "id": "d6f709cd",
   "metadata": {},
   "outputs": [],
   "source": [
    "df_grouped_by_partyname = df.groupby(df.party).size()"
   ]
  },
  {
   "cell_type": "code",
   "execution_count": 53,
   "id": "ea315a66",
   "metadata": {},
   "outputs": [
    {
     "data": {
      "text/plain": [
       "party\n",
       "Democratic Party                  8783\n",
       "Republican Party                  3594\n",
       "Bharatiya Janata Party            1083\n",
       "Liberal Party of Canada           1024\n",
       "Labour Party                       525\n",
       "                                  ... \n",
       "Mazingira Green Party of Kenya       1\n",
       "Religious Zionist Party              1\n",
       "Republican Left of Catalonia         1\n",
       "One NL                               1\n",
       "Respect Party                        1\n",
       "Length: 589, dtype: int64"
      ]
     },
     "execution_count": 53,
     "metadata": {},
     "output_type": "execute_result"
    }
   ],
   "source": [
    "df.groupby(df.party).size().sort_values(ascending=False)"
   ]
  },
  {
   "cell_type": "code",
   "execution_count": 54,
   "id": "201d7035",
   "metadata": {},
   "outputs": [],
   "source": [
    "Democrat_quotes = df.query('party == \"Democratic Party\" ')\n",
    "Republican_quotes = df.query('party == \"Republican Party\" ')"
   ]
  },
  {
   "cell_type": "code",
   "execution_count": 62,
   "id": "008dba9e",
   "metadata": {},
   "outputs": [
    {
     "data": {
      "image/png": "[encoded data removed]",
      "text/plain": [
       "<Figure size 576x360 with 1 Axes>"
      ]
     },
     "metadata": {},
     "output_type": "display_data"
    }
   ],
   "source": [
    "Democrat_quotes['sentiment'].hist(bins=40, figsize = [8,5])\n",
    "Republican_quotes['sentiment'].hist(bins=40, figsize = [8,5],alpha=0.5)\n",
    "plt.show()"
   ]
  },
  {
   "cell_type": "markdown",
   "id": "964113db",
   "metadata": {},
   "source": [
    "### Sentiment in function of gender ?"
   ]
  },
  {
   "cell_type": "code",
   "execution_count": 56,
   "id": "96d92488",
   "metadata": {},
   "outputs": [
    {
     "data": {
      "text/plain": [
       "11"
      ]
     },
     "execution_count": 56,
     "metadata": {},
     "output_type": "execute_result"
    }
   ],
   "source": [
    "df['gender'].nunique()"
   ]
  },
  {
   "cell_type": "code",
   "execution_count": 57,
   "id": "5c7cfc61",
   "metadata": {},
   "outputs": [
    {
     "data": {
      "text/plain": [
       "array(['female', 'male', nan, 'non-binary', 'transgender female',\n",
       "       'genderfluid', 'cisgender female', 'transgender male',\n",
       "       'cisgender male', 'genderqueer', 'shemale', 'intersex'],\n",
       "      dtype=object)"
      ]
     },
     "execution_count": 57,
     "metadata": {},
     "output_type": "execute_result"
    }
   ],
   "source": [
    "df['gender'].unique()"
   ]
  },
  {
   "cell_type": "code",
   "execution_count": 58,
   "id": "8d29834e",
   "metadata": {},
   "outputs": [
    {
     "data": {
      "text/plain": [
       "gender\n",
       "female                28286\n",
       "male                  26274\n",
       "transgender female       89\n",
       "non-binary               80\n",
       "genderfluid              26\n",
       "transgender male         21\n",
       "cisgender female         15\n",
       "genderqueer               4\n",
       "shemale                   3\n",
       "intersex                  2\n",
       "cisgender male            1\n",
       "dtype: int64"
      ]
     },
     "execution_count": 58,
     "metadata": {},
     "output_type": "execute_result"
    }
   ],
   "source": [
    "df.groupby(df.gender).size().sort_values(ascending=False)"
   ]
  },
  {
   "cell_type": "markdown",
   "id": "556d9499",
   "metadata": {},
   "source": [
    "Most of the data is from the male and female genders, so we will currently base our analysis on those two genders :"
   ]
  },
  {
   "cell_type": "code",
   "execution_count": 59,
   "id": "af78f8d0",
   "metadata": {},
   "outputs": [],
   "source": [
    "female_quotes = df.query('gender == \"female\" ')\n",
    "male_quotes = df.query('gender == \"male\" ')"
   ]
  },
  {
   "cell_type": "code",
   "execution_count": 60,
   "id": "3a913453",
   "metadata": {},
   "outputs": [
    {
     "data": {
      "image/png": "[encoded data removed]",
      "text/plain": [
       "<Figure size 576x360 with 1 Axes>"
      ]
     },
     "metadata": {},
     "output_type": "display_data"
    }
   ],
   "source": [
    "female_quotes['sentiment'].hist(bins=40, figsize = [8,5])\n",
    "male_quotes['sentiment'].hist(bins=40, figsize = [8,5],alpha=0.5)\n",
    "plt.show()"
   ]
  },
  {
   "cell_type": "markdown",
   "id": "49ddce65",
   "metadata": {},
   "source": [
    "# Using other tools and comparing them : "
   ]
  },
  {
   "cell_type": "markdown",
   "id": "7fbd39d7",
   "metadata": {},
   "source": [
    "Reloading the original dataframe: "
   ]
  },
  {
   "cell_type": "code",
   "execution_count": 61,
   "id": "b1c19b68",
   "metadata": {},
   "outputs": [],
   "source": [
    "df = pd.read_pickle(PATH_GENERATED_DATA+'df_enriched.pkl', compression='infer', storage_options=None)"
   ]
  },
  {
   "cell_type": "markdown",
   "id": "9eaa7c41",
   "metadata": {},
   "source": [
    "Vader"
   ]
  },
  {
   "cell_type": "code",
   "execution_count": 146,
   "id": "e56fecd8",
   "metadata": {},
   "outputs": [],
   "source": [
    "df['sentiment_vader'] = df['quotation'].apply(lambda x : analyzer.polarity_scores(x)['compound'])"
   ]
  },
  {
   "cell_type": "code",
   "execution_count": 147,
   "id": "19a8f62a",
   "metadata": {},
   "outputs": [
    {
     "data": {
      "text/plain": [
       "0    0.6271\n",
       "1    0.6557\n",
       "2    0.6557\n",
       "3    0.9460\n",
       "4    0.6705\n",
       "Name: sentiment_vader, dtype: float64"
      ]
     },
     "execution_count": 147,
     "metadata": {},
     "output_type": "execute_result"
    }
   ],
   "source": [
    "df['sentiment_vader'].head()"
   ]
  },
  {
   "cell_type": "markdown",
   "id": "cf9e9e35",
   "metadata": {},
   "source": [
    "Text blob"
   ]
  },
  {
   "cell_type": "code",
   "execution_count": 148,
   "id": "c67156ee",
   "metadata": {},
   "outputs": [],
   "source": [
    "df['sentiment_blob'] = df['quotation'].apply(lambda x : polarity_blob(x)) "
   ]
  },
  {
   "cell_type": "code",
   "execution_count": 149,
   "id": "3047d3d1",
   "metadata": {},
   "outputs": [
    {
     "data": {
      "text/plain": [
       "0    0.253283\n",
       "1    0.500000\n",
       "2    0.500000\n",
       "3    0.120000\n",
       "4    0.133333\n",
       "Name: sentiment_blob, dtype: float64"
      ]
     },
     "execution_count": 149,
     "metadata": {},
     "output_type": "execute_result"
    }
   ],
   "source": [
    "df['sentiment_blob'].head()"
   ]
  },
  {
   "cell_type": "markdown",
   "id": "34d4854e",
   "metadata": {},
   "source": [
    "Flair "
   ]
  },
  {
   "cell_type": "code",
   "execution_count": 154,
   "id": "5462b28c",
   "metadata": {},
   "outputs": [],
   "source": [
    "df['sentiment_flair'] = df['quotation'].apply(lambda x : flair_label(x))  # takes approx 15 minutes to run"
   ]
  },
  {
   "cell_type": "code",
   "execution_count": 155,
   "id": "dc9422f9",
   "metadata": {},
   "outputs": [
    {
     "data": {
      "text/plain": [
       "0    0.766071\n",
       "1    0.994783\n",
       "2    0.983703\n",
       "3    0.989518\n",
       "4    0.973179\n",
       "Name: sentiment_flair, dtype: float64"
      ]
     },
     "execution_count": 155,
     "metadata": {},
     "output_type": "execute_result"
    }
   ],
   "source": [
    "df['sentiment_flair'].head()"
   ]
  },
  {
   "cell_type": "code",
   "execution_count": 18,
   "id": "dc376109",
   "metadata": {
    "scrolled": false
   },
   "outputs": [
    {
     "data": {
      "text/html": [
       "<div>\n",
       "<style scoped>\n",
       "    .dataframe tbody tr th:only-of-type {\n",
       "        vertical-align: middle;\n",
       "    }\n",
       "\n",
       "    .dataframe tbody tr th {\n",
       "        vertical-align: top;\n",
       "    }\n",
       "\n",
       "    .dataframe thead th {\n",
       "        text-align: right;\n",
       "    }\n",
       "</style>\n",
       "<table border=\"1\" class=\"dataframe\">\n",
       "  <thead>\n",
       "    <tr style=\"text-align: right;\">\n",
       "      <th></th>\n",
       "      <th>quotation</th>\n",
       "      <th>sentiment_vader</th>\n",
       "      <th>sentiment_blob</th>\n",
       "      <th>sentiment_flair</th>\n",
       "    </tr>\n",
       "  </thead>\n",
       "  <tbody>\n",
       "    <tr>\n",
       "      <th>0</th>\n",
       "      <td>Anything less than women winning 50 per cent o...</td>\n",
       "      <td>0.6271</td>\n",
       "      <td>0.253283</td>\n",
       "      <td>0.766071</td>\n",
       "    </tr>\n",
       "    <tr>\n",
       "      <th>1</th>\n",
       "      <td>more family-friendly and flexible workplaces, ...</td>\n",
       "      <td>0.6557</td>\n",
       "      <td>0.500000</td>\n",
       "      <td>0.994783</td>\n",
       "    </tr>\n",
       "    <tr>\n",
       "      <th>2</th>\n",
       "      <td>We need more women and parents in Parliament. ...</td>\n",
       "      <td>0.6557</td>\n",
       "      <td>0.500000</td>\n",
       "      <td>0.983703</td>\n",
       "    </tr>\n",
       "    <tr>\n",
       "      <th>3</th>\n",
       "      <td>I'd like to congratulate all the winners and f...</td>\n",
       "      <td>0.9460</td>\n",
       "      <td>0.120000</td>\n",
       "      <td>0.989518</td>\n",
       "    </tr>\n",
       "    <tr>\n",
       "      <th>4</th>\n",
       "      <td>Clearly we have got a long way to go before we...</td>\n",
       "      <td>0.6705</td>\n",
       "      <td>0.133333</td>\n",
       "      <td>0.973179</td>\n",
       "    </tr>\n",
       "    <tr>\n",
       "      <th>5</th>\n",
       "      <td>I'd like to congratulate all the winners and f...</td>\n",
       "      <td>0.9628</td>\n",
       "      <td>0.120000</td>\n",
       "      <td>0.989818</td>\n",
       "    </tr>\n",
       "    <tr>\n",
       "      <th>6</th>\n",
       "      <td>Men and women are different -- equally intelli...</td>\n",
       "      <td>0.7184</td>\n",
       "      <td>0.200000</td>\n",
       "      <td>0.632734</td>\n",
       "    </tr>\n",
       "    <tr>\n",
       "      <th>7</th>\n",
       "      <td>30% Club is built on the premise of not just w...</td>\n",
       "      <td>0.9621</td>\n",
       "      <td>0.300000</td>\n",
       "      <td>0.999050</td>\n",
       "    </tr>\n",
       "    <tr>\n",
       "      <th>8</th>\n",
       "      <td>If one looks at the history of gender equality...</td>\n",
       "      <td>0.4215</td>\n",
       "      <td>0.000000</td>\n",
       "      <td>0.833747</td>\n",
       "    </tr>\n",
       "    <tr>\n",
       "      <th>9</th>\n",
       "      <td>I think we need to place gender equality in th...</td>\n",
       "      <td>0.0000</td>\n",
       "      <td>-0.041667</td>\n",
       "      <td>0.922163</td>\n",
       "    </tr>\n",
       "    <tr>\n",
       "      <th>10</th>\n",
       "      <td>I'm excited about the launch of the Girl Fund,...</td>\n",
       "      <td>0.9633</td>\n",
       "      <td>0.325000</td>\n",
       "      <td>0.983625</td>\n",
       "    </tr>\n",
       "    <tr>\n",
       "      <th>11</th>\n",
       "      <td>I feel very strongly that most men I work with...</td>\n",
       "      <td>0.5984</td>\n",
       "      <td>0.531667</td>\n",
       "      <td>0.980084</td>\n",
       "    </tr>\n",
       "    <tr>\n",
       "      <th>12</th>\n",
       "      <td>Collectively, we can help achieve gender equal...</td>\n",
       "      <td>0.6808</td>\n",
       "      <td>0.000000</td>\n",
       "      <td>0.989672</td>\n",
       "    </tr>\n",
       "    <tr>\n",
       "      <th>13</th>\n",
       "      <td>When we invest in the success of women, we are...</td>\n",
       "      <td>0.9186</td>\n",
       "      <td>0.300000</td>\n",
       "      <td>0.961381</td>\n",
       "    </tr>\n",
       "    <tr>\n",
       "      <th>14</th>\n",
       "      <td>Gender inequality is one of the key issues of ...</td>\n",
       "      <td>0.8891</td>\n",
       "      <td>0.162500</td>\n",
       "      <td>0.982078</td>\n",
       "    </tr>\n",
       "    <tr>\n",
       "      <th>15</th>\n",
       "      <td>we are investing in the success of business. C...</td>\n",
       "      <td>0.8519</td>\n",
       "      <td>0.300000</td>\n",
       "      <td>0.982455</td>\n",
       "    </tr>\n",
       "    <tr>\n",
       "      <th>16</th>\n",
       "      <td>It was a macho environment. These days, that s...</td>\n",
       "      <td>-0.3036</td>\n",
       "      <td>0.100000</td>\n",
       "      <td>0.994175</td>\n",
       "    </tr>\n",
       "    <tr>\n",
       "      <th>17</th>\n",
       "      <td>I think what Deepika has spoken in the video m...</td>\n",
       "      <td>0.4111</td>\n",
       "      <td>0.135500</td>\n",
       "      <td>0.678619</td>\n",
       "    </tr>\n",
       "    <tr>\n",
       "      <th>18</th>\n",
       "      <td>I think most of the people feel the pressure t...</td>\n",
       "      <td>0.9423</td>\n",
       "      <td>0.108333</td>\n",
       "      <td>0.912298</td>\n",
       "    </tr>\n",
       "    <tr>\n",
       "      <th>19</th>\n",
       "      <td>For any real dialogue to happen, men need to g...</td>\n",
       "      <td>-0.6015</td>\n",
       "      <td>0.233333</td>\n",
       "      <td>0.747909</td>\n",
       "    </tr>\n",
       "    <tr>\n",
       "      <th>20</th>\n",
       "      <td>All of us are introspecting. The result is onl...</td>\n",
       "      <td>0.5390</td>\n",
       "      <td>0.175000</td>\n",
       "      <td>0.994225</td>\n",
       "    </tr>\n",
       "    <tr>\n",
       "      <th>21</th>\n",
       "      <td>That's what makes the play so relevant even in...</td>\n",
       "      <td>0.3804</td>\n",
       "      <td>0.207273</td>\n",
       "      <td>0.997855</td>\n",
       "    </tr>\n",
       "    <tr>\n",
       "      <th>22</th>\n",
       "      <td>All of us are introspecting. The result is onl...</td>\n",
       "      <td>0.5390</td>\n",
       "      <td>0.175000</td>\n",
       "      <td>0.993204</td>\n",
       "    </tr>\n",
       "    <tr>\n",
       "      <th>23</th>\n",
       "      <td>if advocating for equal pay for equal work is ...</td>\n",
       "      <td>0.5994</td>\n",
       "      <td>-0.022917</td>\n",
       "      <td>0.546759</td>\n",
       "    </tr>\n",
       "    <tr>\n",
       "      <th>24</th>\n",
       "      <td>Family planning is an important part of women'...</td>\n",
       "      <td>-0.0516</td>\n",
       "      <td>0.280000</td>\n",
       "      <td>0.991181</td>\n",
       "    </tr>\n",
       "    <tr>\n",
       "      <th>25</th>\n",
       "      <td>We're not doing that when the hard work of wom...</td>\n",
       "      <td>-0.4069</td>\n",
       "      <td>-0.291667</td>\n",
       "      <td>0.770833</td>\n",
       "    </tr>\n",
       "    <tr>\n",
       "      <th>26</th>\n",
       "      <td>Fair pay and fair scheduling, paid family leav...</td>\n",
       "      <td>0.6705</td>\n",
       "      <td>0.171429</td>\n",
       "      <td>0.957686</td>\n",
       "    </tr>\n",
       "    <tr>\n",
       "      <th>27</th>\n",
       "      <td>So it will include, whether it's raising the m...</td>\n",
       "      <td>0.0516</td>\n",
       "      <td>0.086111</td>\n",
       "      <td>0.873401</td>\n",
       "    </tr>\n",
       "    <tr>\n",
       "      <th>28</th>\n",
       "      <td>who offer themselves as leaders who see nothin...</td>\n",
       "      <td>0.4922</td>\n",
       "      <td>-0.250000</td>\n",
       "      <td>0.829938</td>\n",
       "    </tr>\n",
       "    <tr>\n",
       "      <th>29</th>\n",
       "      <td>And it is way past time for us to protect wome...</td>\n",
       "      <td>0.6908</td>\n",
       "      <td>-0.125000</td>\n",
       "      <td>0.619627</td>\n",
       "    </tr>\n",
       "  </tbody>\n",
       "</table>\n",
       "</div>"
      ],
      "text/plain": [
       "                                            quotation  sentiment_vader  \\\n",
       "0   Anything less than women winning 50 per cent o...           0.6271   \n",
       "1   more family-friendly and flexible workplaces, ...           0.6557   \n",
       "2   We need more women and parents in Parliament. ...           0.6557   \n",
       "3   I'd like to congratulate all the winners and f...           0.9460   \n",
       "4   Clearly we have got a long way to go before we...           0.6705   \n",
       "5   I'd like to congratulate all the winners and f...           0.9628   \n",
       "6   Men and women are different -- equally intelli...           0.7184   \n",
       "7   30% Club is built on the premise of not just w...           0.9621   \n",
       "8   If one looks at the history of gender equality...           0.4215   \n",
       "9   I think we need to place gender equality in th...           0.0000   \n",
       "10  I'm excited about the launch of the Girl Fund,...           0.9633   \n",
       "11  I feel very strongly that most men I work with...           0.5984   \n",
       "12  Collectively, we can help achieve gender equal...           0.6808   \n",
       "13  When we invest in the success of women, we are...           0.9186   \n",
       "14  Gender inequality is one of the key issues of ...           0.8891   \n",
       "15  we are investing in the success of business. C...           0.8519   \n",
       "16  It was a macho environment. These days, that s...          -0.3036   \n",
       "17  I think what Deepika has spoken in the video m...           0.4111   \n",
       "18  I think most of the people feel the pressure t...           0.9423   \n",
       "19  For any real dialogue to happen, men need to g...          -0.6015   \n",
       "20  All of us are introspecting. The result is onl...           0.5390   \n",
       "21  That's what makes the play so relevant even in...           0.3804   \n",
       "22  All of us are introspecting. The result is onl...           0.5390   \n",
       "23  if advocating for equal pay for equal work is ...           0.5994   \n",
       "24  Family planning is an important part of women'...          -0.0516   \n",
       "25  We're not doing that when the hard work of wom...          -0.4069   \n",
       "26  Fair pay and fair scheduling, paid family leav...           0.6705   \n",
       "27  So it will include, whether it's raising the m...           0.0516   \n",
       "28  who offer themselves as leaders who see nothin...           0.4922   \n",
       "29  And it is way past time for us to protect wome...           0.6908   \n",
       "\n",
       "    sentiment_blob  sentiment_flair  \n",
       "0         0.253283         0.766071  \n",
       "1         0.500000         0.994783  \n",
       "2         0.500000         0.983703  \n",
       "3         0.120000         0.989518  \n",
       "4         0.133333         0.973179  \n",
       "5         0.120000         0.989818  \n",
       "6         0.200000         0.632734  \n",
       "7         0.300000         0.999050  \n",
       "8         0.000000         0.833747  \n",
       "9        -0.041667         0.922163  \n",
       "10        0.325000         0.983625  \n",
       "11        0.531667         0.980084  \n",
       "12        0.000000         0.989672  \n",
       "13        0.300000         0.961381  \n",
       "14        0.162500         0.982078  \n",
       "15        0.300000         0.982455  \n",
       "16        0.100000         0.994175  \n",
       "17        0.135500         0.678619  \n",
       "18        0.108333         0.912298  \n",
       "19        0.233333         0.747909  \n",
       "20        0.175000         0.994225  \n",
       "21        0.207273         0.997855  \n",
       "22        0.175000         0.993204  \n",
       "23       -0.022917         0.546759  \n",
       "24        0.280000         0.991181  \n",
       "25       -0.291667         0.770833  \n",
       "26        0.171429         0.957686  \n",
       "27        0.086111         0.873401  \n",
       "28       -0.250000         0.829938  \n",
       "29       -0.125000         0.619627  "
      ]
     },
     "execution_count": 18,
     "metadata": {},
     "output_type": "execute_result"
    }
   ],
   "source": [
    "# df_sentiment = df[['quotation','sentiment_vader','sentiment_blob','sentiment_flair']]\n",
    "\n",
    "df_sentiment.head(30)"
   ]
  },
  {
   "cell_type": "code",
   "execution_count": null,
   "id": "d9ff3eee",
   "metadata": {},
   "outputs": [],
   "source": [
    "# Save the dataframe containing the sentiment scores \n",
    "# df_sentiment.to_pickle(PATH_GENERATED_DATA+'df_enriched_w_sentiment_allscores.pkl', compression='infer', protocol=5, storage_options=None)"
   ]
  },
  {
   "cell_type": "code",
   "execution_count": 64,
   "id": "966141a0",
   "metadata": {},
   "outputs": [],
   "source": [
    "# Load the dataframe containing sentiment scores\n",
    "df_sentiment = pd.read_pickle(PATH_GENERATED_DATA+'df_enriched_w_sentiment_allscores.pkl', compression='infer', storage_options=None)"
   ]
  },
  {
   "cell_type": "markdown",
   "id": "a9f3078f",
   "metadata": {},
   "source": [
    "First we compare the tools between each other"
   ]
  },
  {
   "cell_type": "code",
   "execution_count": 65,
   "id": "975dcaef",
   "metadata": {},
   "outputs": [
    {
     "data": {
      "text/html": [
       "<div>\n",
       "<style scoped>\n",
       "    .dataframe tbody tr th:only-of-type {\n",
       "        vertical-align: middle;\n",
       "    }\n",
       "\n",
       "    .dataframe tbody tr th {\n",
       "        vertical-align: top;\n",
       "    }\n",
       "\n",
       "    .dataframe thead th {\n",
       "        text-align: right;\n",
       "    }\n",
       "</style>\n",
       "<table border=\"1\" class=\"dataframe\">\n",
       "  <thead>\n",
       "    <tr style=\"text-align: right;\">\n",
       "      <th></th>\n",
       "      <th>sentiment_vader</th>\n",
       "      <th>sentiment_blob</th>\n",
       "      <th>sentiment_flair</th>\n",
       "    </tr>\n",
       "  </thead>\n",
       "  <tbody>\n",
       "    <tr>\n",
       "      <th>count</th>\n",
       "      <td>55328.000000</td>\n",
       "      <td>55328.000000</td>\n",
       "      <td>55328.000000</td>\n",
       "    </tr>\n",
       "    <tr>\n",
       "      <th>mean</th>\n",
       "      <td>0.054224</td>\n",
       "      <td>0.163196</td>\n",
       "      <td>0.884701</td>\n",
       "    </tr>\n",
       "    <tr>\n",
       "      <th>std</th>\n",
       "      <td>0.616717</td>\n",
       "      <td>0.219878</td>\n",
       "      <td>0.139945</td>\n",
       "    </tr>\n",
       "    <tr>\n",
       "      <th>min</th>\n",
       "      <td>-0.997900</td>\n",
       "      <td>-1.000000</td>\n",
       "      <td>0.500033</td>\n",
       "    </tr>\n",
       "    <tr>\n",
       "      <th>25%</th>\n",
       "      <td>-0.542300</td>\n",
       "      <td>0.000000</td>\n",
       "      <td>0.812941</td>\n",
       "    </tr>\n",
       "    <tr>\n",
       "      <th>50%</th>\n",
       "      <td>0.024000</td>\n",
       "      <td>0.144444</td>\n",
       "      <td>0.953504</td>\n",
       "    </tr>\n",
       "    <tr>\n",
       "      <th>75%</th>\n",
       "      <td>0.636900</td>\n",
       "      <td>0.300000</td>\n",
       "      <td>0.992212</td>\n",
       "    </tr>\n",
       "    <tr>\n",
       "      <th>max</th>\n",
       "      <td>0.997700</td>\n",
       "      <td>1.000000</td>\n",
       "      <td>0.999998</td>\n",
       "    </tr>\n",
       "  </tbody>\n",
       "</table>\n",
       "</div>"
      ],
      "text/plain": [
       "       sentiment_vader  sentiment_blob  sentiment_flair\n",
       "count     55328.000000    55328.000000     55328.000000\n",
       "mean          0.054224        0.163196         0.884701\n",
       "std           0.616717        0.219878         0.139945\n",
       "min          -0.997900       -1.000000         0.500033\n",
       "25%          -0.542300        0.000000         0.812941\n",
       "50%           0.024000        0.144444         0.953504\n",
       "75%           0.636900        0.300000         0.992212\n",
       "max           0.997700        1.000000         0.999998"
      ]
     },
     "execution_count": 65,
     "metadata": {},
     "output_type": "execute_result"
    }
   ],
   "source": [
    "df_sentiment.describe()"
   ]
  },
  {
   "cell_type": "markdown",
   "id": "982d8ec9",
   "metadata": {},
   "source": [
    "Randomly select 100 quotes :"
   ]
  },
  {
   "cell_type": "code",
   "execution_count": 169,
   "id": "c9fed340",
   "metadata": {},
   "outputs": [],
   "source": [
    "# ONLY RUN THIS ONCE\n",
    "# df_sample = df_sentiment.sample(n=100)"
   ]
  },
  {
   "cell_type": "markdown",
   "id": "5e76bc05",
   "metadata": {},
   "source": [
    "Save the 100 randomly selected quotes to a file"
   ]
  },
  {
   "cell_type": "code",
   "execution_count": 170,
   "id": "1f747b54",
   "metadata": {},
   "outputs": [],
   "source": [
    "# df_sample.to_pickle(PATH_GENERATED_DATA+'df_sentiment_sample.pkl', compression='infer', protocol=5, storage_options=None)"
   ]
  },
  {
   "cell_type": "markdown",
   "id": "fba4db8d",
   "metadata": {},
   "source": [
    "Load the 100 randomly selected quotes :"
   ]
  },
  {
   "cell_type": "code",
   "execution_count": 343,
   "id": "d2c2daf3",
   "metadata": {},
   "outputs": [],
   "source": [
    "# df_sample = pd.read_pickle(PATH_GENERATED_DATA+'df_sentiment_sample.pkl', compression='infer', storage_options=None)"
   ]
  },
  {
   "cell_type": "code",
   "execution_count": null,
   "id": "b6871c41",
   "metadata": {},
   "outputs": [],
   "source": [
    "# df_sample_labeled = df_sample"
   ]
  },
  {
   "cell_type": "code",
   "execution_count": 11,
   "id": "0c9f371f",
   "metadata": {},
   "outputs": [],
   "source": [
    "# load labeled samples dataframe\n",
    "df_sample_labeled = pd.read_pickle(PATH_GENERATED_DATA+'df_sample_labeled.pkl', compression='infer', storage_options=None)"
   ]
  },
  {
   "cell_type": "markdown",
   "id": "47e7a104",
   "metadata": {},
   "source": [
    "Manually label the quotes :"
   ]
  },
  {
   "cell_type": "code",
   "execution_count": 227,
   "id": "6efaa9e6",
   "metadata": {},
   "outputs": [],
   "source": [
    "# Initialise column at -1 so we know what hasn't been labeled yet\n",
    "# df_sample_labeled['label_younes'] = -1.5 # only run once to avoid overwriting"
   ]
  },
  {
   "cell_type": "code",
   "execution_count": 12,
   "id": "7dc309ce",
   "metadata": {},
   "outputs": [],
   "source": [
    "n=33"
   ]
  },
  {
   "cell_type": "code",
   "execution_count": 433,
   "id": "9ff4a801",
   "metadata": {},
   "outputs": [],
   "source": [
    "n+=1"
   ]
  },
  {
   "cell_type": "code",
   "execution_count": 13,
   "id": "1b570f9b",
   "metadata": {},
   "outputs": [
    {
     "name": "stdout",
     "output_type": "stream",
     "text": [
      "quote number : 33 \n",
      "\n",
      "I am proud to join with Sen. Hagan and Rep. Baldwin to promote gender equality and positive portrayals of women and girls in the media. What children see affects their attitudes toward male and female roles and impacts the value they place on girls and women in society. The Healthy Media for Youth Act will help ensure we are creating a positive media environment for all our children.\n",
      "\n",
      "Current score : -1.5\n"
     ]
    }
   ],
   "source": [
    "print('quote number :',n,'\\n')\n",
    "print(df_sample_labeled['quotation'].iloc[n])\n",
    "\n",
    "print('\\nCurrent score :' , df_sample_labeled.at[df_sample_labeled.index[n], 'label_younes'])"
   ]
  },
  {
   "cell_type": "code",
   "execution_count": 431,
   "id": "9e4ae80b",
   "metadata": {},
   "outputs": [
    {
     "name": "stdout",
     "output_type": "stream",
     "text": [
      "0.5\n"
     ]
    }
   ],
   "source": [
    "# labeling : 0 for negative || 0.5 for neutral || 1 for positive\n",
    "\n",
    "df_sample_labeled.at[df_sample_labeled.index[n], 'label_younes'] = 1\n",
    "print(df_sample_labeled.at[df_sample_labeled.index[n], 'label_younes'])"
   ]
  },
  {
   "cell_type": "code",
   "execution_count": 14,
   "id": "d4e28c02",
   "metadata": {},
   "outputs": [
    {
     "data": {
      "text/html": [
       "<div>\n",
       "<style scoped>\n",
       "    .dataframe tbody tr th:only-of-type {\n",
       "        vertical-align: middle;\n",
       "    }\n",
       "\n",
       "    .dataframe tbody tr th {\n",
       "        vertical-align: top;\n",
       "    }\n",
       "\n",
       "    .dataframe thead th {\n",
       "        text-align: right;\n",
       "    }\n",
       "</style>\n",
       "<table border=\"1\" class=\"dataframe\">\n",
       "  <thead>\n",
       "    <tr style=\"text-align: right;\">\n",
       "      <th></th>\n",
       "      <th>quotation</th>\n",
       "      <th>label_younes</th>\n",
       "    </tr>\n",
       "  </thead>\n",
       "  <tbody>\n",
       "    <tr>\n",
       "      <th>19386</th>\n",
       "      <td>Closing the gender gap in labor force particip...</td>\n",
       "      <td>0.5</td>\n",
       "    </tr>\n",
       "    <tr>\n",
       "      <th>12649</th>\n",
       "      <td>I am proud to join with Sen. Hagan and Rep. Ba...</td>\n",
       "      <td>-1.5</td>\n",
       "    </tr>\n",
       "    <tr>\n",
       "      <th>32422</th>\n",
       "      <td>I thought, will this be an `artie' movie that ...</td>\n",
       "      <td>-1.5</td>\n",
       "    </tr>\n",
       "    <tr>\n",
       "      <th>38171</th>\n",
       "      <td>In light of recent events, both students and c...</td>\n",
       "      <td>-1.5</td>\n",
       "    </tr>\n",
       "    <tr>\n",
       "      <th>2821</th>\n",
       "      <td>My child care plan allows for every parent or ...</td>\n",
       "      <td>-1.5</td>\n",
       "    </tr>\n",
       "    <tr>\n",
       "      <th>6913</th>\n",
       "      <td>a win for gender equality</td>\n",
       "      <td>-1.5</td>\n",
       "    </tr>\n",
       "  </tbody>\n",
       "</table>\n",
       "</div>"
      ],
      "text/plain": [
       "                                               quotation  label_younes\n",
       "19386  Closing the gender gap in labor force particip...           0.5\n",
       "12649  I am proud to join with Sen. Hagan and Rep. Ba...          -1.5\n",
       "32422  I thought, will this be an `artie' movie that ...          -1.5\n",
       "38171  In light of recent events, both students and c...          -1.5\n",
       "2821   My child care plan allows for every parent or ...          -1.5\n",
       "6913                           a win for gender equality          -1.5"
      ]
     },
     "execution_count": 14,
     "metadata": {},
     "output_type": "execute_result"
    }
   ],
   "source": [
    "df_sample_labeled[['quotation','label_younes']].iloc[n-1:n+5]"
   ]
  },
  {
   "cell_type": "code",
   "execution_count": 328,
   "id": "0c284210",
   "metadata": {},
   "outputs": [],
   "source": [
    "# Initialise column at -1 so we know what hasn't been labeled yet\n",
    "# df_sample_labeled['label_galann'] = -1.5 # only run once to avoid overwriting"
   ]
  },
  {
   "cell_type": "code",
   "execution_count": 333,
   "id": "93705a82",
   "metadata": {},
   "outputs": [],
   "source": [
    "n=0"
   ]
  },
  {
   "cell_type": "code",
   "execution_count": 337,
   "id": "49a54024",
   "metadata": {},
   "outputs": [],
   "source": [
    "n+=1"
   ]
  },
  {
   "cell_type": "code",
   "execution_count": 339,
   "id": "b885699a",
   "metadata": {},
   "outputs": [
    {
     "name": "stdout",
     "output_type": "stream",
     "text": [
      "quote number : 1 \n",
      "\n",
      "modern conscription is gender neutral and will include both women and men.\n",
      "\n",
      "Current score : -1.5\n"
     ]
    }
   ],
   "source": [
    "print('quote number :',n,'\\n')\n",
    "print(df_sample_labeled['quotation'].iloc[n])\n",
    "\n",
    "print('\\nCurrent score :' , df_sample_labeled.at[df_sample_labeled.index[n], 'label_galann'])"
   ]
  },
  {
   "cell_type": "code",
   "execution_count": 323,
   "id": "8a4125ee",
   "metadata": {},
   "outputs": [
    {
     "name": "stdout",
     "output_type": "stream",
     "text": [
      "1.0\n"
     ]
    }
   ],
   "source": [
    "# labeling : 0 for negative || 0.5 for neutral || 1 for positive\n",
    "\n",
    "df_sample_labeled.at[df_sample_labeled.index[n], 'label_galann'] = 1\n",
    "print(df_sample_labeled.at[df_sample_labeled.index[n], 'label_galann'])"
   ]
  },
  {
   "cell_type": "code",
   "execution_count": null,
   "id": "ca9355ad",
   "metadata": {
    "scrolled": true
   },
   "outputs": [],
   "source": [
    "df_sample_labeled[['quotation','label_galann']].iloc[n-1:n+5]"
   ]
  },
  {
   "cell_type": "code",
   "execution_count": 16,
   "id": "a7216fa0",
   "metadata": {},
   "outputs": [
    {
     "data": {
      "text/html": [
       "<div>\n",
       "<style scoped>\n",
       "    .dataframe tbody tr th:only-of-type {\n",
       "        vertical-align: middle;\n",
       "    }\n",
       "\n",
       "    .dataframe tbody tr th {\n",
       "        vertical-align: top;\n",
       "    }\n",
       "\n",
       "    .dataframe thead th {\n",
       "        text-align: right;\n",
       "    }\n",
       "</style>\n",
       "<table border=\"1\" class=\"dataframe\">\n",
       "  <thead>\n",
       "    <tr style=\"text-align: right;\">\n",
       "      <th></th>\n",
       "      <th>quotation</th>\n",
       "      <th>sentiment_vader</th>\n",
       "      <th>sentiment_blob</th>\n",
       "      <th>sentiment_flair</th>\n",
       "      <th>label_younes</th>\n",
       "    </tr>\n",
       "  </thead>\n",
       "  <tbody>\n",
       "    <tr>\n",
       "      <th>54581</th>\n",
       "      <td>Today, the Committee heard Yoni make a compell...</td>\n",
       "      <td>0.4019</td>\n",
       "      <td>0.101190</td>\n",
       "      <td>0.997242</td>\n",
       "      <td>1.0</td>\n",
       "    </tr>\n",
       "    <tr>\n",
       "      <th>33050</th>\n",
       "      <td>modern conscription is gender neutral and will...</td>\n",
       "      <td>0.0000</td>\n",
       "      <td>0.200000</td>\n",
       "      <td>0.719044</td>\n",
       "      <td>0.5</td>\n",
       "    </tr>\n",
       "    <tr>\n",
       "      <th>44014</th>\n",
       "      <td>The allegations of sexual harassment in the of...</td>\n",
       "      <td>-0.7906</td>\n",
       "      <td>0.033333</td>\n",
       "      <td>0.988527</td>\n",
       "      <td>0.0</td>\n",
       "    </tr>\n",
       "    <tr>\n",
       "      <th>12252</th>\n",
       "      <td>When it comes to protecting a women's right to...</td>\n",
       "      <td>0.0000</td>\n",
       "      <td>0.442857</td>\n",
       "      <td>0.581920</td>\n",
       "      <td>1.0</td>\n",
       "    </tr>\n",
       "    <tr>\n",
       "      <th>26072</th>\n",
       "      <td>the mental state of young Muslim women who fee...</td>\n",
       "      <td>0.0000</td>\n",
       "      <td>0.066667</td>\n",
       "      <td>0.981104</td>\n",
       "      <td>0.0</td>\n",
       "    </tr>\n",
       "  </tbody>\n",
       "</table>\n",
       "</div>"
      ],
      "text/plain": [
       "                                               quotation  sentiment_vader  \\\n",
       "54581  Today, the Committee heard Yoni make a compell...           0.4019   \n",
       "33050  modern conscription is gender neutral and will...           0.0000   \n",
       "44014  The allegations of sexual harassment in the of...          -0.7906   \n",
       "12252  When it comes to protecting a women's right to...           0.0000   \n",
       "26072  the mental state of young Muslim women who fee...           0.0000   \n",
       "\n",
       "       sentiment_blob  sentiment_flair  label_younes  \n",
       "54581        0.101190         0.997242           1.0  \n",
       "33050        0.200000         0.719044           0.5  \n",
       "44014        0.033333         0.988527           0.0  \n",
       "12252        0.442857         0.581920           1.0  \n",
       "26072        0.066667         0.981104           0.0  "
      ]
     },
     "execution_count": 16,
     "metadata": {},
     "output_type": "execute_result"
    }
   ],
   "source": [
    "df_sample_labeled[['quotation','sentiment_vader','sentiment_blob','sentiment_flair','label_younes']].head()"
   ]
  },
  {
   "cell_type": "code",
   "execution_count": 437,
   "id": "7f6f2f01",
   "metadata": {},
   "outputs": [],
   "source": [
    "# save labeled samples dataframe\n",
    " # df_sample_labeled.to_pickle(PATH_GENERATED_DATA+'df_sample_labeled.pkl', compression='infer', protocol=5, storage_options=None)"
   ]
  },
  {
   "cell_type": "code",
   "execution_count": null,
   "id": "e7547c2c",
   "metadata": {},
   "outputs": [],
   "source": []
  },
  {
   "cell_type": "code",
   "execution_count": null,
   "id": "bd66cca6",
   "metadata": {},
   "outputs": [],
   "source": []
  },
  {
   "cell_type": "code",
   "execution_count": null,
   "id": "cd88d6ce",
   "metadata": {},
   "outputs": [],
   "source": []
  },
  {
   "cell_type": "markdown",
   "id": "9003a724",
   "metadata": {},
   "source": [
    "We add thresholds to separate the data into negative and positive ( should we add neutral ? ) categories :"
   ]
  },
  {
   "cell_type": "code",
   "execution_count": null,
   "id": "7937f30f",
   "metadata": {},
   "outputs": [],
   "source": [
    "# For vader score <0\n",
    "# df_sentiment['sentiment_vader'].aply\n",
    "# df_sentiment['sentiment_blob'].aply\n",
    "# df_sentiment['sentiment_flair'].aply\n",
    "\n",
    "# for textblob\n",
    "\n",
    "# for flair"
   ]
  }
 ],
 "metadata": {
  "kernelspec": {
   "display_name": "Python 3 (ipykernel)",
   "language": "python",
   "name": "python3"
  },
  "language_info": {
   "codemirror_mode": {
    "name": "ipython",
    "version": 3
   },
   "file_extension": ".py",
   "mimetype": "text/x-python",
   "name": "python",
   "nbconvert_exporter": "python",
   "pygments_lexer": "ipython3",
   "version": "3.8.11"
  }
 },
 "nbformat": 4,
 "nbformat_minor": 5
}
